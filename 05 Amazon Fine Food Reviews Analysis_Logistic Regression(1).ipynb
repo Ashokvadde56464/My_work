{
 "cells": [
  {
   "cell_type": "markdown",
   "metadata": {
    "colab_type": "text",
    "id": "AM7jsfwALPlp"
   },
   "source": [
    "# Amazon Fine Food Reviews Analysis\n",
    "\n",
    "\n",
    "Data Source: https://www.kaggle.com/snap/amazon-fine-food-reviews <br>\n",
    "\n",
    "EDA: https://nycdatascience.com/blog/student-works/amazon-fine-foods-visualization/\n",
    "\n",
    "\n",
    "The Amazon Fine Food Reviews dataset consists of reviews of fine foods from Amazon.<br>\n",
    "\n",
    "Number of reviews: 568,454<br>\n",
    "Number of users: 256,059<br>\n",
    "Number of products: 74,258<br>\n",
    "Timespan: Oct 1999 - Oct 2012<br>\n",
    "Number of Attributes/Columns in data: 10 \n",
    "\n",
    "Attribute Information:\n",
    "\n",
    "1. Id\n",
    "2. ProductId - unique identifier for the product\n",
    "3. UserId - unqiue identifier for the user\n",
    "4. ProfileName\n",
    "5. HelpfulnessNumerator - number of users who found the review helpful\n",
    "6. HelpfulnessDenominator - number of users who indicated whether they found the review helpful or not\n",
    "7. Score - rating between 1 and 5\n",
    "8. Time - timestamp for the review\n",
    "9. Summary - brief summary of the review\n",
    "10. Text - text of the review\n",
    "\n",
    "\n",
    "#### Objective:\n",
    "Given a review, determine whether the review is positive (rating of 4 or 5) or negative (rating of 1 or 2).\n",
    "\n",
    "<br>\n",
    "[Q] How to determine if a review is positive or negative?<br>\n",
    "<br> \n",
    "[Ans] We could use Score/Rating. A rating of 4 or 5 can be cosnidered as a positive review. A rating of 1 or 2 can be considered as negative one. A review of rating 3 is considered nuetral and such reviews are ignored from our analysis. This is an approximate and proxy way of determining the polarity (positivity/negativity) of a review.\n",
    "\n",
    "\n"
   ]
  },
  {
   "cell_type": "markdown",
   "metadata": {
    "colab_type": "text",
    "id": "CaQ7XJ4OLPls"
   },
   "source": [
    "# [1]. Reading Data"
   ]
  },
  {
   "cell_type": "markdown",
   "metadata": {
    "colab_type": "text",
    "id": "5VnEBjKRLPlu"
   },
   "source": [
    "## [1.1] Loading the data\n",
    "\n",
    "The dataset is available in two forms\n",
    "1. .csv file\n",
    "2. SQLite Database\n",
    "\n",
    "In order to load the data, We have used the SQLITE dataset as it is easier to query the data and visualise the data efficiently.\n",
    "<br> \n",
    "\n",
    "Here as we only want to get the global sentiment of the recommendations (positive or negative), we will purposefully ignore all Scores equal to 3. If the score is above 3, then the recommendation wil be set to \"positive\". Otherwise, it will be set to \"negative\"."
   ]
  },
  {
   "cell_type": "code",
   "execution_count": 1,
   "metadata": {
    "colab": {
     "base_uri": "https://localhost:8080/",
     "height": 128
    },
    "colab_type": "code",
    "executionInfo": {
     "elapsed": 54037,
     "status": "ok",
     "timestamp": 1552632954494,
     "user": {
      "displayName": "saikiran yernena",
      "photoUrl": "",
      "userId": "15171324143564695981"
     },
     "user_tz": -330
    },
    "id": "x6YclOzXLPlv",
    "outputId": "3c42a640-9800-4479-9b5b-02c1aa1aba1c"
   },
   "outputs": [
    {
     "name": "stdout",
     "output_type": "stream",
     "text": [
      "Go to this URL in a browser: https://accounts.google.com/o/oauth2/auth?client_id=947318989803-6bn6qk8qdgf4n4g3pfee6491hc0brc4i.apps.googleusercontent.com&redirect_uri=urn%3Aietf%3Awg%3Aoauth%3A2.0%3Aoob&scope=email%20https%3A%2F%2Fwww.googleapis.com%2Fauth%2Fdocs.test%20https%3A%2F%2Fwww.googleapis.com%2Fauth%2Fdrive%20https%3A%2F%2Fwww.googleapis.com%2Fauth%2Fdrive.photos.readonly%20https%3A%2F%2Fwww.googleapis.com%2Fauth%2Fpeopleapi.readonly&response_type=code\n",
      "\n",
      "Enter your authorization code:\n",
      "··········\n",
      "Mounted at /content/drive\n"
     ]
    }
   ],
   "source": [
    "from google.colab import drive\n",
    "drive.mount('/content/drive')\n",
    "%matplotlib inline\n",
    "import warnings\n",
    "warnings.filterwarnings(\"ignore\")\n",
    "\n",
    "\n",
    "import sqlite3\n",
    "import pandas as pd\n",
    "import numpy as np\n",
    "import nltk\n",
    "import string\n",
    "import matplotlib.pyplot as plt\n",
    "import seaborn as sns\n",
    "from sklearn.feature_extraction.text import TfidfTransformer\n",
    "from sklearn.feature_extraction.text import TfidfVectorizer\n",
    "\n",
    "from sklearn.feature_extraction.text import CountVectorizer\n",
    "from sklearn.metrics import confusion_matrix\n",
    "from sklearn import metrics\n",
    "from sklearn.metrics import roc_curve, auc\n",
    "from nltk.stem.porter import PorterStemmer\n",
    "\n",
    "import re\n",
    "# Tutorial about Python regular expressions: https://pymotw.com/2/re/\n",
    "import string\n",
    "from nltk.corpus import stopwords\n",
    "from nltk.stem import PorterStemmer\n",
    "from nltk.stem.wordnet import WordNetLemmatizer\n",
    "\n",
    "from gensim.models import Word2Vec\n",
    "from gensim.models import KeyedVectors\n",
    "import pickle\n",
    "\n",
    "from tqdm import tqdm\n",
    "import os"
   ]
  },
  {
   "cell_type": "code",
   "execution_count": 10,
   "metadata": {
    "colab": {
     "base_uri": "https://localhost:8080/",
     "height": 459
    },
    "colab_type": "code",
    "executionInfo": {
     "elapsed": 2141,
     "status": "ok",
     "timestamp": 1552633159298,
     "user": {
      "displayName": "saikiran yernena",
      "photoUrl": "",
      "userId": "15171324143564695981"
     },
     "user_tz": -330
    },
    "id": "NZ4OSpSiLPl0",
    "outputId": "7f442f39-69ca-425d-9cc8-4cd13c5f1f6e"
   },
   "outputs": [
    {
     "name": "stdout",
     "output_type": "stream",
     "text": [
      "Number of data points in our data (100000, 10)\n"
     ]
    },
    {
     "data": {
      "text/html": [
       "<div>\n",
       "<style scoped>\n",
       "    .dataframe tbody tr th:only-of-type {\n",
       "        vertical-align: middle;\n",
       "    }\n",
       "\n",
       "    .dataframe tbody tr th {\n",
       "        vertical-align: top;\n",
       "    }\n",
       "\n",
       "    .dataframe thead th {\n",
       "        text-align: right;\n",
       "    }\n",
       "</style>\n",
       "<table border=\"1\" class=\"dataframe\">\n",
       "  <thead>\n",
       "    <tr style=\"text-align: right;\">\n",
       "      <th></th>\n",
       "      <th>Id</th>\n",
       "      <th>ProductId</th>\n",
       "      <th>UserId</th>\n",
       "      <th>ProfileName</th>\n",
       "      <th>HelpfulnessNumerator</th>\n",
       "      <th>HelpfulnessDenominator</th>\n",
       "      <th>Score</th>\n",
       "      <th>Time</th>\n",
       "      <th>Summary</th>\n",
       "      <th>Text</th>\n",
       "    </tr>\n",
       "  </thead>\n",
       "  <tbody>\n",
       "    <tr>\n",
       "      <th>0</th>\n",
       "      <td>1</td>\n",
       "      <td>B001E4KFG0</td>\n",
       "      <td>A3SGXH7AUHU8GW</td>\n",
       "      <td>delmartian</td>\n",
       "      <td>1</td>\n",
       "      <td>1</td>\n",
       "      <td>1</td>\n",
       "      <td>1303862400</td>\n",
       "      <td>Good Quality Dog Food</td>\n",
       "      <td>I have bought several of the Vitality canned d...</td>\n",
       "    </tr>\n",
       "    <tr>\n",
       "      <th>1</th>\n",
       "      <td>2</td>\n",
       "      <td>B00813GRG4</td>\n",
       "      <td>A1D87F6ZCVE5NK</td>\n",
       "      <td>dll pa</td>\n",
       "      <td>0</td>\n",
       "      <td>0</td>\n",
       "      <td>0</td>\n",
       "      <td>1346976000</td>\n",
       "      <td>Not as Advertised</td>\n",
       "      <td>Product arrived labeled as Jumbo Salted Peanut...</td>\n",
       "    </tr>\n",
       "    <tr>\n",
       "      <th>2</th>\n",
       "      <td>3</td>\n",
       "      <td>B000LQOCH0</td>\n",
       "      <td>ABXLMWJIXXAIN</td>\n",
       "      <td>Natalia Corres \"Natalia Corres\"</td>\n",
       "      <td>1</td>\n",
       "      <td>1</td>\n",
       "      <td>1</td>\n",
       "      <td>1219017600</td>\n",
       "      <td>\"Delight\" says it all</td>\n",
       "      <td>This is a confection that has been around a fe...</td>\n",
       "    </tr>\n",
       "  </tbody>\n",
       "</table>\n",
       "</div>"
      ],
      "text/plain": [
       "   Id   ProductId          UserId                      ProfileName  \\\n",
       "0   1  B001E4KFG0  A3SGXH7AUHU8GW                       delmartian   \n",
       "1   2  B00813GRG4  A1D87F6ZCVE5NK                           dll pa   \n",
       "2   3  B000LQOCH0   ABXLMWJIXXAIN  Natalia Corres \"Natalia Corres\"   \n",
       "\n",
       "   HelpfulnessNumerator  HelpfulnessDenominator  Score        Time  \\\n",
       "0                     1                       1      1  1303862400   \n",
       "1                     0                       0      0  1346976000   \n",
       "2                     1                       1      1  1219017600   \n",
       "\n",
       "                 Summary                                               Text  \n",
       "0  Good Quality Dog Food  I have bought several of the Vitality canned d...  \n",
       "1      Not as Advertised  Product arrived labeled as Jumbo Salted Peanut...  \n",
       "2  \"Delight\" says it all  This is a confection that has been around a fe...  "
      ]
     },
     "execution_count": 10,
     "metadata": {
      "tags": []
     },
     "output_type": "execute_result"
    }
   ],
   "source": [
    "# using SQLite Table to read data.\n",
    "con = sqlite3.connect('/content/drive/My Drive/Colab Notebooks/database.sqlite') \n",
    "\n",
    "# filtering only positive and negative reviews i.e. \n",
    "# not taking into consideration those reviews with Score=3\n",
    "# SELECT * FROM Reviews WHERE Score != 3 LIMIT 500000, will give top 500000 data points\n",
    "# you can change the number to any other number based on your computing power\n",
    "\n",
    "# filtered_data = pd.read_sql_query(\"\"\" SELECT * FROM Reviews WHERE Score != 3 LIMIT 500000\"\"\", con) \n",
    "# for tsne assignment you can take 5k data points\n",
    "\n",
    "filtered_data = pd.read_sql_query(\"\"\" SELECT * FROM Reviews WHERE Score != 3 LIMIT 100000\"\"\", con) \n",
    "\n",
    "# Give reviews with Score>3 a positive rating(1), and reviews with a score<3 a negative rating(0).\n",
    "def partition(x):\n",
    "    if x < 3:\n",
    "        return 0\n",
    "    return 1\n",
    "\n",
    "#changing reviews with score less than 3 to be positive and vice-versa\n",
    "actualScore = filtered_data['Score']\n",
    "positiveNegative = actualScore.map(partition) \n",
    "filtered_data['Score'] = positiveNegative\n",
    "print(\"Number of data points in our data\", filtered_data.shape)\n",
    "filtered_data.head(3)"
   ]
  },
  {
   "cell_type": "code",
   "execution_count": 0,
   "metadata": {
    "colab": {},
    "colab_type": "code",
    "id": "r44Y4VDjLPl7"
   },
   "outputs": [],
   "source": [
    "display = pd.read_sql_query(\"\"\"\n",
    "SELECT UserId, ProductId, ProfileName, Time, Score, Text, COUNT(*)\n",
    "FROM Reviews\n",
    "GROUP BY UserId\n",
    "HAVING COUNT(*)>1\n",
    "\"\"\", con)"
   ]
  },
  {
   "cell_type": "code",
   "execution_count": 12,
   "metadata": {
    "colab": {
     "base_uri": "https://localhost:8080/",
     "height": 311
    },
    "colab_type": "code",
    "executionInfo": {
     "elapsed": 1584,
     "status": "ok",
     "timestamp": 1552633173069,
     "user": {
      "displayName": "saikiran yernena",
      "photoUrl": "",
      "userId": "15171324143564695981"
     },
     "user_tz": -330
    },
    "id": "tTwINQv1LPl_",
    "outputId": "e2b5b7ab-471a-460b-9bcd-ad2dd9333361",
    "scrolled": true
   },
   "outputs": [
    {
     "name": "stdout",
     "output_type": "stream",
     "text": [
      "(80668, 7)\n"
     ]
    },
    {
     "data": {
      "text/html": [
       "<div>\n",
       "<style scoped>\n",
       "    .dataframe tbody tr th:only-of-type {\n",
       "        vertical-align: middle;\n",
       "    }\n",
       "\n",
       "    .dataframe tbody tr th {\n",
       "        vertical-align: top;\n",
       "    }\n",
       "\n",
       "    .dataframe thead th {\n",
       "        text-align: right;\n",
       "    }\n",
       "</style>\n",
       "<table border=\"1\" class=\"dataframe\">\n",
       "  <thead>\n",
       "    <tr style=\"text-align: right;\">\n",
       "      <th></th>\n",
       "      <th>UserId</th>\n",
       "      <th>ProductId</th>\n",
       "      <th>ProfileName</th>\n",
       "      <th>Time</th>\n",
       "      <th>Score</th>\n",
       "      <th>Text</th>\n",
       "      <th>COUNT(*)</th>\n",
       "    </tr>\n",
       "  </thead>\n",
       "  <tbody>\n",
       "    <tr>\n",
       "      <th>0</th>\n",
       "      <td>#oc-R115TNMSPFT9I7</td>\n",
       "      <td>B007Y59HVM</td>\n",
       "      <td>Breyton</td>\n",
       "      <td>1331510400</td>\n",
       "      <td>2</td>\n",
       "      <td>Overall its just OK when considering the price...</td>\n",
       "      <td>2</td>\n",
       "    </tr>\n",
       "    <tr>\n",
       "      <th>1</th>\n",
       "      <td>#oc-R11D9D7SHXIJB9</td>\n",
       "      <td>B005HG9ET0</td>\n",
       "      <td>Louis E. Emory \"hoppy\"</td>\n",
       "      <td>1342396800</td>\n",
       "      <td>5</td>\n",
       "      <td>My wife has recurring extreme muscle spasms, u...</td>\n",
       "      <td>3</td>\n",
       "    </tr>\n",
       "    <tr>\n",
       "      <th>2</th>\n",
       "      <td>#oc-R11DNU2NBKQ23Z</td>\n",
       "      <td>B007Y59HVM</td>\n",
       "      <td>Kim Cieszykowski</td>\n",
       "      <td>1348531200</td>\n",
       "      <td>1</td>\n",
       "      <td>This coffee is horrible and unfortunately not ...</td>\n",
       "      <td>2</td>\n",
       "    </tr>\n",
       "    <tr>\n",
       "      <th>3</th>\n",
       "      <td>#oc-R11O5J5ZVQE25C</td>\n",
       "      <td>B005HG9ET0</td>\n",
       "      <td>Penguin Chick</td>\n",
       "      <td>1346889600</td>\n",
       "      <td>5</td>\n",
       "      <td>This will be the bottle that you grab from the...</td>\n",
       "      <td>3</td>\n",
       "    </tr>\n",
       "    <tr>\n",
       "      <th>4</th>\n",
       "      <td>#oc-R12KPBODL2B5ZD</td>\n",
       "      <td>B007OSBE1U</td>\n",
       "      <td>Christopher P. Presta</td>\n",
       "      <td>1348617600</td>\n",
       "      <td>1</td>\n",
       "      <td>I didnt like this coffee. Instead of telling y...</td>\n",
       "      <td>2</td>\n",
       "    </tr>\n",
       "  </tbody>\n",
       "</table>\n",
       "</div>"
      ],
      "text/plain": [
       "               UserId   ProductId             ProfileName        Time  Score  \\\n",
       "0  #oc-R115TNMSPFT9I7  B007Y59HVM                 Breyton  1331510400      2   \n",
       "1  #oc-R11D9D7SHXIJB9  B005HG9ET0  Louis E. Emory \"hoppy\"  1342396800      5   \n",
       "2  #oc-R11DNU2NBKQ23Z  B007Y59HVM        Kim Cieszykowski  1348531200      1   \n",
       "3  #oc-R11O5J5ZVQE25C  B005HG9ET0           Penguin Chick  1346889600      5   \n",
       "4  #oc-R12KPBODL2B5ZD  B007OSBE1U   Christopher P. Presta  1348617600      1   \n",
       "\n",
       "                                                Text  COUNT(*)  \n",
       "0  Overall its just OK when considering the price...         2  \n",
       "1  My wife has recurring extreme muscle spasms, u...         3  \n",
       "2  This coffee is horrible and unfortunately not ...         2  \n",
       "3  This will be the bottle that you grab from the...         3  \n",
       "4  I didnt like this coffee. Instead of telling y...         2  "
      ]
     },
     "execution_count": 12,
     "metadata": {
      "tags": []
     },
     "output_type": "execute_result"
    }
   ],
   "source": [
    "print(display.shape)\n",
    "display.head()"
   ]
  },
  {
   "cell_type": "code",
   "execution_count": 13,
   "metadata": {
    "colab": {
     "base_uri": "https://localhost:8080/",
     "height": 98
    },
    "colab_type": "code",
    "executionInfo": {
     "elapsed": 1295,
     "status": "ok",
     "timestamp": 1552633178839,
     "user": {
      "displayName": "saikiran yernena",
      "photoUrl": "",
      "userId": "15171324143564695981"
     },
     "user_tz": -330
    },
    "id": "EOslHQgnLPmF",
    "outputId": "6a52af46-792a-4b71-ab31-8d683b980dca"
   },
   "outputs": [
    {
     "data": {
      "text/html": [
       "<div>\n",
       "<style scoped>\n",
       "    .dataframe tbody tr th:only-of-type {\n",
       "        vertical-align: middle;\n",
       "    }\n",
       "\n",
       "    .dataframe tbody tr th {\n",
       "        vertical-align: top;\n",
       "    }\n",
       "\n",
       "    .dataframe thead th {\n",
       "        text-align: right;\n",
       "    }\n",
       "</style>\n",
       "<table border=\"1\" class=\"dataframe\">\n",
       "  <thead>\n",
       "    <tr style=\"text-align: right;\">\n",
       "      <th></th>\n",
       "      <th>UserId</th>\n",
       "      <th>ProductId</th>\n",
       "      <th>ProfileName</th>\n",
       "      <th>Time</th>\n",
       "      <th>Score</th>\n",
       "      <th>Text</th>\n",
       "      <th>COUNT(*)</th>\n",
       "    </tr>\n",
       "  </thead>\n",
       "  <tbody>\n",
       "    <tr>\n",
       "      <th>80638</th>\n",
       "      <td>AZY10LLTJ71NX</td>\n",
       "      <td>B006P7E5ZI</td>\n",
       "      <td>undertheshrine \"undertheshrine\"</td>\n",
       "      <td>1334707200</td>\n",
       "      <td>5</td>\n",
       "      <td>I was recommended to try green tea extract to ...</td>\n",
       "      <td>5</td>\n",
       "    </tr>\n",
       "  </tbody>\n",
       "</table>\n",
       "</div>"
      ],
      "text/plain": [
       "              UserId   ProductId                      ProfileName        Time  \\\n",
       "80638  AZY10LLTJ71NX  B006P7E5ZI  undertheshrine \"undertheshrine\"  1334707200   \n",
       "\n",
       "       Score                                               Text  COUNT(*)  \n",
       "80638      5  I was recommended to try green tea extract to ...         5  "
      ]
     },
     "execution_count": 13,
     "metadata": {
      "tags": []
     },
     "output_type": "execute_result"
    }
   ],
   "source": [
    "display[display['UserId']=='AZY10LLTJ71NX']"
   ]
  },
  {
   "cell_type": "code",
   "execution_count": 14,
   "metadata": {
    "colab": {
     "base_uri": "https://localhost:8080/",
     "height": 35
    },
    "colab_type": "code",
    "executionInfo": {
     "elapsed": 1292,
     "status": "ok",
     "timestamp": 1552633182816,
     "user": {
      "displayName": "saikiran yernena",
      "photoUrl": "",
      "userId": "15171324143564695981"
     },
     "user_tz": -330
    },
    "id": "pSwF4sdoLPmM",
    "outputId": "ce4da26e-62a0-4361-a260-69254b47014f"
   },
   "outputs": [
    {
     "data": {
      "text/plain": [
       "393063"
      ]
     },
     "execution_count": 14,
     "metadata": {
      "tags": []
     },
     "output_type": "execute_result"
    }
   ],
   "source": [
    "display['COUNT(*)'].sum()"
   ]
  },
  {
   "cell_type": "markdown",
   "metadata": {
    "colab_type": "text",
    "id": "PuNkhjz0LPmQ"
   },
   "source": [
    "#  [2] Exploratory Data Analysis"
   ]
  },
  {
   "cell_type": "markdown",
   "metadata": {
    "colab_type": "text",
    "id": "oCJaTWrTLPmS"
   },
   "source": [
    "## [2.1] Data Cleaning: Deduplication\n",
    "\n",
    "It is observed (as shown in the table below) that the reviews data had many duplicate entries. Hence it was necessary to remove duplicates in order to get unbiased results for the analysis of the data.  Following is an example:"
   ]
  },
  {
   "cell_type": "code",
   "execution_count": 15,
   "metadata": {
    "colab": {
     "base_uri": "https://localhost:8080/",
     "height": 573
    },
    "colab_type": "code",
    "executionInfo": {
     "elapsed": 1602,
     "status": "ok",
     "timestamp": 1552633188100,
     "user": {
      "displayName": "saikiran yernena",
      "photoUrl": "",
      "userId": "15171324143564695981"
     },
     "user_tz": -330
    },
    "id": "3lvzRwWVLPmT",
    "outputId": "e8c29f5a-e79d-421e-912f-4596c381599a",
    "scrolled": false
   },
   "outputs": [
    {
     "data": {
      "text/html": [
       "<div>\n",
       "<style scoped>\n",
       "    .dataframe tbody tr th:only-of-type {\n",
       "        vertical-align: middle;\n",
       "    }\n",
       "\n",
       "    .dataframe tbody tr th {\n",
       "        vertical-align: top;\n",
       "    }\n",
       "\n",
       "    .dataframe thead th {\n",
       "        text-align: right;\n",
       "    }\n",
       "</style>\n",
       "<table border=\"1\" class=\"dataframe\">\n",
       "  <thead>\n",
       "    <tr style=\"text-align: right;\">\n",
       "      <th></th>\n",
       "      <th>Id</th>\n",
       "      <th>ProductId</th>\n",
       "      <th>UserId</th>\n",
       "      <th>ProfileName</th>\n",
       "      <th>HelpfulnessNumerator</th>\n",
       "      <th>HelpfulnessDenominator</th>\n",
       "      <th>Score</th>\n",
       "      <th>Time</th>\n",
       "      <th>Summary</th>\n",
       "      <th>Text</th>\n",
       "    </tr>\n",
       "  </thead>\n",
       "  <tbody>\n",
       "    <tr>\n",
       "      <th>0</th>\n",
       "      <td>78445</td>\n",
       "      <td>B000HDL1RQ</td>\n",
       "      <td>AR5J8UI46CURR</td>\n",
       "      <td>Geetha Krishnan</td>\n",
       "      <td>2</td>\n",
       "      <td>2</td>\n",
       "      <td>5</td>\n",
       "      <td>1199577600</td>\n",
       "      <td>LOACKER QUADRATINI VANILLA WAFERS</td>\n",
       "      <td>DELICIOUS WAFERS. I FIND THAT EUROPEAN WAFERS ...</td>\n",
       "    </tr>\n",
       "    <tr>\n",
       "      <th>1</th>\n",
       "      <td>138317</td>\n",
       "      <td>B000HDOPYC</td>\n",
       "      <td>AR5J8UI46CURR</td>\n",
       "      <td>Geetha Krishnan</td>\n",
       "      <td>2</td>\n",
       "      <td>2</td>\n",
       "      <td>5</td>\n",
       "      <td>1199577600</td>\n",
       "      <td>LOACKER QUADRATINI VANILLA WAFERS</td>\n",
       "      <td>DELICIOUS WAFERS. I FIND THAT EUROPEAN WAFERS ...</td>\n",
       "    </tr>\n",
       "    <tr>\n",
       "      <th>2</th>\n",
       "      <td>138277</td>\n",
       "      <td>B000HDOPYM</td>\n",
       "      <td>AR5J8UI46CURR</td>\n",
       "      <td>Geetha Krishnan</td>\n",
       "      <td>2</td>\n",
       "      <td>2</td>\n",
       "      <td>5</td>\n",
       "      <td>1199577600</td>\n",
       "      <td>LOACKER QUADRATINI VANILLA WAFERS</td>\n",
       "      <td>DELICIOUS WAFERS. I FIND THAT EUROPEAN WAFERS ...</td>\n",
       "    </tr>\n",
       "    <tr>\n",
       "      <th>3</th>\n",
       "      <td>73791</td>\n",
       "      <td>B000HDOPZG</td>\n",
       "      <td>AR5J8UI46CURR</td>\n",
       "      <td>Geetha Krishnan</td>\n",
       "      <td>2</td>\n",
       "      <td>2</td>\n",
       "      <td>5</td>\n",
       "      <td>1199577600</td>\n",
       "      <td>LOACKER QUADRATINI VANILLA WAFERS</td>\n",
       "      <td>DELICIOUS WAFERS. I FIND THAT EUROPEAN WAFERS ...</td>\n",
       "    </tr>\n",
       "    <tr>\n",
       "      <th>4</th>\n",
       "      <td>155049</td>\n",
       "      <td>B000PAQ75C</td>\n",
       "      <td>AR5J8UI46CURR</td>\n",
       "      <td>Geetha Krishnan</td>\n",
       "      <td>2</td>\n",
       "      <td>2</td>\n",
       "      <td>5</td>\n",
       "      <td>1199577600</td>\n",
       "      <td>LOACKER QUADRATINI VANILLA WAFERS</td>\n",
       "      <td>DELICIOUS WAFERS. I FIND THAT EUROPEAN WAFERS ...</td>\n",
       "    </tr>\n",
       "  </tbody>\n",
       "</table>\n",
       "</div>"
      ],
      "text/plain": [
       "       Id   ProductId         UserId      ProfileName  HelpfulnessNumerator  \\\n",
       "0   78445  B000HDL1RQ  AR5J8UI46CURR  Geetha Krishnan                     2   \n",
       "1  138317  B000HDOPYC  AR5J8UI46CURR  Geetha Krishnan                     2   \n",
       "2  138277  B000HDOPYM  AR5J8UI46CURR  Geetha Krishnan                     2   \n",
       "3   73791  B000HDOPZG  AR5J8UI46CURR  Geetha Krishnan                     2   \n",
       "4  155049  B000PAQ75C  AR5J8UI46CURR  Geetha Krishnan                     2   \n",
       "\n",
       "   HelpfulnessDenominator  Score        Time  \\\n",
       "0                       2      5  1199577600   \n",
       "1                       2      5  1199577600   \n",
       "2                       2      5  1199577600   \n",
       "3                       2      5  1199577600   \n",
       "4                       2      5  1199577600   \n",
       "\n",
       "                             Summary  \\\n",
       "0  LOACKER QUADRATINI VANILLA WAFERS   \n",
       "1  LOACKER QUADRATINI VANILLA WAFERS   \n",
       "2  LOACKER QUADRATINI VANILLA WAFERS   \n",
       "3  LOACKER QUADRATINI VANILLA WAFERS   \n",
       "4  LOACKER QUADRATINI VANILLA WAFERS   \n",
       "\n",
       "                                                Text  \n",
       "0  DELICIOUS WAFERS. I FIND THAT EUROPEAN WAFERS ...  \n",
       "1  DELICIOUS WAFERS. I FIND THAT EUROPEAN WAFERS ...  \n",
       "2  DELICIOUS WAFERS. I FIND THAT EUROPEAN WAFERS ...  \n",
       "3  DELICIOUS WAFERS. I FIND THAT EUROPEAN WAFERS ...  \n",
       "4  DELICIOUS WAFERS. I FIND THAT EUROPEAN WAFERS ...  "
      ]
     },
     "execution_count": 15,
     "metadata": {
      "tags": []
     },
     "output_type": "execute_result"
    }
   ],
   "source": [
    "display= pd.read_sql_query(\"\"\"\n",
    "SELECT *\n",
    "FROM Reviews\n",
    "WHERE Score != 3 AND UserId=\"AR5J8UI46CURR\"\n",
    "ORDER BY ProductID\n",
    "\"\"\", con)\n",
    "display.head()"
   ]
  },
  {
   "cell_type": "markdown",
   "metadata": {
    "colab_type": "text",
    "id": "uT7p9_deLPmb"
   },
   "source": [
    "As it can be seen above that same user has multiple reviews with same values for HelpfulnessNumerator, HelpfulnessDenominator, Score, Time, Summary and Text and on doing analysis it was found that <br>\n",
    "<br> \n",
    "ProductId=B000HDOPZG was Loacker Quadratini Vanilla Wafer Cookies, 8.82-Ounce Packages (Pack of 8)<br>\n",
    "<br> \n",
    "ProductId=B000HDL1RQ was Loacker Quadratini Lemon Wafer Cookies, 8.82-Ounce Packages (Pack of 8) and so on<br>\n",
    "\n",
    "It was inferred after analysis that reviews with same parameters other than ProductId belonged to the same product just having different flavour or quantity. Hence in order to reduce redundancy it was decided to eliminate the rows having same parameters.<br>\n",
    "\n",
    "The method used for the same was that we first sort the data according to ProductId and then just keep the first similar product review and delelte the others. for eg. in the above just the review for ProductId=B000HDL1RQ remains. This method ensures that there is only one representative for each product and deduplication without sorting would lead to possibility of different representatives still existing for the same product."
   ]
  },
  {
   "cell_type": "code",
   "execution_count": 0,
   "metadata": {
    "colab": {},
    "colab_type": "code",
    "id": "mdsKFc50LPme"
   },
   "outputs": [],
   "source": [
    "#Sorting data according to ProductId in ascending order\n",
    "sorted_data=filtered_data.sort_values('ProductId', axis=0, ascending=True, inplace=False, kind='quicksort', na_position='last')"
   ]
  },
  {
   "cell_type": "code",
   "execution_count": 17,
   "metadata": {
    "colab": {
     "base_uri": "https://localhost:8080/",
     "height": 35
    },
    "colab_type": "code",
    "executionInfo": {
     "elapsed": 2270,
     "status": "ok",
     "timestamp": 1552633203523,
     "user": {
      "displayName": "saikiran yernena",
      "photoUrl": "",
      "userId": "15171324143564695981"
     },
     "user_tz": -330
    },
    "id": "2itLgX-NLPmk",
    "outputId": "12302160-c04c-408f-8302-a5fb7214b7dc"
   },
   "outputs": [
    {
     "data": {
      "text/plain": [
       "(87775, 10)"
      ]
     },
     "execution_count": 17,
     "metadata": {
      "tags": []
     },
     "output_type": "execute_result"
    }
   ],
   "source": [
    "#Deduplication of entries\n",
    "final=sorted_data.drop_duplicates(subset={\"UserId\",\"ProfileName\",\"Time\",\"Text\"}, keep='first', inplace=False)\n",
    "final.shape"
   ]
  },
  {
   "cell_type": "code",
   "execution_count": 18,
   "metadata": {
    "colab": {
     "base_uri": "https://localhost:8080/",
     "height": 35
    },
    "colab_type": "code",
    "executionInfo": {
     "elapsed": 1513,
     "status": "ok",
     "timestamp": 1552633207433,
     "user": {
      "displayName": "saikiran yernena",
      "photoUrl": "",
      "userId": "15171324143564695981"
     },
     "user_tz": -330
    },
    "id": "IBU4iZk4LPmt",
    "outputId": "e2df7c96-81eb-4163-8336-7525d1cf7c0f"
   },
   "outputs": [
    {
     "data": {
      "text/plain": [
       "87.775"
      ]
     },
     "execution_count": 18,
     "metadata": {
      "tags": []
     },
     "output_type": "execute_result"
    }
   ],
   "source": [
    "#Checking to see how much % of data still remains\n",
    "(final['Id'].size*1.0)/(filtered_data['Id'].size*1.0)*100"
   ]
  },
  {
   "cell_type": "markdown",
   "metadata": {
    "colab_type": "text",
    "id": "gFBOfSe4LPmy"
   },
   "source": [
    "<b>Observation:-</b> It was also seen that in two rows given below the value of HelpfulnessNumerator is greater than HelpfulnessDenominator which is not practically possible hence these two rows too are removed from calcualtions"
   ]
  },
  {
   "cell_type": "code",
   "execution_count": 19,
   "metadata": {
    "colab": {
     "base_uri": "https://localhost:8080/",
     "height": 340
    },
    "colab_type": "code",
    "executionInfo": {
     "elapsed": 1657,
     "status": "ok",
     "timestamp": 1552633212158,
     "user": {
      "displayName": "saikiran yernena",
      "photoUrl": "",
      "userId": "15171324143564695981"
     },
     "user_tz": -330
    },
    "id": "50flE40lLPmz",
    "outputId": "69fcde7e-f267-4339-ea75-a31f5e092f33"
   },
   "outputs": [
    {
     "data": {
      "text/html": [
       "<div>\n",
       "<style scoped>\n",
       "    .dataframe tbody tr th:only-of-type {\n",
       "        vertical-align: middle;\n",
       "    }\n",
       "\n",
       "    .dataframe tbody tr th {\n",
       "        vertical-align: top;\n",
       "    }\n",
       "\n",
       "    .dataframe thead th {\n",
       "        text-align: right;\n",
       "    }\n",
       "</style>\n",
       "<table border=\"1\" class=\"dataframe\">\n",
       "  <thead>\n",
       "    <tr style=\"text-align: right;\">\n",
       "      <th></th>\n",
       "      <th>Id</th>\n",
       "      <th>ProductId</th>\n",
       "      <th>UserId</th>\n",
       "      <th>ProfileName</th>\n",
       "      <th>HelpfulnessNumerator</th>\n",
       "      <th>HelpfulnessDenominator</th>\n",
       "      <th>Score</th>\n",
       "      <th>Time</th>\n",
       "      <th>Summary</th>\n",
       "      <th>Text</th>\n",
       "    </tr>\n",
       "  </thead>\n",
       "  <tbody>\n",
       "    <tr>\n",
       "      <th>0</th>\n",
       "      <td>64422</td>\n",
       "      <td>B000MIDROQ</td>\n",
       "      <td>A161DK06JJMCYF</td>\n",
       "      <td>J. E. Stephens \"Jeanne\"</td>\n",
       "      <td>3</td>\n",
       "      <td>1</td>\n",
       "      <td>5</td>\n",
       "      <td>1224892800</td>\n",
       "      <td>Bought This for My Son at College</td>\n",
       "      <td>My son loves spaghetti so I didn't hesitate or...</td>\n",
       "    </tr>\n",
       "    <tr>\n",
       "      <th>1</th>\n",
       "      <td>44737</td>\n",
       "      <td>B001EQ55RW</td>\n",
       "      <td>A2V0I904FH7ABY</td>\n",
       "      <td>Ram</td>\n",
       "      <td>3</td>\n",
       "      <td>2</td>\n",
       "      <td>4</td>\n",
       "      <td>1212883200</td>\n",
       "      <td>Pure cocoa taste with crunchy almonds inside</td>\n",
       "      <td>It was almost a 'love at first bite' - the per...</td>\n",
       "    </tr>\n",
       "  </tbody>\n",
       "</table>\n",
       "</div>"
      ],
      "text/plain": [
       "      Id   ProductId          UserId              ProfileName  \\\n",
       "0  64422  B000MIDROQ  A161DK06JJMCYF  J. E. Stephens \"Jeanne\"   \n",
       "1  44737  B001EQ55RW  A2V0I904FH7ABY                      Ram   \n",
       "\n",
       "   HelpfulnessNumerator  HelpfulnessDenominator  Score        Time  \\\n",
       "0                     3                       1      5  1224892800   \n",
       "1                     3                       2      4  1212883200   \n",
       "\n",
       "                                        Summary  \\\n",
       "0             Bought This for My Son at College   \n",
       "1  Pure cocoa taste with crunchy almonds inside   \n",
       "\n",
       "                                                Text  \n",
       "0  My son loves spaghetti so I didn't hesitate or...  \n",
       "1  It was almost a 'love at first bite' - the per...  "
      ]
     },
     "execution_count": 19,
     "metadata": {
      "tags": []
     },
     "output_type": "execute_result"
    }
   ],
   "source": [
    "display= pd.read_sql_query(\"\"\"\n",
    "SELECT *\n",
    "FROM Reviews\n",
    "WHERE Score != 3 AND Id=44737 OR Id=64422\n",
    "ORDER BY ProductID\n",
    "\"\"\", con)\n",
    "\n",
    "display.head()"
   ]
  },
  {
   "cell_type": "code",
   "execution_count": 0,
   "metadata": {
    "colab": {},
    "colab_type": "code",
    "id": "0YTPJMLTLPm7"
   },
   "outputs": [],
   "source": [
    "final=final[final.HelpfulnessNumerator<=final.HelpfulnessDenominator]"
   ]
  },
  {
   "cell_type": "code",
   "execution_count": 21,
   "metadata": {
    "colab": {
     "base_uri": "https://localhost:8080/",
     "height": 90
    },
    "colab_type": "code",
    "executionInfo": {
     "elapsed": 1336,
     "status": "ok",
     "timestamp": 1552633221411,
     "user": {
      "displayName": "saikiran yernena",
      "photoUrl": "",
      "userId": "15171324143564695981"
     },
     "user_tz": -330
    },
    "id": "LVJ_l-x2LPnC",
    "outputId": "11f009ac-6ac4-4564-b7f3-aa03f03b69b0"
   },
   "outputs": [
    {
     "name": "stdout",
     "output_type": "stream",
     "text": [
      "(87773, 10)\n"
     ]
    },
    {
     "data": {
      "text/plain": [
       "1    73592\n",
       "0    14181\n",
       "Name: Score, dtype: int64"
      ]
     },
     "execution_count": 21,
     "metadata": {
      "tags": []
     },
     "output_type": "execute_result"
    }
   ],
   "source": [
    "#Before starting the next phase of preprocessing lets see the number of entries left\n",
    "print(final.shape)\n",
    "\n",
    "#How many positive and negative reviews are present in our dataset?\n",
    "final['Score'].value_counts()"
   ]
  },
  {
   "cell_type": "markdown",
   "metadata": {
    "colab_type": "text",
    "id": "GrTYWzYrLPnH"
   },
   "source": [
    "#  [3] Preprocessing"
   ]
  },
  {
   "cell_type": "markdown",
   "metadata": {
    "colab_type": "text",
    "id": "zbvLitZeLPnI"
   },
   "source": [
    "## [3.1].  Preprocessing Review Text\n",
    "\n",
    "Now that we have finished deduplication our data requires some preprocessing before we go on further with analysis and making the prediction model.\n",
    "\n",
    "Hence in the Preprocessing phase we do the following in the order below:-\n",
    "\n",
    "1. Begin by removing the html tags\n",
    "2. Remove any punctuations or limited set of special characters like , or . or # etc.\n",
    "3. Check if the word is made up of english letters and is not alpha-numeric\n",
    "4. Check to see if the length of the word is greater than 2 (as it was researched that there is no adjective in 2-letters)\n",
    "5. Convert the word to lowercase\n",
    "6. Remove Stopwords\n",
    "7. Finally Snowball Stemming the word (it was obsereved to be better than Porter Stemming)<br>\n",
    "\n",
    "After which we collect the words used to describe positive and negative reviews"
   ]
  },
  {
   "cell_type": "code",
   "execution_count": 22,
   "metadata": {
    "colab": {
     "base_uri": "https://localhost:8080/",
     "height": 183
    },
    "colab_type": "code",
    "executionInfo": {
     "elapsed": 1516,
     "status": "ok",
     "timestamp": 1552633260513,
     "user": {
      "displayName": "saikiran yernena",
      "photoUrl": "",
      "userId": "15171324143564695981"
     },
     "user_tz": -330
    },
    "id": "yYDc0ZXALPnK",
    "outputId": "946ebb95-b58e-4989-d067-443a37e25f9e"
   },
   "outputs": [
    {
     "name": "stdout",
     "output_type": "stream",
     "text": [
      "My dogs loves this chicken but its a product from China, so we wont be buying it anymore.  Its very hard to find any chicken products made in the USA but they are out there, but this one isnt.  Its too bad too because its a good product but I wont take any chances till they know what is going on with the china imports.\n",
      "==================================================\n",
      "The Candy Blocks were a nice visual for the Lego Birthday party but the candy has little taste to it.  Very little of the 2 lbs that I bought were eaten and I threw the rest away.  I would not buy the candy again.\n",
      "==================================================\n",
      "was way to hot for my blood, took a bite and did a jig  lol\n",
      "==================================================\n",
      "My dog LOVES these treats. They tend to have a very strong fish oil smell. So if you are afraid of the fishy smell, don't get it. But I think my dog likes it because of the smell. These treats are really small in size. They are great for training. You can give your dog several of these without worrying about him over eating. Amazon's price was much more reasonable than any other retailer. You can buy a 1 pound bag on Amazon for almost the same price as a 6 ounce bag at other retailers. It's definitely worth it to buy a big bag if your dog eats them a lot.\n",
      "==================================================\n"
     ]
    }
   ],
   "source": [
    "# printing some random reviews\n",
    "sent_0 = final['Text'].values[0]\n",
    "print(sent_0)\n",
    "print(\"=\"*50)\n",
    "\n",
    "sent_1000 = final['Text'].values[1000]\n",
    "print(sent_1000)\n",
    "print(\"=\"*50)\n",
    "\n",
    "sent_1500 = final['Text'].values[1500]\n",
    "print(sent_1500)\n",
    "print(\"=\"*50)\n",
    "\n",
    "sent_4900 = final['Text'].values[4900]\n",
    "print(sent_4900)\n",
    "print(\"=\"*50)"
   ]
  },
  {
   "cell_type": "code",
   "execution_count": 23,
   "metadata": {
    "colab": {
     "base_uri": "https://localhost:8080/",
     "height": 55
    },
    "colab_type": "code",
    "executionInfo": {
     "elapsed": 1420,
     "status": "ok",
     "timestamp": 1552633265079,
     "user": {
      "displayName": "saikiran yernena",
      "photoUrl": "",
      "userId": "15171324143564695981"
     },
     "user_tz": -330
    },
    "id": "AxYh-wPiLPnS",
    "outputId": "7182df82-cd65-43cc-e827-6eb75fa1fbbd"
   },
   "outputs": [
    {
     "name": "stdout",
     "output_type": "stream",
     "text": [
      "My dogs loves this chicken but its a product from China, so we wont be buying it anymore.  Its very hard to find any chicken products made in the USA but they are out there, but this one isnt.  Its too bad too because its a good product but I wont take any chances till they know what is going on with the china imports.\n"
     ]
    }
   ],
   "source": [
    "# remove urls from text python: https://stackoverflow.com/a/40823105/4084039\n",
    "sent_0 = re.sub(r\"http\\S+\", \"\", sent_0)\n",
    "sent_1000 = re.sub(r\"http\\S+\", \"\", sent_1000)\n",
    "sent_150 = re.sub(r\"http\\S+\", \"\", sent_1500)\n",
    "sent_4900 = re.sub(r\"http\\S+\", \"\", sent_4900)\n",
    "\n",
    "print(sent_0)"
   ]
  },
  {
   "cell_type": "code",
   "execution_count": 24,
   "metadata": {
    "colab": {
     "base_uri": "https://localhost:8080/",
     "height": 165
    },
    "colab_type": "code",
    "executionInfo": {
     "elapsed": 1440,
     "status": "ok",
     "timestamp": 1552633269792,
     "user": {
      "displayName": "saikiran yernena",
      "photoUrl": "",
      "userId": "15171324143564695981"
     },
     "user_tz": -330
    },
    "id": "JMSSWjZqLPne",
    "outputId": "b95c3223-628d-42eb-b3b9-2b8eaae08b3e"
   },
   "outputs": [
    {
     "name": "stdout",
     "output_type": "stream",
     "text": [
      "My dogs loves this chicken but its a product from China, so we wont be buying it anymore.  Its very hard to find any chicken products made in the USA but they are out there, but this one isnt.  Its too bad too because its a good product but I wont take any chances till they know what is going on with the china imports.\n",
      "==================================================\n",
      "The Candy Blocks were a nice visual for the Lego Birthday party but the candy has little taste to it.  Very little of the 2 lbs that I bought were eaten and I threw the rest away.  I would not buy the candy again.\n",
      "==================================================\n",
      "was way to hot for my blood, took a bite and did a jig  lol\n",
      "==================================================\n",
      "My dog LOVES these treats. They tend to have a very strong fish oil smell. So if you are afraid of the fishy smell, don't get it. But I think my dog likes it because of the smell. These treats are really small in size. They are great for training. You can give your dog several of these without worrying about him over eating. Amazon's price was much more reasonable than any other retailer. You can buy a 1 pound bag on Amazon for almost the same price as a 6 ounce bag at other retailers. It's definitely worth it to buy a big bag if your dog eats them a lot.\n"
     ]
    }
   ],
   "source": [
    "# https://stackoverflow.com/questions/16206380/python-beautifulsoup-how-to-remove-all-tags-from-an-element\n",
    "from bs4 import BeautifulSoup\n",
    "\n",
    "soup = BeautifulSoup(sent_0, 'lxml')\n",
    "text = soup.get_text()\n",
    "print(text)\n",
    "print(\"=\"*50)\n",
    "\n",
    "soup = BeautifulSoup(sent_1000, 'lxml')\n",
    "text = soup.get_text()\n",
    "print(text)\n",
    "print(\"=\"*50)\n",
    "\n",
    "soup = BeautifulSoup(sent_1500, 'lxml')\n",
    "text = soup.get_text()\n",
    "print(text)\n",
    "print(\"=\"*50)\n",
    "\n",
    "soup = BeautifulSoup(sent_4900, 'lxml')\n",
    "text = soup.get_text()\n",
    "print(text)"
   ]
  },
  {
   "cell_type": "code",
   "execution_count": 0,
   "metadata": {
    "colab": {},
    "colab_type": "code",
    "id": "BEtpMkhULPnt"
   },
   "outputs": [],
   "source": [
    "# https://stackoverflow.com/a/47091490/4084039\n",
    "import re\n",
    "\n",
    "def decontracted(phrase):\n",
    "    # specific\n",
    "    phrase = re.sub(r\"won't\", \"will not\", phrase)\n",
    "    phrase = re.sub(r\"can\\'t\", \"can not\", phrase)\n",
    "\n",
    "    # general\n",
    "    phrase = re.sub(r\"n\\'t\", \" not\", phrase)\n",
    "    phrase = re.sub(r\"\\'re\", \" are\", phrase)\n",
    "    phrase = re.sub(r\"\\'s\", \" is\", phrase)\n",
    "    phrase = re.sub(r\"\\'d\", \" would\", phrase)\n",
    "    phrase = re.sub(r\"\\'ll\", \" will\", phrase)\n",
    "    phrase = re.sub(r\"\\'t\", \" not\", phrase)\n",
    "    phrase = re.sub(r\"\\'ve\", \" have\", phrase)\n",
    "    phrase = re.sub(r\"\\'m\", \" am\", phrase)\n",
    "    return phrase"
   ]
  },
  {
   "cell_type": "code",
   "execution_count": 26,
   "metadata": {
    "colab": {
     "base_uri": "https://localhost:8080/",
     "height": 53
    },
    "colab_type": "code",
    "executionInfo": {
     "elapsed": 1346,
     "status": "ok",
     "timestamp": 1552633280691,
     "user": {
      "displayName": "saikiran yernena",
      "photoUrl": "",
      "userId": "15171324143564695981"
     },
     "user_tz": -330
    },
    "id": "GavAnzNjLPnx",
    "outputId": "6ed50885-fa79-4138-b294-38e5a42d22fb"
   },
   "outputs": [
    {
     "name": "stdout",
     "output_type": "stream",
     "text": [
      "was way to hot for my blood, took a bite and did a jig  lol\n",
      "==================================================\n"
     ]
    }
   ],
   "source": [
    "sent_1500 = decontracted(sent_1500)\n",
    "print(sent_1500)\n",
    "print(\"=\"*50)"
   ]
  },
  {
   "cell_type": "code",
   "execution_count": 27,
   "metadata": {
    "colab": {
     "base_uri": "https://localhost:8080/",
     "height": 55
    },
    "colab_type": "code",
    "executionInfo": {
     "elapsed": 1388,
     "status": "ok",
     "timestamp": 1552633285718,
     "user": {
      "displayName": "saikiran yernena",
      "photoUrl": "",
      "userId": "15171324143564695981"
     },
     "user_tz": -330
    },
    "id": "Kl8nOoL-LPn3",
    "outputId": "a5d64c89-6cb7-4759-b473-5a823b0bb523"
   },
   "outputs": [
    {
     "name": "stdout",
     "output_type": "stream",
     "text": [
      "My dogs loves this chicken but its a product from China, so we wont be buying it anymore.  Its very hard to find any chicken products made in the USA but they are out there, but this one isnt.  Its too bad too because its a good product but I wont take any chances till they know what is going on with the china imports.\n"
     ]
    }
   ],
   "source": [
    "#remove words with numbers python: https://stackoverflow.com/a/18082370/4084039\n",
    "sent_0 = re.sub(\"\\S*\\d\\S*\", \"\", sent_0).strip()\n",
    "print(sent_0)"
   ]
  },
  {
   "cell_type": "code",
   "execution_count": 28,
   "metadata": {
    "colab": {
     "base_uri": "https://localhost:8080/",
     "height": 35
    },
    "colab_type": "code",
    "executionInfo": {
     "elapsed": 1475,
     "status": "ok",
     "timestamp": 1552633290395,
     "user": {
      "displayName": "saikiran yernena",
      "photoUrl": "",
      "userId": "15171324143564695981"
     },
     "user_tz": -330
    },
    "id": "EGB6X2uxLPn7",
    "outputId": "7f06feb4-d9df-4c8b-b55b-2147207e072b"
   },
   "outputs": [
    {
     "name": "stdout",
     "output_type": "stream",
     "text": [
      "was way to hot for my blood took a bite and did a jig lol\n"
     ]
    }
   ],
   "source": [
    "#remove spacial character: https://stackoverflow.com/a/5843547/4084039\n",
    "sent_1500 = re.sub('[^A-Za-z0-9]+', ' ', sent_1500)\n",
    "print(sent_1500)"
   ]
  },
  {
   "cell_type": "code",
   "execution_count": 0,
   "metadata": {
    "colab": {},
    "colab_type": "code",
    "id": "CCurSJJ2LPn_"
   },
   "outputs": [],
   "source": [
    "# https://gist.github.com/sebleier/554280\n",
    "# we are removing the words from the stop words list: 'no', 'nor', 'not'\n",
    "# <br /><br /> ==> after the above steps, we are getting \"br br\"\n",
    "# we are including them into stop words list\n",
    "# instead of <br /> if we have <br/> these tags would have revmoved in the 1st step\n",
    "\n",
    "stopwords= set(['br', 'the', 'i', 'me', 'my', 'myself', 'we', 'our', 'ours', 'ourselves', 'you', \"you're\", \"you've\",\\\n",
    "            \"you'll\", \"you'd\", 'your', 'yours', 'yourself', 'yourselves', 'he', 'him', 'his', 'himself', \\\n",
    "            'she', \"she's\", 'her', 'hers', 'herself', 'it', \"it's\", 'its', 'itself', 'they', 'them', 'their',\\\n",
    "            'theirs', 'themselves', 'what', 'which', 'who', 'whom', 'this', 'that', \"that'll\", 'these', 'those', \\\n",
    "            'am', 'is', 'are', 'was', 'were', 'be', 'been', 'being', 'have', 'has', 'had', 'having', 'do', 'does', \\\n",
    "            'did', 'doing', 'a', 'an', 'the', 'and', 'but', 'if', 'or', 'because', 'as', 'until', 'while', 'of', \\\n",
    "            'at', 'by', 'for', 'with', 'about', 'against', 'between', 'into', 'through', 'during', 'before', 'after',\\\n",
    "            'above', 'below', 'to', 'from', 'up', 'down', 'in', 'out', 'on', 'off', 'over', 'under', 'again', 'further',\\\n",
    "            'then', 'once', 'here', 'there', 'when', 'where', 'why', 'how', 'all', 'any', 'both', 'each', 'few', 'more',\\\n",
    "            'most', 'other', 'some', 'such', 'only', 'own', 'same', 'so', 'than', 'too', 'very', \\\n",
    "            's', 't', 'can', 'will', 'just', 'don', \"don't\", 'should', \"should've\", 'now', 'd', 'll', 'm', 'o', 're', \\\n",
    "            've', 'y', 'ain', 'aren', \"aren't\", 'couldn', \"couldn't\", 'didn', \"didn't\", 'doesn', \"doesn't\", 'hadn',\\\n",
    "            \"hadn't\", 'hasn', \"hasn't\", 'haven', \"haven't\", 'isn', \"isn't\", 'ma', 'mightn', \"mightn't\", 'mustn',\\\n",
    "            \"mustn't\", 'needn', \"needn't\", 'shan', \"shan't\", 'shouldn', \"shouldn't\", 'wasn', \"wasn't\", 'weren', \"weren't\", \\\n",
    "            'won', \"won't\", 'wouldn', \"wouldn't\"])"
   ]
  },
  {
   "cell_type": "code",
   "execution_count": 30,
   "metadata": {
    "colab": {
     "base_uri": "https://localhost:8080/",
     "height": 35
    },
    "colab_type": "code",
    "executionInfo": {
     "elapsed": 36681,
     "status": "ok",
     "timestamp": 1552633336996,
     "user": {
      "displayName": "saikiran yernena",
      "photoUrl": "",
      "userId": "15171324143564695981"
     },
     "user_tz": -330
    },
    "id": "mFHQEvfnLPoF",
    "outputId": "fb160e6b-2ebd-473c-d068-568b328b70a5"
   },
   "outputs": [
    {
     "name": "stderr",
     "output_type": "stream",
     "text": [
      "100%|██████████| 87773/87773 [00:35<00:00, 2501.41it/s]\n"
     ]
    }
   ],
   "source": [
    "# Combining all the above stundents \n",
    "from tqdm import tqdm\n",
    "preprocessed_reviews = []\n",
    "# tqdm is for printing the status bar\n",
    "for sentance in tqdm(final['Text'].values):\n",
    "    sentance = re.sub(r\"http\\S+\", \"\", sentance)\n",
    "    sentance = BeautifulSoup(sentance, 'lxml').get_text()\n",
    "    sentance = decontracted(sentance)\n",
    "    sentance = re.sub(\"\\S*\\d\\S*\", \"\", sentance).strip()\n",
    "    sentance = re.sub('[^A-Za-z]+', ' ', sentance)\n",
    "    # https://gist.github.com/sebleier/554280\n",
    "    sentance = ' '.join(e.lower() for e in sentance.split() if e.lower() not in stopwords)\n",
    "    preprocessed_reviews.append(sentance.strip())"
   ]
  },
  {
   "cell_type": "code",
   "execution_count": 31,
   "metadata": {
    "colab": {
     "base_uri": "https://localhost:8080/",
     "height": 35
    },
    "colab_type": "code",
    "executionInfo": {
     "elapsed": 1395,
     "status": "ok",
     "timestamp": 1552633341395,
     "user": {
      "displayName": "saikiran yernena",
      "photoUrl": "",
      "userId": "15171324143564695981"
     },
     "user_tz": -330
    },
    "id": "Tqx8QUeRLPoH",
    "outputId": "9055190a-56c6-4165-ad38-ab81cf5b065e"
   },
   "outputs": [
    {
     "data": {
      "text/plain": [
       "'way hot blood took bite jig lol'"
      ]
     },
     "execution_count": 31,
     "metadata": {
      "tags": []
     },
     "output_type": "execute_result"
    }
   ],
   "source": [
    "preprocessed_reviews[1500]"
   ]
  },
  {
   "cell_type": "markdown",
   "metadata": {
    "colab_type": "text",
    "id": "9IuKp2HULPoL"
   },
   "source": [
    "<h2><font color='red'>[3.2] Preprocessing Review Summary</font></h2>"
   ]
  },
  {
   "cell_type": "code",
   "execution_count": 0,
   "metadata": {
    "colab": {},
    "colab_type": "code",
    "id": "Qk7gYOmKLPoM"
   },
   "outputs": [],
   "source": [
    "## Similartly you can do preprocessing for review summary also."
   ]
  },
  {
   "cell_type": "markdown",
   "metadata": {
    "colab_type": "text",
    "id": "B93jqKuhLPoQ"
   },
   "source": [
    "# [4] Featurization"
   ]
  },
  {
   "cell_type": "markdown",
   "metadata": {
    "colab_type": "text",
    "id": "Mr4j2QhgLPoQ"
   },
   "source": [
    "## [4.1] BAG OF WORDS"
   ]
  },
  {
   "cell_type": "code",
   "execution_count": 0,
   "metadata": {
    "colab": {},
    "colab_type": "code",
    "id": "dZVHt3mtLPoR",
    "outputId": "ea1629cd-7c92-400e-9acd-f7caeef0f389"
   },
   "outputs": [
    {
     "name": "stdout",
     "output_type": "stream",
     "text": [
      "some feature names  ['aa', 'aahhhs', 'aback', 'abandon', 'abates', 'abbott', 'abby', 'abdominal', 'abiding', 'ability']\n",
      "==================================================\n",
      "the type of count vectorizer  <class 'scipy.sparse.csr.csr_matrix'>\n",
      "the shape of out text BOW vectorizer  (4986, 12997)\n",
      "the number of unique words  12997\n"
     ]
    }
   ],
   "source": [
    "#BoW\n",
    "count_vect = CountVectorizer() #in scikit-learn\n",
    "count_vect.fit(preprocessed_reviews)\n",
    "print(\"some feature names \", count_vect.get_feature_names()[:10])\n",
    "print('='*50)\n",
    "\n",
    "final_counts = count_vect.transform(preprocessed_reviews)\n",
    "print(\"the type of count vectorizer \",type(final_counts))\n",
    "print(\"the shape of out text BOW vectorizer \",final_counts.get_shape())\n",
    "print(\"the number of unique words \", final_counts.get_shape()[1])"
   ]
  },
  {
   "cell_type": "markdown",
   "metadata": {
    "colab_type": "text",
    "id": "tSf5kRdLLPoV"
   },
   "source": [
    "## [4.2] Bi-Grams and n-Grams."
   ]
  },
  {
   "cell_type": "code",
   "execution_count": 0,
   "metadata": {
    "colab": {},
    "colab_type": "code",
    "id": "Yfk2d7bLLPoW",
    "outputId": "33472132-5eb3-493f-b08c-081749f99239"
   },
   "outputs": [
    {
     "name": "stdout",
     "output_type": "stream",
     "text": [
      "the type of count vectorizer  <class 'scipy.sparse.csr.csr_matrix'>\n",
      "the shape of out text BOW vectorizer  (4986, 3144)\n",
      "the number of unique words including both unigrams and bigrams  3144\n"
     ]
    }
   ],
   "source": [
    "#bi-gram, tri-gram and n-gram\n",
    "\n",
    "#removing stop words like \"not\" should be avoided before building n-grams\n",
    "# count_vect = CountVectorizer(ngram_range=(1,2))\n",
    "# please do read the CountVectorizer documentation http://scikit-learn.org/stable/modules/generated/sklearn.feature_extraction.text.CountVectorizer.html\n",
    "\n",
    "# you can choose these numebrs min_df=10, max_features=5000, of your choice\n",
    "count_vect = CountVectorizer(ngram_range=(1,2), min_df=10, max_features=5000)\n",
    "final_bigram_counts = count_vect.fit_transform(preprocessed_reviews)\n",
    "print(\"the type of count vectorizer \",type(final_bigram_counts))\n",
    "print(\"the shape of out text BOW vectorizer \",final_bigram_counts.get_shape())\n",
    "print(\"the number of unique words including both unigrams and bigrams \", final_bigram_counts.get_shape()[1])"
   ]
  },
  {
   "cell_type": "markdown",
   "metadata": {
    "colab_type": "text",
    "id": "-cEEpDx0LPoZ"
   },
   "source": [
    "## [4.3] TF-IDF"
   ]
  },
  {
   "cell_type": "code",
   "execution_count": 0,
   "metadata": {
    "colab": {},
    "colab_type": "code",
    "id": "TgP61HqBLPoa",
    "outputId": "15f1c123-d93b-414d-914b-d4e3f32a6ac1"
   },
   "outputs": [
    {
     "name": "stdout",
     "output_type": "stream",
     "text": [
      "some sample features(unique words in the corpus) ['ability', 'able', 'able find', 'able get', 'absolute', 'absolutely', 'absolutely delicious', 'absolutely love', 'absolutely no', 'according']\n",
      "==================================================\n",
      "the type of count vectorizer  <class 'scipy.sparse.csr.csr_matrix'>\n",
      "the shape of out text TFIDF vectorizer  (4986, 3144)\n",
      "the number of unique words including both unigrams and bigrams  3144\n"
     ]
    }
   ],
   "source": [
    "tf_idf_vect = TfidfVectorizer(ngram_range=(1,2), min_df=10)\n",
    "tf_idf_vect.fit(preprocessed_reviews)\n",
    "print(\"some sample features(unique words in the corpus)\",tf_idf_vect.get_feature_names()[0:10])\n",
    "print('='*50)\n",
    "\n",
    "final_tf_idf = tf_idf_vect.transform(preprocessed_reviews)\n",
    "print(\"the type of count vectorizer \",type(final_tf_idf))\n",
    "print(\"the shape of out text TFIDF vectorizer \",final_tf_idf.get_shape())\n",
    "print(\"the number of unique words including both unigrams and bigrams \", final_tf_idf.get_shape()[1])"
   ]
  },
  {
   "cell_type": "markdown",
   "metadata": {
    "colab_type": "text",
    "id": "m3YEHTLPLPod"
   },
   "source": [
    "## [4.4] Word2Vec"
   ]
  },
  {
   "cell_type": "code",
   "execution_count": 0,
   "metadata": {
    "colab": {},
    "colab_type": "code",
    "id": "zwPZCf8cLPoe"
   },
   "outputs": [],
   "source": [
    "# Train your own Word2Vec model using your own text corpus\n",
    "i=0\n",
    "list_of_sentance=[]\n",
    "for sentance in preprocessed_reviews:\n",
    "    list_of_sentance.append(sentance.split())"
   ]
  },
  {
   "cell_type": "code",
   "execution_count": 0,
   "metadata": {
    "colab": {},
    "colab_type": "code",
    "id": "8ddGZNUfLPog",
    "outputId": "390d4ccb-cda2-4391-83e9-0e502b578171",
    "scrolled": true
   },
   "outputs": [
    {
     "name": "stdout",
     "output_type": "stream",
     "text": [
      "[('bad', 0.995902955532074), ('think', 0.9957555532455444), ('excellent', 0.9957213997840881), ('looking', 0.9957202672958374), ('either', 0.9956450462341309), ('craving', 0.9955130815505981), ('detect', 0.9953725934028625), ('gatorade', 0.9953389763832092), ('satisfying', 0.9952681660652161), ('overall', 0.9952636957168579)]\n",
      "==================================================\n",
      "[('sound', 0.9992141127586365), ('produced', 0.9991673827171326), ('level', 0.9991483092308044), ('nearly', 0.9991376996040344), ('cause', 0.9991363286972046), ('standard', 0.9991347193717957), ('perhaps', 0.9991282224655151), ('hands', 0.9991070032119751), ('become', 0.9991000294685364), ('worked', 0.9990995526313782)]\n"
     ]
    }
   ],
   "source": [
    "# Using Google News Word2Vectors\n",
    "\n",
    "# in this project we are using a pretrained model by google\n",
    "# its 3.3G file, once you load this into your memory \n",
    "# it occupies ~9Gb, so please do this step only if you have >12G of ram\n",
    "# we will provide a pickle file wich contains a dict , \n",
    "# and it contains all our courpus words as keys and  model[word] as values\n",
    "# To use this code-snippet, download \"GoogleNews-vectors-negative300.bin\" \n",
    "# from https://drive.google.com/file/d/0B7XkCwpI5KDYNlNUTTlSS21pQmM/edit\n",
    "# it's 1.9GB in size.\n",
    "\n",
    "\n",
    "# http://kavita-ganesan.com/gensim-word2vec-tutorial-starter-code/#.W17SRFAzZPY\n",
    "# you can comment this whole cell\n",
    "# or change these varible according to your need\n",
    "\n",
    "is_your_ram_gt_16g=False\n",
    "want_to_use_google_w2v = False\n",
    "want_to_train_w2v = True\n",
    "\n",
    "if want_to_train_w2v:\n",
    "    # min_count = 5 considers only words that occured atleast 5 times\n",
    "    w2v_model=Word2Vec(list_of_sentance,min_count=5,size=50, workers=4)\n",
    "    print(w2v_model.wv.most_similar('great'))\n",
    "    print('='*50)\n",
    "    print(w2v_model.wv.most_similar('worst'))\n",
    "    \n",
    "elif want_to_use_google_w2v and is_your_ram_gt_16g:\n",
    "    if os.path.isfile('GoogleNews-vectors-negative300.bin'):\n",
    "        w2v_model=KeyedVectors.load_word2vec_format('GoogleNews-vectors-negative300.bin', binary=True)\n",
    "        print(w2v_model.wv.most_similar('great'))\n",
    "        print(w2v_model.wv.most_similar('worst'))\n",
    "    else:\n",
    "        print(\"you don't have gogole's word2vec file, keep want_to_train_w2v = True, to train your own w2v \")"
   ]
  },
  {
   "cell_type": "code",
   "execution_count": 0,
   "metadata": {
    "colab": {},
    "colab_type": "code",
    "id": "bRWXmmnWLPoo",
    "outputId": "1cc345e7-d991-49b8-f1b7-a0d81f0b97e6"
   },
   "outputs": [
    {
     "name": "stdout",
     "output_type": "stream",
     "text": [
      "number of words that occured minimum 5 times  3817\n",
      "sample words  ['product', 'available', 'course', 'total', 'pretty', 'stinky', 'right', 'nearby', 'used', 'ca', 'not', 'beat', 'great', 'received', 'shipment', 'could', 'hardly', 'wait', 'try', 'love', 'call', 'instead', 'removed', 'easily', 'daughter', 'designed', 'printed', 'use', 'car', 'windows', 'beautifully', 'shop', 'program', 'going', 'lot', 'fun', 'everywhere', 'like', 'tv', 'computer', 'really', 'good', 'idea', 'final', 'outstanding', 'window', 'everybody', 'asks', 'bought', 'made']\n"
     ]
    }
   ],
   "source": [
    "w2v_words = list(w2v_model.wv.vocab)\n",
    "print(\"number of words that occured minimum 5 times \",len(w2v_words))\n",
    "print(\"sample words \", w2v_words[0:50])"
   ]
  },
  {
   "cell_type": "markdown",
   "metadata": {
    "colab_type": "text",
    "id": "TtWqibqfLPos"
   },
   "source": [
    "## [4.4.1] Converting text into vectors using Avg W2V, TFIDF-W2V"
   ]
  },
  {
   "cell_type": "markdown",
   "metadata": {
    "colab_type": "text",
    "id": "JriP5nZCLPot"
   },
   "source": [
    "#### [4.4.1.1] Avg W2v"
   ]
  },
  {
   "cell_type": "code",
   "execution_count": 0,
   "metadata": {
    "colab": {},
    "colab_type": "code",
    "id": "UnXI9NHTLPot",
    "outputId": "ecbe8256-9718-4bad-de33-e5ce1ee69038"
   },
   "outputs": [
    {
     "name": "stderr",
     "output_type": "stream",
     "text": [
      "100%|█████████████████████████████████████| 4986/4986 [00:20<00:00, 249.20it/s]\n"
     ]
    },
    {
     "name": "stdout",
     "output_type": "stream",
     "text": [
      "4986\n",
      "50\n"
     ]
    }
   ],
   "source": [
    "# average Word2Vec\n",
    "# compute average word2vec for each review.\n",
    "sent_vectors = []; # the avg-w2v for each sentence/review is stored in this list\n",
    "for sent in tqdm(list_of_sentance): # for each review/sentence\n",
    "    sent_vec = np.zeros(50) # as word vectors are of zero length 50, you might need to change this to 300 if you use google's w2v\n",
    "    cnt_words =0; # num of words with a valid vector in the sentence/review\n",
    "    for word in sent: # for each word in a review/sentence\n",
    "        if word in w2v_words:\n",
    "            vec = w2v_model.wv[word]\n",
    "            sent_vec += vec\n",
    "            cnt_words += 1\n",
    "    if cnt_words != 0:\n",
    "        sent_vec /= cnt_words\n",
    "    sent_vectors.append(sent_vec)\n",
    "print(len(sent_vectors))\n",
    "print(len(sent_vectors[0]))"
   ]
  },
  {
   "cell_type": "markdown",
   "metadata": {
    "colab_type": "text",
    "id": "2sHfb529LPow"
   },
   "source": [
    "#### [4.4.1.2] TFIDF weighted W2v"
   ]
  },
  {
   "cell_type": "code",
   "execution_count": 0,
   "metadata": {
    "colab": {},
    "colab_type": "code",
    "id": "sb_wDjAqLPow"
   },
   "outputs": [],
   "source": [
    "# S = [\"abc def pqr\", \"def def def abc\", \"pqr pqr def\"]\n",
    "model = TfidfVectorizer()\n",
    "tf_idf_matrix = model.fit_transform(preprocessed_reviews)\n",
    "# we are converting a dictionary with word as a key, and the idf as a value\n",
    "dictionary = dict(zip(model.get_feature_names(), list(model.idf_)))"
   ]
  },
  {
   "cell_type": "code",
   "execution_count": 0,
   "metadata": {
    "colab": {},
    "colab_type": "code",
    "id": "3VrUzqx7LPoy",
    "outputId": "8480d5da-7b1d-4bbe-a4c9-fe0a5800b5d0",
    "scrolled": true
   },
   "outputs": [
    {
     "name": "stderr",
     "output_type": "stream",
     "text": [
      "100%|██████████████████████████████████████| 4986/4986 [02:21<00:00, 35.22it/s]\n"
     ]
    }
   ],
   "source": [
    "# TF-IDF weighted Word2Vec\n",
    "tfidf_feat = model.get_feature_names() # tfidf words/col-names\n",
    "# final_tf_idf is the sparse matrix with row= sentence, col=word and cell_val = tfidf\n",
    "\n",
    "tfidf_sent_vectors = []; # the tfidf-w2v for each sentence/review is stored in this list\n",
    "row=0;\n",
    "for sent in tqdm(list_of_sentance): # for each review/sentence \n",
    "    sent_vec = np.zeros(50) # as word vectors are of zero length\n",
    "    weight_sum =0; # num of words with a valid vector in the sentence/review\n",
    "    for word in sent: # for each word in a review/sentence\n",
    "        if word in w2v_words and word in tfidf_feat:\n",
    "            vec = w2v_model.wv[word]\n",
    "#             tf_idf = tf_idf_matrix[row, tfidf_feat.index(word)]\n",
    "            # to reduce the computation we are \n",
    "            # dictionary[word] = idf value of word in whole courpus\n",
    "            # sent.count(word) = tf valeus of word in this review\n",
    "            tf_idf = dictionary[word]*(sent.count(word)/len(sent))\n",
    "            sent_vec += (vec * tf_idf)\n",
    "            weight_sum += tf_idf\n",
    "    if weight_sum != 0:\n",
    "        sent_vec /= weight_sum\n",
    "    tfidf_sent_vectors.append(sent_vec)\n",
    "    row += 1"
   ]
  },
  {
   "cell_type": "markdown",
   "metadata": {
    "colab_type": "text",
    "id": "Kxx72u1hLPo1"
   },
   "source": [
    "# [5] Assignment 5: Apply Logistic Regression"
   ]
  },
  {
   "cell_type": "markdown",
   "metadata": {
    "colab_type": "text",
    "id": "KDR9We0oLPo2"
   },
   "source": [
    "<ol>\n",
    "    <li><strong>Apply Logistic Regression on these feature sets</strong>\n",
    "        <ul>\n",
    "            <li><font color='red'>SET 1:</font>Review text, preprocessed one converted into vectors using (BOW)</li>\n",
    "            <li><font color='red'>SET 2:</font>Review text, preprocessed one converted into vectors using (TFIDF)</li>\n",
    "            <li><font color='red'>SET 3:</font>Review text, preprocessed one converted into vectors using (AVG W2v)</li>\n",
    "            <li><font color='red'>SET 4:</font>Review text, preprocessed one converted into vectors using (TFIDF W2v)</li>\n",
    "        </ul>\n",
    "    </li>\n",
    "    <br>\n",
    "    <li><strong>Hyper paramter tuning (find best hyper parameters corresponding the algorithm that you choose)</strong>\n",
    "        <ul>\n",
    "    <li>Find the best hyper parameter which will give the maximum <a href='https://www.appliedaicourse.com/course/applied-ai-course-online/lessons/receiver-operating-characteristic-curve-roc-curve-and-auc-1/'>AUC</a> value</li>\n",
    "    <li>Find the best hyper paramter using k-fold cross validation or simple cross validation data</li>\n",
    "    <li>Use gridsearch cv or randomsearch cv or you can also write your own for loops to do this task of hyperparameter tuning</li>          \n",
    "        </ul>\n",
    "    </li>\n",
    "    <br>\n",
    "    <li><strong>Pertubation Test</strong>\n",
    "        <ul>\n",
    "    <li>Get the weights W after fit your model with the data X i.e Train data.</li>\n",
    "    <li>Add a noise to the X (X' = X + e) and get the new data set X' (if X is a sparse\n",
    "matrix, X.data+=e)</li>\n",
    "    <li>Fit the model again on data X' and get the weights W'</li>\n",
    "    <li>Add a small eps value(to eliminate the divisible by zero error) to W and W’ i.e\n",
    "W=W+10^-6 and W’ = W’+10^-6</li>\n",
    "    <li>Now find the % change between W and W' (| (W-W') / (W) |)*100)</li>\n",
    "    <li>Calculate the 0th, 10th, 20th, 30th, ...100th percentiles, and observe any sudden rise in the values of percentage_change_vector</li>\n",
    "    <li> Ex: consider your 99th percentile is 1.3 and your 100th percentiles are 34.6, there is sudden rise from 1.3 to 34.6, now calculate the 99.1, 99.2, 99.3,..., 100th percentile values and get the proper value after which there is sudden rise the values, assume it is 2.5</li>\n",
    "            <li> Print the feature names whose % change is more than a threshold x(in our example it's 2.5)</li>\n",
    "        </ul>\n",
    "    </li>\n",
    "    <br>\n",
    "    <li><strong>Sparsity</strong>\n",
    "        <ul>\n",
    "    <li>Calculate sparsity on weight vector obtained after using L1 regularization</li>\n",
    "        </ul>\n",
    "    </li>\n",
    "    <br><font color='red'>NOTE: Do sparsity and multicollinearity for any one of the vectorizers. Bow or tf-idf is recommended.</font>\n",
    "    <br>\n",
    "    <br>\n",
    "    <li><strong>Feature importance</strong>\n",
    "        <ul>\n",
    "    <li>Get top 10 important features for both positive and negative classes separately.</li>\n",
    "        </ul>\n",
    "    </li>\n",
    "    <br>\n",
    "    <li><strong>Feature engineering</strong>\n",
    "        <ul>\n",
    "    <li>To increase the performance of your model, you can also experiment with with feature engineering like :</li>\n",
    "            <ul>\n",
    "            <li>Taking length of reviews as another feature.</li>\n",
    "            <li>Considering some features from review summary as well.</li>\n",
    "        </ul>\n",
    "        </ul>\n",
    "    </li>\n",
    "    <br>\n",
    "    <li><strong>Representation of results</strong>\n",
    "        <ul>\n",
    "    <li>You need to plot the performance of model both on train data and cross validation data for each hyper parameter, like shown in the figure.\n",
    "    <img src='train_cv_auc.JPG' width=300px></li>\n",
    "    <li>Once after you found the best hyper parameter, you need to train your model with it, and find the AUC on test data and plot the ROC curve on both train and test.\n",
    "    <img src='train_test_auc.JPG' width=300px></li>\n",
    "    <li>Along with plotting ROC curve, you need to print the <a href='https://www.appliedaicourse.com/course/applied-ai-course-online/lessons/confusion-matrix-tpr-fpr-fnr-tnr-1/'>confusion matrix</a> with predicted and original labels of test data points. Please visualize your confusion matrices using <a href='https://seaborn.pydata.org/generated/seaborn.heatmap.html'>seaborn heatmaps.\n",
    "    <img src='confusion_matrix.png' width=300px></li>\n",
    "        </ul>\n",
    "    </li>\n",
    "    <br>\n",
    "    <li><strong>Conclusion</strong>\n",
    "        <ul>\n",
    "    <li>You need to summarize the results at the end of the notebook, summarize it in the table format. To print out a table please refer to this prettytable library<a href='http://zetcode.com/python/prettytable/'>  link</a> \n",
    "        <img src='summary.JPG' width=400px>\n",
    "    </li>\n",
    "        </ul>\n",
    "</ol>"
   ]
  },
  {
   "cell_type": "markdown",
   "metadata": {
    "colab_type": "text",
    "id": "gilb-DOVLPo2"
   },
   "source": [
    "<h4><font color='red'>Note: Data Leakage</font></h4>\n",
    "\n",
    "1. There will be an issue of data-leakage if you vectorize the entire data and then split it into train/cv/test.\n",
    "2. To avoid the issue of data-leakag, make sure to split your data first and then vectorize it. \n",
    "3. While vectorizing your data, apply the method fit_transform() on you train data, and apply the method transform() on cv/test data.\n",
    "4. For more details please go through this <a href='https://soundcloud.com/applied-ai-course/leakage-bow-and-tfidf'>link.</a>"
   ]
  },
  {
   "cell_type": "markdown",
   "metadata": {
    "colab_type": "text",
    "id": "jiYocvSHLPo4"
   },
   "source": [
    "# Applying Logistic Regression"
   ]
  },
  {
   "cell_type": "markdown",
   "metadata": {
    "colab_type": "text",
    "id": "LE_XPVZJLPo4"
   },
   "source": [
    "## [5.1] Logistic Regression on BOW,<font color='red'> SET 1</font>"
   ]
  },
  {
   "cell_type": "markdown",
   "metadata": {
    "colab_type": "text",
    "id": "_iciJvj2LPo4"
   },
   "source": [
    "### [5.1.1] Applying Logistic Regression with L1 regularization on BOW,<font color='red'> SET 1</font>"
   ]
  },
  {
   "cell_type": "code",
   "execution_count": 33,
   "metadata": {
    "colab": {
     "base_uri": "https://localhost:8080/",
     "height": 567
    },
    "colab_type": "code",
    "executionInfo": {
     "elapsed": 98574,
     "status": "ok",
     "timestamp": 1552633781771,
     "user": {
      "displayName": "saikiran yernena",
      "photoUrl": "",
      "userId": "15171324143564695981"
     },
     "user_tz": -330
    },
    "id": "MyOVi-xYLPo5",
    "outputId": "179cca86-c290-43b3-83c3-515e18c86cb7"
   },
   "outputs": [
    {
     "name": "stdout",
     "output_type": "stream",
     "text": [
      "(87773,)\n",
      "(87773,)\n",
      "(58807,) (58807,)\n",
      "(28966,) (28966,)\n",
      "====================================================================================================\n",
      "[0 1] [ 9550 49257]\n",
      "[0 1] [ 4631 24335]\n",
      "(58807, 45226) (58807,)\n",
      "(28966, 45226) (28966,)\n",
      "====================================================================================================\n",
      "best c LogisticRegression(C=0.01, class_weight=None, dual=False, fit_intercept=True,\n",
      "          intercept_scaling=1, max_iter=100, multi_class='warn',\n",
      "          n_jobs=None, penalty='l1', random_state=None, solver='warn',\n",
      "          tol=0.0001, verbose=0, warm_start=False)\n",
      "0.9303665441204884\n"
     ]
    },
    {
     "data": {
      "image/png": "[encoded data removed]",
      "text/plain": [
       "<Figure size 432x288 with 1 Axes>"
      ]
     },
     "metadata": {
      "tags": []
     },
     "output_type": "display_data"
    }
   ],
   "source": [
    "# Please write all the code with proper documentation\n",
    "from sklearn.model_selection import train_test_split\n",
    "from sklearn.model_selection import GridSearchCV\n",
    "from sklearn.linear_model import LogisticRegression\n",
    "\n",
    "X=np.asarray(preprocessed_reviews)\n",
    "Y=np.asarray(final['Score'])\n",
    "print(X.shape)\n",
    "print(Y.shape)\n",
    "\n",
    "X_train,X_test,Y_train,Y_test=train_test_split(X,Y,test_size=0.33)\n",
    "\n",
    "\n",
    "print(X_train.shape,Y_train.shape)\n",
    "\n",
    "print(X_test.shape,Y_test.shape)\n",
    "print(\"=\"*100)\n",
    "\n",
    "unique1, counts1 = np.unique(Y_train, return_counts=True)\n",
    "print(unique1,counts1)\n",
    "\n",
    "unique2, counts2 = np.unique(Y_test, return_counts=True)\n",
    "print(unique2,counts2)\n",
    "\n",
    "from sklearn.feature_extraction.text import CountVectorizer\n",
    "from sklearn.preprocessing import StandardScaler\n",
    "\n",
    "\n",
    "Vectorizer=CountVectorizer()\n",
    "Vectorizer.fit(X_train)\n",
    "\n",
    "X_train_bow=Vectorizer.transform(X_train)\n",
    "X_test_bow=Vectorizer.transform(X_test)\n",
    "\n",
    "scaler = StandardScaler(with_mean=False)\n",
    "X_train_bow = scaler.fit_transform(X_train_bow)\n",
    "X_test_bow=scaler.fit_transform(X_test_bow)\n",
    "\n",
    "\n",
    "\n",
    "print(X_train_bow.shape, Y_train.shape)\n",
    "\n",
    "print(X_test_bow.shape, Y_test.shape)\n",
    "print(\"=\"*100)\n",
    "\n",
    "\n",
    "from sklearn.linear_model import LogisticRegression\n",
    "from sklearn.metrics import roc_auc_score\n",
    "import matplotlib.pyplot as plt\n",
    "\n",
    "C=[0.0001,0.001,0.01,0.1,1,10,100,1000]\n",
    "logi=LogisticRegression(penalty='l1')\n",
    "parameters={'C':[0.0001,0.001,0.01,0.1,1,10,100,1000]}\n",
    "\n",
    "clf = GridSearchCV(logi, parameters, cv=3, scoring='roc_auc')\n",
    "clf.fit(X_train_bow, Y_train)\n",
    "\n",
    "print(\"best c\",clf.best_estimator_)\n",
    "train_auc= clf.cv_results_['mean_train_score']\n",
    "train_auc_std= clf.cv_results_['std_train_score']\n",
    "cv_auc = clf.cv_results_['mean_test_score'] \n",
    "cv_auc_std= clf.cv_results_['std_test_score']\n",
    "print(max(cv_auc))\n",
    "plt.plot(np.log(C), train_auc, label='Train AUC')\n",
    "# this code is copied from here: https://stackoverflow.com/a/48803361/4084039\n",
    "plt.gca().fill_between(np.log(C),train_auc - train_auc_std,train_auc + train_auc_std,alpha=0.2,color='darkblue')\n",
    "\n",
    "plt.plot(np.log(C), cv_auc, label='CV AUC')\n",
    "# this code is copied from here: https://stackoverflow.com/a/48803361/4084039\n",
    "plt.gca().fill_between(np.log(C),cv_auc - cv_auc_std,cv_auc + cv_auc_std,alpha=0.2,color='darkorange')\n",
    "plt.legend()\n",
    "plt.xlabel(\"log og C: hyperparameter\")\n",
    "plt.ylabel(\"AUC\")\n",
    "plt.title(\"BOW WITH L1 REGULARIZER\")\n",
    "plt.show()"
   ]
  },
  {
   "cell_type": "code",
   "execution_count": 34,
   "metadata": {
    "colab": {
     "base_uri": "https://localhost:8080/",
     "height": 294
    },
    "colab_type": "code",
    "executionInfo": {
     "elapsed": 3004,
     "status": "ok",
     "timestamp": 1552633816012,
     "user": {
      "displayName": "saikiran yernena",
      "photoUrl": "",
      "userId": "15171324143564695981"
     },
     "user_tz": -330
    },
    "id": "OSCAUwn6H8Pv",
    "outputId": "703f5972-d340-480d-c77b-6745305c18a5"
   },
   "outputs": [
    {
     "data": {
      "image/png": "[encoded data removed]",
      "text/plain": [
       "<Figure size 432x288 with 1 Axes>"
      ]
     },
     "metadata": {
      "tags": []
     },
     "output_type": "display_data"
    }
   ],
   "source": [
    "optimal_C=0.01\n",
    "optimalLG=LogisticRegression(C=optimal_C,penalty='l1')\n",
    "optimalLG.fit(X_train_bow,Y_train)\n",
    "Y_test_predict=optimalLG.predict_log_proba(X_test_bow)[:,1]\n",
    "fpr_test,tpr_test,thresholds=metrics.roc_curve(Y_test,Y_test_predict)\n",
    "test_auc=metrics.auc(fpr_test,tpr_test)\n",
    "Y_train_predict=optimalLG.predict_log_proba(X_train_bow)[:,1]\n",
    "fpr_train,tpr_train,thresholds=metrics.roc_curve(Y_train,Y_train_predict)\n",
    "train_auc=metrics.auc(fpr_train,tpr_train)\n",
    "plt.plot(fpr_test,tpr_test,label=\"Test auc is %0.2f\"%(test_auc))\n",
    "plt.plot(fpr_train,tpr_train,label=\"Train auc is %0.2f\"%(train_auc))\n",
    "plt.xlabel('true positive rate')\n",
    "plt.ylabel('false positive rate')\n",
    "plt.title('BOW with optimal C = %f' %optimal_C)\n",
    "plt.legend()\n",
    "plt.show()"
   ]
  },
  {
   "cell_type": "code",
   "execution_count": 35,
   "metadata": {
    "colab": {
     "base_uri": "https://localhost:8080/",
     "height": 298
    },
    "colab_type": "code",
    "executionInfo": {
     "elapsed": 2372,
     "status": "ok",
     "timestamp": 1552633842430,
     "user": {
      "displayName": "saikiran yernena",
      "photoUrl": "",
      "userId": "15171324143564695981"
     },
     "user_tz": -330
    },
    "id": "UaJtNWBxH8QA",
    "outputId": "99569981-0566-46f5-dbea-448f05d70b61"
   },
   "outputs": [
    {
     "data": {
      "text/plain": [
       "Text(0.5, 1.0, 'Confusion marix for train_data BOW for optimal C = 0.010000')"
      ]
     },
     "execution_count": 35,
     "metadata": {
      "tags": []
     },
     "output_type": "execute_result"
    },
    {
     "data": {
      "image/png": "[encoded data removed]",
      "text/plain": [
       "<Figure size 432x288 with 2 Axes>"
      ]
     },
     "metadata": {
      "tags": []
     },
     "output_type": "display_data"
    }
   ],
   "source": [
    "import seaborn as sns\n",
    "from sklearn.metrics import confusion_matrix\n",
    "\n",
    "ax = sns.heatmap(confusion_matrix(Y_train,optimalLG.predict(X_train_bow)).T,yticklabels=[\"Predicted 0\",\"Predicted 1\"],\\\n",
    "                 xticklabels=[\"Actual 0\",\"Actual 1\"],annot = True,fmt='d')\n",
    "ax.set_title('Confusion marix for train_data BOW for optimal C = %f' %optimal_C)"
   ]
  },
  {
   "cell_type": "code",
   "execution_count": 36,
   "metadata": {
    "colab": {
     "base_uri": "https://localhost:8080/",
     "height": 298
    },
    "colab_type": "code",
    "executionInfo": {
     "elapsed": 1491,
     "status": "ok",
     "timestamp": 1552633868863,
     "user": {
      "displayName": "saikiran yernena",
      "photoUrl": "",
      "userId": "15171324143564695981"
     },
     "user_tz": -330
    },
    "id": "k7vNPiQDH8QP",
    "outputId": "fb1b3fe8-ce84-4030-b8df-7c5e1364fbc4"
   },
   "outputs": [
    {
     "data": {
      "text/plain": [
       "Text(0.5, 1.0, 'Confusion marix for test_data BOW for optimal C = 0.010000')"
      ]
     },
     "execution_count": 36,
     "metadata": {
      "tags": []
     },
     "output_type": "execute_result"
    },
    {
     "data": {
      "image/png": "[encoded data removed]",
      "text/plain": [
       "<Figure size 432x288 with 2 Axes>"
      ]
     },
     "metadata": {
      "tags": []
     },
     "output_type": "display_data"
    }
   ],
   "source": [
    "ax = sns.heatmap(confusion_matrix(Y_test,optimalLG.predict(X_test_bow)).T,yticklabels=[\"Predicted 0\",\"Predicted 1\"],\\\n",
    "                 xticklabels=[\"Actual 0\",\"Actual 1\"],annot = True,fmt='d')\n",
    "ax.set_title('Confusion marix for test_data BOW for optimal C = %f' %optimal_C)"
   ]
  },
  {
   "cell_type": "markdown",
   "metadata": {
    "colab_type": "text",
    "id": "5h4NhywcLPo7"
   },
   "source": [
    "#### [5.1.1.1] Calculating sparsity on weight vector obtained using L1 regularization on BOW,<font color='red'> SET 1</font>"
   ]
  },
  {
   "cell_type": "code",
   "execution_count": 37,
   "metadata": {
    "colab": {
     "base_uri": "https://localhost:8080/",
     "height": 72
    },
    "colab_type": "code",
    "executionInfo": {
     "elapsed": 1420,
     "status": "ok",
     "timestamp": 1552633892725,
     "user": {
      "displayName": "saikiran yernena",
      "photoUrl": "",
      "userId": "15171324143564695981"
     },
     "user_tz": -330
    },
    "id": "-mmdLzUALPo-",
    "outputId": "c2adbcec-f8a9-4aa2-f257-96a41329aacd"
   },
   "outputs": [
    {
     "name": "stdout",
     "output_type": "stream",
     "text": [
      "45226\n",
      "4168\n",
      "sparsity of weight vector obtained using L1 regularization on BOW 0.9078406226506877\n"
     ]
    }
   ],
   "source": [
    "# Please write all the code with proper documentation\n",
    "w=optimalLG.coef_\n",
    "total_size=w.size\n",
    "no_of_nonzeros=np.count_nonzero(w)\n",
    "print(total_size)\n",
    "print(no_of_nonzeros)\n",
    "sparsity=(total_size-no_of_nonzeros)/total_size\n",
    "print(\"sparsity of weight vector obtained using L1 regularization on BOW\",sparsity)"
   ]
  },
  {
   "cell_type": "markdown",
   "metadata": {
    "colab_type": "text",
    "id": "aRHMa52qLPpA"
   },
   "source": [
    "### [5.1.2] Applying Logistic Regression with L2 regularization on BOW,<font color='red'> SET 1</font>"
   ]
  },
  {
   "cell_type": "code",
   "execution_count": 39,
   "metadata": {
    "colab": {
     "base_uri": "https://localhost:8080/",
     "height": 567
    },
    "colab_type": "code",
    "executionInfo": {
     "elapsed": 346160,
     "status": "ok",
     "timestamp": 1552634437819,
     "user": {
      "displayName": "saikiran yernena",
      "photoUrl": "",
      "userId": "15171324143564695981"
     },
     "user_tz": -330
    },
    "id": "GBbb9lxlLPpB",
    "outputId": "c48b2ccf-25ac-4f6f-c306-967100df50e7"
   },
   "outputs": [
    {
     "name": "stdout",
     "output_type": "stream",
     "text": [
      "(87773,)\n",
      "(87773,)\n",
      "(58807,) (58807,)\n",
      "(28966,) (28966,)\n",
      "====================================================================================================\n",
      "[0 1] [ 9508 49299]\n",
      "[0 1] [ 4673 24293]\n",
      "(58807, 45487) (58807,)\n",
      "(28966, 45487) (28966,)\n",
      "====================================================================================================\n",
      "best c LogisticRegression(C=0.001, class_weight=None, dual=False, fit_intercept=True,\n",
      "          intercept_scaling=1, max_iter=100, multi_class='warn',\n",
      "          n_jobs=None, penalty='l2', random_state=None, solver='warn',\n",
      "          tol=0.0001, verbose=0, warm_start=False)\n",
      "0.9094868144616193\n"
     ]
    },
    {
     "data": {
      "image/png": "[encoded data removed]",
      "text/plain": [
       "<Figure size 432x288 with 1 Axes>"
      ]
     },
     "metadata": {
      "tags": []
     },
     "output_type": "display_data"
    }
   ],
   "source": [
    "# Please write all the code with proper documentation\n",
    "X=np.asarray(preprocessed_reviews)\n",
    "Y=np.asarray(final['Score'])\n",
    "print(X.shape)\n",
    "print(Y.shape)\n",
    "\n",
    "X_train,X_test,Y_train,Y_test=train_test_split(X,Y,test_size=0.33)\n",
    "\n",
    "\n",
    "\n",
    "print(X_train.shape,Y_train.shape)\n",
    "print(X_test.shape,Y_test.shape)\n",
    "print(\"=\"*100)\n",
    "unique1, counts1 = np.unique(Y_train, return_counts=True)\n",
    "print(unique1,counts1)\n",
    "\n",
    "unique3, counts3 = np.unique(Y_test, return_counts=True)\n",
    "print(unique3,counts3)\n",
    "\n",
    "from sklearn.feature_extraction.text import CountVectorizer\n",
    "Vectorizer=CountVectorizer(dtype=float)\n",
    "Vectorizer.fit(X_train)\n",
    "\n",
    "X_train_bow=Vectorizer.transform(X_train)\n",
    "X_test_bow=Vectorizer.transform(X_test)\n",
    "\n",
    "scaler = StandardScaler(with_mean=False)\n",
    "X_train_bow = scaler.fit_transform(X_train_bow)\n",
    "X_test_bow=scaler.fit_transform(X_test_bow)\n",
    "\n",
    "print(X_train_bow.shape, Y_train.shape)\n",
    "\n",
    "print(X_test_bow.shape, Y_test.shape)\n",
    "print(\"=\"*100)\n",
    "\n",
    "\n",
    "from sklearn.linear_model import LogisticRegression\n",
    "from sklearn.metrics import roc_auc_score\n",
    "import matplotlib.pyplot as plt\n",
    "\n",
    "C=[0.0001,0.001,0.01,0.1,1,10,100,1000]\n",
    "logi=LogisticRegression(penalty='l2')\n",
    "parameters={'C':[0.0001,0.001,0.01,0.1,1,10,100,1000]}\n",
    "\n",
    "clf = GridSearchCV(logi, parameters, cv=3, scoring='roc_auc')\n",
    "clf.fit(X_train_bow, Y_train)\n",
    "\n",
    "print(\"best c\",clf.best_estimator_)\n",
    "train_auc= clf.cv_results_['mean_train_score']\n",
    "train_auc_std= clf.cv_results_['std_train_score']\n",
    "cv_auc = clf.cv_results_['mean_test_score'] \n",
    "cv_auc_std= clf.cv_results_['std_test_score']\n",
    "print(max(cv_auc))\n",
    "plt.plot(np.log(C), train_auc, label='Train AUC')\n",
    "# this code is copied from here: https://stackoverflow.com/a/48803361/4084039\n",
    "plt.gca().fill_between(np.log(C),train_auc - train_auc_std,train_auc + train_auc_std,alpha=0.2,color='darkblue')\n",
    "\n",
    "plt.plot(np.log(C), cv_auc, label='CV AUC')\n",
    "# this code is copied from here: https://stackoverflow.com/a/48803361/4084039\n",
    "plt.gca().fill_between(np.log(C),cv_auc - cv_auc_std,cv_auc + cv_auc_std,alpha=0.2,color='darkorange')\n",
    "plt.legend()\n",
    "plt.xlabel(\"log of C: hyperparameter\")\n",
    "plt.ylabel(\"AUC\")\n",
    "plt.title(\"BOW with L2 regularizer\")\n",
    "plt.show()\n"
   ]
  },
  {
   "cell_type": "code",
   "execution_count": 40,
   "metadata": {
    "colab": {
     "base_uri": "https://localhost:8080/",
     "height": 294
    },
    "colab_type": "code",
    "executionInfo": {
     "elapsed": 8910,
     "status": "ok",
     "timestamp": 1552634508607,
     "user": {
      "displayName": "saikiran yernena",
      "photoUrl": "",
      "userId": "15171324143564695981"
     },
     "user_tz": -330
    },
    "id": "9A-_DWH5H8SS",
    "outputId": "9584cb45-238c-4994-96a1-a3ea20c43854"
   },
   "outputs": [
    {
     "data": {
      "image/png": "[encoded data removed]",
      "text/plain": [
       "<Figure size 432x288 with 1 Axes>"
      ]
     },
     "metadata": {
      "tags": []
     },
     "output_type": "display_data"
    }
   ],
   "source": [
    "optimal_C=0.001\n",
    "optimalLG=LogisticRegression(C=optimal_C,penalty='l2')\n",
    "optimalLG.fit(X_train_bow,Y_train)\n",
    "Y_test_predict=optimalLG.predict_log_proba(X_test_bow)[:,1]\n",
    "fpr_test,tpr_test,thresholds=metrics.roc_curve(Y_test,Y_test_predict)\n",
    "test_auc=metrics.auc(fpr_test,tpr_test)\n",
    "Y_train_predict=optimalLG.predict_log_proba(X_train_bow)[:,1]\n",
    "fpr_train,tpr_train,thresholds=metrics.roc_curve(Y_train,Y_train_predict)\n",
    "train_auc=metrics.auc(fpr_train,tpr_train)\n",
    "plt.plot(fpr_test,tpr_test,label=\"Test auc is %0.2f\"%(test_auc))\n",
    "plt.plot(fpr_train,tpr_train,label=\"Train auc is %0.2f\"%(train_auc))\n",
    "plt.xlabel('true positive rate')\n",
    "plt.ylabel('false positive rate')\n",
    "plt.title('BOW with optimal C = %f' %optimal_C)\n",
    "plt.legend()\n",
    "plt.show()"
   ]
  },
  {
   "cell_type": "code",
   "execution_count": 41,
   "metadata": {
    "colab": {
     "base_uri": "https://localhost:8080/",
     "height": 298
    },
    "colab_type": "code",
    "executionInfo": {
     "elapsed": 1719,
     "status": "ok",
     "timestamp": 1552634532510,
     "user": {
      "displayName": "saikiran yernena",
      "photoUrl": "",
      "userId": "15171324143564695981"
     },
     "user_tz": -330
    },
    "id": "O4XEEfLZH8Sn",
    "outputId": "6aaeb04d-7a9c-40ee-d9ad-7284e03ab28b"
   },
   "outputs": [
    {
     "data": {
      "text/plain": [
       "Text(0.5, 1.0, 'Confusion marix for train_data BOW for optimal C = 0.001000')"
      ]
     },
     "execution_count": 41,
     "metadata": {
      "tags": []
     },
     "output_type": "execute_result"
    },
    {
     "data": {
      "image/png": "[encoded data removed]",
      "text/plain": [
       "<Figure size 432x288 with 2 Axes>"
      ]
     },
     "metadata": {
      "tags": []
     },
     "output_type": "display_data"
    }
   ],
   "source": [
    "ax = sns.heatmap(confusion_matrix(Y_train,optimalLG.predict(X_train_bow)).T,yticklabels=[\"Predicted 0\",\"Predicted 1\"],\\\n",
    "                 xticklabels=[\"Actual 0\",\"Actual 1\"],annot = True,fmt='d')\n",
    "ax.set_title('Confusion marix for train_data BOW for optimal C = %f' %optimal_C)"
   ]
  },
  {
   "cell_type": "code",
   "execution_count": 42,
   "metadata": {
    "colab": {
     "base_uri": "https://localhost:8080/",
     "height": 298
    },
    "colab_type": "code",
    "executionInfo": {
     "elapsed": 2287,
     "status": "ok",
     "timestamp": 1552634542415,
     "user": {
      "displayName": "saikiran yernena",
      "photoUrl": "",
      "userId": "15171324143564695981"
     },
     "user_tz": -330
    },
    "id": "RPziKEhOH8S_",
    "outputId": "c00d0f37-7b2b-4d21-aa54-8765d54c9860"
   },
   "outputs": [
    {
     "data": {
      "text/plain": [
       "Text(0.5, 1.0, 'Confusion marix for train_data BOW for optimal C = 0.001000')"
      ]
     },
     "execution_count": 42,
     "metadata": {
      "tags": []
     },
     "output_type": "execute_result"
    },
    {
     "data": {
      "image/png": "[encoded data removed]",
      "text/plain": [
       "<Figure size 432x288 with 2 Axes>"
      ]
     },
     "metadata": {
      "tags": []
     },
     "output_type": "display_data"
    }
   ],
   "source": [
    "ax = sns.heatmap(confusion_matrix(Y_test,optimalLG.predict(X_test_bow)).T,yticklabels=[\"Predicted 0\",\"Predicted 1\"],\\\n",
    "                 xticklabels=[\"Actual 0\",\"Actual 1\"],annot = True,fmt='d')\n",
    "ax.set_title('Confusion marix for train_data BOW for optimal C = %f' %optimal_C)"
   ]
  },
  {
   "cell_type": "markdown",
   "metadata": {
    "colab_type": "text",
    "id": "UaJkugTKLPpE"
   },
   "source": [
    "#### [5.1.2.1] Performing pertubation test (multicollinearity check) on BOW,<font color='red'> SET 1</font>"
   ]
  },
  {
   "cell_type": "code",
   "execution_count": 43,
   "metadata": {
    "colab": {
     "base_uri": "https://localhost:8080/",
     "height": 454
    },
    "colab_type": "code",
    "executionInfo": {
     "elapsed": 37678,
     "status": "ok",
     "timestamp": 1552634606430,
     "user": {
      "displayName": "saikiran yernena",
      "photoUrl": "",
      "userId": "15171324143564695981"
     },
     "user_tz": -330
    },
    "id": "E1c5B1nELPpF",
    "outputId": "6abb6c46-7e30-453d-f4b4-c71d37d2e259"
   },
   "outputs": [
    {
     "name": "stdout",
     "output_type": "stream",
     "text": [
      "(58807, 45487)\n",
      "(1, 45487)\n",
      "(58807, 45487)\n",
      "45487\n",
      "0 th percentile is  0.00028203758210232783\n",
      "10 th percentile is  4.354702302782978\n",
      "20 th percentile is  43.2318069227501\n",
      "30 th percentile is  91.68366583743507\n",
      "40 th percentile is  96.55388338674436\n",
      "50 th percentile is  98.21186783897376\n",
      "60 th percentile is  99.13945019816492\n",
      "70 th percentile is  100.1617906186574\n",
      "80 th percentile is  102.08125668517431\n",
      "90 th percentile is  105.86397689714352\n",
      "91 th percentile is  106.63752267791037\n",
      "92 th percentile is  107.64322803887505\n",
      "93 th percentile is  108.97058825142237\n",
      "94 th percentile is  110.63676040203234\n",
      "95 th percentile is  113.40303257622256\n",
      "96 th percentile is  118.28834744099535\n",
      "97 th percentile is  139.24357843714924\n",
      "98 th percentile is  227.716336817617\n",
      "99 th percentile is  605.7645727559427\n",
      "100 th percentile is  610215.1270884363\n"
     ]
    }
   ],
   "source": [
    "from sklearn.linear_model import LogisticRegression\n",
    "import copy\n",
    "print(X_train_bow.shape)\n",
    "optimal_C=0.1\n",
    "optimalLG=LogisticRegression(C=optimal_C,penalty='l2')\n",
    "optimalLG.fit(X_train_bow,Y_train)\n",
    "w=optimalLG.coef_\n",
    "print(w.shape)#weigh vector before adding the noise\n",
    "X_train_bowcopy=copy.deepcopy(X_train_bow)\n",
    "e=0.000006\n",
    "X_train_bowcopy.data=X_train_bowcopy.data+e\n",
    "print(X_train_bowcopy.shape)\n",
    "#now we need to train our logistic regression with new train_data which contains small noise\n",
    "optimal_C=0.1\n",
    "optimalLGNEW=LogisticRegression(C=optimal_C,penalty='l2')\n",
    "optimalLGNEW.fit(X_train_bowcopy,Y_train)\n",
    "new_w=optimalLGNEW.coef_\n",
    "w=w+0.000006\n",
    "w=w.T\n",
    "new_w=new_w.T\n",
    "print(len(w))\n",
    "percentage_change = []\n",
    "i=0\n",
    "while i< len(w):\n",
    "    percentage_change.append(abs(w[i]-new_w[i]/w[i])*100)\n",
    "    i+=1\n",
    "p=[0,10,20,30,40,50,60,70,80,90,91,92,93,94,95,96,97,98,99,100]\n",
    "for i in p:\n",
    "    print(i,\"th percentile is \" ,np.percentile(percentage_change,i))"
   ]
  },
  {
   "cell_type": "code",
   "execution_count": 44,
   "metadata": {
    "colab": {
     "base_uri": "https://localhost:8080/",
     "height": 199
    },
    "colab_type": "code",
    "executionInfo": {
     "elapsed": 1341,
     "status": "ok",
     "timestamp": 1552634637117,
     "user": {
      "displayName": "saikiran yernena",
      "photoUrl": "",
      "userId": "15171324143564695981"
     },
     "user_tz": -330
    },
    "id": "tgm5bvv2H8T6",
    "outputId": "e054a62d-ef63-4272-ac7c-f9a78d25bff3"
   },
   "outputs": [
    {
     "name": "stdout",
     "output_type": "stream",
     "text": [
      "99.1 th percentile is  706.3133248841557\n",
      "99.2 th percentile is  907.8709766036769\n",
      "99.3 th percentile is  1107.6162763551617\n",
      "99.4 th percentile is  1452.0367596826832\n",
      "99.5 th percentile is  1759.3387256939689\n",
      "99.6 th percentile is  2798.546838275568\n",
      "99.7 th percentile is  6803.813000577498\n",
      "99.8 th percentile is  15113.174628905497\n",
      "99.9 th percentile is  44893.684138414515\n",
      "100 th percentile is  610215.1270884363\n"
     ]
    }
   ],
   "source": [
    "a=[99.1,99.2,99.3,99.4,99.5,99.6,99.7,99.8,99.9,100]\n",
    "for i in a:\n",
    "    print(i,\"th percentile is \" ,np.percentile(percentage_change,i))"
   ]
  },
  {
   "cell_type": "code",
   "execution_count": 45,
   "metadata": {
    "colab": {
     "base_uri": "https://localhost:8080/",
     "height": 948
    },
    "colab_type": "code",
    "executionInfo": {
     "elapsed": 1584,
     "status": "ok",
     "timestamp": 1552634679530,
     "user": {
      "displayName": "saikiran yernena",
      "photoUrl": "",
      "userId": "15171324143564695981"
     },
     "user_tz": -330
    },
    "id": "L-TaVMACH8U9",
    "outputId": "77eb78d4-76e5-4686-a725-9f9331b0e20c"
   },
   "outputs": [
    {
     "name": "stdout",
     "output_type": "stream",
     "text": [
      "[283, 2353, 3542, 3733, 3735, 4939, 5546, 8117, 8549, 10740, 12940, 14414, 14550, 15658, 15840, 16182, 16232, 18068, 20114, 20470, 21117, 21314, 21620, 21623, 22619, 23096, 24445, 24567, 27474, 27475, 27830, 29142, 29461, 30222, 30223, 30233, 30369, 30420, 30680, 31192, 31382, 31739, 37236, 38082, 38600, 38681, 41618, 44134, 45014]\n",
      "acides\n",
      "assuredly\n",
      "benefitsfos\n",
      "bifidobacteria\n",
      "bifidus\n",
      "browsers\n",
      "calorific\n",
      "complexes\n",
      "contagious\n",
      "detective\n",
      "encyclopediaoligofructose\n",
      "feedinglbs\n",
      "fibersure\n",
      "freindly\n",
      "fructooligosaccharide\n",
      "garllic\n",
      "gastronomical\n",
      "harshest\n",
      "inkjet\n",
      "inulins\n",
      "jimbo\n",
      "jumbl\n",
      "kgascorbic\n",
      "kghydrochloridetotal\n",
      "licheniformis\n",
      "longaberger\n",
      "melanine\n",
      "merged\n",
      "oligofructosefrom\n",
      "oligofrutose\n",
      "organizational\n",
      "peoplewith\n",
      "petro\n",
      "polymerization\n",
      "polymers\n",
      "polysaccharide\n",
      "populate\n",
      "portionslooking\n",
      "prebiotic\n",
      "profileseagle\n",
      "prototypes\n",
      "putrefactive\n",
      "sourcesfos\n",
      "steggall\n",
      "subgroup\n",
      "substrate\n",
      "trod\n",
      "wetted\n",
      "xylitolnow\n"
     ]
    }
   ],
   "source": [
    "#sudden change percentiles is observed at 99.9\n",
    "#so threshold value is 44893.68\n",
    "i=0\n",
    "collinear_index =[]\n",
    "while i<len(percentage_change):\n",
    "    if percentage_change[i]>44893.68:\n",
    "        collinear_index.append(i)\n",
    "    i+=1\n",
    "print(collinear_index)\n",
    "features=Vectorizer.get_feature_names()\n",
    "for i in collinear_index:\n",
    "    print(features[i])"
   ]
  },
  {
   "cell_type": "markdown",
   "metadata": {
    "colab_type": "text",
    "id": "eB1rF0BQLPpG"
   },
   "source": [
    "### [5.1.3] Feature Importance on BOW,<font color='red'> SET 1</font>"
   ]
  },
  {
   "cell_type": "markdown",
   "metadata": {
    "colab_type": "text",
    "id": "JZTP19dqLPpI"
   },
   "source": [
    "#### [5.1.3.1] Top 20 important features of positive class from<font color='red'> SET 1</font>"
   ]
  },
  {
   "cell_type": "code",
   "execution_count": 46,
   "metadata": {
    "colab": {
     "base_uri": "https://localhost:8080/",
     "height": 163
    },
    "colab_type": "code",
    "executionInfo": {
     "elapsed": 1452,
     "status": "ok",
     "timestamp": 1552634723152,
     "user": {
      "displayName": "saikiran yernena",
      "photoUrl": "",
      "userId": "15171324143564695981"
     },
     "user_tz": -330
    },
    "id": "oGRpCVJgLPpI",
    "outputId": "57ec0a41-d349-43bf-9230-81b982f54fc0"
   },
   "outputs": [
    {
     "name": "stdout",
     "output_type": "stream",
     "text": [
      "[ 3.59863353e-02  2.37508820e-02  9.74917341e-04 ... -3.54484447e-02\n",
      "  3.58452202e-07  8.63883718e-03]\n",
      "[17261  3626 16890 29228 10377 23242 26493 44674 13662 45305 23258 14342\n",
      " 30012 12416 33762  8096 18614 36704 22714]\n",
      "Top 20 important features of positve class are\n",
      "['great' 'best' 'good' 'perfect' 'delicious' 'love' 'nice' 'wonderful'\n",
      " 'excellent' 'yummy' 'loves' 'favorite' 'pleased' 'easy' 'right'\n",
      " 'complaint' 'highly' 'smooth' 'like']\n"
     ]
    }
   ],
   "source": [
    "# Please write all the code with proper documentation\n",
    "feature_names=Vectorizer.get_feature_names()\n",
    "top_pos=optimalLG.coef_[0].argsort()\n",
    "top_weights=optimalLG.coef_[0]\n",
    "print(top_weights)\n",
    "print(top_pos[:-20:-1])\n",
    "print(\"Top 20 important features of positve class are\")\n",
    "print(np.take(feature_names,top_pos[:-20:-1]))"
   ]
  },
  {
   "cell_type": "markdown",
   "metadata": {
    "colab_type": "text",
    "id": "UJLYBE1gLPpJ"
   },
   "source": [
    "#### [5.1.3.2] Top 20 important features of negative class from<font color='red'> SET 1</font>"
   ]
  },
  {
   "cell_type": "code",
   "execution_count": 47,
   "metadata": {
    "colab": {
     "base_uri": "https://localhost:8080/",
     "height": 126
    },
    "colab_type": "code",
    "executionInfo": {
     "elapsed": 1174,
     "status": "ok",
     "timestamp": 1552634743495,
     "user": {
      "displayName": "saikiran yernena",
      "photoUrl": "",
      "userId": "15171324143564695981"
     },
     "user_tz": -330
    },
    "id": "c9r7Zjx1LPpK",
    "outputId": "6136f6bf-b60a-4df9-a115-a1d5b83cf7ac"
   },
   "outputs": [
    {
     "name": "stdout",
     "output_type": "stream",
     "text": [
      "[44793 42498 18963  5666 39716 40083  2672 44812 42332 30306 27454  6875\n",
      " 38151 11223 40567 40605 23615 43840 41433]\n",
      "Top 20 important features of negative class are\n",
      "['worst' 'unpleasant' 'horrible' 'canidae' 'taste' 'terrible' 'awful'\n",
      " 'would' 'unfortunately' 'poor' 'old' 'china' 'stick' 'disappointed'\n",
      " 'thought' 'threw' 'mail' 'waste' 'trash']\n"
     ]
    }
   ],
   "source": [
    "# Please write all the code with proper documentation\n",
    "feature_names=Vectorizer.get_feature_names()\n",
    "top_=optimalLG.coef_[0].argsort()\n",
    "top_weights=optimalLG.coef_[0]\n",
    "print(top_pos[1:20:1])\n",
    "print(\"Top 20 important features of negative class are\")\n",
    "print(np.take(feature_names,top_pos[1:20:1]))"
   ]
  },
  {
   "cell_type": "markdown",
   "metadata": {
    "colab_type": "text",
    "id": "nKn3VXcZLPpN"
   },
   "source": [
    "## [5.2] Logistic Regression on TFIDF,<font color='red'> SET 2</font>"
   ]
  },
  {
   "cell_type": "markdown",
   "metadata": {
    "colab_type": "text",
    "id": "naTBSzm6LPpN"
   },
   "source": [
    "### [5.2.1] Applying Logistic Regression with L1 regularization on TFIDF,<font color='red'> SET 2</font>"
   ]
  },
  {
   "cell_type": "code",
   "execution_count": 48,
   "metadata": {
    "colab": {
     "base_uri": "https://localhost:8080/",
     "height": 476
    },
    "colab_type": "code",
    "executionInfo": {
     "elapsed": 162856,
     "status": "ok",
     "timestamp": 1552635013330,
     "user": {
      "displayName": "saikiran yernena",
      "photoUrl": "",
      "userId": "15171324143564695981"
     },
     "user_tz": -330
    },
    "id": "PEhaagXXLPpS",
    "outputId": "72a7efb7-c546-425c-e210-f98b614bd4f0"
   },
   "outputs": [
    {
     "name": "stdout",
     "output_type": "stream",
     "text": [
      "(87773,)\n",
      "(87773,)\n",
      "(58807, 45487) (58807,)\n",
      "(28966, 45487) (28966,)\n",
      "====================================================================================================\n",
      "best c LogisticRegression(C=0.01, class_weight=None, dual=False, fit_intercept=True,\n",
      "          intercept_scaling=1, max_iter=100, multi_class='warn',\n",
      "          n_jobs=None, penalty='l1', random_state=None, solver='warn',\n",
      "          tol=0.0001, verbose=0, warm_start=False)\n",
      "0.9326929283903496\n"
     ]
    },
    {
     "data": {
      "image/png": "[encoded data removed]",
      "text/plain": [
       "<Figure size 432x288 with 1 Axes>"
      ]
     },
     "metadata": {
      "tags": []
     },
     "output_type": "display_data"
    }
   ],
   "source": [
    "# Please write all the code with proper documentation\n",
    "X=np.asarray(preprocessed_reviews)\n",
    "Y=np.asarray(final['Score'])\n",
    "print(X.shape)\n",
    "print(Y.shape)\n",
    "\n",
    "from sklearn.feature_extraction.text import TfidfVectorizer\n",
    "tfidf_vect = TfidfVectorizer(ngram_range=(1,2))\n",
    "tfidf_vect.fit(X_train)\n",
    "\n",
    "X_train_tfidf=tfidf_vect.transform(X_train)\n",
    "X_test_tfidf=tfidf_vect.transform(X_test)\n",
    "\n",
    "scaler = StandardScaler(with_mean=False)\n",
    "X_train_tfidf = scaler.fit_transform(X_train_bow)\n",
    "X_test_tfidf=scaler.fit_transform(X_test_bow)\n",
    "\n",
    "\n",
    "print(X_train_tfidf.shape, Y_train.shape)\n",
    "print(X_test_tfidf.shape, Y_test.shape)\n",
    "print(\"=\"*100)\n",
    "\n",
    "from sklearn.linear_model import LogisticRegression\n",
    "from sklearn.metrics import roc_auc_score\n",
    "import matplotlib.pyplot as plt\n",
    "\n",
    "C=[0.0001,0.001,0.01,0.1,1,10,100,1000]\n",
    "logi=LogisticRegression(penalty='l1')\n",
    "parameters={'C':[0.0001,0.001,0.01,0.1,1,10,100,1000]}\n",
    "\n",
    "clf = GridSearchCV(logi, parameters, cv=3, scoring='roc_auc')\n",
    "clf.fit(X_train_tfidf, Y_train)\n",
    "\n",
    "print(\"best c\",clf.best_estimator_)\n",
    "train_auc= clf.cv_results_['mean_train_score']\n",
    "train_auc_std= clf.cv_results_['std_train_score']\n",
    "cv_auc = clf.cv_results_['mean_test_score'] \n",
    "cv_auc_std= clf.cv_results_['std_test_score']\n",
    "print(max(cv_auc))\n",
    "plt.plot(np.log(C), train_auc, label='Train AUC')\n",
    "# this code is copied from here: https://stackoverflow.com/a/48803361/4084039\n",
    "plt.gca().fill_between(np.log(C),train_auc - train_auc_std,train_auc + train_auc_std,alpha=0.2,color='darkblue')\n",
    "\n",
    "plt.plot(np.log(C), cv_auc, label='CV AUC')\n",
    "# this code is copied from here: https://stackoverflow.com/a/48803361/4084039\n",
    "plt.gca().fill_between(np.log(C),cv_auc - cv_auc_std,cv_auc + cv_auc_std,alpha=0.2,color='darkorange')\n",
    "plt.legend()\n",
    "plt.xlabel(\"log og C: hyperparameter\")\n",
    "plt.ylabel(\"AUC\")\n",
    "plt.title(\"TFIDF\")\n",
    "plt.show()\n"
   ]
  },
  {
   "cell_type": "code",
   "execution_count": 49,
   "metadata": {
    "colab": {
     "base_uri": "https://localhost:8080/",
     "height": 294
    },
    "colab_type": "code",
    "executionInfo": {
     "elapsed": 2949,
     "status": "ok",
     "timestamp": 1552635062057,
     "user": {
      "displayName": "saikiran yernena",
      "photoUrl": "",
      "userId": "15171324143564695981"
     },
     "user_tz": -330
    },
    "id": "rel4uB4OH8Xl",
    "outputId": "14715264-9339-4777-badf-20ffaae0cf47"
   },
   "outputs": [
    {
     "data": {
      "image/png": "[encoded data removed]",
      "text/plain": [
       "<Figure size 432x288 with 1 Axes>"
      ]
     },
     "metadata": {
      "tags": []
     },
     "output_type": "display_data"
    }
   ],
   "source": [
    "optimal_C=0.01\n",
    "optimalLG=LogisticRegression(C=optimal_C,penalty='l1')\n",
    "optimalLG.fit(X_train_tfidf,Y_train)\n",
    "Y_test_predict=optimalLG.predict_log_proba(X_test_tfidf)[:,1]\n",
    "fpr_test,tpr_test,thresholds=metrics.roc_curve(Y_test,Y_test_predict)\n",
    "test_auc=metrics.auc(fpr_test,tpr_test)\n",
    "Y_train_predict=optimalLG.predict_log_proba(X_train_tfidf)[:,1]\n",
    "fpr_train,tpr_train,thresholds=metrics.roc_curve(Y_train,Y_train_predict)\n",
    "train_auc=metrics.auc(fpr_train,tpr_train)\n",
    "plt.plot(fpr_test,tpr_test,label=\"Test auc is %0.2f\"%(test_auc))\n",
    "plt.plot(fpr_train,tpr_train,label=\"Train auc is %0.2f\"%(train_auc))\n",
    "plt.xlabel('true positive rate')\n",
    "plt.ylabel('false positive rate')\n",
    "plt.title('BOW with optimal C = %f' %optimal_C)\n",
    "plt.legend()\n",
    "plt.show()"
   ]
  },
  {
   "cell_type": "code",
   "execution_count": 50,
   "metadata": {
    "colab": {
     "base_uri": "https://localhost:8080/",
     "height": 298
    },
    "colab_type": "code",
    "executionInfo": {
     "elapsed": 1919,
     "status": "ok",
     "timestamp": 1552635075597,
     "user": {
      "displayName": "saikiran yernena",
      "photoUrl": "",
      "userId": "15171324143564695981"
     },
     "user_tz": -330
    },
    "id": "qnU4IjUKH8YB",
    "outputId": "5a420af3-a601-4058-e231-07d67f381136"
   },
   "outputs": [
    {
     "data": {
      "text/plain": [
       "Text(0.5, 1.0, 'Confusion marix for train_data TFIDF for optimal C = 0.010000')"
      ]
     },
     "execution_count": 50,
     "metadata": {
      "tags": []
     },
     "output_type": "execute_result"
    },
    {
     "data": {
      "image/png": "[encoded data removed]",
      "text/plain": [
       "<Figure size 432x288 with 2 Axes>"
      ]
     },
     "metadata": {
      "tags": []
     },
     "output_type": "display_data"
    }
   ],
   "source": [
    "ax = sns.heatmap(confusion_matrix(Y_train,optimalLG.predict(X_train_tfidf)).T,yticklabels=[\"Predicted 0\",\"Predicted 1\"],\\\n",
    "                 xticklabels=[\"Actual 0\",\"Actual 1\"],annot = True,fmt='d')\n",
    "ax.set_title('Confusion marix for train_data TFIDF for optimal C = %f' %optimal_C)"
   ]
  },
  {
   "cell_type": "code",
   "execution_count": 51,
   "metadata": {
    "colab": {
     "base_uri": "https://localhost:8080/",
     "height": 298
    },
    "colab_type": "code",
    "executionInfo": {
     "elapsed": 1683,
     "status": "ok",
     "timestamp": 1552635084663,
     "user": {
      "displayName": "saikiran yernena",
      "photoUrl": "",
      "userId": "15171324143564695981"
     },
     "user_tz": -330
    },
    "id": "wM3suCMuH8Yh",
    "outputId": "3c8489f7-673d-4f11-936b-fbe742d5db01"
   },
   "outputs": [
    {
     "data": {
      "text/plain": [
       "Text(0.5, 1.0, 'Confusion marix for test_data BOW for optimal C = 0.010000')"
      ]
     },
     "execution_count": 51,
     "metadata": {
      "tags": []
     },
     "output_type": "execute_result"
    },
    {
     "data": {
      "image/png": "[encoded data removed]",
      "text/plain": [
       "<Figure size 432x288 with 2 Axes>"
      ]
     },
     "metadata": {
      "tags": []
     },
     "output_type": "display_data"
    }
   ],
   "source": [
    "ax = sns.heatmap(confusion_matrix(Y_test,optimalLG.predict(X_test_tfidf)).T,yticklabels=[\"Predicted 0\",\"Predicted 1\"],\\\n",
    "                 xticklabels=[\"Actual 0\",\"Actual 1\"],annot = True,fmt='d')\n",
    "ax.set_title('Confusion marix for test_data BOW for optimal C = %f' %optimal_C)"
   ]
  },
  {
   "cell_type": "markdown",
   "metadata": {
    "colab_type": "text",
    "id": "NdFShHQJLPpV"
   },
   "source": [
    "### [5.2.2] Applying Logistic Regression with L2 regularization on TFIDF,<font color='red'> SET 2</font>"
   ]
  },
  {
   "cell_type": "code",
   "execution_count": 52,
   "metadata": {
    "colab": {
     "base_uri": "https://localhost:8080/",
     "height": 385
    },
    "colab_type": "code",
    "executionInfo": {
     "elapsed": 320400,
     "status": "ok",
     "timestamp": 1552635448280,
     "user": {
      "displayName": "saikiran yernena",
      "photoUrl": "",
      "userId": "15171324143564695981"
     },
     "user_tz": -330
    },
    "id": "Jyhq3JDzLPpW",
    "outputId": "ae105426-255c-44ec-97c6-6ee28bf4f0f0"
   },
   "outputs": [
    {
     "name": "stdout",
     "output_type": "stream",
     "text": [
      "best c LogisticRegression(C=0.001, class_weight=None, dual=False, fit_intercept=True,\n",
      "          intercept_scaling=1, max_iter=100, multi_class='warn',\n",
      "          n_jobs=None, penalty='l2', random_state=None, solver='warn',\n",
      "          tol=0.0001, verbose=0, warm_start=False)\n",
      "0.9094868144616193\n"
     ]
    },
    {
     "data": {
      "image/png": "[encoded data removed]",
      "text/plain": [
       "<Figure size 432x288 with 1 Axes>"
      ]
     },
     "metadata": {
      "tags": []
     },
     "output_type": "display_data"
    }
   ],
   "source": [
    "# Please write all the code with proper documentation\n",
    "from sklearn.linear_model import LogisticRegression\n",
    "from sklearn.metrics import roc_auc_score\n",
    "import matplotlib.pyplot as plt\n",
    "\n",
    "C=[0.0001,0.001,0.01,0.1,1,10,100,1000]\n",
    "logi=LogisticRegression(penalty='l2')\n",
    "parameters={'C':[0.0001,0.001,0.01,0.1,1,10,100,1000]}\n",
    "\n",
    "clf = GridSearchCV(logi, parameters, cv=3, scoring='roc_auc')\n",
    "clf.fit(X_train_tfidf, Y_train)\n",
    "\n",
    "print(\"best c\",clf.best_estimator_)\n",
    "train_auc= clf.cv_results_['mean_train_score']\n",
    "train_auc_std= clf.cv_results_['std_train_score']\n",
    "cv_auc = clf.cv_results_['mean_test_score'] \n",
    "cv_auc_std= clf.cv_results_['std_test_score']\n",
    "print(max(cv_auc))\n",
    "plt.plot(np.log(C), train_auc, label='Train AUC')\n",
    "# this code is copied from here: https://stackoverflow.com/a/48803361/4084039\n",
    "plt.gca().fill_between(np.log(C),train_auc - train_auc_std,train_auc + train_auc_std,alpha=0.2,color='darkblue')\n",
    "\n",
    "plt.plot(np.log(C), cv_auc, label='CV AUC')\n",
    "# this code is copied from here: https://stackoverflow.com/a/48803361/4084039\n",
    "plt.gca().fill_between(np.log(C),cv_auc - cv_auc_std,cv_auc + cv_auc_std,alpha=0.2,color='darkorange')\n",
    "plt.legend()\n",
    "plt.xlabel(\"log og C: hyperparameter\")\n",
    "plt.ylabel(\"AUC\")\n",
    "plt.title(\"TFIDF\")\n",
    "plt.show()\n"
   ]
  },
  {
   "cell_type": "code",
   "execution_count": 53,
   "metadata": {
    "colab": {
     "base_uri": "https://localhost:8080/",
     "height": 294
    },
    "colab_type": "code",
    "executionInfo": {
     "elapsed": 8387,
     "status": "ok",
     "timestamp": 1552635506332,
     "user": {
      "displayName": "saikiran yernena",
      "photoUrl": "",
      "userId": "15171324143564695981"
     },
     "user_tz": -330
    },
    "id": "nz4SZPvLH8Za",
    "outputId": "76c3785a-a0a2-4282-d68e-7098500ff713"
   },
   "outputs": [
    {
     "data": {
      "image/png": "[encoded data removed]",
      "text/plain": [
       "<Figure size 432x288 with 1 Axes>"
      ]
     },
     "metadata": {
      "tags": []
     },
     "output_type": "display_data"
    }
   ],
   "source": [
    "optimal_C=0.001\n",
    "optimalLG=LogisticRegression(C=optimal_C,penalty='l2')\n",
    "optimalLG.fit(X_train_tfidf,Y_train)\n",
    "Y_test_predict=optimalLG.predict_log_proba(X_test_tfidf)[:,1]\n",
    "fpr_test,tpr_test,thresholds=metrics.roc_curve(Y_test,Y_test_predict)\n",
    "test_auc=metrics.auc(fpr_test,tpr_test)\n",
    "Y_train_predict=optimalLG.predict_log_proba(X_train_tfidf)[:,1]\n",
    "fpr_train,tpr_train,thresholds=metrics.roc_curve(Y_train,Y_train_predict)\n",
    "train_auc=metrics.auc(fpr_train,tpr_train)\n",
    "plt.plot(fpr_test,tpr_test,label=\"Test auc is %0.2f\"%(test_auc))\n",
    "plt.plot(fpr_train,tpr_train,label=\"Train auc is %0.2f\"%(train_auc))\n",
    "plt.xlabel('true positive rate')\n",
    "plt.ylabel('false positive rate')\n",
    "plt.title('BOW with optimal C = %f' %optimal_C)\n",
    "plt.legend()\n",
    "plt.show()"
   ]
  },
  {
   "cell_type": "code",
   "execution_count": 54,
   "metadata": {
    "colab": {
     "base_uri": "https://localhost:8080/",
     "height": 298
    },
    "colab_type": "code",
    "executionInfo": {
     "elapsed": 2418,
     "status": "ok",
     "timestamp": 1552635523203,
     "user": {
      "displayName": "saikiran yernena",
      "photoUrl": "",
      "userId": "15171324143564695981"
     },
     "user_tz": -330
    },
    "id": "_2EjAedGH8Zk",
    "outputId": "ba184221-ab15-4ac2-d9a7-f33eee10f2ea"
   },
   "outputs": [
    {
     "data": {
      "text/plain": [
       "Text(0.5, 1.0, 'Confusion marix for train_data TFIDF for optimal C = 0.001000')"
      ]
     },
     "execution_count": 54,
     "metadata": {
      "tags": []
     },
     "output_type": "execute_result"
    },
    {
     "data": {
      "image/png": "[encoded data removed]",
      "text/plain": [
       "<Figure size 432x288 with 2 Axes>"
      ]
     },
     "metadata": {
      "tags": []
     },
     "output_type": "display_data"
    }
   ],
   "source": [
    "ax = sns.heatmap(confusion_matrix(Y_train,optimalLG.predict(X_train_tfidf)).T,yticklabels=[\"Predicted 0\",\"Predicted 1\"],\\\n",
    "                 xticklabels=[\"Actual 0\",\"Actual 1\"],annot = True,fmt='d')\n",
    "ax.set_title('Confusion marix for train_data TFIDF for optimal C = %f' %optimal_C)"
   ]
  },
  {
   "cell_type": "code",
   "execution_count": 55,
   "metadata": {
    "colab": {
     "base_uri": "https://localhost:8080/",
     "height": 298
    },
    "colab_type": "code",
    "executionInfo": {
     "elapsed": 1641,
     "status": "ok",
     "timestamp": 1552635535032,
     "user": {
      "displayName": "saikiran yernena",
      "photoUrl": "",
      "userId": "15171324143564695981"
     },
     "user_tz": -330
    },
    "id": "WrANHMMRH8Z_",
    "outputId": "26bd8ef1-04d3-4746-fdd2-cd5887ba81b6"
   },
   "outputs": [
    {
     "data": {
      "text/plain": [
       "Text(0.5, 1.0, 'Confusion marix for test_data TFIDF for optimal C = 0.001000')"
      ]
     },
     "execution_count": 55,
     "metadata": {
      "tags": []
     },
     "output_type": "execute_result"
    },
    {
     "data": {
      "image/png": "[encoded data removed]",
      "text/plain": [
       "<Figure size 432x288 with 2 Axes>"
      ]
     },
     "metadata": {
      "tags": []
     },
     "output_type": "display_data"
    }
   ],
   "source": [
    "ax = sns.heatmap(confusion_matrix(Y_test,optimalLG.predict(X_test_tfidf)).T,yticklabels=[\"Predicted 0\",\"Predicted 1\"],\\\n",
    "                 xticklabels=[\"Actual 0\",\"Actual 1\"],annot = True,fmt='d')\n",
    "ax.set_title('Confusion marix for test_data TFIDF for optimal C = %f' %optimal_C)"
   ]
  },
  {
   "cell_type": "markdown",
   "metadata": {
    "colab_type": "text",
    "id": "xeeJ8eVvLPpX"
   },
   "source": [
    "### [5.2.3] Feature Importance on TFIDF,<font color='red'> SET 2</font>"
   ]
  },
  {
   "cell_type": "markdown",
   "metadata": {
    "colab_type": "text",
    "id": "Cj9XEmqQLPpY"
   },
   "source": [
    "#### [5.2.3.1] Top 10 important features of positive class from<font color='red'> SET 2</font>"
   ]
  },
  {
   "cell_type": "code",
   "execution_count": 56,
   "metadata": {
    "colab": {
     "base_uri": "https://localhost:8080/",
     "height": 163
    },
    "colab_type": "code",
    "executionInfo": {
     "elapsed": 1526,
     "status": "ok",
     "timestamp": 1552635595643,
     "user": {
      "displayName": "saikiran yernena",
      "photoUrl": "",
      "userId": "15171324143564695981"
     },
     "user_tz": -330
    },
    "id": "RG10txygLPpb",
    "outputId": "79f747e8-d812-4464-94af-ad4b7b5d7a74"
   },
   "outputs": [
    {
     "name": "stdout",
     "output_type": "stream",
     "text": [
      "[ 0.00436065  0.01159392  0.0055005  ... -0.01223917  0.00015827\n",
      "  0.00323939]\n",
      "[17261 16890  3626 23242 10377 23258 29228 13662 26493 14342 44674 12416\n",
      " 18614 39772 45305 14671  2667 36704 17982]\n",
      "Top 20 important features of positve class are\n",
      "['great' 'good' 'best' 'love' 'delicious' 'loves' 'perfect' 'excellent'\n",
      " 'nice' 'favorite' 'wonderful' 'easy' 'highly' 'tasty' 'yummy' 'find'\n",
      " 'awesome' 'smooth' 'happy']\n"
     ]
    }
   ],
   "source": [
    "# Please write all the code with proper documentation\n",
    "feature_names=Vectorizer.get_feature_names()\n",
    "top_pos=optimalLG.coef_[0].argsort()\n",
    "top_weights=optimalLG.coef_[0]\n",
    "print(top_weights)\n",
    "print(top_pos[:-20:-1])\n",
    "print(\"Top 20 important features of positve class are\")\n",
    "print(np.take(feature_names,top_pos[:-20:-1]))\n"
   ]
  },
  {
   "cell_type": "markdown",
   "metadata": {
    "colab_type": "text",
    "id": "PowEfns4LPpg"
   },
   "source": [
    "#### [5.2.3.2] Top 10 important features of negative class from<font color='red'> SET 2</font>"
   ]
  },
  {
   "cell_type": "code",
   "execution_count": 57,
   "metadata": {
    "colab": {
     "base_uri": "https://localhost:8080/",
     "height": 126
    },
    "colab_type": "code",
    "executionInfo": {
     "elapsed": 1573,
     "status": "ok",
     "timestamp": 1552635611838,
     "user": {
      "displayName": "saikiran yernena",
      "photoUrl": "",
      "userId": "15171324143564695981"
     },
     "user_tz": -330
    },
    "id": "G7jrma95LPpg",
    "outputId": "c83c4fcb-fb86-4b9e-ca3d-648b782efebc"
   },
   "outputs": [
    {
     "name": "stdout",
     "output_type": "stream",
     "text": [
      "[11223 44793 18963  2672 40083 43840 11225 40605 40567 25400 37845 42332\n",
      " 38151 44812 11229  3977  2797 11364 43937]\n",
      "Top 20 important features of negative class are\n",
      "['disappointed' 'worst' 'horrible' 'awful' 'terrible' 'waste'\n",
      " 'disappointing' 'threw' 'thought' 'money' 'stale' 'unfortunately' 'stick'\n",
      " 'would' 'disappointment' 'bland' 'bad' 'disgusting' 'weak']\n"
     ]
    }
   ],
   "source": [
    "# Please write all the code with proper documentation\n",
    "feature_names=Vectorizer.get_feature_names()\n",
    "top_=optimalLG.coef_[0].argsort()\n",
    "top_weights=optimalLG.coef_[0]\n",
    "print(top_pos[1:20:1])\n",
    "print(\"Top 20 important features of negative class are\")\n",
    "print(np.take(feature_names,top_pos[1:20:1]))"
   ]
  },
  {
   "cell_type": "markdown",
   "metadata": {
    "colab_type": "text",
    "id": "sqYadGOgLPpi"
   },
   "source": [
    "## [5.3] Logistic Regression on AVG W2V,<font color='red'> SET 3</font>"
   ]
  },
  {
   "cell_type": "markdown",
   "metadata": {
    "colab_type": "text",
    "id": "kByBCEA1LPpj"
   },
   "source": [
    "### [5.3.1] Applying Logistic Regression with L1 regularization on AVG W2V<font color='red'> SET 3</font>"
   ]
  },
  {
   "cell_type": "code",
   "execution_count": 58,
   "metadata": {
    "colab": {
     "base_uri": "https://localhost:8080/",
     "height": 73
    },
    "colab_type": "code",
    "executionInfo": {
     "elapsed": 23754,
     "status": "ok",
     "timestamp": 1552635674098,
     "user": {
      "displayName": "saikiran yernena",
      "photoUrl": "",
      "userId": "15171324143564695981"
     },
     "user_tz": -330
    },
    "id": "yCQ_4iJkLPpj",
    "outputId": "e43ec88d-6d07-4aec-9d4f-c87cc85db6dc"
   },
   "outputs": [
    {
     "name": "stdout",
     "output_type": "stream",
     "text": [
      "number of words that occured minimum 5 times  14546\n",
      "sample words  ['cans', 'came', 'crushed', 'six', 'open', 'leaking', 'everything', 'amazon', 'credited', 'however', 'opening', 'rest', 'black', 'spots', 'top', 'never', 'sold', 'think', 'old', 'merchandise', 'buy', 'product', 'bought', 'package', 'swedish', 'fish', 'christmas', 'gift', 'person', 'gotten', 'loves', 'lb', 'bag', 'last', 'year', 'finished', 'hours', 'kids', 'helped', 'course', 'well', 'way', 'finish', 'lbs', 'one', 'night', 'hope', 'plenty', 'take', 'home']\n"
     ]
    }
   ],
   "source": [
    "# Please write all the code with proper documentation\n",
    "i=0\n",
    "list_of_sentance_train=[]\n",
    "for sentance in X_train:\n",
    "    list_of_sentance_train.append(sentance.split())\n",
    "from gensim.models import Word2Vec\n",
    "from gensim.models import KeyedVectors\n",
    "w2v_model=Word2Vec(list_of_sentance_train,min_count=5,size=50, workers=4)\n",
    "w2v_words = list(w2v_model.wv.vocab)\n",
    "print(\"number of words that occured minimum 5 times \",len(w2v_words))\n",
    "print(\"sample words \", w2v_words[0:50])"
   ]
  },
  {
   "cell_type": "code",
   "execution_count": 59,
   "metadata": {
    "colab": {
     "base_uri": "https://localhost:8080/",
     "height": 217
    },
    "colab_type": "code",
    "executionInfo": {
     "elapsed": 111691,
     "status": "ok",
     "timestamp": 1552635807947,
     "user": {
      "displayName": "saikiran yernena",
      "photoUrl": "",
      "userId": "15171324143564695981"
     },
     "user_tz": -330
    },
    "id": "DYfXpfuqH8az",
    "outputId": "013c59a2-eb04-431a-c852-faf3e6efc718"
   },
   "outputs": [
    {
     "name": "stderr",
     "output_type": "stream",
     "text": [
      "100%|██████████| 58807/58807 [01:50<00:00, 533.65it/s]"
     ]
    },
    {
     "name": "stdout",
     "output_type": "stream",
     "text": [
      "(58807, 50)\n",
      "[-0.65216959  0.09843375  0.0606921   0.64752425  0.19256943 -0.18827587\n",
      " -0.06184823  0.84254579  0.19942612 -0.49326639 -0.47485642 -0.73029701\n",
      " -0.19757102  0.05750759 -0.14103071  0.0441894  -1.12557412  0.20409439\n",
      " -0.83436453 -0.41666013  0.27938419  0.19917121 -0.29809835 -0.85003396\n",
      " -0.00130405  0.6082139  -0.9417165   0.3374048   0.33589437  0.35628396\n",
      " -0.14246711 -0.53143574  0.01511923 -0.21553581  0.57434738  0.07049062\n",
      " -0.07282373 -0.34910141 -0.45831414 -0.28921984  0.06343432 -1.11873777\n",
      " -0.41784128  0.13652741 -0.14370305 -0.18138395 -0.18260643 -1.08792467\n",
      "  1.05452833 -0.50078269]\n"
     ]
    },
    {
     "name": "stderr",
     "output_type": "stream",
     "text": [
      "\n"
     ]
    }
   ],
   "source": [
    "from tqdm import tqdm\n",
    "# average Word2Vec\n",
    "# compute average word2vec for each review.\n",
    "sent_vectors_train = []; # the avg-w2v for each sentence/review is stored in this list\n",
    "for sent in tqdm(list_of_sentance_train): # for each review/sentence\n",
    "    sent_vec = np.zeros(50) # as word vectors are of zero length 50, you might need to change this to 300 if you use google's w2v\n",
    "    cnt_words =0; # num of words with a valid vector in the sentence/review\n",
    "    for word in sent: # for each word in a review/sentence\n",
    "        if word in w2v_words:\n",
    "            vec = w2v_model.wv[word]\n",
    "            sent_vec += vec\n",
    "            cnt_words += 1\n",
    "    if cnt_words != 0:\n",
    "        sent_vec /= cnt_words\n",
    "    sent_vectors_train.append(sent_vec)\n",
    "avgw2v_train = np.array(sent_vectors_train)\n",
    "print(avgw2v_train.shape)\n",
    "print(avgw2v_train[0])"
   ]
  },
  {
   "cell_type": "code",
   "execution_count": 60,
   "metadata": {
    "colab": {
     "base_uri": "https://localhost:8080/",
     "height": 217
    },
    "colab_type": "code",
    "executionInfo": {
     "elapsed": 56511,
     "status": "ok",
     "timestamp": 1552635982330,
     "user": {
      "displayName": "saikiran yernena",
      "photoUrl": "",
      "userId": "15171324143564695981"
     },
     "user_tz": -330
    },
    "id": "pRE8rccsH8a8",
    "outputId": "064fb13f-801c-4d1a-bc9d-fafd4f4f701d"
   },
   "outputs": [
    {
     "name": "stderr",
     "output_type": "stream",
     "text": [
      "100%|██████████| 28966/28966 [00:54<00:00, 534.93it/s]"
     ]
    },
    {
     "name": "stdout",
     "output_type": "stream",
     "text": [
      "(28966, 50)\n",
      "[ 0.10802299  0.66964196  0.02275338  0.10781293 -0.03222477 -0.10349817\n",
      " -0.33204124 -0.19267668  0.0997269  -0.11714951 -0.04458255 -0.13510659\n",
      " -0.27190933  0.09852633  0.32097836  0.2553222  -0.29914077  0.11789267\n",
      "  0.06938719  0.34452916 -0.35139259  0.26302874  0.08142771 -0.61340182\n",
      "  0.88718256 -0.0974382  -0.46103922 -0.70438116  0.00996243 -0.05021572\n",
      "  0.17618786 -0.21123311  0.08659516 -0.40799451  0.10957969  0.80282635\n",
      " -0.21612717 -0.32937878 -0.25108925 -0.15552915  0.05370458 -0.00513197\n",
      " -0.32593435 -0.03613463  0.05730799  0.25143197  0.22209906 -0.33106949\n",
      "  0.49338447 -0.03089679]\n"
     ]
    },
    {
     "name": "stderr",
     "output_type": "stream",
     "text": [
      "\n"
     ]
    }
   ],
   "source": [
    "i=0\n",
    "list_of_sentance_test=[]\n",
    "for sentance in X_test:\n",
    "    list_of_sentance_test.append(sentance.split())\n",
    "\n",
    "# average Word2Vec\n",
    "# compute average word2vec for each review.\n",
    "sent_vectors_test = []; # the avg-w2v for each sentence/review is stored in this list\n",
    "for sent in tqdm(list_of_sentance_test): # for each review/sentence\n",
    "    sent_vec = np.zeros(50) # as word vectors are of zero length 50, you might need to change this to 300 if you use google's w2v\n",
    "    cnt_words =0; # num of words with a valid vector in the sentence/review\n",
    "    for word in sent: # for each word in a review/sentence\n",
    "        if word in w2v_words:\n",
    "            vec = w2v_model.wv[word]\n",
    "            sent_vec += vec\n",
    "            cnt_words += 1\n",
    "    if cnt_words != 0:\n",
    "        sent_vec /= cnt_words\n",
    "    sent_vectors_test.append(sent_vec)\n",
    "avgw2v_test = np.array(sent_vectors_test)\n",
    "print(avgw2v_test.shape)\n",
    "print(avgw2v_test[0])"
   ]
  },
  {
   "cell_type": "code",
   "execution_count": 61,
   "metadata": {
    "colab": {
     "base_uri": "https://localhost:8080/",
     "height": 385
    },
    "colab_type": "code",
    "executionInfo": {
     "elapsed": 85722,
     "status": "ok",
     "timestamp": 1552636108466,
     "user": {
      "displayName": "saikiran yernena",
      "photoUrl": "",
      "userId": "15171324143564695981"
     },
     "user_tz": -330
    },
    "id": "AKnqGMEXH8bH",
    "outputId": "8a502788-6253-49bb-df55-1eb8a0d1d37e"
   },
   "outputs": [
    {
     "name": "stdout",
     "output_type": "stream",
     "text": [
      "best c LogisticRegression(C=1, class_weight=None, dual=False, fit_intercept=True,\n",
      "          intercept_scaling=1, max_iter=100, multi_class='warn',\n",
      "          n_jobs=None, penalty='l1', random_state=None, solver='warn',\n",
      "          tol=0.0001, verbose=0, warm_start=False)\n",
      "0.9032961268555534\n"
     ]
    },
    {
     "data": {
      "image/png": "[encoded data removed]",
      "text/plain": [
       "<Figure size 432x288 with 1 Axes>"
      ]
     },
     "metadata": {
      "tags": []
     },
     "output_type": "display_data"
    }
   ],
   "source": [
    "from sklearn.linear_model import LogisticRegression\n",
    "from sklearn.metrics import roc_auc_score\n",
    "import matplotlib.pyplot as plt\n",
    "\n",
    "C=[0.0001,0.001,0.01,0.1,1,10,100,1000]\n",
    "logi=LogisticRegression(penalty='l1')\n",
    "parameters={'C':[0.0001,0.001,0.01,0.1,1,10,100,1000]}\n",
    "\n",
    "clf = GridSearchCV(logi, parameters, cv=3, scoring='roc_auc')\n",
    "clf.fit(avgw2v_train, Y_train)\n",
    "\n",
    "print(\"best c\",clf.best_estimator_)\n",
    "train_auc= clf.cv_results_['mean_train_score']\n",
    "train_auc_std= clf.cv_results_['std_train_score']\n",
    "cv_auc = clf.cv_results_['mean_test_score'] \n",
    "cv_auc_std= clf.cv_results_['std_test_score']\n",
    "print(max(cv_auc))\n",
    "plt.plot(np.log(C), train_auc, label='Train AUC')\n",
    "# this code is copied from here: https://stackoverflow.com/a/48803361/4084039\n",
    "plt.gca().fill_between(np.log(C),train_auc - train_auc_std,train_auc + train_auc_std,alpha=0.2,color='darkblue')\n",
    "\n",
    "plt.plot(np.log(C), cv_auc, label='CV AUC')\n",
    "# this code is copied from here: https://stackoverflow.com/a/48803361/4084039\n",
    "plt.gca().fill_between(np.log(C),cv_auc - cv_auc_std,cv_auc + cv_auc_std,alpha=0.2,color='darkorange')\n",
    "plt.legend()\n",
    "plt.xlabel(\"log og C: hyperparameter\")\n",
    "plt.ylabel(\"AUC\")\n",
    "plt.title(\"AVGW2V with L1 regularization\")\n",
    "plt.show()\n"
   ]
  },
  {
   "cell_type": "code",
   "execution_count": 62,
   "metadata": {
    "colab": {
     "base_uri": "https://localhost:8080/",
     "height": 294
    },
    "colab_type": "code",
    "executionInfo": {
     "elapsed": 9468,
     "status": "ok",
     "timestamp": 1552636305969,
     "user": {
      "displayName": "saikiran yernena",
      "photoUrl": "",
      "userId": "15171324143564695981"
     },
     "user_tz": -330
    },
    "id": "5VbbGS_IH8bf",
    "outputId": "c6473695-1316-4694-c3c9-8fea416cdac8"
   },
   "outputs": [
    {
     "data": {
      "image/png": "[encoded data removed]",
      "text/plain": [
       "<Figure size 432x288 with 1 Axes>"
      ]
     },
     "metadata": {
      "tags": []
     },
     "output_type": "display_data"
    }
   ],
   "source": [
    "optimal_C=1\n",
    "optimalLG=LogisticRegression(C=optimal_C,penalty='l1')\n",
    "optimalLG.fit(avgw2v_train,Y_train)\n",
    "Y_test_predict=optimalLG.predict_log_proba(avgw2v_test)[:,1]\n",
    "fpr_test,tpr_test,thresholds=metrics.roc_curve(Y_test,Y_test_predict)\n",
    "test_auc=metrics.auc(fpr_test,tpr_test)\n",
    "Y_train_predict=optimalLG.predict_log_proba(avgw2v_train)[:,1]\n",
    "fpr_train,tpr_train,thresholds=metrics.roc_curve(Y_train,Y_train_predict)\n",
    "train_auc=metrics.auc(fpr_train,tpr_train)\n",
    "plt.plot(fpr_test,tpr_test,label=\"Test auc is %0.2f\"%(test_auc))\n",
    "plt.plot(fpr_train,tpr_train,label=\"Train auc is %0.2f\"%(train_auc))\n",
    "plt.xlabel('true positive rate')\n",
    "plt.ylabel('false positive rate')\n",
    "plt.title('AVGW2V with optimal C = %f' %optimal_C)\n",
    "plt.legend()\n",
    "plt.show()"
   ]
  },
  {
   "cell_type": "code",
   "execution_count": 63,
   "metadata": {
    "colab": {
     "base_uri": "https://localhost:8080/",
     "height": 298
    },
    "colab_type": "code",
    "executionInfo": {
     "elapsed": 3749,
     "status": "ok",
     "timestamp": 1552636328615,
     "user": {
      "displayName": "saikiran yernena",
      "photoUrl": "",
      "userId": "15171324143564695981"
     },
     "user_tz": -330
    },
    "id": "HebpC4hWH8bm",
    "outputId": "0cbbec2f-232b-4000-ee49-40488efb5587"
   },
   "outputs": [
    {
     "data": {
      "text/plain": [
       "Text(0.5, 1.0, 'Confusion marix for train_data avgw2v for optimal C = 1.000000')"
      ]
     },
     "execution_count": 63,
     "metadata": {
      "tags": []
     },
     "output_type": "execute_result"
    },
    {
     "data": {
      "image/png": "[encoded data removed]",
      "text/plain": [
       "<Figure size 432x288 with 2 Axes>"
      ]
     },
     "metadata": {
      "tags": []
     },
     "output_type": "display_data"
    }
   ],
   "source": [
    "ax = sns.heatmap(confusion_matrix(Y_train,optimalLG.predict(avgw2v_train)).T,yticklabels=[\"Predicted 0\",\"Predicted 1\"],\\\n",
    "                 xticklabels=[\"Actual 0\",\"Actual 1\"],annot = True,fmt='d')\n",
    "ax.set_title('Confusion marix for train_data avgw2v for optimal C = %f' %optimal_C)"
   ]
  },
  {
   "cell_type": "code",
   "execution_count": 64,
   "metadata": {
    "colab": {
     "base_uri": "https://localhost:8080/",
     "height": 298
    },
    "colab_type": "code",
    "executionInfo": {
     "elapsed": 3688,
     "status": "ok",
     "timestamp": 1552636353734,
     "user": {
      "displayName": "saikiran yernena",
      "photoUrl": "",
      "userId": "15171324143564695981"
     },
     "user_tz": -330
    },
    "id": "CPuf7UcbH8bt",
    "outputId": "6760df2b-3a81-4ac6-ce4f-1b316fdb34bf"
   },
   "outputs": [
    {
     "data": {
      "text/plain": [
       "Text(0.5, 1.0, 'Confusion marix for test_data TFIDF for optimal C = 1.000000')"
      ]
     },
     "execution_count": 64,
     "metadata": {
      "tags": []
     },
     "output_type": "execute_result"
    },
    {
     "data": {
      "image/png": "[encoded data removed]",
      "text/plain": [
       "<Figure size 432x288 with 2 Axes>"
      ]
     },
     "metadata": {
      "tags": []
     },
     "output_type": "display_data"
    }
   ],
   "source": [
    "ax = sns.heatmap(confusion_matrix(Y_test,optimalLG.predict(avgw2v_test)).T,yticklabels=[\"Predicted 0\",\"Predicted 1\"],\\\n",
    "                 xticklabels=[\"Actual 0\",\"Actual 1\"],annot = True,fmt='d')\n",
    "ax.set_title('Confusion marix for test_data TFIDF for optimal C = %f' %optimal_C)"
   ]
  },
  {
   "cell_type": "markdown",
   "metadata": {
    "colab_type": "text",
    "id": "O_8Gu2SfLPpn"
   },
   "source": [
    "### [5.3.2] Applying Logistic Regression with L2 regularization on AVG W2V,<font color='red'> SET 3</font>"
   ]
  },
  {
   "cell_type": "code",
   "execution_count": 65,
   "metadata": {
    "colab": {
     "base_uri": "https://localhost:8080/",
     "height": 385
    },
    "colab_type": "code",
    "executionInfo": {
     "elapsed": 23013,
     "status": "ok",
     "timestamp": 1552636409950,
     "user": {
      "displayName": "saikiran yernena",
      "photoUrl": "",
      "userId": "15171324143564695981"
     },
     "user_tz": -330
    },
    "id": "Zy3s4jk1LPpn",
    "outputId": "a447c89b-e64f-44f9-8410-5cd01462c076"
   },
   "outputs": [
    {
     "name": "stdout",
     "output_type": "stream",
     "text": [
      "best c LogisticRegression(C=0.1, class_weight=None, dual=False, fit_intercept=True,\n",
      "          intercept_scaling=1, max_iter=100, multi_class='warn',\n",
      "          n_jobs=None, penalty='l2', random_state=None, solver='warn',\n",
      "          tol=0.0001, verbose=0, warm_start=False)\n",
      "0.9033696798940257\n"
     ]
    },
    {
     "data": {
      "image/png": "[encoded data removed]",
      "text/plain": [
       "<Figure size 432x288 with 1 Axes>"
      ]
     },
     "metadata": {
      "tags": []
     },
     "output_type": "display_data"
    }
   ],
   "source": [
    "# Please write all the code with proper documentation\n",
    "from sklearn.linear_model import LogisticRegression\n",
    "from sklearn.metrics import roc_auc_score\n",
    "import matplotlib.pyplot as plt\n",
    "\n",
    "C=[0.0001,0.001,0.01,0.1,1,10,100,1000]\n",
    "logi=LogisticRegression(penalty='l2')\n",
    "parameters={'C':[0.0001,0.001,0.01,0.1,1,10,100,1000]}\n",
    "\n",
    "clf = GridSearchCV(logi, parameters, cv=3, scoring='roc_auc')\n",
    "clf.fit(avgw2v_train, Y_train)\n",
    "\n",
    "print(\"best c\",clf.best_estimator_)\n",
    "train_auc= clf.cv_results_['mean_train_score']\n",
    "train_auc_std= clf.cv_results_['std_train_score']\n",
    "cv_auc = clf.cv_results_['mean_test_score'] \n",
    "cv_auc_std= clf.cv_results_['std_test_score']\n",
    "print(max(cv_auc))\n",
    "plt.plot(np.log(C), train_auc, label='Train AUC')\n",
    "# this code is copied from here: https://stackoverflow.com/a/48803361/4084039\n",
    "plt.gca().fill_between(np.log(C),train_auc - train_auc_std,train_auc + train_auc_std,alpha=0.2,color='darkblue')\n",
    "\n",
    "plt.plot(np.log(C), cv_auc, label='CV AUC')\n",
    "# this code is copied from here: https://stackoverflow.com/a/48803361/4084039\n",
    "plt.gca().fill_between(np.log(C),cv_auc - cv_auc_std,cv_auc + cv_auc_std,alpha=0.2,color='darkorange')\n",
    "plt.legend()\n",
    "plt.xlabel(\"log og C: hyperparameter\")\n",
    "plt.ylabel(\"AUC\")\n",
    "plt.title(\"AVGW2V with L1 regularization\")\n",
    "plt.show()\n"
   ]
  },
  {
   "cell_type": "code",
   "execution_count": 66,
   "metadata": {
    "colab": {
     "base_uri": "https://localhost:8080/",
     "height": 294
    },
    "colab_type": "code",
    "executionInfo": {
     "elapsed": 4281,
     "status": "ok",
     "timestamp": 1552636451616,
     "user": {
      "displayName": "saikiran yernena",
      "photoUrl": "",
      "userId": "15171324143564695981"
     },
     "user_tz": -330
    },
    "id": "MUgRZoNwH8cG",
    "outputId": "d875afb5-002e-473f-8281-ee74a76bc90f"
   },
   "outputs": [
    {
     "data": {
      "image/png": "[encoded data removed]",
      "text/plain": [
       "<Figure size 432x288 with 1 Axes>"
      ]
     },
     "metadata": {
      "tags": []
     },
     "output_type": "display_data"
    }
   ],
   "source": [
    "optimal_C=0.1\n",
    "optimalLG=LogisticRegression(C=optimal_C,penalty='l2')\n",
    "optimalLG.fit(avgw2v_train,Y_train)\n",
    "Y_test_predict=optimalLG.predict_log_proba(avgw2v_test)[:,1]\n",
    "fpr_test,tpr_test,thresholds=metrics.roc_curve(Y_test,Y_test_predict)\n",
    "test_auc=metrics.auc(fpr_test,tpr_test)\n",
    "Y_train_predict=optimalLG.predict_log_proba(avgw2v_train)[:,1]\n",
    "fpr_train,tpr_train,thresholds=metrics.roc_curve(Y_train,Y_train_predict)\n",
    "train_auc=metrics.auc(fpr_train,tpr_train)\n",
    "plt.plot(fpr_test,tpr_test,label=\"Test auc is %0.2f\"%(test_auc))\n",
    "plt.plot(fpr_train,tpr_train,label=\"Train auc is %0.2f\"%(train_auc))\n",
    "plt.xlabel('true positive rate')\n",
    "plt.ylabel('false positive rate')\n",
    "plt.title('AVGW2V with optimal C = %f' %optimal_C)\n",
    "plt.legend()\n",
    "plt.show()"
   ]
  },
  {
   "cell_type": "code",
   "execution_count": 67,
   "metadata": {
    "colab": {
     "base_uri": "https://localhost:8080/",
     "height": 298
    },
    "colab_type": "code",
    "executionInfo": {
     "elapsed": 1662,
     "status": "ok",
     "timestamp": 1552636466648,
     "user": {
      "displayName": "saikiran yernena",
      "photoUrl": "",
      "userId": "15171324143564695981"
     },
     "user_tz": -330
    },
    "id": "VFszj3yuH8cN",
    "outputId": "639c4ad3-eae7-43d3-b1ef-b1236a609dca"
   },
   "outputs": [
    {
     "data": {
      "text/plain": [
       "Text(0.5, 1.0, 'Confusion marix for train_data avgw2v for optimal C = 0.100000')"
      ]
     },
     "execution_count": 67,
     "metadata": {
      "tags": []
     },
     "output_type": "execute_result"
    },
    {
     "data": {
      "image/png": "[encoded data removed]",
      "text/plain": [
       "<Figure size 432x288 with 2 Axes>"
      ]
     },
     "metadata": {
      "tags": []
     },
     "output_type": "display_data"
    }
   ],
   "source": [
    "ax = sns.heatmap(confusion_matrix(Y_train,optimalLG.predict(avgw2v_train)).T,yticklabels=[\"Predicted 0\",\"Predicted 1\"],\\\n",
    "                 xticklabels=[\"Actual 0\",\"Actual 1\"],annot = True,fmt='d')\n",
    "ax.set_title('Confusion marix for train_data avgw2v for optimal C = %f' %optimal_C)"
   ]
  },
  {
   "cell_type": "code",
   "execution_count": 68,
   "metadata": {
    "colab": {
     "base_uri": "https://localhost:8080/",
     "height": 298
    },
    "colab_type": "code",
    "executionInfo": {
     "elapsed": 1386,
     "status": "ok",
     "timestamp": 1552636507831,
     "user": {
      "displayName": "saikiran yernena",
      "photoUrl": "",
      "userId": "15171324143564695981"
     },
     "user_tz": -330
    },
    "id": "g1fJQXKuH8cX",
    "outputId": "68b86372-a54a-4fca-e917-bf3087c04446"
   },
   "outputs": [
    {
     "data": {
      "text/plain": [
       "Text(0.5, 1.0, 'Confusion marix for test_data avgw2v for optimal C = 0.100000')"
      ]
     },
     "execution_count": 68,
     "metadata": {
      "tags": []
     },
     "output_type": "execute_result"
    },
    {
     "data": {
      "image/png": "[encoded data removed]",
      "text/plain": [
       "<Figure size 432x288 with 2 Axes>"
      ]
     },
     "metadata": {
      "tags": []
     },
     "output_type": "display_data"
    }
   ],
   "source": [
    "ax = sns.heatmap(confusion_matrix(Y_test,optimalLG.predict(avgw2v_test)).T,yticklabels=[\"Predicted 0\",\"Predicted 1\"],\\\n",
    "                 xticklabels=[\"Actual 0\",\"Actual 1\"],annot = True,fmt='d')\n",
    "ax.set_title('Confusion marix for test_data avgw2v for optimal C = %f' %optimal_C)"
   ]
  },
  {
   "cell_type": "markdown",
   "metadata": {
    "colab_type": "text",
    "id": "pdXTwVIPLPpp"
   },
   "source": [
    "## [5.4] Logistic Regression on TFIDF W2V,<font color='red'> SET 4</font>"
   ]
  },
  {
   "cell_type": "markdown",
   "metadata": {
    "colab_type": "text",
    "id": "WP9NjwNSLPpp"
   },
   "source": [
    "### [5.4.1] Applying Logistic Regression with L1 regularization on TFIDF W2V,<font color='red'> SET 4</font>"
   ]
  },
  {
   "cell_type": "code",
   "execution_count": 69,
   "metadata": {
    "colab": {
     "base_uri": "https://localhost:8080/",
     "height": 217
    },
    "colab_type": "code",
    "executionInfo": {
     "elapsed": 1503726,
     "status": "ok",
     "timestamp": 1552638119351,
     "user": {
      "displayName": "saikiran yernena",
      "photoUrl": "",
      "userId": "15171324143564695981"
     },
     "user_tz": -330
    },
    "id": "207gYymwLPpq",
    "outputId": "7047ecd1-5a37-4fb5-e29b-595a28b1bae6"
   },
   "outputs": [
    {
     "name": "stderr",
     "output_type": "stream",
     "text": [
      "100%|██████████| 58807/58807 [24:57<00:00, 39.26it/s]\n"
     ]
    },
    {
     "name": "stdout",
     "output_type": "stream",
     "text": [
      "(58807, 50)\n",
      "[-0.97902676  0.17258311  0.11441656  0.59345166  0.28700504 -0.09056471\n",
      " -0.37834596  1.33561427 -0.02727731 -0.20195722 -0.80084789 -0.92836197\n",
      " -0.54442842  0.1376181  -0.22207787 -0.08079119 -1.245604    0.42493882\n",
      " -0.95061594 -0.48939984  0.23271581  0.3589084  -0.51633227 -1.04113948\n",
      " -0.21082672  0.67105411 -1.27951175  0.69597211  0.48442941  0.29256343\n",
      " -0.14059857 -0.54979393  0.08440771 -0.17049335  0.54080584 -0.01168048\n",
      " -0.04053328 -0.25617798 -0.45043627 -0.258864    0.0972263  -1.50331188\n",
      " -0.54969192  0.27886394 -0.25212271 -0.3815542  -0.16196822 -1.41175311\n",
      "  1.25260001 -0.50091318]\n"
     ]
    }
   ],
   "source": [
    "# Please write all the code with proper documentation\n",
    "model = TfidfVectorizer()\n",
    "tf_idf_matrix = model.fit_transform(X_train)\n",
    "# we are converting a dictionary with word as a key, and the idf as a value\n",
    "dictionary = dict(zip(model.get_feature_names(), list(model.idf_)))\n",
    "\n",
    "\n",
    "# TF-IDF weighted Word2Vec\n",
    "tfidf_feat = model.get_feature_names() # tfidf words/col-names\n",
    "# final_tf_idf is the sparse matrix with row= sentence, col=word and cell_val = tfidf\n",
    "\n",
    "tfidf_sent_vectors = []; # the tfidf-w2v for each sentence/review is stored in this list\n",
    "row=0;\n",
    "for sent in tqdm(list_of_sentance_train): # for each review/sentence \n",
    "    sent_vec = np.zeros(50) # as word vectors are of zero length\n",
    "    weight_sum =0; # num of words with a valid vector in the sentence/review\n",
    "    for word in sent: # for each word in a review/sentence\n",
    "        if word in w2v_words and word in tfidf_feat:\n",
    "            vec = w2v_model.wv[word]\n",
    "            # tf_idf = tf_idf_matrix[row, tfidf_feat.index(word)]\n",
    "            # to reduce the computation we are \n",
    "            # dictionary[word] = idf value of word in whole courpus\n",
    "            # sent.count(word) = tf valeus of word in this review\n",
    "            tf_idf = dictionary[word]*(sent.count(word)/len(sent))\n",
    "            sent_vec += (vec * tf_idf)\n",
    "            weight_sum += tf_idf\n",
    "    if weight_sum != 0:\n",
    "        sent_vec /= weight_sum\n",
    "    tfidf_sent_vectors.append(sent_vec)\n",
    "    row += 1\n",
    "tfidfw2v_train=np.array(tfidf_sent_vectors)\n",
    "print(tfidfw2v_train.shape)\n",
    "print(tfidfw2v_train[0])\n"
   ]
  },
  {
   "cell_type": "code",
   "execution_count": 70,
   "metadata": {
    "colab": {
     "base_uri": "https://localhost:8080/",
     "height": 217
    },
    "colab_type": "code",
    "executionInfo": {
     "elapsed": 731895,
     "status": "ok",
     "timestamp": 1552639220463,
     "user": {
      "displayName": "saikiran yernena",
      "photoUrl": "",
      "userId": "15171324143564695981"
     },
     "user_tz": -330
    },
    "id": "qPoWhVV7H8cr",
    "outputId": "ec633c08-6470-4b1a-adff-27e618a55e49"
   },
   "outputs": [
    {
     "name": "stderr",
     "output_type": "stream",
     "text": [
      "100%|██████████| 28966/28966 [12:10<00:00, 39.63it/s]"
     ]
    },
    {
     "name": "stdout",
     "output_type": "stream",
     "text": [
      "(28966, 50)\n",
      "[ 0.16055948  0.65222559 -0.27378605  0.13214775  0.04146273 -0.0636654\n",
      " -0.52653457 -0.20212385  0.22102227 -0.25897462 -0.35569036 -0.06948915\n",
      " -0.35343749  0.23879208  0.45983308  0.54017733 -0.13891123  0.20393778\n",
      "  0.26878418  0.57187069 -0.49107227  0.33190601 -0.05184201 -0.86265444\n",
      "  1.25855335 -0.0977446  -0.50609849 -0.85604761  0.12342014  0.10139111\n",
      "  0.12412935 -0.11173605 -0.00992897 -0.58324142  0.02384321  0.84165468\n",
      " -0.29294679 -0.45377297 -0.142127   -0.04334185 -0.01138581  0.10635469\n",
      " -0.43875463  0.00611695  0.00825629  0.38151229  0.34832312 -0.48477616\n",
      "  0.65256926 -0.00173902]\n"
     ]
    },
    {
     "name": "stderr",
     "output_type": "stream",
     "text": [
      "\n"
     ]
    }
   ],
   "source": [
    "tfidf_sent_vectors = []; # the tfidf-w2v for each sentence/review is stored in this list\n",
    "row=0;\n",
    "for sent in tqdm(list_of_sentance_test): # for each review/sentence \n",
    "    sent_vec = np.zeros(50) # as word vectors are of zero length\n",
    "    weight_sum =0; # num of words with a valid vector in the sentence/review\n",
    "    for word in sent: # for each word in a review/sentence\n",
    "        if word in w2v_words and word in tfidf_feat:\n",
    "            vec = w2v_model.wv[word]\n",
    "            # tf_idf = tf_idf_matrix[row, tfidf_feat.index(word)]\n",
    "            # to reduce the computation we are \n",
    "            # dictionary[word] = idf value of word in whole courpus\n",
    "            # sent.count(word) = tf valeus of word in this review\n",
    "            tf_idf = dictionary[word]*(sent.count(word)/len(sent))\n",
    "            sent_vec += (vec * tf_idf)\n",
    "            weight_sum += tf_idf\n",
    "    if weight_sum != 0:\n",
    "        sent_vec /= weight_sum\n",
    "    tfidf_sent_vectors.append(sent_vec)\n",
    "    row += 1\n",
    "tfidfw2v_test=np.array(tfidf_sent_vectors)\n",
    "print(tfidfw2v_test.shape)\n",
    "print(tfidfw2v_test[0])"
   ]
  },
  {
   "cell_type": "code",
   "execution_count": 71,
   "metadata": {
    "colab": {
     "base_uri": "https://localhost:8080/",
     "height": 385
    },
    "colab_type": "code",
    "executionInfo": {
     "elapsed": 79543,
     "status": "ok",
     "timestamp": 1552639441081,
     "user": {
      "displayName": "saikiran yernena",
      "photoUrl": "",
      "userId": "15171324143564695981"
     },
     "user_tz": -330
    },
    "id": "ZpdJoBTHH8cx",
    "outputId": "287c8a28-64d7-4dc8-99c3-b335a516ff7c"
   },
   "outputs": [
    {
     "name": "stdout",
     "output_type": "stream",
     "text": [
      "best c LogisticRegression(C=1, class_weight=None, dual=False, fit_intercept=True,\n",
      "          intercept_scaling=1, max_iter=100, multi_class='warn',\n",
      "          n_jobs=None, penalty='l1', random_state=None, solver='warn',\n",
      "          tol=0.0001, verbose=0, warm_start=False)\n",
      "0.879207181251346\n"
     ]
    },
    {
     "data": {
      "image/png": "[encoded data removed]",
      "text/plain": [
       "<Figure size 432x288 with 1 Axes>"
      ]
     },
     "metadata": {
      "tags": []
     },
     "output_type": "display_data"
    }
   ],
   "source": [
    "from sklearn.linear_model import LogisticRegression\n",
    "from sklearn.metrics import roc_auc_score\n",
    "import matplotlib.pyplot as plt\n",
    "\n",
    "C=[0.0001,0.001,0.01,0.1,1,10,100,1000]\n",
    "logi=LogisticRegression(penalty='l1')\n",
    "parameters={'C':[0.0001,0.001,0.01,0.1,1,10,100,1000]}\n",
    "\n",
    "clf = GridSearchCV(logi, parameters, cv=3, scoring='roc_auc')\n",
    "clf.fit(tfidfw2v_train, Y_train)\n",
    "\n",
    "print(\"best c\",clf.best_estimator_)\n",
    "train_auc= clf.cv_results_['mean_train_score']\n",
    "train_auc_std= clf.cv_results_['std_train_score']\n",
    "cv_auc = clf.cv_results_['mean_test_score'] \n",
    "cv_auc_std= clf.cv_results_['std_test_score']\n",
    "print(max(cv_auc))\n",
    "plt.plot(np.log(C), train_auc, label='Train AUC')\n",
    "# this code is copied from here: https://stackoverflow.com/a/48803361/4084039\n",
    "plt.gca().fill_between(np.log(C),train_auc - train_auc_std,train_auc + train_auc_std,alpha=0.2,color='darkblue')\n",
    "\n",
    "plt.plot(np.log(C), cv_auc, label='CV AUC')\n",
    "# this code is copied from here: https://stackoverflow.com/a/48803361/4084039\n",
    "plt.gca().fill_between(np.log(C),cv_auc - cv_auc_std,cv_auc + cv_auc_std,alpha=0.2,color='darkorange')\n",
    "plt.legend()\n",
    "plt.xlabel(\"log og C: hyperparameter\")\n",
    "plt.ylabel(\"AUC\")\n",
    "plt.title(\"TFIDFW2V with L1 regularization\")\n",
    "plt.show()\n"
   ]
  },
  {
   "cell_type": "code",
   "execution_count": 72,
   "metadata": {
    "colab": {
     "base_uri": "https://localhost:8080/",
     "height": 294
    },
    "colab_type": "code",
    "executionInfo": {
     "elapsed": 6316,
     "status": "ok",
     "timestamp": 1552639520067,
     "user": {
      "displayName": "saikiran yernena",
      "photoUrl": "",
      "userId": "15171324143564695981"
     },
     "user_tz": -330
    },
    "id": "1QegCr-LH8c3",
    "outputId": "70236f40-f5b4-4dc9-8f3f-2f35b3ac6d88"
   },
   "outputs": [
    {
     "data": {
      "image/png": "[encoded data removed]",
      "text/plain": [
       "<Figure size 432x288 with 1 Axes>"
      ]
     },
     "metadata": {
      "tags": []
     },
     "output_type": "display_data"
    }
   ],
   "source": [
    "optimal_C=1\n",
    "optimalLG=LogisticRegression(C=optimal_C,penalty='l1')\n",
    "optimalLG.fit(tfidfw2v_train,Y_train)\n",
    "Y_test_predict=optimalLG.predict_log_proba(tfidfw2v_test)[:,1]\n",
    "fpr_test,tpr_test,thresholds=metrics.roc_curve(Y_test,Y_test_predict)\n",
    "test_auc=metrics.auc(fpr_test,tpr_test)\n",
    "Y_train_predict=optimalLG.predict_log_proba(tfidfw2v_train)[:,1]\n",
    "fpr_train,tpr_train,thresholds=metrics.roc_curve(Y_train,Y_train_predict)\n",
    "train_auc=metrics.auc(fpr_train,tpr_train)\n",
    "plt.plot(fpr_test,tpr_test,label=\"Test auc is %0.2f\"%(test_auc))\n",
    "plt.plot(fpr_train,tpr_train,label=\"Train auc is %0.2f\"%(train_auc))\n",
    "plt.xlabel('true positive rate')\n",
    "plt.ylabel('false positive rate')\n",
    "plt.title('TFIDFW2V with optimal C = %f' %optimal_C)\n",
    "plt.legend()\n",
    "plt.show()"
   ]
  },
  {
   "cell_type": "code",
   "execution_count": 73,
   "metadata": {
    "colab": {
     "base_uri": "https://localhost:8080/",
     "height": 298
    },
    "colab_type": "code",
    "executionInfo": {
     "elapsed": 1303,
     "status": "ok",
     "timestamp": 1552639646293,
     "user": {
      "displayName": "saikiran yernena",
      "photoUrl": "",
      "userId": "15171324143564695981"
     },
     "user_tz": -330
    },
    "id": "wnF9PCrIH8c8",
    "outputId": "b6eef85a-e4af-409e-af9e-9e00c99e8141"
   },
   "outputs": [
    {
     "data": {
      "text/plain": [
       "Text(0.5, 1.0, 'Confusion marix for train_data tfidfw2v for optimal C = 1.000000')"
      ]
     },
     "execution_count": 73,
     "metadata": {
      "tags": []
     },
     "output_type": "execute_result"
    },
    {
     "data": {
      "image/png": "[encoded data removed]",
      "text/plain": [
       "<Figure size 432x288 with 2 Axes>"
      ]
     },
     "metadata": {
      "tags": []
     },
     "output_type": "display_data"
    }
   ],
   "source": [
    "ax = sns.heatmap(confusion_matrix(Y_train,optimalLG.predict(tfidfw2v_train)).T,yticklabels=[\"Predicted 0\",\"Predicted 1\"],\\\n",
    "                 xticklabels=[\"Actual 0\",\"Actual 1\"],annot = True,fmt='d')\n",
    "ax.set_title('Confusion marix for train_data tfidfw2v for optimal C = %f' %optimal_C)"
   ]
  },
  {
   "cell_type": "code",
   "execution_count": 74,
   "metadata": {
    "colab": {
     "base_uri": "https://localhost:8080/",
     "height": 298
    },
    "colab_type": "code",
    "executionInfo": {
     "elapsed": 1819,
     "status": "ok",
     "timestamp": 1552639682674,
     "user": {
      "displayName": "saikiran yernena",
      "photoUrl": "",
      "userId": "15171324143564695981"
     },
     "user_tz": -330
    },
    "id": "jqTgm-EOH8dC",
    "outputId": "3067483d-f5da-4b64-972b-760018ad0bc7"
   },
   "outputs": [
    {
     "data": {
      "text/plain": [
       "Text(0.5, 1.0, 'Confusion marix for test_data tfidfw2v for optimal C = 1.000000')"
      ]
     },
     "execution_count": 74,
     "metadata": {
      "tags": []
     },
     "output_type": "execute_result"
    },
    {
     "data": {
      "image/png": "[encoded data removed]",
      "text/plain": [
       "<Figure size 432x288 with 2 Axes>"
      ]
     },
     "metadata": {
      "tags": []
     },
     "output_type": "display_data"
    }
   ],
   "source": [
    "ax = sns.heatmap(confusion_matrix(Y_test,optimalLG.predict(tfidfw2v_test)).T,yticklabels=[\"Predicted 0\",\"Predicted 1\"],\\\n",
    "                 xticklabels=[\"Actual 0\",\"Actual 1\"],annot = True,fmt='d')\n",
    "ax.set_title('Confusion marix for test_data tfidfw2v for optimal C = %f' %optimal_C)"
   ]
  },
  {
   "cell_type": "markdown",
   "metadata": {
    "colab_type": "text",
    "id": "ynUK2tYDLPps"
   },
   "source": [
    "### [5.4.2] Applying Logistic Regression with L2 regularization on TFIDF W2V,<font color='red'> SET 4</font>"
   ]
  },
  {
   "cell_type": "code",
   "execution_count": 75,
   "metadata": {
    "colab": {
     "base_uri": "https://localhost:8080/",
     "height": 385
    },
    "colab_type": "code",
    "executionInfo": {
     "elapsed": 31238,
     "status": "ok",
     "timestamp": 1552639801003,
     "user": {
      "displayName": "saikiran yernena",
      "photoUrl": "",
      "userId": "15171324143564695981"
     },
     "user_tz": -330
    },
    "id": "hVYuiXl2LPpt",
    "outputId": "3ec814cc-6a66-4e6b-a70b-fb8f88b8a663"
   },
   "outputs": [
    {
     "name": "stdout",
     "output_type": "stream",
     "text": [
      "best c LogisticRegression(C=0.1, class_weight=None, dual=False, fit_intercept=True,\n",
      "          intercept_scaling=1, max_iter=100, multi_class='warn',\n",
      "          n_jobs=None, penalty='l2', random_state=None, solver='warn',\n",
      "          tol=0.0001, verbose=0, warm_start=False)\n",
      "0.8792319396539514\n"
     ]
    },
    {
     "data": {
      "image/png": "[encoded data removed]",
      "text/plain": [
       "<Figure size 432x288 with 1 Axes>"
      ]
     },
     "metadata": {
      "tags": []
     },
     "output_type": "display_data"
    }
   ],
   "source": [
    "# Please write all the code with proper documentation\n",
    "from sklearn.linear_model import LogisticRegression\n",
    "from sklearn.metrics import roc_auc_score\n",
    "import matplotlib.pyplot as plt\n",
    "\n",
    "C=[0.0001,0.001,0.01,0.1,1,10,100,1000]\n",
    "logi=LogisticRegression(penalty='l2')\n",
    "parameters={'C':[0.0001,0.001,0.01,0.1,1,10,100,1000]}\n",
    "\n",
    "clf = GridSearchCV(logi, parameters, cv=3, scoring='roc_auc')\n",
    "clf.fit(tfidfw2v_train, Y_train)\n",
    "\n",
    "print(\"best c\",clf.best_estimator_)\n",
    "train_auc= clf.cv_results_['mean_train_score']\n",
    "train_auc_std= clf.cv_results_['std_train_score']\n",
    "cv_auc = clf.cv_results_['mean_test_score'] \n",
    "cv_auc_std= clf.cv_results_['std_test_score']\n",
    "print(max(cv_auc))\n",
    "plt.plot(np.log(C), train_auc, label='Train AUC')\n",
    "# this code is copied from here: https://stackoverflow.com/a/48803361/4084039\n",
    "plt.gca().fill_between(np.log(C),train_auc - train_auc_std,train_auc + train_auc_std,alpha=0.2,color='darkblue')\n",
    "\n",
    "plt.plot(np.log(C), cv_auc, label='CV AUC')\n",
    "# this code is copied from here: https://stackoverflow.com/a/48803361/4084039\n",
    "plt.gca().fill_between(np.log(C),cv_auc - cv_auc_std,cv_auc + cv_auc_std,alpha=0.2,color='darkorange')\n",
    "plt.legend()\n",
    "plt.xlabel(\"log og C: hyperparameter\")\n",
    "plt.ylabel(\"AUC\")\n",
    "plt.title(\"TFIDFW2V with L2 regularization\")\n",
    "plt.show()\n"
   ]
  },
  {
   "cell_type": "code",
   "execution_count": 76,
   "metadata": {
    "colab": {
     "base_uri": "https://localhost:8080/",
     "height": 294
    },
    "colab_type": "code",
    "executionInfo": {
     "elapsed": 5449,
     "status": "ok",
     "timestamp": 1552639932438,
     "user": {
      "displayName": "saikiran yernena",
      "photoUrl": "",
      "userId": "15171324143564695981"
     },
     "user_tz": -330
    },
    "id": "n6hO2t2eH8dW",
    "outputId": "1da4928e-6bb4-4202-f402-a3b04020b183"
   },
   "outputs": [
    {
     "data": {
      "image/png": "[encoded data removed]",
      "text/plain": [
       "<Figure size 432x288 with 1 Axes>"
      ]
     },
     "metadata": {
      "tags": []
     },
     "output_type": "display_data"
    }
   ],
   "source": [
    "optimal_C=0.1\n",
    "optimalLG=LogisticRegression(C=optimal_C,penalty='l2')\n",
    "optimalLG.fit(tfidfw2v_train,Y_train)\n",
    "Y_test_predict=optimalLG.predict_log_proba(tfidfw2v_test)[:,1]\n",
    "fpr_test,tpr_test,thresholds=metrics.roc_curve(Y_test,Y_test_predict)\n",
    "test_auc=metrics.auc(fpr_test,tpr_test)\n",
    "Y_train_predict=optimalLG.predict_log_proba(tfidfw2v_train)[:,1]\n",
    "fpr_train,tpr_train,thresholds=metrics.roc_curve(Y_train,Y_train_predict)\n",
    "train_auc=metrics.auc(fpr_train,tpr_train)\n",
    "plt.plot(fpr_test,tpr_test,label=\"Test auc is %0.2f\"%(test_auc))\n",
    "plt.plot(fpr_train,tpr_train,label=\"Train auc is %0.2f\"%(train_auc))\n",
    "plt.xlabel('true positive rate')\n",
    "plt.ylabel('false positive rate')\n",
    "plt.title('TFIDFW2V with optimal C = %f' %optimal_C)\n",
    "plt.legend()\n",
    "plt.show()"
   ]
  },
  {
   "cell_type": "code",
   "execution_count": 77,
   "metadata": {
    "colab": {
     "base_uri": "https://localhost:8080/",
     "height": 298
    },
    "colab_type": "code",
    "executionInfo": {
     "elapsed": 3147,
     "status": "ok",
     "timestamp": 1552639951288,
     "user": {
      "displayName": "saikiran yernena",
      "photoUrl": "",
      "userId": "15171324143564695981"
     },
     "user_tz": -330
    },
    "id": "1i4Lg9MeH8dg",
    "outputId": "1fb72367-d973-448c-da0a-bddb75161741"
   },
   "outputs": [
    {
     "data": {
      "text/plain": [
       "Text(0.5, 1.0, 'Confusion marix for train_data TFIDFW2V for optimal C = 0.100000')"
      ]
     },
     "execution_count": 77,
     "metadata": {
      "tags": []
     },
     "output_type": "execute_result"
    },
    {
     "data": {
      "image/png": "[encoded data removed]",
      "text/plain": [
       "<Figure size 432x288 with 2 Axes>"
      ]
     },
     "metadata": {
      "tags": []
     },
     "output_type": "display_data"
    }
   ],
   "source": [
    "ax = sns.heatmap(confusion_matrix(Y_train,optimalLG.predict(tfidfw2v_train)).T,yticklabels=[\"Predicted 0\",\"Predicted 1\"],\\\n",
    "                 xticklabels=[\"Actual 0\",\"Actual 1\"],annot = True,fmt='d')\n",
    "ax.set_title('Confusion marix for train_data TFIDFW2V for optimal C = %f' %optimal_C)"
   ]
  },
  {
   "cell_type": "code",
   "execution_count": 78,
   "metadata": {
    "colab": {
     "base_uri": "https://localhost:8080/",
     "height": 298
    },
    "colab_type": "code",
    "executionInfo": {
     "elapsed": 1537,
     "status": "ok",
     "timestamp": 1552639965179,
     "user": {
      "displayName": "saikiran yernena",
      "photoUrl": "",
      "userId": "15171324143564695981"
     },
     "user_tz": -330
    },
    "id": "eTzcdBdzH8dm",
    "outputId": "cb9e7157-861a-4bc5-d0a1-0b627accdf46"
   },
   "outputs": [
    {
     "data": {
      "text/plain": [
       "Text(0.5, 1.0, 'Confusion marix for test_data TFIDFW2V for optimal C = 0.100000')"
      ]
     },
     "execution_count": 78,
     "metadata": {
      "tags": []
     },
     "output_type": "execute_result"
    },
    {
     "data": {
      "image/png": "[encoded data removed]",
      "text/plain": [
       "<Figure size 432x288 with 2 Axes>"
      ]
     },
     "metadata": {
      "tags": []
     },
     "output_type": "display_data"
    }
   ],
   "source": [
    "ax = sns.heatmap(confusion_matrix(Y_test,optimalLG.predict(tfidfw2v_test)).T,yticklabels=[\"Predicted 0\",\"Predicted 1\"],\\\n",
    "                 xticklabels=[\"Actual 0\",\"Actual 1\"],annot = True,fmt='d')\n",
    "ax.set_title('Confusion marix for test_data TFIDFW2V for optimal C = %f' %optimal_C)"
   ]
  },
  {
   "cell_type": "markdown",
   "metadata": {
    "colab_type": "text",
    "id": "nOvsBNf2LPpv"
   },
   "source": [
    "# [6] Conclusions"
   ]
  },
  {
   "cell_type": "markdown",
   "metadata": {
    "colab_type": "text",
    "id": "-hpQX648pKP7"
   },
   "source": [
    " Logistic Regression is giving good results with BOW and tfidf vectorizers on amazon fine food reviews data set.\n",
    "\n",
    "\n",
    "For Avgw2v and tfidfw2v representations our logistic regression model is bias towards positive class.\n",
    "\n",
    "\n",
    "1.First I split the Dataset into train,test\n",
    "\n",
    "2.After that I calculate BOW/TFIDF/avgw2v/tfidfw2v vectors.\n",
    "\n",
    "3.After that I found optimal_c using gridsearchCV which is giving maximum cross validation auc score.\n",
    "\n",
    "4.I trained  with obtained alpha and regularizers L1/L2.\n",
    "\n",
    "5.After that test the model's performance using test_data and calculate auc_score for train and test dataset.\n",
    "\n",
    "6.plotted the confusion matrix for both train data and test data\n",
    "\n",
    "7.At last i print top features for both positive and negative classes using coef_\n",
    "for Bow and Tfidf representations.\n",
    "\n",
    "8.And also perform pertubation test bow representation model to find collinearity in features.\n",
    "\n",
    "9.I calculated the sparsity for Bow representation model with L1 regularizer.\n"
   ]
  },
  {
   "cell_type": "code",
   "execution_count": 82,
   "metadata": {
    "colab": {
     "base_uri": "https://localhost:8080/",
     "height": 236
    },
    "colab_type": "code",
    "executionInfo": {
     "elapsed": 1595,
     "status": "ok",
     "timestamp": 1552641436719,
     "user": {
      "displayName": "saikiran yernena",
      "photoUrl": "",
      "userId": "15171324143564695981"
     },
     "user_tz": -330
    },
    "id": "T7VxD0q2LPpw",
    "outputId": "b4317ce1-cecf-47e7-cefb-9d7695f2729d"
   },
   "outputs": [
    {
     "name": "stdout",
     "output_type": "stream",
     "text": [
      "+------------+--------------------+----------------+-----------+\n",
      "| Vectorizer | Optimal_c(1/lamda) | Regularization | AUC_SCORE |\n",
      "+------------+--------------------+----------------+-----------+\n",
      "|    BOW     |        0.01        |       L1       |    0.94   |\n",
      "|    BOW     |       0.001        |       L2       |    0.92   |\n",
      "|   TFIDF    |        0.01        |       L1       |    0.94   |\n",
      "|   TFIDF    |       0.001        |       L2       |    0.92   |\n",
      "|   AVGW2V   |         1          |       L1       |    0.90   |\n",
      "|   AVGW2V   |        0.1         |       L2       |    0.90   |\n",
      "|  TFIDFW2V  |         1          |       L1       |    0.88   |\n",
      "|  TFIDFW2V  |        0.1         |       L2       |    0.88   |\n",
      "+------------+--------------------+----------------+-----------+\n"
     ]
    }
   ],
   "source": [
    "# Please compare all your models using Prettytable library\n",
    "from prettytable import PrettyTable\n",
    "X=PrettyTable()\n",
    "X.field_names=[\"Vectorizer\",\"Optimal_c(1/lamda)\",\"Regularization\",\"AUC_SCORE\"]\n",
    "X.add_row([\"BOW\",\"0.01\",\"L1\",\"0.94\"])\n",
    "X.add_row([\"BOW\",\"0.001\",\"L2\",\"0.92\"])\n",
    "X.add_row([\"TFIDF\",\"0.01\",\"L1\",\"0.94\"])\n",
    "X.add_row([\"TFIDF\",\"0.001\",\"L2\",\"0.92\"])\n",
    "X.add_row([\"AVGW2V\",\"1\",\"L1\",\"0.90\"])\n",
    "X.add_row([\"AVGW2V\",\"0.1\",\"L2\",\"0.90\"])\n",
    "X.add_row([\"TFIDFW2V\",\"1\",\"L1\",\"0.88\"])\n",
    "X.add_row([\"TFIDFW2V\",\"0.1\",\"L2\",\"0.88\"])\n",
    "print(X)"
   ]
  }
 ],
 "metadata": {
  "colab": {
   "collapsed_sections": [
    "Mr4j2QhgLPoQ",
    "tSf5kRdLLPoV",
    "-cEEpDx0LPoZ",
    "m3YEHTLPLPod",
    "TtWqibqfLPos",
    "JriP5nZCLPot",
    "2sHfb529LPow"
   ],
   "name": "05 Amazon Fine Food Reviews Analysis_Logistic Regression.ipynb",
   "provenance": [],
   "version": "0.3.2"
  },
  "kernelspec": {
   "display_name": "Python 3",
   "language": "python",
   "name": "python3"
  },
  "language_info": {
   "codemirror_mode": {
    "name": "ipython",
    "version": 3
   },
   "file_extension": ".py",
   "mimetype": "text/x-python",
   "name": "python",
   "nbconvert_exporter": "python",
   "pygments_lexer": "ipython3",
   "version": "3.6.3rc1"
  }
 },
 "nbformat": 4,
 "nbformat_minor": 1
}
