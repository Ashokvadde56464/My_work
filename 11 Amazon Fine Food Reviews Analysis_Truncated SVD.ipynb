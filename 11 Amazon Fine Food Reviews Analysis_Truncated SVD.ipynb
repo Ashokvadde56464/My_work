{
 "cells": [
  {
   "cell_type": "markdown",
   "metadata": {
    "colab_type": "text",
    "id": "jNC8HEoBChWf"
   },
   "source": [
    "# Amazon Fine Food Reviews Analysis\n",
    "\n",
    "\n",
    "Data Source: https://www.kaggle.com/snap/amazon-fine-food-reviews <br>\n",
    "\n",
    "EDA: https://nycdatascience.com/blog/student-works/amazon-fine-foods-visualization/\n",
    "\n",
    "\n",
    "The Amazon Fine Food Reviews dataset consists of reviews of fine foods from Amazon.<br>\n",
    "\n",
    "Number of reviews: 568,454<br>\n",
    "Number of users: 256,059<br>\n",
    "Number of products: 74,258<br>\n",
    "Timespan: Oct 1999 - Oct 2012<br>\n",
    "Number of Attributes/Columns in data: 10 \n",
    "\n",
    "Attribute Information:\n",
    "\n",
    "1. Id\n",
    "2. ProductId - unique identifier for the product\n",
    "3. UserId - unqiue identifier for the user\n",
    "4. ProfileName\n",
    "5. HelpfulnessNumerator - number of users who found the review helpful\n",
    "6. HelpfulnessDenominator - number of users who indicated whether they found the review helpful or not\n",
    "7. Score - rating between 1 and 5\n",
    "8. Time - timestamp for the review\n",
    "9. Summary - brief summary of the review\n",
    "10. Text - text of the review\n",
    "\n",
    "\n",
    "#### Objective:\n",
    "Given a review, determine whether the review is positive (rating of 4 or 5) or negative (rating of 1 or 2).\n",
    "\n",
    "<br>\n",
    "[Q] How to determine if a review is positive or negative?<br>\n",
    "<br> \n",
    "[Ans] We could use Score/Rating. A rating of 4 or 5 can be cosnidered as a positive review. A rating of 1 or 2 can be considered as negative one. A review of rating 3 is considered nuetral and such reviews are ignored from our analysis. This is an approximate and proxy way of determining the polarity (positivity/negativity) of a review.\n",
    "\n",
    "\n"
   ]
  },
  {
   "cell_type": "markdown",
   "metadata": {
    "colab_type": "text",
    "id": "8wugXnjtChWj"
   },
   "source": [
    "# [1]. Reading Data"
   ]
  },
  {
   "cell_type": "markdown",
   "metadata": {
    "colab_type": "text",
    "id": "YmKFSMRoChWm"
   },
   "source": [
    "## [1.1] Loading the data\n",
    "\n",
    "The dataset is available in two forms\n",
    "1. .csv file\n",
    "2. SQLite Database\n",
    "\n",
    "In order to load the data, We have used the SQLITE dataset as it is easier to query the data and visualise the data efficiently.\n",
    "<br> \n",
    "\n",
    "Here as we only want to get the global sentiment of the recommendations (positive or negative), we will purposefully ignore all Scores equal to 3. If the score is above 3, then the recommendation wil be set to \"positive\". Otherwise, it will be set to \"negative\"."
   ]
  },
  {
   "cell_type": "code",
   "execution_count": 1,
   "metadata": {
    "colab": {},
    "colab_type": "code",
    "id": "Q_rK3P8xChWq"
   },
   "outputs": [
    {
     "name": "stderr",
     "output_type": "stream",
     "text": [
      "C:\\ProgramData\\Anaconda3\\lib\\site-packages\\gensim\\utils.py:1197: UserWarning: detected Windows; aliasing chunkize to chunkize_serial\n",
      "  warnings.warn(\"detected Windows; aliasing chunkize to chunkize_serial\")\n"
     ]
    }
   ],
   "source": [
    "%matplotlib inline\n",
    "import warnings\n",
    "warnings.filterwarnings(\"ignore\")\n",
    "\n",
    "\n",
    "import sqlite3\n",
    "import pandas as pd\n",
    "import numpy as np\n",
    "import nltk\n",
    "import string\n",
    "import matplotlib.pyplot as plt\n",
    "import seaborn as sns\n",
    "from sklearn.feature_extraction.text import TfidfTransformer\n",
    "from sklearn.feature_extraction.text import TfidfVectorizer\n",
    "\n",
    "from sklearn.feature_extraction.text import CountVectorizer\n",
    "from sklearn.metrics import confusion_matrix\n",
    "from sklearn import metrics\n",
    "from sklearn.metrics import roc_curve, auc\n",
    "from nltk.stem.porter import PorterStemmer\n",
    "\n",
    "import re\n",
    "# Tutorial about Python regular expressions: https://pymotw.com/2/re/\n",
    "import string\n",
    "from nltk.corpus import stopwords\n",
    "from nltk.stem import PorterStemmer\n",
    "from nltk.stem.wordnet import WordNetLemmatizer\n",
    "\n",
    "from gensim.models import Word2Vec\n",
    "from gensim.models import KeyedVectors\n",
    "import pickle\n",
    "\n",
    "from tqdm import tqdm\n",
    "import os"
   ]
  },
  {
   "cell_type": "code",
   "execution_count": 2,
   "metadata": {
    "colab": {},
    "colab_type": "code",
    "id": "qGFlKpmUChWz",
    "outputId": "4167ec47-1fc5-47b4-e342-84eb83b1353c"
   },
   "outputs": [
    {
     "name": "stdout",
     "output_type": "stream",
     "text": [
      "Number of data points in our data (100000, 10)\n"
     ]
    },
    {
     "data": {
      "text/html": [
       "<div>\n",
       "<style scoped>\n",
       "    .dataframe tbody tr th:only-of-type {\n",
       "        vertical-align: middle;\n",
       "    }\n",
       "\n",
       "    .dataframe tbody tr th {\n",
       "        vertical-align: top;\n",
       "    }\n",
       "\n",
       "    .dataframe thead th {\n",
       "        text-align: right;\n",
       "    }\n",
       "</style>\n",
       "<table border=\"1\" class=\"dataframe\">\n",
       "  <thead>\n",
       "    <tr style=\"text-align: right;\">\n",
       "      <th></th>\n",
       "      <th>Id</th>\n",
       "      <th>ProductId</th>\n",
       "      <th>UserId</th>\n",
       "      <th>ProfileName</th>\n",
       "      <th>HelpfulnessNumerator</th>\n",
       "      <th>HelpfulnessDenominator</th>\n",
       "      <th>Score</th>\n",
       "      <th>Time</th>\n",
       "      <th>Summary</th>\n",
       "      <th>Text</th>\n",
       "    </tr>\n",
       "  </thead>\n",
       "  <tbody>\n",
       "    <tr>\n",
       "      <th>0</th>\n",
       "      <td>1</td>\n",
       "      <td>B001E4KFG0</td>\n",
       "      <td>A3SGXH7AUHU8GW</td>\n",
       "      <td>delmartian</td>\n",
       "      <td>1</td>\n",
       "      <td>1</td>\n",
       "      <td>1</td>\n",
       "      <td>1303862400</td>\n",
       "      <td>Good Quality Dog Food</td>\n",
       "      <td>I have bought several of the Vitality canned d...</td>\n",
       "    </tr>\n",
       "    <tr>\n",
       "      <th>1</th>\n",
       "      <td>2</td>\n",
       "      <td>B00813GRG4</td>\n",
       "      <td>A1D87F6ZCVE5NK</td>\n",
       "      <td>dll pa</td>\n",
       "      <td>0</td>\n",
       "      <td>0</td>\n",
       "      <td>0</td>\n",
       "      <td>1346976000</td>\n",
       "      <td>Not as Advertised</td>\n",
       "      <td>Product arrived labeled as Jumbo Salted Peanut...</td>\n",
       "    </tr>\n",
       "    <tr>\n",
       "      <th>2</th>\n",
       "      <td>3</td>\n",
       "      <td>B000LQOCH0</td>\n",
       "      <td>ABXLMWJIXXAIN</td>\n",
       "      <td>Natalia Corres \"Natalia Corres\"</td>\n",
       "      <td>1</td>\n",
       "      <td>1</td>\n",
       "      <td>1</td>\n",
       "      <td>1219017600</td>\n",
       "      <td>\"Delight\" says it all</td>\n",
       "      <td>This is a confection that has been around a fe...</td>\n",
       "    </tr>\n",
       "  </tbody>\n",
       "</table>\n",
       "</div>"
      ],
      "text/plain": [
       "   Id   ProductId          UserId                      ProfileName  \\\n",
       "0   1  B001E4KFG0  A3SGXH7AUHU8GW                       delmartian   \n",
       "1   2  B00813GRG4  A1D87F6ZCVE5NK                           dll pa   \n",
       "2   3  B000LQOCH0   ABXLMWJIXXAIN  Natalia Corres \"Natalia Corres\"   \n",
       "\n",
       "   HelpfulnessNumerator  HelpfulnessDenominator  Score        Time  \\\n",
       "0                     1                       1      1  1303862400   \n",
       "1                     0                       0      0  1346976000   \n",
       "2                     1                       1      1  1219017600   \n",
       "\n",
       "                 Summary                                               Text  \n",
       "0  Good Quality Dog Food  I have bought several of the Vitality canned d...  \n",
       "1      Not as Advertised  Product arrived labeled as Jumbo Salted Peanut...  \n",
       "2  \"Delight\" says it all  This is a confection that has been around a fe...  "
      ]
     },
     "execution_count": 2,
     "metadata": {},
     "output_type": "execute_result"
    }
   ],
   "source": [
    "# using SQLite Table to read data.\n",
    "con = sqlite3.connect('database.sqlite') \n",
    "\n",
    "# filtering only positive and negative reviews i.e. \n",
    "# not taking into consideration those reviews with Score=3\n",
    "# SELECT * FROM Reviews WHERE Score != 3 LIMIT 500000, will give top 500000 data points\n",
    "# you can change the number to any other number based on your computing power\n",
    "\n",
    "# filtered_data = pd.read_sql_query(\"\"\" SELECT * FROM Reviews WHERE Score != 3 LIMIT 500000\"\"\", con) \n",
    "# for tsne assignment you can take 5k data points\n",
    "\n",
    "filtered_data = pd.read_sql_query(\"\"\" SELECT * FROM Reviews WHERE Score != 3 LIMIT 100000\"\"\", con) \n",
    "\n",
    "# Give reviews with Score>3 a positive rating(1), and reviews with a score<3 a negative rating(0).\n",
    "def partition(x):\n",
    "    if x < 3:\n",
    "        return 0\n",
    "    return 1\n",
    "\n",
    "#changing reviews with score less than 3 to be positive and vice-versa\n",
    "actualScore = filtered_data['Score']\n",
    "positiveNegative = actualScore.map(partition) \n",
    "filtered_data['Score'] = positiveNegative\n",
    "print(\"Number of data points in our data\", filtered_data.shape)\n",
    "filtered_data.head(3)"
   ]
  },
  {
   "cell_type": "code",
   "execution_count": 3,
   "metadata": {
    "colab": {},
    "colab_type": "code",
    "id": "Oy6FbbqIChW9"
   },
   "outputs": [],
   "source": [
    "display = pd.read_sql_query(\"\"\"\n",
    "SELECT UserId, ProductId, ProfileName, Time, Score, Text, COUNT(*)\n",
    "FROM Reviews\n",
    "GROUP BY UserId\n",
    "HAVING COUNT(*)>1\n",
    "\"\"\", con)"
   ]
  },
  {
   "cell_type": "code",
   "execution_count": 4,
   "metadata": {
    "colab": {},
    "colab_type": "code",
    "id": "VxmpGW-WChXD",
    "outputId": "a58c60e5-15d8-41f7-de60-5ad8396ce0bf",
    "scrolled": true
   },
   "outputs": [
    {
     "name": "stdout",
     "output_type": "stream",
     "text": [
      "(80668, 7)\n"
     ]
    },
    {
     "data": {
      "text/html": [
       "<div>\n",
       "<style scoped>\n",
       "    .dataframe tbody tr th:only-of-type {\n",
       "        vertical-align: middle;\n",
       "    }\n",
       "\n",
       "    .dataframe tbody tr th {\n",
       "        vertical-align: top;\n",
       "    }\n",
       "\n",
       "    .dataframe thead th {\n",
       "        text-align: right;\n",
       "    }\n",
       "</style>\n",
       "<table border=\"1\" class=\"dataframe\">\n",
       "  <thead>\n",
       "    <tr style=\"text-align: right;\">\n",
       "      <th></th>\n",
       "      <th>UserId</th>\n",
       "      <th>ProductId</th>\n",
       "      <th>ProfileName</th>\n",
       "      <th>Time</th>\n",
       "      <th>Score</th>\n",
       "      <th>Text</th>\n",
       "      <th>COUNT(*)</th>\n",
       "    </tr>\n",
       "  </thead>\n",
       "  <tbody>\n",
       "    <tr>\n",
       "      <th>0</th>\n",
       "      <td>#oc-R115TNMSPFT9I7</td>\n",
       "      <td>B007Y59HVM</td>\n",
       "      <td>Breyton</td>\n",
       "      <td>1331510400</td>\n",
       "      <td>2</td>\n",
       "      <td>Overall its just OK when considering the price...</td>\n",
       "      <td>2</td>\n",
       "    </tr>\n",
       "    <tr>\n",
       "      <th>1</th>\n",
       "      <td>#oc-R11D9D7SHXIJB9</td>\n",
       "      <td>B005HG9ET0</td>\n",
       "      <td>Louis E. Emory \"hoppy\"</td>\n",
       "      <td>1342396800</td>\n",
       "      <td>5</td>\n",
       "      <td>My wife has recurring extreme muscle spasms, u...</td>\n",
       "      <td>3</td>\n",
       "    </tr>\n",
       "    <tr>\n",
       "      <th>2</th>\n",
       "      <td>#oc-R11DNU2NBKQ23Z</td>\n",
       "      <td>B007Y59HVM</td>\n",
       "      <td>Kim Cieszykowski</td>\n",
       "      <td>1348531200</td>\n",
       "      <td>1</td>\n",
       "      <td>This coffee is horrible and unfortunately not ...</td>\n",
       "      <td>2</td>\n",
       "    </tr>\n",
       "    <tr>\n",
       "      <th>3</th>\n",
       "      <td>#oc-R11O5J5ZVQE25C</td>\n",
       "      <td>B005HG9ET0</td>\n",
       "      <td>Penguin Chick</td>\n",
       "      <td>1346889600</td>\n",
       "      <td>5</td>\n",
       "      <td>This will be the bottle that you grab from the...</td>\n",
       "      <td>3</td>\n",
       "    </tr>\n",
       "    <tr>\n",
       "      <th>4</th>\n",
       "      <td>#oc-R12KPBODL2B5ZD</td>\n",
       "      <td>B007OSBE1U</td>\n",
       "      <td>Christopher P. Presta</td>\n",
       "      <td>1348617600</td>\n",
       "      <td>1</td>\n",
       "      <td>I didnt like this coffee. Instead of telling y...</td>\n",
       "      <td>2</td>\n",
       "    </tr>\n",
       "  </tbody>\n",
       "</table>\n",
       "</div>"
      ],
      "text/plain": [
       "               UserId   ProductId             ProfileName        Time  Score  \\\n",
       "0  #oc-R115TNMSPFT9I7  B007Y59HVM                 Breyton  1331510400      2   \n",
       "1  #oc-R11D9D7SHXIJB9  B005HG9ET0  Louis E. Emory \"hoppy\"  1342396800      5   \n",
       "2  #oc-R11DNU2NBKQ23Z  B007Y59HVM        Kim Cieszykowski  1348531200      1   \n",
       "3  #oc-R11O5J5ZVQE25C  B005HG9ET0           Penguin Chick  1346889600      5   \n",
       "4  #oc-R12KPBODL2B5ZD  B007OSBE1U   Christopher P. Presta  1348617600      1   \n",
       "\n",
       "                                                Text  COUNT(*)  \n",
       "0  Overall its just OK when considering the price...         2  \n",
       "1  My wife has recurring extreme muscle spasms, u...         3  \n",
       "2  This coffee is horrible and unfortunately not ...         2  \n",
       "3  This will be the bottle that you grab from the...         3  \n",
       "4  I didnt like this coffee. Instead of telling y...         2  "
      ]
     },
     "execution_count": 4,
     "metadata": {},
     "output_type": "execute_result"
    }
   ],
   "source": [
    "print(display.shape)\n",
    "display.head()"
   ]
  },
  {
   "cell_type": "code",
   "execution_count": 5,
   "metadata": {
    "colab": {},
    "colab_type": "code",
    "id": "qVYRWe1nChXK",
    "outputId": "c2da252a-b5b2-4d00-f066-5025a507dab0"
   },
   "outputs": [
    {
     "data": {
      "text/html": [
       "<div>\n",
       "<style scoped>\n",
       "    .dataframe tbody tr th:only-of-type {\n",
       "        vertical-align: middle;\n",
       "    }\n",
       "\n",
       "    .dataframe tbody tr th {\n",
       "        vertical-align: top;\n",
       "    }\n",
       "\n",
       "    .dataframe thead th {\n",
       "        text-align: right;\n",
       "    }\n",
       "</style>\n",
       "<table border=\"1\" class=\"dataframe\">\n",
       "  <thead>\n",
       "    <tr style=\"text-align: right;\">\n",
       "      <th></th>\n",
       "      <th>UserId</th>\n",
       "      <th>ProductId</th>\n",
       "      <th>ProfileName</th>\n",
       "      <th>Time</th>\n",
       "      <th>Score</th>\n",
       "      <th>Text</th>\n",
       "      <th>COUNT(*)</th>\n",
       "    </tr>\n",
       "  </thead>\n",
       "  <tbody>\n",
       "    <tr>\n",
       "      <th>80638</th>\n",
       "      <td>AZY10LLTJ71NX</td>\n",
       "      <td>B006P7E5ZI</td>\n",
       "      <td>undertheshrine \"undertheshrine\"</td>\n",
       "      <td>1334707200</td>\n",
       "      <td>5</td>\n",
       "      <td>I was recommended to try green tea extract to ...</td>\n",
       "      <td>5</td>\n",
       "    </tr>\n",
       "  </tbody>\n",
       "</table>\n",
       "</div>"
      ],
      "text/plain": [
       "              UserId   ProductId                      ProfileName        Time  \\\n",
       "80638  AZY10LLTJ71NX  B006P7E5ZI  undertheshrine \"undertheshrine\"  1334707200   \n",
       "\n",
       "       Score                                               Text  COUNT(*)  \n",
       "80638      5  I was recommended to try green tea extract to ...         5  "
      ]
     },
     "execution_count": 5,
     "metadata": {},
     "output_type": "execute_result"
    }
   ],
   "source": [
    "display[display['UserId']=='AZY10LLTJ71NX']"
   ]
  },
  {
   "cell_type": "code",
   "execution_count": 6,
   "metadata": {
    "colab": {},
    "colab_type": "code",
    "id": "bk3oC9YoChXQ",
    "outputId": "a3445fc5-e58e-48c2-bd80-c8bf3c100a96"
   },
   "outputs": [
    {
     "data": {
      "text/plain": [
       "393063"
      ]
     },
     "execution_count": 6,
     "metadata": {},
     "output_type": "execute_result"
    }
   ],
   "source": [
    "display['COUNT(*)'].sum()"
   ]
  },
  {
   "cell_type": "markdown",
   "metadata": {
    "colab_type": "text",
    "id": "tUdW-oABChXZ"
   },
   "source": [
    "#  [2] Exploratory Data Analysis"
   ]
  },
  {
   "cell_type": "markdown",
   "metadata": {
    "colab_type": "text",
    "id": "1lWaQ1eFChXb"
   },
   "source": [
    "## [2.1] Data Cleaning: Deduplication\n",
    "\n",
    "It is observed (as shown in the table below) that the reviews data had many duplicate entries. Hence it was necessary to remove duplicates in order to get unbiased results for the analysis of the data.  Following is an example:"
   ]
  },
  {
   "cell_type": "code",
   "execution_count": 7,
   "metadata": {
    "colab": {},
    "colab_type": "code",
    "id": "0scKI9A4ChXd",
    "outputId": "64eefd15-d63e-4742-a669-6ab413c64157",
    "scrolled": false
   },
   "outputs": [
    {
     "data": {
      "text/html": [
       "<div>\n",
       "<style scoped>\n",
       "    .dataframe tbody tr th:only-of-type {\n",
       "        vertical-align: middle;\n",
       "    }\n",
       "\n",
       "    .dataframe tbody tr th {\n",
       "        vertical-align: top;\n",
       "    }\n",
       "\n",
       "    .dataframe thead th {\n",
       "        text-align: right;\n",
       "    }\n",
       "</style>\n",
       "<table border=\"1\" class=\"dataframe\">\n",
       "  <thead>\n",
       "    <tr style=\"text-align: right;\">\n",
       "      <th></th>\n",
       "      <th>Id</th>\n",
       "      <th>ProductId</th>\n",
       "      <th>UserId</th>\n",
       "      <th>ProfileName</th>\n",
       "      <th>HelpfulnessNumerator</th>\n",
       "      <th>HelpfulnessDenominator</th>\n",
       "      <th>Score</th>\n",
       "      <th>Time</th>\n",
       "      <th>Summary</th>\n",
       "      <th>Text</th>\n",
       "    </tr>\n",
       "  </thead>\n",
       "  <tbody>\n",
       "    <tr>\n",
       "      <th>0</th>\n",
       "      <td>78445</td>\n",
       "      <td>B000HDL1RQ</td>\n",
       "      <td>AR5J8UI46CURR</td>\n",
       "      <td>Geetha Krishnan</td>\n",
       "      <td>2</td>\n",
       "      <td>2</td>\n",
       "      <td>5</td>\n",
       "      <td>1199577600</td>\n",
       "      <td>LOACKER QUADRATINI VANILLA WAFERS</td>\n",
       "      <td>DELICIOUS WAFERS. I FIND THAT EUROPEAN WAFERS ...</td>\n",
       "    </tr>\n",
       "    <tr>\n",
       "      <th>1</th>\n",
       "      <td>138317</td>\n",
       "      <td>B000HDOPYC</td>\n",
       "      <td>AR5J8UI46CURR</td>\n",
       "      <td>Geetha Krishnan</td>\n",
       "      <td>2</td>\n",
       "      <td>2</td>\n",
       "      <td>5</td>\n",
       "      <td>1199577600</td>\n",
       "      <td>LOACKER QUADRATINI VANILLA WAFERS</td>\n",
       "      <td>DELICIOUS WAFERS. I FIND THAT EUROPEAN WAFERS ...</td>\n",
       "    </tr>\n",
       "    <tr>\n",
       "      <th>2</th>\n",
       "      <td>138277</td>\n",
       "      <td>B000HDOPYM</td>\n",
       "      <td>AR5J8UI46CURR</td>\n",
       "      <td>Geetha Krishnan</td>\n",
       "      <td>2</td>\n",
       "      <td>2</td>\n",
       "      <td>5</td>\n",
       "      <td>1199577600</td>\n",
       "      <td>LOACKER QUADRATINI VANILLA WAFERS</td>\n",
       "      <td>DELICIOUS WAFERS. I FIND THAT EUROPEAN WAFERS ...</td>\n",
       "    </tr>\n",
       "    <tr>\n",
       "      <th>3</th>\n",
       "      <td>73791</td>\n",
       "      <td>B000HDOPZG</td>\n",
       "      <td>AR5J8UI46CURR</td>\n",
       "      <td>Geetha Krishnan</td>\n",
       "      <td>2</td>\n",
       "      <td>2</td>\n",
       "      <td>5</td>\n",
       "      <td>1199577600</td>\n",
       "      <td>LOACKER QUADRATINI VANILLA WAFERS</td>\n",
       "      <td>DELICIOUS WAFERS. I FIND THAT EUROPEAN WAFERS ...</td>\n",
       "    </tr>\n",
       "    <tr>\n",
       "      <th>4</th>\n",
       "      <td>155049</td>\n",
       "      <td>B000PAQ75C</td>\n",
       "      <td>AR5J8UI46CURR</td>\n",
       "      <td>Geetha Krishnan</td>\n",
       "      <td>2</td>\n",
       "      <td>2</td>\n",
       "      <td>5</td>\n",
       "      <td>1199577600</td>\n",
       "      <td>LOACKER QUADRATINI VANILLA WAFERS</td>\n",
       "      <td>DELICIOUS WAFERS. I FIND THAT EUROPEAN WAFERS ...</td>\n",
       "    </tr>\n",
       "  </tbody>\n",
       "</table>\n",
       "</div>"
      ],
      "text/plain": [
       "       Id   ProductId         UserId      ProfileName  HelpfulnessNumerator  \\\n",
       "0   78445  B000HDL1RQ  AR5J8UI46CURR  Geetha Krishnan                     2   \n",
       "1  138317  B000HDOPYC  AR5J8UI46CURR  Geetha Krishnan                     2   \n",
       "2  138277  B000HDOPYM  AR5J8UI46CURR  Geetha Krishnan                     2   \n",
       "3   73791  B000HDOPZG  AR5J8UI46CURR  Geetha Krishnan                     2   \n",
       "4  155049  B000PAQ75C  AR5J8UI46CURR  Geetha Krishnan                     2   \n",
       "\n",
       "   HelpfulnessDenominator  Score        Time  \\\n",
       "0                       2      5  1199577600   \n",
       "1                       2      5  1199577600   \n",
       "2                       2      5  1199577600   \n",
       "3                       2      5  1199577600   \n",
       "4                       2      5  1199577600   \n",
       "\n",
       "                             Summary  \\\n",
       "0  LOACKER QUADRATINI VANILLA WAFERS   \n",
       "1  LOACKER QUADRATINI VANILLA WAFERS   \n",
       "2  LOACKER QUADRATINI VANILLA WAFERS   \n",
       "3  LOACKER QUADRATINI VANILLA WAFERS   \n",
       "4  LOACKER QUADRATINI VANILLA WAFERS   \n",
       "\n",
       "                                                Text  \n",
       "0  DELICIOUS WAFERS. I FIND THAT EUROPEAN WAFERS ...  \n",
       "1  DELICIOUS WAFERS. I FIND THAT EUROPEAN WAFERS ...  \n",
       "2  DELICIOUS WAFERS. I FIND THAT EUROPEAN WAFERS ...  \n",
       "3  DELICIOUS WAFERS. I FIND THAT EUROPEAN WAFERS ...  \n",
       "4  DELICIOUS WAFERS. I FIND THAT EUROPEAN WAFERS ...  "
      ]
     },
     "execution_count": 7,
     "metadata": {},
     "output_type": "execute_result"
    }
   ],
   "source": [
    "display= pd.read_sql_query(\"\"\"\n",
    "SELECT *\n",
    "FROM Reviews\n",
    "WHERE Score != 3 AND UserId=\"AR5J8UI46CURR\"\n",
    "ORDER BY ProductID\n",
    "\"\"\", con)\n",
    "display.head()"
   ]
  },
  {
   "cell_type": "markdown",
   "metadata": {
    "colab_type": "text",
    "id": "ORBstW7kChXk"
   },
   "source": [
    "As it can be seen above that same user has multiple reviews with same values for HelpfulnessNumerator, HelpfulnessDenominator, Score, Time, Summary and Text and on doing analysis it was found that <br>\n",
    "<br> \n",
    "ProductId=B000HDOPZG was Loacker Quadratini Vanilla Wafer Cookies, 8.82-Ounce Packages (Pack of 8)<br>\n",
    "<br> \n",
    "ProductId=B000HDL1RQ was Loacker Quadratini Lemon Wafer Cookies, 8.82-Ounce Packages (Pack of 8) and so on<br>\n",
    "\n",
    "It was inferred after analysis that reviews with same parameters other than ProductId belonged to the same product just having different flavour or quantity. Hence in order to reduce redundancy it was decided to eliminate the rows having same parameters.<br>\n",
    "\n",
    "The method used for the same was that we first sort the data according to ProductId and then just keep the first similar product review and delelte the others. for eg. in the above just the review for ProductId=B000HDL1RQ remains. This method ensures that there is only one representative for each product and deduplication without sorting would lead to possibility of different representatives still existing for the same product."
   ]
  },
  {
   "cell_type": "code",
   "execution_count": 8,
   "metadata": {
    "colab": {},
    "colab_type": "code",
    "id": "QjqRsNlrChXn"
   },
   "outputs": [],
   "source": [
    "#Sorting data according to ProductId in ascending order\n",
    "sorted_data=filtered_data.sort_values('ProductId', axis=0, ascending=True, inplace=False, kind='quicksort', na_position='last')"
   ]
  },
  {
   "cell_type": "code",
   "execution_count": 9,
   "metadata": {
    "colab": {},
    "colab_type": "code",
    "id": "5f7tJRTNChXr",
    "outputId": "8b6147b9-2eb1-4af5-facc-9bcf1302969d"
   },
   "outputs": [
    {
     "data": {
      "text/plain": [
       "(87775, 10)"
      ]
     },
     "execution_count": 9,
     "metadata": {},
     "output_type": "execute_result"
    }
   ],
   "source": [
    "#Deduplication of entries\n",
    "final=sorted_data.drop_duplicates(subset={\"UserId\",\"ProfileName\",\"Time\",\"Text\"}, keep='first', inplace=False)\n",
    "final.shape"
   ]
  },
  {
   "cell_type": "code",
   "execution_count": 10,
   "metadata": {
    "colab": {},
    "colab_type": "code",
    "id": "OkMII7G4ChXx",
    "outputId": "8c9c181d-fbb6-4a8c-b552-07a62d762fdd"
   },
   "outputs": [
    {
     "data": {
      "text/plain": [
       "87.775"
      ]
     },
     "execution_count": 10,
     "metadata": {},
     "output_type": "execute_result"
    }
   ],
   "source": [
    "#Checking to see how much % of data still remains\n",
    "(final['Id'].size*1.0)/(filtered_data['Id'].size*1.0)*100"
   ]
  },
  {
   "cell_type": "markdown",
   "metadata": {
    "colab_type": "text",
    "id": "GqWw3R5rChX6"
   },
   "source": [
    "<b>Observation:-</b> It was also seen that in two rows given below the value of HelpfulnessNumerator is greater than HelpfulnessDenominator which is not practically possible hence these two rows too are removed from calcualtions"
   ]
  },
  {
   "cell_type": "code",
   "execution_count": 11,
   "metadata": {
    "colab": {},
    "colab_type": "code",
    "id": "D04AzcxlChX-",
    "outputId": "1cedb765-4633-40e8-cd26-5e9ea9112807"
   },
   "outputs": [
    {
     "data": {
      "text/html": [
       "<div>\n",
       "<style scoped>\n",
       "    .dataframe tbody tr th:only-of-type {\n",
       "        vertical-align: middle;\n",
       "    }\n",
       "\n",
       "    .dataframe tbody tr th {\n",
       "        vertical-align: top;\n",
       "    }\n",
       "\n",
       "    .dataframe thead th {\n",
       "        text-align: right;\n",
       "    }\n",
       "</style>\n",
       "<table border=\"1\" class=\"dataframe\">\n",
       "  <thead>\n",
       "    <tr style=\"text-align: right;\">\n",
       "      <th></th>\n",
       "      <th>Id</th>\n",
       "      <th>ProductId</th>\n",
       "      <th>UserId</th>\n",
       "      <th>ProfileName</th>\n",
       "      <th>HelpfulnessNumerator</th>\n",
       "      <th>HelpfulnessDenominator</th>\n",
       "      <th>Score</th>\n",
       "      <th>Time</th>\n",
       "      <th>Summary</th>\n",
       "      <th>Text</th>\n",
       "    </tr>\n",
       "  </thead>\n",
       "  <tbody>\n",
       "    <tr>\n",
       "      <th>0</th>\n",
       "      <td>64422</td>\n",
       "      <td>B000MIDROQ</td>\n",
       "      <td>A161DK06JJMCYF</td>\n",
       "      <td>J. E. Stephens \"Jeanne\"</td>\n",
       "      <td>3</td>\n",
       "      <td>1</td>\n",
       "      <td>5</td>\n",
       "      <td>1224892800</td>\n",
       "      <td>Bought This for My Son at College</td>\n",
       "      <td>My son loves spaghetti so I didn't hesitate or...</td>\n",
       "    </tr>\n",
       "    <tr>\n",
       "      <th>1</th>\n",
       "      <td>44737</td>\n",
       "      <td>B001EQ55RW</td>\n",
       "      <td>A2V0I904FH7ABY</td>\n",
       "      <td>Ram</td>\n",
       "      <td>3</td>\n",
       "      <td>2</td>\n",
       "      <td>4</td>\n",
       "      <td>1212883200</td>\n",
       "      <td>Pure cocoa taste with crunchy almonds inside</td>\n",
       "      <td>It was almost a 'love at first bite' - the per...</td>\n",
       "    </tr>\n",
       "  </tbody>\n",
       "</table>\n",
       "</div>"
      ],
      "text/plain": [
       "      Id   ProductId          UserId              ProfileName  \\\n",
       "0  64422  B000MIDROQ  A161DK06JJMCYF  J. E. Stephens \"Jeanne\"   \n",
       "1  44737  B001EQ55RW  A2V0I904FH7ABY                      Ram   \n",
       "\n",
       "   HelpfulnessNumerator  HelpfulnessDenominator  Score        Time  \\\n",
       "0                     3                       1      5  1224892800   \n",
       "1                     3                       2      4  1212883200   \n",
       "\n",
       "                                        Summary  \\\n",
       "0             Bought This for My Son at College   \n",
       "1  Pure cocoa taste with crunchy almonds inside   \n",
       "\n",
       "                                                Text  \n",
       "0  My son loves spaghetti so I didn't hesitate or...  \n",
       "1  It was almost a 'love at first bite' - the per...  "
      ]
     },
     "execution_count": 11,
     "metadata": {},
     "output_type": "execute_result"
    }
   ],
   "source": [
    "display= pd.read_sql_query(\"\"\"\n",
    "SELECT *\n",
    "FROM Reviews\n",
    "WHERE Score != 3 AND Id=44737 OR Id=64422\n",
    "ORDER BY ProductID\n",
    "\"\"\", con)\n",
    "\n",
    "display.head()"
   ]
  },
  {
   "cell_type": "code",
   "execution_count": 12,
   "metadata": {
    "colab": {},
    "colab_type": "code",
    "id": "jgXX4VgCChYG"
   },
   "outputs": [],
   "source": [
    "final=final[final.HelpfulnessNumerator<=final.HelpfulnessDenominator]"
   ]
  },
  {
   "cell_type": "code",
   "execution_count": 13,
   "metadata": {
    "colab": {},
    "colab_type": "code",
    "id": "ItoTBxEAChYN",
    "outputId": "689f9954-0e4b-4be8-d865-342b6686144c"
   },
   "outputs": [
    {
     "name": "stdout",
     "output_type": "stream",
     "text": [
      "(87773, 10)\n"
     ]
    },
    {
     "data": {
      "text/plain": [
       "1    73592\n",
       "0    14181\n",
       "Name: Score, dtype: int64"
      ]
     },
     "execution_count": 13,
     "metadata": {},
     "output_type": "execute_result"
    }
   ],
   "source": [
    "#Before starting the next phase of preprocessing lets see the number of entries left\n",
    "print(final.shape)\n",
    "\n",
    "#How many positive and negative reviews are present in our dataset?\n",
    "final['Score'].value_counts()"
   ]
  },
  {
   "cell_type": "markdown",
   "metadata": {
    "colab_type": "text",
    "id": "fu12_ACbChYY"
   },
   "source": [
    "#  [3] Preprocessing"
   ]
  },
  {
   "cell_type": "markdown",
   "metadata": {
    "colab_type": "text",
    "id": "3pg73rLEChYa"
   },
   "source": [
    "## [3.1].  Preprocessing Review Text\n",
    "\n",
    "Now that we have finished deduplication our data requires some preprocessing before we go on further with analysis and making the prediction model.\n",
    "\n",
    "Hence in the Preprocessing phase we do the following in the order below:-\n",
    "\n",
    "1. Begin by removing the html tags\n",
    "2. Remove any punctuations or limited set of special characters like , or . or # etc.\n",
    "3. Check if the word is made up of english letters and is not alpha-numeric\n",
    "4. Check to see if the length of the word is greater than 2 (as it was researched that there is no adjective in 2-letters)\n",
    "5. Convert the word to lowercase\n",
    "6. Remove Stopwords\n",
    "7. Finally Snowball Stemming the word (it was obsereved to be better than Porter Stemming)<br>\n",
    "\n",
    "After which we collect the words used to describe positive and negative reviews"
   ]
  },
  {
   "cell_type": "code",
   "execution_count": 14,
   "metadata": {
    "colab": {},
    "colab_type": "code",
    "id": "BZpKtJnDChYc",
    "outputId": "08059845-51a0-4085-d119-77bb766d535a"
   },
   "outputs": [
    {
     "name": "stdout",
     "output_type": "stream",
     "text": [
      "My dogs loves this chicken but its a product from China, so we wont be buying it anymore.  Its very hard to find any chicken products made in the USA but they are out there, but this one isnt.  Its too bad too because its a good product but I wont take any chances till they know what is going on with the china imports.\n",
      "==================================================\n",
      "The Candy Blocks were a nice visual for the Lego Birthday party but the candy has little taste to it.  Very little of the 2 lbs that I bought were eaten and I threw the rest away.  I would not buy the candy again.\n",
      "==================================================\n",
      "was way to hot for my blood, took a bite and did a jig  lol\n",
      "==================================================\n",
      "My dog LOVES these treats. They tend to have a very strong fish oil smell. So if you are afraid of the fishy smell, don't get it. But I think my dog likes it because of the smell. These treats are really small in size. They are great for training. You can give your dog several of these without worrying about him over eating. Amazon's price was much more reasonable than any other retailer. You can buy a 1 pound bag on Amazon for almost the same price as a 6 ounce bag at other retailers. It's definitely worth it to buy a big bag if your dog eats them a lot.\n",
      "==================================================\n"
     ]
    }
   ],
   "source": [
    "# printing some random reviews\n",
    "sent_0 = final['Text'].values[0]\n",
    "print(sent_0)\n",
    "print(\"=\"*50)\n",
    "\n",
    "sent_1000 = final['Text'].values[1000]\n",
    "print(sent_1000)\n",
    "print(\"=\"*50)\n",
    "\n",
    "sent_1500 = final['Text'].values[1500]\n",
    "print(sent_1500)\n",
    "print(\"=\"*50)\n",
    "\n",
    "sent_4900 = final['Text'].values[4900]\n",
    "print(sent_4900)\n",
    "print(\"=\"*50)"
   ]
  },
  {
   "cell_type": "code",
   "execution_count": 15,
   "metadata": {
    "colab": {},
    "colab_type": "code",
    "id": "tpufjpl_ChYm",
    "outputId": "261a8bc7-cfd5-4b7f-fa96-959ca8aacd57"
   },
   "outputs": [
    {
     "name": "stdout",
     "output_type": "stream",
     "text": [
      "My dogs loves this chicken but its a product from China, so we wont be buying it anymore.  Its very hard to find any chicken products made in the USA but they are out there, but this one isnt.  Its too bad too because its a good product but I wont take any chances till they know what is going on with the china imports.\n"
     ]
    }
   ],
   "source": [
    "# remove urls from text python: https://stackoverflow.com/a/40823105/4084039\n",
    "sent_0 = re.sub(r\"http\\S+\", \"\", sent_0)\n",
    "sent_1000 = re.sub(r\"http\\S+\", \"\", sent_1000)\n",
    "sent_150 = re.sub(r\"http\\S+\", \"\", sent_1500)\n",
    "sent_4900 = re.sub(r\"http\\S+\", \"\", sent_4900)\n",
    "\n",
    "print(sent_0)"
   ]
  },
  {
   "cell_type": "code",
   "execution_count": 16,
   "metadata": {
    "colab": {},
    "colab_type": "code",
    "id": "giHr0E8zChYv",
    "outputId": "524fc738-3646-486d-b670-e33a2e5d0cd2"
   },
   "outputs": [
    {
     "name": "stdout",
     "output_type": "stream",
     "text": [
      "My dogs loves this chicken but its a product from China, so we wont be buying it anymore.  Its very hard to find any chicken products made in the USA but they are out there, but this one isnt.  Its too bad too because its a good product but I wont take any chances till they know what is going on with the china imports.\n",
      "==================================================\n",
      "The Candy Blocks were a nice visual for the Lego Birthday party but the candy has little taste to it.  Very little of the 2 lbs that I bought were eaten and I threw the rest away.  I would not buy the candy again.\n",
      "==================================================\n",
      "was way to hot for my blood, took a bite and did a jig  lol\n",
      "==================================================\n",
      "My dog LOVES these treats. They tend to have a very strong fish oil smell. So if you are afraid of the fishy smell, don't get it. But I think my dog likes it because of the smell. These treats are really small in size. They are great for training. You can give your dog several of these without worrying about him over eating. Amazon's price was much more reasonable than any other retailer. You can buy a 1 pound bag on Amazon for almost the same price as a 6 ounce bag at other retailers. It's definitely worth it to buy a big bag if your dog eats them a lot.\n"
     ]
    }
   ],
   "source": [
    "# https://stackoverflow.com/questions/16206380/python-beautifulsoup-how-to-remove-all-tags-from-an-element\n",
    "from bs4 import BeautifulSoup\n",
    "\n",
    "soup = BeautifulSoup(sent_0, 'lxml')\n",
    "text = soup.get_text()\n",
    "print(text)\n",
    "print(\"=\"*50)\n",
    "\n",
    "soup = BeautifulSoup(sent_1000, 'lxml')\n",
    "text = soup.get_text()\n",
    "print(text)\n",
    "print(\"=\"*50)\n",
    "\n",
    "soup = BeautifulSoup(sent_1500, 'lxml')\n",
    "text = soup.get_text()\n",
    "print(text)\n",
    "print(\"=\"*50)\n",
    "\n",
    "soup = BeautifulSoup(sent_4900, 'lxml')\n",
    "text = soup.get_text()\n",
    "print(text)"
   ]
  },
  {
   "cell_type": "code",
   "execution_count": 17,
   "metadata": {
    "colab": {},
    "colab_type": "code",
    "id": "HdhtRruPChY3"
   },
   "outputs": [],
   "source": [
    "# https://stackoverflow.com/a/47091490/4084039\n",
    "import re\n",
    "\n",
    "def decontracted(phrase):\n",
    "    # specific\n",
    "    phrase = re.sub(r\"won't\", \"will not\", phrase)\n",
    "    phrase = re.sub(r\"can\\'t\", \"can not\", phrase)\n",
    "\n",
    "    # general\n",
    "    phrase = re.sub(r\"n\\'t\", \" not\", phrase)\n",
    "    phrase = re.sub(r\"\\'re\", \" are\", phrase)\n",
    "    phrase = re.sub(r\"\\'s\", \" is\", phrase)\n",
    "    phrase = re.sub(r\"\\'d\", \" would\", phrase)\n",
    "    phrase = re.sub(r\"\\'ll\", \" will\", phrase)\n",
    "    phrase = re.sub(r\"\\'t\", \" not\", phrase)\n",
    "    phrase = re.sub(r\"\\'ve\", \" have\", phrase)\n",
    "    phrase = re.sub(r\"\\'m\", \" am\", phrase)\n",
    "    return phrase"
   ]
  },
  {
   "cell_type": "code",
   "execution_count": 18,
   "metadata": {
    "colab": {},
    "colab_type": "code",
    "id": "S8yht6Y7ChY7",
    "outputId": "716f4785-e4d7-40e4-addb-cf9b065a2f9d"
   },
   "outputs": [
    {
     "name": "stdout",
     "output_type": "stream",
     "text": [
      "was way to hot for my blood, took a bite and did a jig  lol\n",
      "==================================================\n"
     ]
    }
   ],
   "source": [
    "sent_1500 = decontracted(sent_1500)\n",
    "print(sent_1500)\n",
    "print(\"=\"*50)"
   ]
  },
  {
   "cell_type": "code",
   "execution_count": 19,
   "metadata": {
    "colab": {},
    "colab_type": "code",
    "id": "zJU8V8P4ChZE",
    "outputId": "0aa7cd16-c67f-41d7-843e-d1166399817a"
   },
   "outputs": [
    {
     "name": "stdout",
     "output_type": "stream",
     "text": [
      "My dogs loves this chicken but its a product from China, so we wont be buying it anymore.  Its very hard to find any chicken products made in the USA but they are out there, but this one isnt.  Its too bad too because its a good product but I wont take any chances till they know what is going on with the china imports.\n"
     ]
    }
   ],
   "source": [
    "#remove words with numbers python: https://stackoverflow.com/a/18082370/4084039\n",
    "sent_0 = re.sub(\"\\S*\\d\\S*\", \"\", sent_0).strip()\n",
    "print(sent_0)"
   ]
  },
  {
   "cell_type": "code",
   "execution_count": 20,
   "metadata": {
    "colab": {},
    "colab_type": "code",
    "id": "zUDg3iWhChZL",
    "outputId": "4d26aaf6-d00d-4506-8ba5-514ead41aaa3"
   },
   "outputs": [
    {
     "name": "stdout",
     "output_type": "stream",
     "text": [
      "was way to hot for my blood took a bite and did a jig lol\n"
     ]
    }
   ],
   "source": [
    "#remove spacial character: https://stackoverflow.com/a/5843547/4084039\n",
    "sent_1500 = re.sub('[^A-Za-z0-9]+', ' ', sent_1500)\n",
    "print(sent_1500)"
   ]
  },
  {
   "cell_type": "code",
   "execution_count": 21,
   "metadata": {
    "colab": {},
    "colab_type": "code",
    "id": "q2QebhvKChZR"
   },
   "outputs": [],
   "source": [
    "# https://gist.github.com/sebleier/554280\n",
    "# we are removing the words from the stop words list: 'no', 'nor', 'not'\n",
    "# <br /><br /> ==> after the above steps, we are getting \"br br\"\n",
    "# we are including them into stop words list\n",
    "# instead of <br /> if we have <br/> these tags would have revmoved in the 1st step\n",
    "\n",
    "stopwords= set(['br', 'the', 'i', 'me', 'my', 'myself', 'we', 'our', 'ours', 'ourselves', 'you', \"you're\", \"you've\",\\\n",
    "            \"you'll\", \"you'd\", 'your', 'yours', 'yourself', 'yourselves', 'he', 'him', 'his', 'himself', \\\n",
    "            'she', \"she's\", 'her', 'hers', 'herself', 'it', \"it's\", 'its', 'itself', 'they', 'them', 'their',\\\n",
    "            'theirs', 'themselves', 'what', 'which', 'who', 'whom', 'this', 'that', \"that'll\", 'these', 'those', \\\n",
    "            'am', 'is', 'are', 'was', 'were', 'be', 'been', 'being', 'have', 'has', 'had', 'having', 'do', 'does', \\\n",
    "            'did', 'doing', 'a', 'an', 'the', 'and', 'but', 'if', 'or', 'because', 'as', 'until', 'while', 'of', \\\n",
    "            'at', 'by', 'for', 'with', 'about', 'against', 'between', 'into', 'through', 'during', 'before', 'after',\\\n",
    "            'above', 'below', 'to', 'from', 'up', 'down', 'in', 'out', 'on', 'off', 'over', 'under', 'again', 'further',\\\n",
    "            'then', 'once', 'here', 'there', 'when', 'where', 'why', 'how', 'all', 'any', 'both', 'each', 'few', 'more',\\\n",
    "            'most', 'other', 'some', 'such', 'only', 'own', 'same', 'so', 'than', 'too', 'very', \\\n",
    "            's', 't', 'can', 'will', 'just', 'don', \"don't\", 'should', \"should've\", 'now', 'd', 'll', 'm', 'o', 're', \\\n",
    "            've', 'y', 'ain', 'aren', \"aren't\", 'couldn', \"couldn't\", 'didn', \"didn't\", 'doesn', \"doesn't\", 'hadn',\\\n",
    "            \"hadn't\", 'hasn', \"hasn't\", 'haven', \"haven't\", 'isn', \"isn't\", 'ma', 'mightn', \"mightn't\", 'mustn',\\\n",
    "            \"mustn't\", 'needn', \"needn't\", 'shan', \"shan't\", 'shouldn', \"shouldn't\", 'wasn', \"wasn't\", 'weren', \"weren't\", \\\n",
    "            'won', \"won't\", 'wouldn', \"wouldn't\"])"
   ]
  },
  {
   "cell_type": "code",
   "execution_count": 22,
   "metadata": {
    "colab": {},
    "colab_type": "code",
    "id": "SxOsbLMyChZV",
    "outputId": "3e64146f-e471-4236-8ec2-1f47e066c03e"
   },
   "outputs": [
    {
     "name": "stderr",
     "output_type": "stream",
     "text": [
      "100%|██████████████████████████████████| 87773/87773 [00:40<00:00, 2162.35it/s]\n"
     ]
    }
   ],
   "source": [
    "# Combining all the above stundents \n",
    "from tqdm import tqdm\n",
    "preprocessed_reviews = []\n",
    "# tqdm is for printing the status bar\n",
    "for sentance in tqdm(final['Text'].values):\n",
    "    sentance = re.sub(r\"http\\S+\", \"\", sentance)\n",
    "    sentance = BeautifulSoup(sentance, 'lxml').get_text()\n",
    "    sentance = decontracted(sentance)\n",
    "    sentance = re.sub(\"\\S*\\d\\S*\", \"\", sentance).strip()\n",
    "    sentance = re.sub('[^A-Za-z]+', ' ', sentance)\n",
    "    # https://gist.github.com/sebleier/554280\n",
    "    sentance = ' '.join(e.lower() for e in sentance.split() if e.lower() not in stopwords)\n",
    "    preprocessed_reviews.append(sentance.strip())"
   ]
  },
  {
   "cell_type": "code",
   "execution_count": 23,
   "metadata": {
    "colab": {},
    "colab_type": "code",
    "id": "QqPomIjSChZa",
    "outputId": "d7beb0f0-fac5-46b7-c3a8-b52e47097cc7"
   },
   "outputs": [
    {
     "data": {
      "text/plain": [
       "'way hot blood took bite jig lol'"
      ]
     },
     "execution_count": 23,
     "metadata": {},
     "output_type": "execute_result"
    }
   ],
   "source": [
    "preprocessed_reviews[1500]"
   ]
  },
  {
   "cell_type": "markdown",
   "metadata": {
    "colab_type": "text",
    "id": "rt5Z8K0NCha9"
   },
   "source": [
    "# [5] Assignment 11: Truncated SVD"
   ]
  },
  {
   "cell_type": "markdown",
   "metadata": {
    "colab_type": "text",
    "id": "B6Ssh6vvCha9"
   },
   "source": [
    "<ol>\n",
    "    <li><strong>Apply Truncated-SVD on only this feature set:</strong>\n",
    "        <ul>\n",
    "            <li><font color='red'>SET 2:</font>Review text, preprocessed one converted into vectors using (TFIDF)</li>\n",
    "    <br>\n",
    "    <li><strong>Procedure:</strong>\n",
    "        <ul>\n",
    "    <li>Take top 2000 or 3000 features from tf-idf vectorizers using idf_ score.</li>\n",
    "    <li>You need to calculate the co-occurrence matrix with the selected features (Note: X.X^T\n",
    "doesn’t give the co-occurrence matrix, it returns the covariance matrix, check these\n",
    "        bolgs <a href='https://medium.com/data-science-group-iitr/word-embedding-2d05d270b285'>blog-1,</a> <a href='https://www.analyticsvidhya.com/blog/2017/06/word-embeddings-count-word2veec/'>blog-2 </a>for more information)</li>\n",
    "            <li>You should choose the n_components in truncated svd, with maximum explained\n",
    "variance. Please search on how to choose that and implement them. (hint: plot of\n",
    "cumulative explained variance ratio)</li>\n",
    "            <li>After you are done with the truncated svd, you can apply K-Means clustering and choose\n",
    "the best number of clusters based on elbow method.</li>\n",
    "            <li> Print out wordclouds for each cluster, similar to that in previous assignment. </li>\n",
    "            <li>You need to write a function that takes a word and returns the most similar words using\n",
    "cosine similarity between the vectors(vector: a row in the matrix after truncatedSVD)</li>\n",
    "        </ul>\n",
    "    </li>\n",
    "    <br>\n",
    "    \n",
    "</ol>"
   ]
  },
  {
   "cell_type": "markdown",
   "metadata": {
    "colab_type": "text",
    "id": "9J6ObJ9dCha_"
   },
   "source": [
    "## Truncated-SVD"
   ]
  },
  {
   "cell_type": "markdown",
   "metadata": {
    "colab_type": "text",
    "id": "MkBTVWfDChbA"
   },
   "source": [
    "### [5.1] Taking top features from TFIDF,<font color='red'> SET 2</font>"
   ]
  },
  {
   "cell_type": "code",
   "execution_count": 24,
   "metadata": {
    "colab": {},
    "colab_type": "code",
    "id": "cKI44V1HChbB"
   },
   "outputs": [
    {
     "name": "stdout",
     "output_type": "stream",
     "text": [
      "(87773,)\n"
     ]
    }
   ],
   "source": [
    "# Please write all the code with proper documentation\n",
    "X=np.asarray(preprocessed_reviews)\n",
    "print(X.shape)"
   ]
  },
  {
   "cell_type": "code",
   "execution_count": 25,
   "metadata": {},
   "outputs": [
    {
     "data": {
      "text/plain": [
       "<87773x2000 sparse matrix of type '<class 'numpy.float64'>'\n",
       "\twith 2372531 stored elements in Compressed Sparse Row format>"
      ]
     },
     "execution_count": 25,
     "metadata": {},
     "output_type": "execute_result"
    }
   ],
   "source": [
    "TfidfVectorizer=TfidfVectorizer(min_df=20,max_features=2000)\n",
    "TfidfVectorizer.fit_transform(X)"
   ]
  },
  {
   "cell_type": "code",
   "execution_count": 26,
   "metadata": {},
   "outputs": [],
   "source": [
    "Top_words=(np.array(TfidfVectorizer.get_feature_names()))\n",
    "Top_words_length=len(Top_words)\n",
    "Top_words=Top_words.tolist()"
   ]
  },
  {
   "cell_type": "code",
   "execution_count": 27,
   "metadata": {},
   "outputs": [
    {
     "data": {
      "text/plain": [
       "list"
      ]
     },
     "execution_count": 27,
     "metadata": {},
     "output_type": "execute_result"
    }
   ],
   "source": [
    "type(Top_words)"
   ]
  },
  {
   "cell_type": "markdown",
   "metadata": {
    "colab_type": "text",
    "id": "PiC8j4H4ChbF"
   },
   "source": [
    "### [5.2] Calulation of Co-occurrence matrix"
   ]
  },
  {
   "cell_type": "code",
   "execution_count": 36,
   "metadata": {
    "colab": {},
    "colab_type": "code",
    "id": "y0arBDQtChbG"
   },
   "outputs": [],
   "source": [
    "#https://stackoverflow.com/questions/41661801/python-calculate-the-co-occurrence-matrix\n",
    "#https://www.analyticsvidhya.com/blog/2017/06/word-embeddings-count-word2veec/\n",
    "def cal_coo_matrix(data,top_words,context_size):\n",
    "    occ_matrix = np.zeros((len(top_words),len(top_words)))#initializing matrix with zeros\n",
    "    for sent in tqdm(data):#taking every sentence in our dataset\n",
    "        words_in_sentence = sent.split()#words in current sentence\n",
    "        for index,word in enumerate(words_in_sentence):\n",
    "            #print(index,word)\n",
    "            if word in top_words:#if current word is a top_word\n",
    "                window=words_in_sentence[max(index-context_size,0):min(index+context_size,len(words_in_sentence)-1)+1]#window with given size,here subtracting with -1 because index starts from zero,\n",
    "                #and adding with 1 because second index is exclusive in slicing\n",
    "                #print(window)\n",
    "                window=set(window)#taking only unique elements in current window\n",
    "                for each in window:\n",
    "                    if each in top_words:\n",
    "                        #print(top_words.index(each),top_words.index(word))\n",
    "                        occ_matrix[top_words.index(each),top_words.index(word)]+=1#updating the matrix\n",
    "                    else:\n",
    "                        continue\n",
    "            else:\n",
    "                continue\n",
    "    return occ_matrix.astype(int)"
   ]
  },
  {
   "cell_type": "code",
   "execution_count": 29,
   "metadata": {},
   "outputs": [
    {
     "name": "stderr",
     "output_type": "stream",
     "text": [
      "100%|████████████████████████████████████| 87773/87773 [28:28<00:00, 51.37it/s]\n"
     ]
    }
   ],
   "source": [
    "occ_matrix=cal_coo_matrix(X,Top_words,5)"
   ]
  },
  {
   "cell_type": "code",
   "execution_count": 30,
   "metadata": {},
   "outputs": [
    {
     "name": "stdout",
     "output_type": "stream",
     "text": [
      "[[2525    4   14 ...    0    2    1]\n",
      " [   4  337    1 ...    4    2    0]\n",
      " [  14    1 2484 ...    7    9    0]\n",
      " ...\n",
      " [   0    4    6 ...  488    0    2]\n",
      " [   2    2    9 ...    0  459    0]\n",
      " [   1    0    0 ...    2    0  275]]\n"
     ]
    }
   ],
   "source": [
    "print(occ_matrix)"
   ]
  },
  {
   "cell_type": "markdown",
   "metadata": {},
   "source": [
    "### Checking coo-occurence matrix with example."
   ]
  },
  {
   "cell_type": "code",
   "execution_count": 31,
   "metadata": {},
   "outputs": [],
   "source": [
    "example1=[\"abc def ijk pqr\",\"pqr klm opq\",\"lmn pqr xyz abc def pqr abc\"]\n",
    "top_words1=[\"abc\",\"pqr\",\"def\"]\n",
    "Corpus1=' '.join(example1)\n",
    "Corpus1=Corpus1.split(' ')#all words in the dataset\n",
    "Top_words_length1=len(top_words1)"
   ]
  },
  {
   "cell_type": "code",
   "execution_count": 37,
   "metadata": {},
   "outputs": [
    {
     "name": "stderr",
     "output_type": "stream",
     "text": [
      "100%|████████████████████████████████████████████████████| 3/3 [00:00<?, ?it/s]\n"
     ]
    },
    {
     "data": {
      "text/plain": [
       "array([[3, 2, 2],\n",
       "       [2, 4, 2],\n",
       "       [3, 2, 2]])"
      ]
     },
     "execution_count": 37,
     "metadata": {},
     "output_type": "execute_result"
    }
   ],
   "source": [
    "cal_coo_matrix(example1,top_words1,2)"
   ]
  },
  {
   "cell_type": "markdown",
   "metadata": {
    "colab_type": "text",
    "id": "4kRIoxNBChbJ"
   },
   "source": [
    "### [5.3] Finding optimal value for number of components (n) to be retained."
   ]
  },
  {
   "cell_type": "code",
   "execution_count": 38,
   "metadata": {},
   "outputs": [
    {
     "name": "stdout",
     "output_type": "stream",
     "text": [
      "[[2525    4   14 ...    0    2    1]\n",
      " [   4  337    1 ...    4    2    0]\n",
      " [  14    1 2484 ...    7    9    0]\n",
      " ...\n",
      " [   0    4    6 ...  488    0    2]\n",
      " [   2    2    9 ...    0  459    0]\n",
      " [   1    0    0 ...    2    0  275]]\n"
     ]
    }
   ],
   "source": [
    "print(occ_matrix)"
   ]
  },
  {
   "cell_type": "code",
   "execution_count": 39,
   "metadata": {
    "colab": {},
    "colab_type": "code",
    "id": "oeWt8Zj0ChbK"
   },
   "outputs": [
    {
     "data": {
      "text/plain": [
       "array([[ 1.24954028e+03, -1.73619609e+02, -2.72080595e+02, ...,\n",
       "         2.22148778e-02, -2.04564151e-02, -3.09478450e-03],\n",
       "       [ 1.03361927e+02, -5.65262845e+01, -2.89763114e+01, ...,\n",
       "         9.74511534e-03, -4.69194615e-03, -1.77146024e-02],\n",
       "       [ 8.49252826e+02, -4.46670554e+02, -2.34253304e+02, ...,\n",
       "        -3.29520778e-03, -1.73590342e-03,  1.33513652e-02],\n",
       "       ...,\n",
       "       [ 1.89223447e+02, -4.84366654e+01, -2.84961808e+01, ...,\n",
       "         2.14046533e-04,  8.70703736e-03, -6.23902182e-03],\n",
       "       [ 1.67638664e+02, -6.69744635e+01, -1.19205020e+00, ...,\n",
       "         2.44754659e-03,  2.58665672e-02, -7.85700118e-01],\n",
       "       [ 9.89982487e+01, -2.62712222e+01, -1.71110999e+01, ...,\n",
       "        -1.60912737e-02, -1.72856407e-01, -7.61405188e-03]])"
      ]
     },
     "execution_count": 39,
     "metadata": {},
     "output_type": "execute_result"
    }
   ],
   "source": [
    "# Please write all the code with proper documentation\n",
    "import sklearn.decomposition as skd\n",
    "svd=skd.TruncatedSVD(n_components=2000-1)\n",
    "svd.fit_transform(occ_matrix)"
   ]
  },
  {
   "cell_type": "code",
   "execution_count": 40,
   "metadata": {
    "colab": {},
    "colab_type": "code",
    "id": "Tfpn89DQChbn"
   },
   "outputs": [
    {
     "data": {
      "image/png": "[encoded data removed]",
      "text/plain": [
       "<Figure size 432x288 with 1 Axes>"
      ]
     },
     "metadata": {},
     "output_type": "display_data"
    }
   ],
   "source": [
    "# Please write all the code with proper documentation\n",
    "cummulated_variance=np.cumsum(svd.explained_variance_ratio_)\n",
    "plt.plot(cummulated_variance)\n",
    "plt.grid(1)\n",
    "plt.xlabel(\"n_components\")\n",
    "plt.ylabel('Explained_variance')\n",
    "plt.title('Components vs Explained_variance')\n",
    "plt.show()"
   ]
  },
  {
   "cell_type": "code",
   "execution_count": 41,
   "metadata": {},
   "outputs": [
    {
     "data": {
      "text/plain": [
       "(array([ 447,  448,  449, ..., 1996, 1997, 1998], dtype=int64),)"
      ]
     },
     "execution_count": 41,
     "metadata": {},
     "output_type": "execute_result"
    }
   ],
   "source": [
    "np.where(cummulated_variance>0.98)"
   ]
  },
  {
   "cell_type": "markdown",
   "metadata": {},
   "source": [
    "By using 430 components only Explained variance is 0.98,so optimal components is 500."
   ]
  },
  {
   "cell_type": "code",
   "execution_count": 42,
   "metadata": {},
   "outputs": [],
   "source": [
    "svd=skd.TruncatedSVD(n_components=500)\n",
    "optimal_coo_matrix=svd.fit_transform(occ_matrix)"
   ]
  },
  {
   "cell_type": "markdown",
   "metadata": {},
   "source": [
    "### [5.4] Applying k-means clustering"
   ]
  },
  {
   "cell_type": "code",
   "execution_count": 43,
   "metadata": {},
   "outputs": [
    {
     "name": "stderr",
     "output_type": "stream",
     "text": [
      "100%|████████████████████████████████████████████| 9/9 [00:04<00:00,  1.72it/s]\n"
     ]
    }
   ],
   "source": [
    "import sklearn.cluster as sk\n",
    "k = [2,3,4,5,6,7,8,9,10]\n",
    "inertia = []\n",
    "for i in tqdm(k):\n",
    "    kmeans = sk.KMeans(n_clusters=i).fit(optimal_coo_matrix)\n",
    "    inertia.append(kmeans.inertia_)"
   ]
  },
  {
   "cell_type": "code",
   "execution_count": 44,
   "metadata": {},
   "outputs": [
    {
     "data": {
      "image/png": "[encoded data removed]",
      "text/plain": [
       "<Figure size 432x288 with 1 Axes>"
      ]
     },
     "metadata": {},
     "output_type": "display_data"
    }
   ],
   "source": [
    "plt.plot(k,inertia,'g')\n",
    "plt.grid(True)\n",
    "plt.title(\"K vs Inertia Plot\\n\")\n",
    "\n",
    "plt.xlabel(\"K Values\")\n",
    "plt.ylabel(\"Inertia Value\")\n",
    "plt.show();"
   ]
  },
  {
   "cell_type": "markdown",
   "metadata": {},
   "source": [
    "optimal number of clusters = 4"
   ]
  },
  {
   "cell_type": "code",
   "execution_count": 45,
   "metadata": {},
   "outputs": [
    {
     "data": {
      "text/plain": [
       "(2000, 500)"
      ]
     },
     "execution_count": 45,
     "metadata": {},
     "output_type": "execute_result"
    }
   ],
   "source": [
    "optimal_coo_matrix.shape"
   ]
  },
  {
   "cell_type": "code",
   "execution_count": 47,
   "metadata": {},
   "outputs": [
    {
     "name": "stdout",
     "output_type": "stream",
     "text": [
      "['able', 'absolute', 'absolutely', 'according', 'acid', 'acidic', 'across', 'actual', 'actually', 'add', 'added', 'addicted', 'addictive', 'adding', 'addition', 'additional', 'additives', 'adds', 'admit', 'adult', 'adults', 'advertised', 'affordable', 'afraid', 'afternoon', 'aftertaste', 'agave', 'age', 'ago', 'agree', 'ahead', 'air', 'allergic', 'allergies', 'allergy', 'allow', 'allows', 'almond', 'almonds', 'almost', 'alone', 'along', 'alot', 'already', 'also', 'alternative', 'although', 'always', 'amazed', 'amazing', 'amazon', 'american', 'among', 'amount', 'amounts', 'animal', 'another', 'anymore', 'anyone', 'anything', 'anytime', 'anyway', 'anywhere', 'apart', 'apparently', 'appealing', 'appears', 'apple', 'apples', 'appreciate', 'area', 'aroma', 'around', 'arrive', 'arrived', 'artificial', 'asian', 'ask', 'asked', 'ate', 'attention', 'authentic', 'auto', 'available', 'average', 'avoid', 'aware', 'away', 'awesome', 'awful', 'awhile', 'babies', 'baby', 'back', 'bacon', 'bad', 'bag', 'bags', 'bake', 'baked', 'baking', 'balance', 'balanced', 'ball', 'banana', 'bar', 'barely', 'bargain', 'barley', 'bars', 'base', 'based', 'basic', 'basically', 'basis', 'basket', 'batch', 'bay', 'bbq', 'bean', 'beans', 'bear', 'bears', 'beat', 'beats', 'beautiful', 'became', 'become', 'bed', 'beef', 'beer', 'began', 'begin', 'behind', 'believe', 'bell', 'benefit', 'benefits', 'berries', 'berry', 'besides', 'best', 'better', 'beverage', 'beverages', 'beware', 'beyond', 'big', 'bigelow', 'bigger', 'bill', 'birthday', 'biscuits', 'bit', 'bite', 'bites', 'bits', 'bitter', 'bitterness', 'black', 'bland', 'blend', 'blends', 'blood', 'blue', 'blueberries', 'blueberry', 'bodied', 'body', 'boil', 'boiling', 'bold', 'bone', 'bones', 'bonus', 'book', 'boost', 'bother', 'bottle', 'bottled', 'bottles', 'bottom', 'bought', 'bowl', 'bowls', 'box', 'boxes', 'boy', 'bpa', 'bran', 'brand', 'brands', 'bread', 'break', 'breakfast', 'breast', 'breath', 'breed', 'brew', 'brewed', 'brewer', 'brewing', 'bright', 'bring', 'brings', 'broccoli', 'broke', 'broken', 'broth', 'brother', 'brought', 'brown', 'brownie', 'brownies', 'bucks', 'buds', 'buffalo', 'bulk', 'bunch', 'burn', 'burnt', 'business', 'busy', 'butter', 'buttery', 'buy', 'buying', 'ca', 'cacao', 'cafe', 'caffeine', 'cake', 'cakes', 'cal', 'calcium', 'california', 'call', 'called', 'calorie', 'calories', 'came', 'cancer', 'candies', 'candy', 'cane', 'canidae', 'canned', 'cannot', 'cans', 'cant', 'cap', 'capsules', 'car', 'caramel', 'carb', 'carbonated', 'carbonation', 'carbs', 'cardboard', 'care', 'careful', 'carefully', 'carried', 'carries', 'carrots', 'carry', 'carrying', 'case', 'cases', 'cashews', 'cat', 'cats', 'caught', 'cause', 'caused', 'celiac', 'center', 'cents', 'cereal', 'cereals', 'certain', 'certainly', 'certified', 'chai', 'chance', 'change', 'changed', 'charge', 'cheap', 'cheaper', 'check', 'checked', 'cheddar', 'cheese', 'cheesy', 'chef', 'chemical', 'chemicals', 'cherries', 'cherry', 'chew', 'chewed', 'chewing', 'chews', 'chewy', 'chia', 'chicken', 'child', 'children', 'chili', 'china', 'chinese', 'chip', 'chipotle', 'chips', 'chocolate', 'chocolates', 'choice', 'choices', 'cholesterol', 'choose', 'chopped', 'chops', 'chose', 'christmas', 'chunks', 'cinnamon', 'citrus', 'claim', 'claims', 'classic', 'clean', 'cleaning', 'clear', 'clearly', 'close', 'club', 'co', 'coat', 'coating', 'coco', 'cocoa', 'coconut', 'coffee', 'coffees', 'cola', 'cold', 'color', 'colors', 'com', 'combination', 'combined', 'come', 'comes', 'coming', 'comment', 'comments', 'commercial', 'common', 'companies', 'company', 'comparable', 'compare', 'compared', 'comparison', 'complain', 'complaint', 'complaints', 'complete', 'completely', 'complex', 'concentrate', 'concern', 'concerned', 'condition', 'conditioner', 'consider', 'considered', 'considering', 'consistency', 'consistent', 'consistently', 'consume', 'contact', 'contacted', 'contain', 'contained', 'container', 'containers', 'contains', 'content', 'contents', 'continue', 'control', 'convenience', 'convenient', 'cook', 'cooked', 'cookie', 'cookies', 'cooking', 'cooks', 'cool', 'corn', 'correct', 'cost', 'costco', 'costs', 'could', 'count', 'counter', 'country', 'couple', 'course', 'cover', 'covered', 'cracker', 'crackers', 'craving', 'cravings', 'crazy', 'cream', 'creamer', 'creamy', 'create', 'crisp', 'crispy', 'crumbs', 'crunch', 'crunchy', 'crushed', 'crust', 'crystal', 'cubes', 'cup', 'cups', 'current', 'currently', 'curry', 'customer', 'customers', 'cut', 'cute', 'dad', 'daily', 'dairy', 'damage', 'damaged', 'dark', 'darker', 'date', 'dates', 'daughter', 'day', 'days', 'deal', 'decaf', 'decent', 'decided', 'deep', 'definately', 'definitely', 'delicate', 'delicious', 'delight', 'delighted', 'delightful', 'delivered', 'delivery', 'dense', 'dental', 'dented', 'depending', 'describe', 'described', 'description', 'design', 'desk', 'despite', 'dessert', 'diabetic', 'diamond', 'diarrhea', 'didnt', 'diet', 'dietary', 'difference', 'different', 'difficult', 'digestion', 'digestive', 'dinner', 'dip', 'dipping', 'direct', 'directions', 'directly', 'disappointed', 'disappointing', 'disappointment', 'discontinued', 'discount', 'discovered', 'disease', 'disgusting', 'dish', 'dishes', 'dissolve', 'doctor', 'dog', 'dogs', 'dollar', 'dollars', 'done', 'dont', 'donut', 'door', 'double', 'doubt', 'dough', 'downside', 'dozen', 'dr', 'drain', 'drank', 'dressing', 'dried', 'drink', 'drinker', 'drinking', 'drinks', 'drip', 'drive', 'drop', 'drops', 'dry', 'duck', 'due', 'dust', 'earl', 'earlier', 'early', 'earth', 'ease', 'easier', 'easily', 'easy', 'eat', 'eaten', 'eater', 'eating', 'eats', 'economical', 'edible', 'effect', 'effective', 'effects', 'effort', 'egg', 'eggs', 'eight', 'either', 'else', 'elsewhere', 'em', 'email', 'empty', 'end', 'ended', 'energy', 'england', 'english', 'enjoy', 'enjoyable', 'enjoyed', 'enjoying', 'enjoys', 'enough', 'entire', 'equal', 'especially', 'espresso', 'etc', 'even', 'evening', 'eventually', 'ever', 'every', 'everyday', 'everyone', 'everything', 'everywhere', 'exact', 'exactly', 'example', 'excellent', 'except', 'exception', 'excited', 'expect', 'expectations', 'expected', 'expecting', 'expensive', 'experience', 'experienced', 'expiration', 'extra', 'extract', 'extremely', 'eye', 'eyes', 'fabulous', 'face', 'fact', 'factor', 'fair', 'fairly', 'fake', 'fall', 'familiar', 'family', 'fan', 'fancy', 'fantastic', 'far', 'farms', 'fast', 'faster', 'fat', 'fats', 'favor', 'favorite', 'favorites', 'fear', 'feast', 'fed', 'feed', 'feeding', 'feel', 'feeling', 'feels', 'fell', 'felt', 'fiber', 'figure', 'figured', 'fill', 'filled', 'fillers', 'filling', 'filter', 'finally', 'find', 'finding', 'fine', 'fingers', 'finicky', 'finish', 'finished', 'firm', 'first', 'fish', 'fishy', 'fit', 'fits', 'five', 'fix', 'flakes', 'flat', 'flavor', 'flavored', 'flavorful', 'flavoring', 'flavors', 'flavour', 'flax', 'floor', 'flour', 'flowers', 'fog', 'foil', 'folks', 'follow', 'followed', 'following', 'food', 'foods', 'forever', 'forget', 'form', 'formula', 'forward', 'found', 'four', 'francisco', 'free', 'freeze', 'freezer', 'french', 'frequently', 'fresh', 'freshness', 'fridge', 'fried', 'friend', 'friendly', 'friends', 'front', 'frosting', 'frozen', 'fructose', 'fruit', 'fruits', 'fruity', 'fry', 'fuel', 'full', 'fully', 'fun', 'funny', 'future', 'gallon', 'garbage', 'garlic', 'gas', 'gave', 'general', 'generally', 'german', 'get', 'gets', 'getting', 'gf', 'gift', 'gifts', 'ginger', 'girl', 'give', 'given', 'gives', 'giving', 'glad', 'glass', 'gluten', 'gmo', 'go', 'god', 'goes', 'going', 'gold', 'golden', 'gone', 'good', 'goodness', 'goods', 'got', 'gotten', 'gourmet', 'grab', 'grade', 'grain', 'grains', 'grams', 'granola', 'grape', 'grass', 'gravy', 'greasy', 'great', 'green', 'greenies', 'grew', 'grey', 'grilled', 'grind', 'grocery', 'gross', 'ground', 'grounds', 'grow', 'growing', 'grown', 'guess', 'guests', 'guilt', 'guilty', 'gum', 'gummi', 'gummy', 'gums', 'guy', 'guys', 'hair', 'half', 'hamburger', 'hand', 'handful', 'handle', 'hands', 'handy', 'happen', 'happened', 'happens', 'happy', 'hard', 'harder', 'hardly', 'haribo', 'hate', 'hazelnut', 'head', 'health', 'healthier', 'healthy', 'heard', 'heart', 'heat', 'heaven', 'heavy', 'help', 'helped', 'helpful', 'helping', 'helps', 'herbal', 'herbs', 'hershey', 'hide', 'high', 'higher', 'highly', 'hint', 'hit', 'hold', 'holds', 'holiday', 'home', 'homemade', 'honest', 'honestly', 'honey', 'hooked', 'hope', 'hopefully', 'hoping', 'horrible', 'hot', 'hour', 'hours', 'house', 'household', 'however', 'huge', 'human', 'hungry', 'husband', 'ice', 'iced', 'idea', 'illy', 'im', 'imagine', 'immediately', 'important', 'impossible', 'impressed', 'improved', 'inch', 'include', 'included', 'including', 'increase', 'incredible', 'incredibly', 'indeed', 'indian', 'individual', 'individually', 'inexpensive', 'info', 'information', 'ingredient', 'ingredients', 'initially', 'inside', 'instant', 'instantly', 'instead', 'instructions', 'intake', 'intense', 'interest', 'interested', 'interesting', 'internet', 'introduced', 'iron', 'issue', 'issues', 'italian', 'item', 'items', 'jack', 'japanese', 'jar', 'jars', 'jasmine', 'jelly', 'jerky', 'jet', 'job', 'joe', 'jug', 'juice', 'juices', 'junk', 'kashi', 'keep', 'keeping', 'keeps', 'kept', 'kernels', 'ketchup', 'kettle', 'keurig', 'kibble', 'kick', 'kid', 'kids', 'kind', 'kinda', 'kinds', 'kit', 'kitchen', 'kitty', 'kiwi', 'knew', 'know', 'knowing', 'known', 'knows', 'kona', 'kraft', 'lab', 'label', 'lack', 'lamb', 'large', 'larger', 'last', 'lasted', 'lasts', 'late', 'later', 'latte', 'law', 'layer', 'lb', 'lbs', 'leaf', 'learned', 'least', 'leave', 'leaves', 'leaving', 'left', 'lemon', 'lemonade', 'less', 'let', 'level', 'levels', 'lick', 'licorice', 'lid', 'life', 'light', 'lighter', 'lightly', 'like', 'liked', 'likely', 'likes', 'liking', 'lime', 'limited', 'line', 'lipton', 'liquid', 'list', 'listed', 'literally', 'little', 'live', 'lived', 'liver', 'living', 'loaded', 'local', 'locally', 'lol', 'long', 'longer', 'look', 'looked', 'looking', 'looks', 'loose', 'lose', 'loss', 'lost', 'lot', 'lots', 'love', 'loved', 'lovely', 'lover', 'lovers', 'loves', 'low', 'lower', 'luck', 'lucky', 'lunch', 'mac', 'machine', 'made', 'magic', 'mail', 'main', 'major', 'make', 'maker', 'makes', 'making', 'man', 'mango', 'manufacturer', 'many', 'maple', 'market', 'marshmallow', 'matcha', 'mate', 'matter', 'may', 'maybe', 'mayo', 'meal', 'meals', 'mean', 'means', 'meant', 'meat', 'meats', 'medicine', 'medium', 'melt', 'melted', 'melts', 'mention', 'mentioned', 'mess', 'messy', 'method', 'mexican', 'mg', 'michael', 'microwave', 'mid', 'middle', 'might', 'mild', 'milk', 'mill', 'mind', 'mine', 'minerals', 'mini', 'mint', 'minute', 'minutes', 'miracle', 'miss', 'missing', 'mistake', 'mix', 'mixed', 'mixes', 'mixing', 'mixture', 'mocha', 'moist', 'moisture', 'mom', 'moment', 'money', 'month', 'months', 'morning', 'mostly', 'mother', 'mountain', 'mouth', 'moved', 'movie', 'msg', 'much', 'muffins', 'mug', 'multiple', 'mushrooms', 'mushy', 'must', 'mustard', 'name', 'nasty', 'natural', 'naturally', 'nature', 'near', 'nearly', 'need', 'needed', 'needs', 'negative', 'neither', 'never', 'new', 'newman', 'next', 'nice', 'nicely', 'night', 'no', 'non', 'none', 'noodle', 'noodles', 'nor', 'normal', 'normally', 'nose', 'not', 'note', 'noted', 'nothing', 'notice', 'noticed', 'number', 'nut', 'nutrients', 'nutrition', 'nutritional', 'nutritious', 'nuts', 'nutty', 'oatmeal', 'oats', 'obviously', 'occasional', 'occasionally', 'odd', 'odor', 'offer', 'offered', 'offering', 'offers', 'office', 'often', 'oh', 'oil', 'oils', 'oily', 'ok', 'okay', 'old', 'older', 'olive', 'olives', 'one', 'ones', 'onion', 'onions', 'online', 'onto', 'open', 'opened', 'opening', 'opinion', 'option', 'options', 'orange', 'order', 'ordered', 'ordering', 'orders', 'organic', 'organics', 'original', 'originally', 'others', 'otherwise', 'ounce', 'ounces', 'outside', 'outstanding', 'oven', 'overall', 'overly', 'overpowering', 'overwhelming', 'owners', 'oz', 'pack', 'package', 'packaged', 'packages', 'packaging', 'packed', 'packet', 'packets', 'packing', 'packs', 'page', 'paid', 'pain', 'pamela', 'pan', 'pancake', 'pancakes', 'pantry', 'paper', 'parents', 'part', 'particular', 'particularly', 'parts', 'party', 'pass', 'past', 'pasta', 'paste', 'pay', 'paying', 'pb', 'peach', 'peanut', 'peanuts', 'peas', 'people', 'pepper', 'peppermint', 'peppers', 'per', 'perfect', 'perfectly', 'perhaps', 'period', 'person', 'personal', 'personally', 'pet', 'pets', 'pg', 'pick', 'picked', 'picky', 'picture', 'pie', 'piece', 'pieces', 'pill', 'pills', 'pineapple', 'pink', 'pizza', 'place', 'placed', 'places', 'plain', 'plan', 'plant', 'plants', 'plastic', 'plate', 'play', 'pleasant', 'pleasantly', 'please', 'pleased', 'pleasure', 'plenty', 'plus', 'pocket', 'pod', 'pods', 'point', 'points', 'pomegranate', 'poor', 'pop', 'popchips', 'popcorn', 'popped', 'popper', 'pops', 'popular', 'pork', 'portion', 'positive', 'possible', 'possibly', 'post', 'pot', 'potassium', 'potato', 'potatoes', 'pouch', 'pouches', 'pound', 'pounds', 'pour', 'poured', 'powder', 'powdered', 'power', 'pre', 'prefer', 'preference', 'preferred', 'premium', 'prepare', 'prepared', 'present', 'preservatives', 'press', 'pressure', 'pretty', 'pretzels', 'prevent', 'previous', 'previously', 'price', 'priced', 'prices', 'pricey', 'pricing', 'prime', 'probably', 'problem', 'problems', 'process', 'processed', 'produce', 'produced', 'product', 'products', 'program', 'promptly', 'properly', 'protein', 'provide', 'provides', 'pudding', 'pull', 'pumpkin', 'punch', 'puppy', 'purchase', 'purchased', 'purchasing', 'pure', 'purina', 'purpose', 'purse', 'put', 'putting', 'quaker', 'quality', 'quantity', 'quick', 'quickly', 'quite', 'raisin', 'raisins', 'ramen', 'ran', 'range', 'rarely', 'raspberry', 'rate', 'rather', 'rating', 'raw', 'rawhide', 'reach', 'reaction', 'read', 'reading', 'ready', 'real', 'realize', 'realized', 'really', 'reason', 'reasonable', 'reasonably', 'reasons', 'receive', 'received', 'recent', 'recently', 'recipe', 'recipes', 'recommend', 'recommended', 'red', 'reduce', 'reduced', 'refreshing', 'refrigerator', 'refund', 'regret', 'regular', 'regularly', 'relatively', 'remaining', 'remember', 'reminds', 'remove', 'replace', 'replacement', 'require', 'resealable', 'research', 'response', 'rest', 'restaurant', 'restaurants', 'result', 'results', 'retail', 'return', 'returned', 'review', 'reviewer', 'reviewers', 'reviews', 'rice', 'rich', 'rid', 'right', 'rinds', 'rinse', 'risk', 'road', 'roast', 'roasted', 'roasts', 'robust', 'rock', 'roll', 'rolls', 'room', 'root', 'rope', 'rose', 'round', 'rub', 'run', 'running', 'runs', 'sad', 'sadly', 'safe', 'said', 'salad', 'salads', 'sale', 'salmon', 'salsa', 'salt', 'salted', 'salty', 'sample', 'san', 'sandwich', 'sandwiches', 'sardines', 'satisfied', 'satisfy', 'satisfying', 'saturated', 'sauce', 'sauces', 'sausage', 'save', 'saved', 'saves', 'saving', 'savory', 'saw', 'say', 'saying', 'says', 'scalp', 'scent', 'school', 'science', 'scoop', 'scratch', 'sea', 'seal', 'sealed', 'search', 'searched', 'searching', 'season', 'seasoning', 'seasonings', 'second', 'seconds', 'see', 'seed', 'seeds', 'seeing', 'seem', 'seemed', 'seems', 'seen', 'selection', 'self', 'sell', 'seller', 'selling', 'sells', 'send', 'sense', 'sensitive', 'sent', 'separate', 'serious', 'seriously', 'serve', 'served', 'service', 'serving', 'servings', 'sesame', 'set', 'setting', 'several', 'shake', 'shakes', 'shame', 'shampoo', 'shape', 'share', 'shared', 'shelf', 'shelves', 'shiny', 'ship', 'shipment', 'shipped', 'shipping', 'shop', 'shopping', 'short', 'shot', 'show', 'shown', 'shows', 'shrimp', 'sick', 'side', 'similar', 'simple', 'simply', 'since', 'single', 'sip', 'sister', 'sit', 'site', 'sitting', 'six', 'size', 'sized', 'sizes', 'skeptical', 'skin', 'sleep', 'sliced', 'slices', 'slight', 'slightly', 'slow', 'slowly', 'small', 'smaller', 'smart', 'smell', 'smelled', 'smells', 'smoked', 'smooth', 'smoothies', 'snack', 'snacking', 'snacks', 'soda', 'sodas', 'sodium', 'soft', 'softer', 'sold', 'solid', 'solution', 'somehow', 'someone', 'something', 'sometimes', 'somewhat', 'somewhere', 'son', 'soon', 'sorry', 'sort', 'sound', 'sounds', 'soup', 'soups', 'sour', 'source', 'south', 'soy', 'space', 'spaghetti', 'sparkling', 'special', 'spend', 'spent', 'spice', 'spices', 'spicy', 'spinach', 'splenda', 'split', 'spoon', 'spot', 'spread', 'sprinkle', 'sprouts', 'squeeze', 'stale', 'stand', 'standard', 'staple', 'star', 'starbucks', 'stars', 'start', 'started', 'starting', 'starts', 'stash', 'state', 'stated', 'states', 'stay', 'stays', 'steak', 'steep', 'step', 'stevia', 'stick', 'sticks', 'sticky', 'still', 'stir', 'stock', 'stomach', 'stop', 'stopped', 'storage', 'store', 'stores', 'stove', 'straight', 'strange', 'strawberries', 'strawberry', 'strength', 'strips', 'strong', 'stronger', 'strongly', 'stuck', 'stuff', 'style', 'subscribe', 'subscription', 'substitute', 'subtle', 'success', 'sucralose', 'sugar', 'sugars', 'sugary', 'suggest', 'suggested', 'summer', 'sun', 'sunflower', 'super', 'superior', 'supermarket', 'supermarkets', 'supplement', 'supply', 'suppose', 'supposed', 'sure', 'surprise', 'surprised', 'surprisingly', 'sweet', 'sweeten', 'sweetened', 'sweetener', 'sweeteners', 'sweeter', 'sweetness', 'switch', 'switched', 'switching', 'syrup', 'syrups', 'system', 'table', 'tablespoon', 'tablespoons', 'taco', 'take', 'taken', 'takes', 'taking', 'talking', 'tangy', 'target', 'tart', 'taste', 'tasted', 'tasteless', 'tastes', 'tasting', 'tasty', 'tea', 'teas', 'teaspoon', 'teeth', 'tell', 'temperature', 'ten', 'tend', 'tender', 'tends', 'terms', 'terrible', 'terrier', 'terrific', 'test', 'texture', 'thai', 'thank', 'thanks', 'thats', 'theater', 'therefore', 'thick', 'thicker', 'thin', 'thing', 'things', 'think', 'thinking', 'third', 'though', 'thought', 'three', 'threw', 'thrilled', 'throat', 'throughout', 'throw', 'throwing', 'thru', 'thus', 'time', 'timely', 'times', 'tin', 'tiny', 'tips', 'tired', 'title', 'toast', 'today', 'tofu', 'together', 'told', 'tomato', 'tomatoes', 'ton', 'tongue', 'took', 'tooth', 'top', 'topping', 'toss', 'total', 'totally', 'touch', 'tough', 'town', 'toy', 'toys', 'trade', 'trader', 'traditional', 'training', 'trans', 'trash', 'travel', 'tray', 'treat', 'treats', 'tree', 'trick', 'tried', 'trip', 'trips', 'trouble', 'true', 'truffle', 'truly', 'trust', 'try', 'trying', 'tummy', 'tuna', 'turkey', 'turn', 'turned', 'turns', 'twice', 'two', 'type', 'types', 'typical', 'typically', 'unable', 'understand', 'unfortunately', 'unhealthy', 'unique', 'unless', 'unlike', 'unpleasant', 'unsweetened', 'update', 'upon', 'ups', 'upset', 'us', 'usa', 'use', 'used', 'uses', 'using', 'usual', 'usually', 'value', 'vanilla', 'varieties', 'variety', 'various', 'vegan', 'vegetable', 'vegetables', 'vegetarian', 'veggie', 'veggies', 'velveeta', 'vendor', 'version', 'vet', 'via', 'vine', 'vinegar', 'visit', 'vita', 'vitamin', 'vitamins', 'vs', 'waffles', 'wait', 'waiting', 'wake', 'walk', 'walmart', 'want', 'wanted', 'wanting', 'wants', 'warm', 'warning', 'wash', 'waste', 'watch', 'watching', 'water', 'watery', 'way', 'ways', 'weak', 'weather', 'web', 'website', 'week', 'weeks', 'weight', 'weird', 'well', 'wellness', 'went', 'wet', 'whatever', 'wheat', 'whenever', 'whether', 'white', 'whole', 'wholesome', 'wide', 'wife', 'wild', 'willing', 'win', 'wine', 'winner', 'winter', 'wise', 'wish', 'within', 'without', 'wonder', 'wonderful', 'wonderfully', 'wont', 'word', 'words', 'work', 'worked', 'working', 'workout', 'works', 'world', 'worried', 'worry', 'worse', 'worst', 'worth', 'would', 'wow', 'wrap', 'wrapped', 'write', 'writing', 'wrong', 'xylitol', 'yeah', 'year', 'years', 'yeast', 'yellow', 'yes', 'yesterday', 'yet', 'yogurt', 'young', 'yuck', 'yum', 'yummy', 'zero', 'zico', 'zip']"
     ]
    },
    {
     "name": "stdout",
     "output_type": "stream",
     "text": [
      "\n"
     ]
    }
   ],
   "source": [
    "print(Top_words)"
   ]
  },
  {
   "cell_type": "markdown",
   "metadata": {
    "colab_type": "text",
    "id": "U4Gb79QfChbu"
   },
   "source": [
    "### [5.5] Wordclouds of clusters obtained in the above section"
   ]
  },
  {
   "cell_type": "code",
   "execution_count": 48,
   "metadata": {
    "colab": {},
    "colab_type": "code",
    "id": "mEWn4eD7Chbv"
   },
   "outputs": [
    {
     "data": {
      "text/plain": [
       "KMeans(algorithm='auto', copy_x=True, init='k-means++', max_iter=300,\n",
       "    n_clusters=4, n_init=10, n_jobs=None, precompute_distances='auto',\n",
       "    random_state=None, tol=0.0001, verbose=0)"
      ]
     },
     "execution_count": 48,
     "metadata": {},
     "output_type": "execute_result"
    }
   ],
   "source": [
    "# Please write all the code with proper documentation\n",
    "#opimal_k=4\n",
    "Kmeans=sk.KMeans(n_clusters=4)\n",
    "Kmeans.fit(optimal_coo_matrix)"
   ]
  },
  {
   "cell_type": "code",
   "execution_count": 49,
   "metadata": {},
   "outputs": [
    {
     "name": "stdout",
     "output_type": "stream",
     "text": [
      "(2000,)\n"
     ]
    }
   ],
   "source": [
    "labels=Kmeans.labels_#gives labels for each data point.\n",
    "print(labels.shape)"
   ]
  },
  {
   "cell_type": "code",
   "execution_count": 50,
   "metadata": {},
   "outputs": [
    {
     "data": {
      "text/plain": [
       "array([  14, 1984,    1,    1], dtype=int64)"
      ]
     },
     "execution_count": 50,
     "metadata": {},
     "output_type": "execute_result"
    }
   ],
   "source": [
    "np.bincount(labels)"
   ]
  },
  {
   "cell_type": "code",
   "execution_count": 51,
   "metadata": {},
   "outputs": [],
   "source": [
    "optimal_k=4\n",
    "Word_clusters = [ [] for i in range(optimal_k) ] #reviews for all  clusters\n",
    "for i in range(Kmeans.labels_.shape[0]):\n",
    "    Word_clusters[Kmeans.labels_[i]].append(Top_words[i])"
   ]
  },
  {
   "cell_type": "code",
   "execution_count": 53,
   "metadata": {},
   "outputs": [
    {
     "data": {
      "image/png": "[encoded data removed]",
      "text/plain": [
       "<Figure size 432x360 with 1 Axes>"
      ]
     },
     "metadata": {},
     "output_type": "display_data"
    },
    {
     "data": {
      "image/png": "[encoded data removed]",
      "text/plain": [
       "<Figure size 432x360 with 1 Axes>"
      ]
     },
     "metadata": {},
     "output_type": "display_data"
    },
    {
     "data": {
      "image/png": "[encoded data removed]",
      "text/plain": [
       "<Figure size 432x360 with 1 Axes>"
      ]
     },
     "metadata": {},
     "output_type": "display_data"
    },
    {
     "data": {
      "image/png": "[encoded data removed]",
      "text/plain": [
       "<Figure size 432x360 with 1 Axes>"
      ]
     },
     "metadata": {},
     "output_type": "display_data"
    }
   ],
   "source": [
    "from wordcloud import WordCloud\n",
    "for i in range(len(Word_clusters)):\n",
    "    wc=WordCloud(background_color ='white').generate(str(list(Word_clusters[i])))\n",
    "    plt.figure(figsize = (6,5), facecolor = None)\n",
    "    plt.imshow(wc)\n",
    "    plt.axis(\"off\")\n",
    "    plt.show()"
   ]
  },
  {
   "cell_type": "markdown",
   "metadata": {},
   "source": [
    "Observations: These clusters are about,\n",
    "     \n",
    "     0:This cluster is about food,coffee,flavour related words.\n",
    "     1:This cluster is about able,absolute related words.\n",
    "     2:This cluster contain the word not only.\n",
    "     3:This cluster contain the word like only.\n",
    "     \n",
    "     "
   ]
  },
  {
   "cell_type": "markdown",
   "metadata": {
    "colab_type": "text",
    "id": "jXT2kiRgChb0"
   },
   "source": [
    "### [5.6] Function that returns most similar words for a given word."
   ]
  },
  {
   "cell_type": "code",
   "execution_count": 54,
   "metadata": {
    "colab": {},
    "colab_type": "code",
    "id": "IdTy3BRYChb1"
   },
   "outputs": [
    {
     "data": {
      "text/plain": [
       "(2000, 2000)"
      ]
     },
     "execution_count": 54,
     "metadata": {},
     "output_type": "execute_result"
    }
   ],
   "source": [
    "# Please write all the code with proper documentation\n",
    "#https://scikit-learn.org/stable/modules/generated/sklearn.metrics.pairwise.cosine_similarity.html\n",
    "from sklearn.metrics.pairwise import cosine_similarity\n",
    "similarity_matrix =cosine_similarity(optimal_coo_matrix,optimal_coo_matrix)\n",
    "similarity_matrix.shape"
   ]
  },
  {
   "cell_type": "code",
   "execution_count": 55,
   "metadata": {},
   "outputs": [
    {
     "data": {
      "text/plain": [
       "dtype('float64')"
      ]
     },
     "execution_count": 55,
     "metadata": {},
     "output_type": "execute_result"
    }
   ],
   "source": [
    "similarity_matrix.dtype"
   ]
  },
  {
   "cell_type": "code",
   "execution_count": 72,
   "metadata": {},
   "outputs": [],
   "source": [
    "Top_words_np=np.asarray(Top_words)"
   ]
  },
  {
   "cell_type": "code",
   "execution_count": 78,
   "metadata": {},
   "outputs": [],
   "source": [
    "def similar_words(word,n):\n",
    "    tmp=np.where(Top_words_np==word)[0]\n",
    "    print(tmp)\n",
    "    if(len(tmp)>0):\n",
    "        index=tmp[0]\n",
    "        print(index)\n",
    "        df=pd.DataFrame()\n",
    "        df['word'] = Top_words\n",
    "        df['sim'] = similarity_matrix[index,:]#taking the particular row from similarity_matrix\n",
    "        df=df.sort_values(by='sim',ascending=False)\n",
    "        return list(df.head(n)['word'])\n",
    "    else:\n",
    "        print(\"word not present\")\n",
    "        return None"
   ]
  },
  {
   "cell_type": "code",
   "execution_count": 79,
   "metadata": {},
   "outputs": [
    {
     "name": "stdout",
     "output_type": "stream",
     "text": [
      "balance\n",
      "chew\n",
      "discontinued\n",
      "lunch\n"
     ]
    }
   ],
   "source": [
    "print(Top_words_np[101])\n",
    "print(Top_words_np[300])\n",
    "print(Top_words_np[500])\n",
    "print(Top_words_np[1024])"
   ]
  },
  {
   "cell_type": "code",
   "execution_count": 80,
   "metadata": {},
   "outputs": [
    {
     "name": "stdout",
     "output_type": "stream",
     "text": [
      "[17]\n",
      "17\n"
     ]
    },
    {
     "data": {
      "text/plain": [
       "['adds', 'subtle', 'flavor', 'unique', 'nutty']"
      ]
     },
     "execution_count": 80,
     "metadata": {},
     "output_type": "execute_result"
    }
   ],
   "source": [
    "similar_words('adds',5)"
   ]
  },
  {
   "cell_type": "code",
   "execution_count": 81,
   "metadata": {},
   "outputs": [
    {
     "name": "stdout",
     "output_type": "stream",
     "text": [
      "[101]\n",
      "101\n"
     ]
    },
    {
     "data": {
      "text/plain": [
       "['balance', 'natural', 'combination', 'combined', 'sweetness']"
      ]
     },
     "execution_count": 81,
     "metadata": {},
     "output_type": "execute_result"
    }
   ],
   "source": [
    "similar_words('balance',5)"
   ]
  },
  {
   "cell_type": "code",
   "execution_count": 82,
   "metadata": {},
   "outputs": [
    {
     "name": "stdout",
     "output_type": "stream",
     "text": [
      "[300]\n",
      "300\n"
     ]
    },
    {
     "data": {
      "text/plain": [
       "['chew', 'rawhide', 'toys', 'gum', 'bone']"
      ]
     },
     "execution_count": 82,
     "metadata": {},
     "output_type": "execute_result"
    }
   ],
   "source": [
    "similar_words('chew',5)"
   ]
  },
  {
   "cell_type": "code",
   "execution_count": 83,
   "metadata": {},
   "outputs": [
    {
     "name": "stdout",
     "output_type": "stream",
     "text": [
      "[500]\n",
      "500\n"
     ]
    },
    {
     "data": {
      "text/plain": [
       "['discontinued', 'selling', 'carried', 'costco', 'shelves']"
      ]
     },
     "execution_count": 83,
     "metadata": {},
     "output_type": "execute_result"
    }
   ],
   "source": [
    "similar_words('discontinued',5)"
   ]
  },
  {
   "cell_type": "code",
   "execution_count": 84,
   "metadata": {},
   "outputs": [
    {
     "name": "stdout",
     "output_type": "stream",
     "text": [
      "[1024]\n",
      "1024\n"
     ]
    },
    {
     "data": {
      "text/plain": [
       "['lunch', 'school', 'meals', 'car', 'grab']"
      ]
     },
     "execution_count": 84,
     "metadata": {},
     "output_type": "execute_result"
    }
   ],
   "source": [
    "similar_words('lunch',5)"
   ]
  },
  {
   "cell_type": "markdown",
   "metadata": {},
   "source": [
    "# [6] Conclusions"
   ]
  },
  {
   "cell_type": "markdown",
   "metadata": {
    "colab": {},
    "colab_type": "code",
    "id": "LhWddXu6Chb7"
   },
   "source": [
    "#Please write down few lines about what you observed from this assignment. \n",
    "#Also please do mention the optimal values that you obtained for number of components & number of clusters.\n",
    "\n",
    "\n",
    "1.First took 2000 top_features from TfidfVectorizer.\n",
    "\n",
    "2.calculated cooccurencematrix with window size 5.\n",
    "\n",
    "3.By using elbow method find the optimal number of components with more than 0.98 Explained_variance.optimal number of components.\n",
    "\n",
    "4.After applying the kmeans optimal cluster numbers are 4.\n",
    "\n",
    "5.Two clusters are containing very less number of top_words.\n",
    "\n",
    "6.If we increase the top_words we will get better clusters."
   ]
  },
  {
   "cell_type": "code",
   "execution_count": null,
   "metadata": {},
   "outputs": [],
   "source": []
  }
 ],
 "metadata": {
  "colab": {
   "name": "11 Amazon Fine Food Reviews Analysis_Truncated SVD.ipynb",
   "provenance": [],
   "version": "0.3.2"
  },
  "kernelspec": {
   "display_name": "Python 3",
   "language": "python",
   "name": "python3"
  },
  "language_info": {
   "codemirror_mode": {
    "name": "ipython",
    "version": 3
   },
   "file_extension": ".py",
   "mimetype": "text/x-python",
   "name": "python",
   "nbconvert_exporter": "python",
   "pygments_lexer": "ipython3",
   "version": "3.6.5"
  }
 },
 "nbformat": 4,
 "nbformat_minor": 1
}
