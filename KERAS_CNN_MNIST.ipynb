{
 "cells": [
  {
   "cell_type": "code",
   "execution_count": 17,
   "metadata": {
    "colab": {
     "base_uri": "https://localhost:8080/",
     "height": 90
    },
    "colab_type": "code",
    "id": "H9EU0e8yzFOm",
    "outputId": "7a723b65-e686-4b11-9836-47edb79b72ab"
   },
   "outputs": [
    {
     "name": "stdout",
     "output_type": "stream",
     "text": [
      "x_train shape: (40200, 28, 28, 1)\n",
      "40200 train samples\n",
      "19800 validation samples\n",
      "10000 test samples\n"
     ]
    }
   ],
   "source": [
    "# Credits: https://github.com/keras-team/keras/blob/master/examples/mnist_cnn.py\n",
    "\n",
    "\n",
    "from __future__ import print_function\n",
    "import keras\n",
    "from keras.datasets import mnist\n",
    "from keras.models import Sequential\n",
    "from keras.layers import Dense, Dropout, Flatten\n",
    "from keras.layers import Conv2D, MaxPooling2D\n",
    "from keras import backend as K\n",
    "from sklearn.model_selection import train_test_split\n",
    "from prettytable import PrettyTable\n",
    "\n",
    "\n",
    "\n",
    "\n",
    "batch_size = 128\n",
    "num_classes = 10\n",
    "epochs = 12\n",
    "\n",
    "# input image dimensions\n",
    "img_rows, img_cols = 28, 28\n",
    "\n",
    "# the data, split between train and test sets\n",
    "(x_train, y_train), (x_test, y_test) = mnist.load_data()\n",
    "\n",
    "x_train, x_cv, y_train, y_cv = train_test_split(x_train, y_train, test_size=0.33,random_state=42)\n",
    "\n",
    "if K.image_data_format() == 'channels_first':\n",
    "    x_train = x_train.reshape(x_train.shape[0], 1, img_rows, img_cols)\n",
    "    x_cv = x_cv.reshape(x_cv.shape[0],1,img_rows,img_cols)\n",
    "    x_test = x_test.reshape(x_test.shape[0], 1, img_rows, img_cols)\n",
    "    input_shape = (1, img_rows, img_cols)\n",
    "else:\n",
    "    x_train = x_train.reshape(x_train.shape[0], img_rows, img_cols, 1)\n",
    "    x_cv = x_cv.reshape(x_cv.shape[0], img_rows, img_cols, 1)\n",
    "    x_test = x_test.reshape(x_test.shape[0], img_rows, img_cols, 1)\n",
    "    input_shape = (img_rows, img_cols, 1)\n",
    "\n",
    "x_train = x_train.astype('float32')\n",
    "x_test = x_test.astype('float32')\n",
    "x_cv =x_cv.astype('float32')\n",
    "x_train /= 255\n",
    "x_cv /=255\n",
    "x_test /= 255\n",
    "print('x_train shape:', x_train.shape)\n",
    "print(x_train.shape[0], 'train samples')\n",
    "print(x_cv.shape[0],'validation samples')\n",
    "print(x_test.shape[0], 'test samples')\n",
    "\n",
    "# convert class vectors to binary class matrices\n",
    "y_train = keras.utils.to_categorical(y_train, num_classes)\n",
    "y_test = keras.utils.to_categorical(y_test, num_classes)\n",
    "y_cv   = keras.utils.to_categorical(y_cv,num_classes)"
   ]
  },
  {
   "cell_type": "code",
   "execution_count": 0,
   "metadata": {
    "colab": {},
    "colab_type": "code",
    "id": "EcFAoSWGYxJ-"
   },
   "outputs": [],
   "source": [
    "%matplotlib inline\n",
    "import matplotlib.pyplot as plt\n",
    "import numpy as np\n",
    "import time\n",
    "# https://gist.github.com/greydanus/f6eee59eaf1d90fcb3b534a25362cea4\n",
    "# https://stackoverflow.com/a/14434334\n",
    "# this function is used to update the plots for each epoch and error\n",
    "def plt_dynamic(x, vy, ty, ax, colors=['b']):\n",
    "    ax.plot(x, vy, 'b', label=\"Validation Loss\")\n",
    "    ax.plot(x, ty, 'r', label=\"Train Loss\")\n",
    "    plt.legend()\n",
    "    plt.grid()\n",
    "    fig.canvas.draw()"
   ]
  },
  {
   "cell_type": "markdown",
   "metadata": {
    "colab_type": "text",
    "id": "aeN9bOrHmx-1"
   },
   "source": [
    "CNN WITH THREE CONV LAYERS(350-225-150)"
   ]
  },
  {
   "cell_type": "markdown",
   "metadata": {
    "colab_type": "text",
    "id": "9svvOUuttEoV"
   },
   "source": [
    "Without dropout and BatchNormalization kernel size (3,3)"
   ]
  },
  {
   "cell_type": "code",
   "execution_count": 80,
   "metadata": {
    "colab": {
     "base_uri": "https://localhost:8080/",
     "height": 508
    },
    "colab_type": "code",
    "id": "Q1dZwi7Xmj97",
    "outputId": "bf699b4f-e178-43fd-8116-4fee9a01d1cc"
   },
   "outputs": [
    {
     "name": "stdout",
     "output_type": "stream",
     "text": [
      "Train on 40200 samples, validate on 19800 samples\n",
      "Epoch 1/12\n",
      "40200/40200 [==============================] - 26s 652us/step - loss: 0.2655 - acc: 0.9212 - val_loss: 0.0750 - val_acc: 0.9773\n",
      "Epoch 2/12\n",
      "40200/40200 [==============================] - 20s 491us/step - loss: 0.0502 - acc: 0.9843 - val_loss: 0.0555 - val_acc: 0.9825\n",
      "Epoch 3/12\n",
      "40200/40200 [==============================] - 20s 496us/step - loss: 0.0283 - acc: 0.9917 - val_loss: 0.0432 - val_acc: 0.9869\n",
      "Epoch 4/12\n",
      "40200/40200 [==============================] - 20s 502us/step - loss: 0.0186 - acc: 0.9941 - val_loss: 0.0468 - val_acc: 0.9870\n",
      "Epoch 5/12\n",
      "40200/40200 [==============================] - 20s 503us/step - loss: 0.0132 - acc: 0.9960 - val_loss: 0.0377 - val_acc: 0.9896\n",
      "Epoch 6/12\n",
      "40200/40200 [==============================] - 20s 507us/step - loss: 0.0084 - acc: 0.9977 - val_loss: 0.0459 - val_acc: 0.9886\n",
      "Epoch 7/12\n",
      "40200/40200 [==============================] - 20s 509us/step - loss: 0.0059 - acc: 0.9983 - val_loss: 0.0514 - val_acc: 0.9890\n",
      "Epoch 8/12\n",
      "40200/40200 [==============================] - 20s 510us/step - loss: 0.0042 - acc: 0.9987 - val_loss: 0.0460 - val_acc: 0.9896\n",
      "Epoch 9/12\n",
      "40200/40200 [==============================] - 20s 507us/step - loss: 0.0033 - acc: 0.9991 - val_loss: 0.0520 - val_acc: 0.9893\n",
      "Epoch 10/12\n",
      "40200/40200 [==============================] - 20s 505us/step - loss: 0.0022 - acc: 0.9997 - val_loss: 0.0587 - val_acc: 0.9880\n",
      "Epoch 11/12\n",
      "40200/40200 [==============================] - 20s 505us/step - loss: 0.0018 - acc: 0.9995 - val_loss: 0.0504 - val_acc: 0.9905\n",
      "Epoch 12/12\n",
      "40200/40200 [==============================] - 20s 504us/step - loss: 0.0010 - acc: 0.9999 - val_loss: 0.0481 - val_acc: 0.9911\n",
      "Test loss: 0.037850331771943004\n",
      "Test accuracy: 0.992\n"
     ]
    },
    {
     "data": {
      "application/javascript": [
       "\n",
       "        setTimeout(function() {\n",
       "            var nbb_cell_id = 80;\n",
       "            var nbb_formatted_code = \"cnn_with_3_1 = Sequential()\\ncnn_with_3_1.add(\\n    Conv2D(350, kernel_size=(3, 3), activation=\\\"relu\\\", input_shape=input_shape)\\n)\\ncnn_with_3_1.add(Conv2D(225, (3, 3), activation=\\\"relu\\\"))\\ncnn_with_3_1.add(MaxPooling2D(pool_size=(2, 2)))\\ncnn_with_3_1.add(Conv2D(150, (3, 3), activation=\\\"relu\\\"))\\ncnn_with_3_1.add(Flatten())\\ncnn_with_3_1.add(Dense(128, activation=\\\"relu\\\"))\\ncnn_with_3_1.add(Dense(num_classes, activation=\\\"softmax\\\"))\\n\\ncnn_with_3_1.compile(\\n    loss=keras.losses.categorical_crossentropy,\\n    optimizer=keras.optimizers.Adadelta(),\\n    metrics=[\\\"accuracy\\\"],\\n)\\n\\nhistory31 = cnn_with_3_1.fit(\\n    x_train,\\n    y_train,\\n    batch_size=batch_size,\\n    epochs=epochs,\\n    verbose=1,\\n    validation_data=(x_cv, y_cv),\\n)\\nscore = cnn_with_3_1.evaluate(x_test, y_test, verbose=0)\\nprint(\\\"Test loss:\\\", score[0])\\nprint(\\\"Test accuracy:\\\", score[1])\";\n",
       "            var nbb_cells = Jupyter.notebook.get_cells();\n",
       "            for (var i = 0; i < nbb_cells.length; ++i) {\n",
       "                if (nbb_cells[i].input_prompt_number == nbb_cell_id) {\n",
       "                    nbb_cells[i].set_text(nbb_formatted_code);\n",
       "                    break;\n",
       "                }\n",
       "            }\n",
       "        }, 500);\n",
       "        "
      ],
      "text/plain": [
       "<IPython.core.display.Javascript object>"
      ]
     },
     "metadata": {
      "tags": []
     },
     "output_type": "display_data"
    }
   ],
   "source": [
    "cnn_with_3_1 = Sequential()\n",
    "cnn_with_3_1.add(Conv2D(350, kernel_size=(3, 3),\n",
    "                 activation='relu',\n",
    "                 input_shape=input_shape))\n",
    "cnn_with_3_1.add(Conv2D(225, (3, 3), activation='relu'))\n",
    "cnn_with_3_1.add(MaxPooling2D(pool_size=(2, 2)))\n",
    "cnn_with_3_1.add(Conv2D(150, (3, 3), activation='relu'))\n",
    "cnn_with_3_1.add(Flatten())\n",
    "cnn_with_3_1.add(Dense(128, activation='relu'))\n",
    "cnn_with_3_1.add(Dense(num_classes, activation='softmax'))\n",
    "\n",
    "cnn_with_3_1.compile(loss=keras.losses.categorical_crossentropy,\n",
    "              optimizer=keras.optimizers.Adadelta(),\n",
    "              metrics=['accuracy'])\n",
    "\n",
    "history31=cnn_with_3_1.fit(x_train, y_train,\n",
    "          batch_size=batch_size,\n",
    "          epochs=epochs,\n",
    "          verbose=1,\n",
    "          validation_data=(x_cv, y_cv))\n",
    "score = cnn_with_3_1.evaluate(x_test, y_test, verbose=0)\n",
    "print('Test loss:', score[0])\n",
    "print('Test accuracy:', score[1])"
   ]
  },
  {
   "cell_type": "code",
   "execution_count": 90,
   "metadata": {
    "colab": {
     "base_uri": "https://localhost:8080/",
     "height": 319
    },
    "colab_type": "code",
    "id": "WYX8cZR8Y2Zw",
    "outputId": "372b666b-de21-4226-b799-a995ef972471"
   },
   "outputs": [
    {
     "name": "stdout",
     "output_type": "stream",
     "text": [
      "Test score: 0.037850331771943004\n",
      "Test accuracy: 0.992\n"
     ]
    },
    {
     "data": {
      "image/png": "[encoded data removed]",
      "text/plain": [
       "<Figure size 432x288 with 1 Axes>"
      ]
     },
     "metadata": {
      "tags": []
     },
     "output_type": "display_data"
    },
    {
     "data": {
      "application/javascript": [
       "\n",
       "        setTimeout(function() {\n",
       "            var nbb_cell_id = 90;\n",
       "            var nbb_formatted_code = \"score31 = cnn_with_3_1.evaluate(x_test, y_test, verbose=0)\\nprint(\\\"Test score:\\\", score31[0])\\nprint(\\\"Test accuracy:\\\", score31[1])\\n\\nfig, ax = plt.subplots(1, 1)\\nax.set_xlabel(\\\"epoch\\\")\\nax.set_ylabel(\\\"Categorical Crossentropy Loss\\\")\\n\\n# list of epoch numbers\\nl = list(range(1, epochs + 1))\\n\\n\\nvy = history31.history[\\\"val_loss\\\"]\\nty = history31.history[\\\"loss\\\"]\\n\\nx = PrettyTable()\\n\\nx.field_names = [\\n    \\\"CNN\\\",\\n    \\\"Type\\\",\\n    \\\"Train_accuracy\\\",\\n    \\\"validation_accuracy\\\",\\n    \\\"Test_accuracy\\\",\\n    \\\"Train_loss\\\",\\n    \\\"validation_loss\\\",\\n    \\\"Test_loss\\\",\\n]\\n\\nx.add_row(\\n    [\\n        \\\"350-225-150(kernel(3,3))\\\",\\n        \\\"Without_bn_dropout\\\",\\n        history31.history[\\\"acc\\\"][11],\\n        history31.history[\\\"val_acc\\\"][11],\\n        score31[1],\\n        history31.history[\\\"loss\\\"][11],\\n        history31.history[\\\"val_loss\\\"][11],\\n        score31[0],\\n    ]\\n)\\nplt_dynamic(l, vy, ty, ax)\";\n",
       "            var nbb_cells = Jupyter.notebook.get_cells();\n",
       "            for (var i = 0; i < nbb_cells.length; ++i) {\n",
       "                if (nbb_cells[i].input_prompt_number == nbb_cell_id) {\n",
       "                    nbb_cells[i].set_text(nbb_formatted_code);\n",
       "                    break;\n",
       "                }\n",
       "            }\n",
       "        }, 500);\n",
       "        "
      ],
      "text/plain": [
       "<IPython.core.display.Javascript object>"
      ]
     },
     "metadata": {
      "tags": []
     },
     "output_type": "display_data"
    }
   ],
   "source": [
    "score31 = cnn_with_3_1.evaluate(x_test, y_test, verbose=0) \n",
    "print('Test score:', score31[0]) \n",
    "print('Test accuracy:', score31[1])\n",
    "\n",
    "fig,ax = plt.subplots(1,1)\n",
    "ax.set_xlabel('epoch') ; ax.set_ylabel('Categorical Crossentropy Loss')\n",
    "\n",
    "# list of epoch numbers\n",
    "l = list(range(1,epochs+1))\n",
    "\n",
    "\n",
    "vy = history31.history['val_loss']\n",
    "ty = history31.history['loss']\n",
    "\n",
    "x = PrettyTable()\n",
    "\n",
    "x.field_names = [\"CNN\",\"Type\", \"Train_accuracy\",\"validation_accuracy\",\"Test_accuracy\",\"Train_loss\",\"validation_loss\" ,\"Test_loss\"]\n",
    "\n",
    "x.add_row([\"350-225-150(kernel(3,3))\",\"Without_bn_dropout\" ,history31.history['acc'][11],history31.history['val_acc'][11],score31[1],history31.history['loss'][11],history31.history['val_loss'][11],score31[0]])\n",
    "plt_dynamic(l, vy, ty, ax)"
   ]
  },
  {
   "cell_type": "markdown",
   "metadata": {
    "colab_type": "text",
    "id": "d7T9U_ATyC7U"
   },
   "source": [
    "without dropout  and BatchNormalization,kernelsize(5,5)"
   ]
  },
  {
   "cell_type": "code",
   "execution_count": 91,
   "metadata": {
    "colab": {
     "base_uri": "https://localhost:8080/",
     "height": 508
    },
    "colab_type": "code",
    "id": "HQgt2XKN41u8",
    "outputId": "c531b7cc-e0fa-42b6-dc35-526e05e1b64c"
   },
   "outputs": [
    {
     "name": "stdout",
     "output_type": "stream",
     "text": [
      "Train on 40200 samples, validate on 19800 samples\n",
      "Epoch 1/12\n",
      "40200/40200 [==============================] - 28s 707us/step - loss: 0.2623 - acc: 0.9191 - val_loss: 0.0851 - val_acc: 0.9740\n",
      "Epoch 2/12\n",
      "40200/40200 [==============================] - 22s 557us/step - loss: 0.0478 - acc: 0.9848 - val_loss: 0.0448 - val_acc: 0.9856\n",
      "Epoch 3/12\n",
      "40200/40200 [==============================] - 22s 558us/step - loss: 0.0278 - acc: 0.9912 - val_loss: 0.0707 - val_acc: 0.9815\n",
      "Epoch 4/12\n",
      "40200/40200 [==============================] - 22s 558us/step - loss: 0.0195 - acc: 0.9940 - val_loss: 0.0429 - val_acc: 0.9877\n",
      "Epoch 5/12\n",
      "40200/40200 [==============================] - 22s 557us/step - loss: 0.0131 - acc: 0.9964 - val_loss: 0.0363 - val_acc: 0.9908\n",
      "Epoch 6/12\n",
      "40200/40200 [==============================] - 22s 557us/step - loss: 0.0092 - acc: 0.9973 - val_loss: 0.0406 - val_acc: 0.9899\n",
      "Epoch 7/12\n",
      "40200/40200 [==============================] - 22s 558us/step - loss: 0.0067 - acc: 0.9981 - val_loss: 0.0407 - val_acc: 0.9899\n",
      "Epoch 8/12\n",
      "40200/40200 [==============================] - 22s 557us/step - loss: 0.0057 - acc: 0.9985 - val_loss: 0.0389 - val_acc: 0.9903\n",
      "Epoch 9/12\n",
      "40200/40200 [==============================] - 22s 557us/step - loss: 0.0040 - acc: 0.9988 - val_loss: 0.0391 - val_acc: 0.9914\n",
      "Epoch 10/12\n",
      "40200/40200 [==============================] - 22s 558us/step - loss: 0.0030 - acc: 0.9990 - val_loss: 0.0433 - val_acc: 0.9910\n",
      "Epoch 11/12\n",
      "40200/40200 [==============================] - 22s 557us/step - loss: 0.0022 - acc: 0.9993 - val_loss: 0.0460 - val_acc: 0.9914\n",
      "Epoch 12/12\n",
      "40200/40200 [==============================] - 22s 557us/step - loss: 0.0014 - acc: 0.9997 - val_loss: 0.0536 - val_acc: 0.9901\n",
      "Test loss: 0.053618895091483085\n",
      "Test accuracy: 0.9901010100769274\n"
     ]
    },
    {
     "data": {
      "application/javascript": [
       "\n",
       "        setTimeout(function() {\n",
       "            var nbb_cell_id = 91;\n",
       "            var nbb_formatted_code = \"cnn_with_3_2 = Sequential()\\ncnn_with_3_2.add(\\n    Conv2D(350, kernel_size=(5, 5), activation=\\\"relu\\\", input_shape=input_shape)\\n)\\ncnn_with_3_2.add(Conv2D(225, (5, 5), activation=\\\"relu\\\"))\\ncnn_with_3_2.add(MaxPooling2D(pool_size=(2, 2)))\\ncnn_with_3_2.add(Conv2D(150, (5, 5), activation=\\\"relu\\\"))\\ncnn_with_3_2.add(Flatten())\\ncnn_with_3_2.add(Dense(128, activation=\\\"relu\\\"))\\ncnn_with_3_2.add(Dense(num_classes, activation=\\\"softmax\\\"))\\n\\ncnn_with_3_2.compile(\\n    loss=keras.losses.categorical_crossentropy,\\n    optimizer=keras.optimizers.Adadelta(),\\n    metrics=[\\\"accuracy\\\"],\\n)\\n\\nhistory32 = cnn_with_3_2.fit(\\n    x_train,\\n    y_train,\\n    batch_size=batch_size,\\n    epochs=epochs,\\n    verbose=1,\\n    validation_data=(x_cv, y_cv),\\n)\\nscore = cnn_with_3_2.evaluate(x_cv, y_cv, verbose=0)\\nprint(\\\"Test loss:\\\", score[0])\\nprint(\\\"Test accuracy:\\\", score[1])\";\n",
       "            var nbb_cells = Jupyter.notebook.get_cells();\n",
       "            for (var i = 0; i < nbb_cells.length; ++i) {\n",
       "                if (nbb_cells[i].input_prompt_number == nbb_cell_id) {\n",
       "                    nbb_cells[i].set_text(nbb_formatted_code);\n",
       "                    break;\n",
       "                }\n",
       "            }\n",
       "        }, 500);\n",
       "        "
      ],
      "text/plain": [
       "<IPython.core.display.Javascript object>"
      ]
     },
     "metadata": {
      "tags": []
     },
     "output_type": "display_data"
    }
   ],
   "source": [
    "cnn_with_3_2 = Sequential()\n",
    "cnn_with_3_2.add(Conv2D(350, kernel_size=(5, 5),\n",
    "                 activation='relu',\n",
    "                 input_shape=input_shape))\n",
    "cnn_with_3_2.add(Conv2D(225, (5, 5), activation='relu'))\n",
    "cnn_with_3_2.add(MaxPooling2D(pool_size=(2, 2)))\n",
    "cnn_with_3_2.add(Conv2D(150, (5, 5), activation='relu'))\n",
    "cnn_with_3_2.add(Flatten())\n",
    "cnn_with_3_2.add(Dense(128, activation='relu'))\n",
    "cnn_with_3_2.add(Dense(num_classes, activation='softmax'))\n",
    "\n",
    "cnn_with_3_2.compile(loss=keras.losses.categorical_crossentropy,\n",
    "              optimizer=keras.optimizers.Adadelta(),\n",
    "              metrics=['accuracy'])\n",
    "\n",
    "history32=cnn_with_3_2.fit(x_train, y_train,\n",
    "          batch_size=batch_size,\n",
    "          epochs=epochs,\n",
    "          verbose=1,\n",
    "          validation_data=(x_cv, y_cv))\n",
    "score = cnn_with_3_2.evaluate(x_cv, y_cv, verbose=0)\n",
    "print('Test loss:', score[0])\n",
    "print('Test accuracy:', score[1])"
   ]
  },
  {
   "cell_type": "code",
   "execution_count": 92,
   "metadata": {
    "colab": {
     "base_uri": "https://localhost:8080/",
     "height": 319
    },
    "colab_type": "code",
    "id": "jy2cEFE-aDIF",
    "outputId": "77e7eb36-41dd-486d-8722-f5b278eba886"
   },
   "outputs": [
    {
     "name": "stdout",
     "output_type": "stream",
     "text": [
      "Test score: 0.053618895091483085\n",
      "Test accuracy: 0.9901010100769274\n"
     ]
    },
    {
     "data": {
      "image/png": "[encoded data removed]",
      "text/plain": [
       "<Figure size 432x288 with 1 Axes>"
      ]
     },
     "metadata": {
      "tags": []
     },
     "output_type": "display_data"
    },
    {
     "data": {
      "application/javascript": [
       "\n",
       "        setTimeout(function() {\n",
       "            var nbb_cell_id = 92;\n",
       "            var nbb_formatted_code = \"score32 = cnn_with_3_2.evaluate(x_test, y_test, verbose=0)\\nprint(\\\"Test score:\\\", score[0])\\nprint(\\\"Test accuracy:\\\", score[1])\\n\\nfig, ax = plt.subplots(1, 1)\\nax.set_xlabel(\\\"epoch\\\")\\nax.set_ylabel(\\\"Categorical Crossentropy Loss\\\")\\n\\n# list of epoch numbers\\nl = list(range(1, epochs + 1))\\n\\nx.add_row(\\n    [\\n        \\\"350-225-150(kernel(5,5))\\\",\\n        \\\"Without_bn_dropout\\\",\\n        history32.history[\\\"acc\\\"][11],\\n        history32.history[\\\"val_acc\\\"][11],\\n        score32[1],\\n        history32.history[\\\"loss\\\"][11],\\n        history32.history[\\\"val_loss\\\"][11],\\n        score32[0],\\n    ]\\n)\\n\\nvy = history32.history[\\\"val_loss\\\"]\\nty = history32.history[\\\"loss\\\"]\\nplt_dynamic(l, vy, ty, ax)\";\n",
       "            var nbb_cells = Jupyter.notebook.get_cells();\n",
       "            for (var i = 0; i < nbb_cells.length; ++i) {\n",
       "                if (nbb_cells[i].input_prompt_number == nbb_cell_id) {\n",
       "                    nbb_cells[i].set_text(nbb_formatted_code);\n",
       "                    break;\n",
       "                }\n",
       "            }\n",
       "        }, 500);\n",
       "        "
      ],
      "text/plain": [
       "<IPython.core.display.Javascript object>"
      ]
     },
     "metadata": {
      "tags": []
     },
     "output_type": "display_data"
    }
   ],
   "source": [
    "score32 = cnn_with_3_2.evaluate(x_test, y_test, verbose=0) \n",
    "print('Test score:', score[0]) \n",
    "print('Test accuracy:', score[1])\n",
    "\n",
    "fig,ax = plt.subplots(1,1)\n",
    "ax.set_xlabel('epoch') ; ax.set_ylabel('Categorical Crossentropy Loss')\n",
    "\n",
    "# list of epoch numbers\n",
    "l = list(range(1,epochs+1))\n",
    "\n",
    "x.add_row([\"350-225-150(kernel(5,5))\",\"Without_bn_dropout\" ,history32.history['acc'][11],history32.history['val_acc'][11],score32[1],history32.history['loss'][11],history32.history['val_loss'][11],score32[0]])\n",
    "\n",
    "vy = history32.history['val_loss']\n",
    "ty = history32.history['loss']\n",
    "plt_dynamic(l, vy, ty, ax)"
   ]
  },
  {
   "cell_type": "markdown",
   "metadata": {
    "colab_type": "text",
    "id": "htLHP1YtUAc3"
   },
   "source": [
    "with dropout rate(0.3)"
   ]
  },
  {
   "cell_type": "code",
   "execution_count": 93,
   "metadata": {
    "colab": {
     "base_uri": "https://localhost:8080/",
     "height": 508
    },
    "colab_type": "code",
    "id": "F5DPnNiEqd2u",
    "outputId": "1fa2c3fd-b711-433a-a8cf-31b1b18e22c7"
   },
   "outputs": [
    {
     "name": "stdout",
     "output_type": "stream",
     "text": [
      "Train on 40200 samples, validate on 19800 samples\n",
      "Epoch 1/12\n",
      "40200/40200 [==============================] - 29s 725us/step - loss: 0.2694 - acc: 0.9164 - val_loss: 0.2334 - val_acc: 0.9248\n",
      "Epoch 2/12\n",
      "40200/40200 [==============================] - 22s 558us/step - loss: 0.0521 - acc: 0.9833 - val_loss: 0.0624 - val_acc: 0.9824\n",
      "Epoch 3/12\n",
      "40200/40200 [==============================] - 22s 558us/step - loss: 0.0355 - acc: 0.9885 - val_loss: 0.0416 - val_acc: 0.9880\n",
      "Epoch 4/12\n",
      "40200/40200 [==============================] - 23s 561us/step - loss: 0.0267 - acc: 0.9916 - val_loss: 0.0353 - val_acc: 0.9895\n",
      "Epoch 5/12\n",
      "40200/40200 [==============================] - 23s 572us/step - loss: 0.0211 - acc: 0.9935 - val_loss: 0.1328 - val_acc: 0.9664\n",
      "Epoch 6/12\n",
      "40200/40200 [==============================] - 23s 579us/step - loss: 0.0163 - acc: 0.9948 - val_loss: 0.0427 - val_acc: 0.9878\n",
      "Epoch 7/12\n",
      "40200/40200 [==============================] - 23s 581us/step - loss: 0.0121 - acc: 0.9964 - val_loss: 0.0390 - val_acc: 0.9896\n",
      "Epoch 8/12\n",
      "40200/40200 [==============================] - 23s 577us/step - loss: 0.0107 - acc: 0.9966 - val_loss: 0.0359 - val_acc: 0.9916\n",
      "Epoch 9/12\n",
      "40200/40200 [==============================] - 23s 573us/step - loss: 0.0096 - acc: 0.9971 - val_loss: 0.0360 - val_acc: 0.9910\n",
      "Epoch 10/12\n",
      "40200/40200 [==============================] - 23s 568us/step - loss: 0.0077 - acc: 0.9976 - val_loss: 0.0444 - val_acc: 0.9914\n",
      "Epoch 11/12\n",
      "40200/40200 [==============================] - 23s 567us/step - loss: 0.0072 - acc: 0.9978 - val_loss: 0.0328 - val_acc: 0.9918\n",
      "Epoch 12/12\n",
      "40200/40200 [==============================] - 23s 567us/step - loss: 0.0062 - acc: 0.9981 - val_loss: 0.0364 - val_acc: 0.9922\n",
      "Test loss: 0.03640687935328967\n",
      "Test accuracy: 0.9921717171717171\n"
     ]
    },
    {
     "data": {
      "application/javascript": [
       "\n",
       "        setTimeout(function() {\n",
       "            var nbb_cell_id = 93;\n",
       "            var nbb_formatted_code = \"cnn_with_3_3 = Sequential()\\ncnn_with_3_3.add(\\n    Conv2D(350, kernel_size=(5, 5), activation=\\\"relu\\\", input_shape=input_shape)\\n)\\ncnn_with_3_3.add(Conv2D(225, (5, 5), activation=\\\"relu\\\"))\\ncnn_with_3_3.add(MaxPooling2D(pool_size=(2, 2)))\\ncnn_with_3_3.add(Dropout(0.3))\\ncnn_with_3_3.add(Conv2D(150, (5, 5), activation=\\\"relu\\\"))\\ncnn_with_3_3.add(Dropout(0.3))\\ncnn_with_3_3.add(Flatten())\\ncnn_with_3_3.add(Dense(128, activation=\\\"relu\\\"))\\ncnn_with_3_3.add(Dense(num_classes, activation=\\\"softmax\\\"))\\n\\ncnn_with_3_3.compile(\\n    loss=keras.losses.categorical_crossentropy,\\n    optimizer=keras.optimizers.Adadelta(),\\n    metrics=[\\\"accuracy\\\"],\\n)\\n\\nhistory33 = cnn_with_3_3.fit(\\n    x_train,\\n    y_train,\\n    batch_size=batch_size,\\n    epochs=epochs,\\n    verbose=1,\\n    validation_data=(x_cv, y_cv),\\n)\\nscore = cnn_with_3_3.evaluate(x_cv, y_cv, verbose=0)\\nprint(\\\"Test loss:\\\", score[0])\\nprint(\\\"Test accuracy:\\\", score[1])\";\n",
       "            var nbb_cells = Jupyter.notebook.get_cells();\n",
       "            for (var i = 0; i < nbb_cells.length; ++i) {\n",
       "                if (nbb_cells[i].input_prompt_number == nbb_cell_id) {\n",
       "                    nbb_cells[i].set_text(nbb_formatted_code);\n",
       "                    break;\n",
       "                }\n",
       "            }\n",
       "        }, 500);\n",
       "        "
      ],
      "text/plain": [
       "<IPython.core.display.Javascript object>"
      ]
     },
     "metadata": {
      "tags": []
     },
     "output_type": "display_data"
    }
   ],
   "source": [
    "cnn_with_3_3 = Sequential()\n",
    "cnn_with_3_3.add(Conv2D(350, kernel_size=(5, 5),\n",
    "                 activation='relu',\n",
    "                 input_shape=input_shape))\n",
    "cnn_with_3_3.add(Conv2D(225, (5, 5), activation='relu'))\n",
    "cnn_with_3_3.add(MaxPooling2D(pool_size=(2, 2)))\n",
    "cnn_with_3_3.add(Dropout(0.3))\n",
    "cnn_with_3_3.add(Conv2D(150, (5, 5), activation='relu'))\n",
    "cnn_with_3_3.add(Dropout(0.3))\n",
    "cnn_with_3_3.add(Flatten())\n",
    "cnn_with_3_3.add(Dense(128, activation='relu'))\n",
    "cnn_with_3_3.add(Dense(num_classes, activation='softmax'))\n",
    "\n",
    "cnn_with_3_3.compile(loss=keras.losses.categorical_crossentropy,\n",
    "              optimizer=keras.optimizers.Adadelta(),\n",
    "              metrics=['accuracy'])\n",
    "\n",
    "history33=cnn_with_3_3.fit(x_train, y_train,\n",
    "          batch_size=batch_size,\n",
    "          epochs=epochs,\n",
    "          verbose=1,\n",
    "          validation_data=(x_cv, y_cv))\n",
    "score = cnn_with_3_3.evaluate(x_cv, y_cv, verbose=0)\n",
    "print('Test loss:', score[0])\n",
    "print('Test accuracy:', score[1])"
   ]
  },
  {
   "cell_type": "code",
   "execution_count": 95,
   "metadata": {
    "colab": {
     "base_uri": "https://localhost:8080/",
     "height": 319
    },
    "colab_type": "code",
    "id": "Eq-2if57aEfB",
    "outputId": "306935de-a488-4e73-fc31-a7a24bed2dd8"
   },
   "outputs": [
    {
     "name": "stdout",
     "output_type": "stream",
     "text": [
      "Test score: 0.03640687935328967\n",
      "Test accuracy: 0.9921717171717171\n"
     ]
    },
    {
     "data": {
      "image/png": "[encoded data removed]",
      "text/plain": [
       "<Figure size 432x288 with 1 Axes>"
      ]
     },
     "metadata": {
      "tags": []
     },
     "output_type": "display_data"
    },
    {
     "data": {
      "application/javascript": [
       "\n",
       "        setTimeout(function() {\n",
       "            var nbb_cell_id = 95;\n",
       "            var nbb_formatted_code = \"score33 = cnn_with_3_3.evaluate(x_test, y_test, verbose=0)\\nprint(\\\"Test score:\\\", score[0])\\nprint(\\\"Test accuracy:\\\", score[1])\\n\\nfig, ax = plt.subplots(1, 1)\\nax.set_xlabel(\\\"epoch\\\")\\nax.set_ylabel(\\\"Categorical Crossentropy Loss\\\")\\n\\n# list of epoch numbers\\nl = list(range(1, epochs + 1))\\n\\nx.add_row(\\n    [\\n        \\\"350-225-150(kernel(5,5))\\\",\\n        \\\"With_dropout(0,3)\\\",\\n        history33.history[\\\"acc\\\"][11],\\n        history33.history[\\\"val_acc\\\"][11],\\n        score33[1],\\n        history33.history[\\\"loss\\\"][11],\\n        history33.history[\\\"val_loss\\\"][11],\\n        score33[0],\\n    ]\\n)\\n\\n\\nvy = history33.history[\\\"val_loss\\\"]\\nty = history33.history[\\\"loss\\\"]\\nplt_dynamic(l, vy, ty, ax)\";\n",
       "            var nbb_cells = Jupyter.notebook.get_cells();\n",
       "            for (var i = 0; i < nbb_cells.length; ++i) {\n",
       "                if (nbb_cells[i].input_prompt_number == nbb_cell_id) {\n",
       "                    nbb_cells[i].set_text(nbb_formatted_code);\n",
       "                    break;\n",
       "                }\n",
       "            }\n",
       "        }, 500);\n",
       "        "
      ],
      "text/plain": [
       "<IPython.core.display.Javascript object>"
      ]
     },
     "metadata": {
      "tags": []
     },
     "output_type": "display_data"
    }
   ],
   "source": [
    "score33 = cnn_with_3_3.evaluate(x_test, y_test, verbose=0) \n",
    "print('Test score:', score33[0]) \n",
    "print('Test accuracy:', score33[1])\n",
    "\n",
    "fig,ax = plt.subplots(1,1)\n",
    "ax.set_xlabel('epoch') ; ax.set_ylabel('Categorical Crossentropy Loss')\n",
    "\n",
    "# list of epoch numbers\n",
    "l = list(range(1,epochs+1))\n",
    "\n",
    "x.add_row([\"350-225-150(kernel(5,5))\",\"With_dropout(0,3)\" ,history33.history['acc'][11],history33.history['val_acc'][11],score33[1],history33.history['loss'][11],history33.history['val_loss'][11],score33[0]])\n",
    "\n",
    "\n",
    "vy = history33.history['val_loss']\n",
    "ty = history33.history['loss']\n",
    "plt_dynamic(l, vy, ty, ax)"
   ]
  },
  {
   "cell_type": "markdown",
   "metadata": {
    "colab_type": "text",
    "id": "UBAyZ-kEaU4d"
   },
   "source": [
    "with dropout(0.4)"
   ]
  },
  {
   "cell_type": "code",
   "execution_count": 0,
   "metadata": {
    "colab": {
     "base_uri": "https://localhost:8080/",
     "height": 529
    },
    "colab_type": "code",
    "id": "m8aA9MZlaU4_",
    "outputId": "db0e0e1c-a790-44a0-9ec4-dd68f9a7a066"
   },
   "outputs": [
    {
     "name": "stdout",
     "output_type": "stream",
     "text": [
      "Train on 40200 samples, validate on 19800 samples\n",
      "Epoch 1/12\n",
      "40200/40200 [==============================] - 29s 721us/step - loss: 0.2498 - acc: 0.9210 - val_loss: 0.0592 - val_acc: 0.9824\n",
      "Epoch 2/12\n",
      "40200/40200 [==============================] - 22s 558us/step - loss: 0.0553 - acc: 0.9830 - val_loss: 0.1245 - val_acc: 0.9670\n",
      "Epoch 3/12\n",
      "40200/40200 [==============================] - 22s 558us/step - loss: 0.0388 - acc: 0.9877 - val_loss: 0.0369 - val_acc: 0.9894\n",
      "Epoch 4/12\n",
      "40200/40200 [==============================] - 22s 559us/step - loss: 0.0290 - acc: 0.9911 - val_loss: 0.0366 - val_acc: 0.9894\n",
      "Epoch 5/12\n",
      "40200/40200 [==============================] - 23s 569us/step - loss: 0.0239 - acc: 0.9925 - val_loss: 0.0315 - val_acc: 0.9908\n",
      "Epoch 6/12\n",
      "40200/40200 [==============================] - 23s 580us/step - loss: 0.0191 - acc: 0.9940 - val_loss: 0.0319 - val_acc: 0.9909\n",
      "Epoch 7/12\n",
      "40200/40200 [==============================] - 23s 582us/step - loss: 0.0165 - acc: 0.9950 - val_loss: 0.0895 - val_acc: 0.9765\n",
      "Epoch 8/12\n",
      "40200/40200 [==============================] - 23s 581us/step - loss: 0.0143 - acc: 0.9952 - val_loss: 0.0284 - val_acc: 0.9920\n",
      "Epoch 9/12\n",
      "40200/40200 [==============================] - 23s 579us/step - loss: 0.0127 - acc: 0.9959 - val_loss: 0.0326 - val_acc: 0.9920\n",
      "Epoch 10/12\n",
      "40200/40200 [==============================] - 23s 572us/step - loss: 0.0101 - acc: 0.9969 - val_loss: 0.0292 - val_acc: 0.9921\n",
      "Epoch 11/12\n",
      "40200/40200 [==============================] - 23s 573us/step - loss: 0.0093 - acc: 0.9967 - val_loss: 0.0339 - val_acc: 0.9920\n",
      "Epoch 12/12\n",
      "40200/40200 [==============================] - 23s 572us/step - loss: 0.0094 - acc: 0.9970 - val_loss: 0.0318 - val_acc: 0.9923\n",
      "Test loss: 0.03183888377823356\n",
      "Test accuracy: 0.9922727272727273\n"
     ]
    },
    {
     "data": {
      "application/javascript": [
       "\n",
       "        setTimeout(function() {\n",
       "            var nbb_cell_id = 96;\n",
       "            var nbb_formatted_code = \"cnn_with_3_4 = Sequential()\\ncnn_with_3_4.add(\\n    Conv2D(350, kernel_size=(5, 5), activation=\\\"relu\\\", input_shape=input_shape)\\n)\\ncnn_with_3_4.add(Conv2D(225, (5, 5), activation=\\\"relu\\\"))\\ncnn_with_3_4.add(MaxPooling2D(pool_size=(2, 2)))\\ncnn_with_3_4.add(Dropout(0.4))\\ncnn_with_3_4.add(Conv2D(150, (5, 5), activation=\\\"relu\\\"))\\ncnn_with_3_4.add(Dropout(0.4))\\ncnn_with_3_4.add(Flatten())\\ncnn_with_3_4.add(Dense(128, activation=\\\"relu\\\"))\\ncnn_with_3_4.add(Dense(num_classes, activation=\\\"softmax\\\"))\\n\\ncnn_with_3_4.compile(\\n    loss=keras.losses.categorical_crossentropy,\\n    optimizer=keras.optimizers.Adadelta(),\\n    metrics=[\\\"accuracy\\\"],\\n)\\n\\nhistory34 = cnn_with_3_4.fit(\\n    x_train,\\n    y_train,\\n    batch_size=batch_size,\\n    epochs=epochs,\\n    verbose=1,\\n    validation_data=(x_cv, y_cv),\\n)\\nscore = cnn_with_3_4.evaluate(x_cv, y_cv, verbose=0)\\nprint(\\\"Test loss:\\\", score[0])\\nprint(\\\"Test accuracy:\\\", score[1])\";\n",
       "            var nbb_cells = Jupyter.notebook.get_cells();\n",
       "            for (var i = 0; i < nbb_cells.length; ++i) {\n",
       "                if (nbb_cells[i].input_prompt_number == nbb_cell_id) {\n",
       "                    nbb_cells[i].set_text(nbb_formatted_code);\n",
       "                    break;\n",
       "                }\n",
       "            }\n",
       "        }, 500);\n",
       "        "
      ],
      "text/plain": [
       "<IPython.core.display.Javascript object>"
      ]
     },
     "metadata": {
      "tags": []
     },
     "output_type": "display_data"
    }
   ],
   "source": [
    "cnn_with_3_4 = Sequential()\n",
    "cnn_with_3_4.add(Conv2D(350, kernel_size=(5, 5),\n",
    "                 activation='relu',\n",
    "                 input_shape=input_shape))\n",
    "cnn_with_3_4.add(Conv2D(225, (5, 5), activation='relu'))\n",
    "cnn_with_3_4.add(MaxPooling2D(pool_size=(2, 2)))\n",
    "cnn_with_3_4.add(Dropout(0.4))\n",
    "cnn_with_3_4.add(Conv2D(150, (5, 5), activation='relu'))\n",
    "cnn_with_3_4.add(Dropout(0.4))\n",
    "cnn_with_3_4.add(Flatten())\n",
    "cnn_with_3_4.add(Dense(128, activation='relu'))\n",
    "cnn_with_3_4.add(Dense(num_classes, activation='softmax'))\n",
    "\n",
    "cnn_with_3_4.compile(loss=keras.losses.categorical_crossentropy,\n",
    "              optimizer=keras.optimizers.Adadelta(),\n",
    "              metrics=['accuracy'])\n",
    "\n",
    "history34=cnn_with_3_4.fit(x_train, y_train,\n",
    "          batch_size=batch_size,\n",
    "          epochs=epochs,\n",
    "          verbose=1,\n",
    "          validation_data=(x_cv, y_cv))\n",
    "score = cnn_with_3_4.evaluate(x_cv, y_cv, verbose=0)\n",
    "print('Test loss:', score[0])\n",
    "print('Test accuracy:', score[1])"
   ]
  },
  {
   "cell_type": "code",
   "execution_count": 0,
   "metadata": {
    "colab": {
     "base_uri": "https://localhost:8080/",
     "height": 319
    },
    "colab_type": "code",
    "id": "a5AgvnCkaU5p",
    "outputId": "2f6b7feb-2ccc-4b68-e1de-065b912cabaa"
   },
   "outputs": [
    {
     "name": "stdout",
     "output_type": "stream",
     "text": [
      "Test score: 0.03183888377823356\n",
      "Test accuracy: 0.9922727272727273\n"
     ]
    },
    {
     "data": {
      "image/png": "[encoded data removed]",
      "text/plain": [
       "<Figure size 432x288 with 1 Axes>"
      ]
     },
     "metadata": {
      "tags": []
     },
     "output_type": "display_data"
    },
    {
     "data": {
      "application/javascript": [
       "\n",
       "        setTimeout(function() {\n",
       "            var nbb_cell_id = 97;\n",
       "            var nbb_formatted_code = \"score34 = cnn_with_3_4.evaluate(x_test, y_test, verbose=0)\\nprint(\\\"Test score:\\\", score[0])\\nprint(\\\"Test accuracy:\\\", score[1])\\n\\nfig, ax = plt.subplots(1, 1)\\nax.set_xlabel(\\\"epoch\\\")\\nax.set_ylabel(\\\"Categorical Crossentropy Loss\\\")\\n\\n# list of epoch numbers\\nl = list(range(1, epochs + 1))\\n\\nx.add_row(\\n    [\\n        \\\"350-225-150(kernel(5,5))\\\",\\n        \\\"With_dropout(0,4)\\\",\\n        history34.history[\\\"acc\\\"][11],\\n        history34.history[\\\"val_acc\\\"][11],\\n        score34[1],\\n        history34.history[\\\"loss\\\"][11],\\n        history34.history[\\\"val_loss\\\"][11],\\n        score34[0],\\n    ]\\n)\\n\\n\\nvy = history34.history[\\\"val_loss\\\"]\\nty = history34.history[\\\"loss\\\"]\\nplt_dynamic(l, vy, ty, ax)\";\n",
       "            var nbb_cells = Jupyter.notebook.get_cells();\n",
       "            for (var i = 0; i < nbb_cells.length; ++i) {\n",
       "                if (nbb_cells[i].input_prompt_number == nbb_cell_id) {\n",
       "                    nbb_cells[i].set_text(nbb_formatted_code);\n",
       "                    break;\n",
       "                }\n",
       "            }\n",
       "        }, 500);\n",
       "        "
      ],
      "text/plain": [
       "<IPython.core.display.Javascript object>"
      ]
     },
     "metadata": {
      "tags": []
     },
     "output_type": "display_data"
    }
   ],
   "source": [
    "score34 = cnn_with_3_4.evaluate(x_test, y_test, verbose=0) \n",
    "print('Test score:', score34[0]) \n",
    "print('Test accuracy:', score34[1])\n",
    "\n",
    "fig,ax = plt.subplots(1,1)\n",
    "ax.set_xlabel('epoch') ; ax.set_ylabel('Categorical Crossentropy Loss')\n",
    "\n",
    "# list of epoch numbers\n",
    "l = list(range(1,epochs+1))\n",
    "\n",
    "x.add_row([\"350-225-150(kernel(5,5))\",\"With_dropout(0,4)\" ,history34.history['acc'][11],history34.history['val_acc'][11],score34[1],history34.history['loss'][11],history34.history['val_loss'][11],score34[0]])\n",
    "\n",
    "\n",
    "vy = history34.history['val_loss']\n",
    "ty = history34.history['loss']\n",
    "plt_dynamic(l, vy, ty, ax)"
   ]
  },
  {
   "cell_type": "markdown",
   "metadata": {
    "colab_type": "text",
    "id": "V9ifyNE8W_7p"
   },
   "source": [
    "with dropout rate(0.5)"
   ]
  },
  {
   "cell_type": "code",
   "execution_count": 98,
   "metadata": {
    "colab": {
     "base_uri": "https://localhost:8080/",
     "height": 508
    },
    "colab_type": "code",
    "id": "IjjdBaEYW_71",
    "outputId": "cf4a261a-8dd0-4aa5-e2e6-8e8dd442178c"
   },
   "outputs": [
    {
     "name": "stdout",
     "output_type": "stream",
     "text": [
      "Train on 40200 samples, validate on 19800 samples\n",
      "Epoch 1/12\n",
      "40200/40200 [==============================] - 29s 730us/step - loss: 0.2687 - acc: 0.9145 - val_loss: 0.0659 - val_acc: 0.9811\n",
      "Epoch 2/12\n",
      "40200/40200 [==============================] - 22s 558us/step - loss: 0.0632 - acc: 0.9803 - val_loss: 0.0740 - val_acc: 0.9772\n",
      "Epoch 3/12\n",
      "40200/40200 [==============================] - 23s 560us/step - loss: 0.0432 - acc: 0.9867 - val_loss: 0.2265 - val_acc: 0.9355\n",
      "Epoch 4/12\n",
      "40200/40200 [==============================] - 23s 563us/step - loss: 0.0368 - acc: 0.9886 - val_loss: 0.0438 - val_acc: 0.9875\n",
      "Epoch 5/12\n",
      "40200/40200 [==============================] - 24s 587us/step - loss: 0.0295 - acc: 0.9903 - val_loss: 0.0375 - val_acc: 0.9891\n",
      "Epoch 6/12\n",
      "40200/40200 [==============================] - 24s 587us/step - loss: 0.0239 - acc: 0.9926 - val_loss: 0.0294 - val_acc: 0.9915\n",
      "Epoch 7/12\n",
      "40200/40200 [==============================] - 23s 575us/step - loss: 0.0202 - acc: 0.9936 - val_loss: 0.0511 - val_acc: 0.9861\n",
      "Epoch 8/12\n",
      "40200/40200 [==============================] - 23s 574us/step - loss: 0.0182 - acc: 0.9938 - val_loss: 0.0314 - val_acc: 0.9913\n",
      "Epoch 9/12\n",
      "40200/40200 [==============================] - 23s 578us/step - loss: 0.0175 - acc: 0.9945 - val_loss: 0.0323 - val_acc: 0.9916\n",
      "Epoch 10/12\n",
      "40200/40200 [==============================] - 23s 574us/step - loss: 0.0145 - acc: 0.9953 - val_loss: 0.0374 - val_acc: 0.9896\n",
      "Epoch 11/12\n",
      "40200/40200 [==============================] - 23s 571us/step - loss: 0.0131 - acc: 0.9956 - val_loss: 0.0365 - val_acc: 0.9907\n",
      "Epoch 12/12\n",
      "40200/40200 [==============================] - 23s 569us/step - loss: 0.0123 - acc: 0.9961 - val_loss: 0.0353 - val_acc: 0.9916\n",
      "Test loss: 0.035284401402347954\n",
      "Test accuracy: 0.9916161616161616\n"
     ]
    },
    {
     "data": {
      "application/javascript": [
       "\n",
       "        setTimeout(function() {\n",
       "            var nbb_cell_id = 98;\n",
       "            var nbb_formatted_code = \"cnn_with_3_5 = Sequential()\\ncnn_with_3_5.add(\\n    Conv2D(350, kernel_size=(5, 5), activation=\\\"relu\\\", input_shape=input_shape)\\n)\\ncnn_with_3_5.add(Conv2D(225, (5, 5), activation=\\\"relu\\\"))\\ncnn_with_3_5.add(MaxPooling2D(pool_size=(2, 2)))\\ncnn_with_3_5.add(Dropout(0.5))\\ncnn_with_3_5.add(Conv2D(150, (5, 5), activation=\\\"relu\\\"))\\ncnn_with_3_5.add(Dropout(0.5))\\ncnn_with_3_5.add(Flatten())\\ncnn_with_3_5.add(Dense(128, activation=\\\"relu\\\"))\\ncnn_with_3_5.add(Dense(num_classes, activation=\\\"softmax\\\"))\\n\\ncnn_with_3_5.compile(\\n    loss=keras.losses.categorical_crossentropy,\\n    optimizer=keras.optimizers.Adadelta(),\\n    metrics=[\\\"accuracy\\\"],\\n)\\n\\nhistory35 = cnn_with_3_5.fit(\\n    x_train,\\n    y_train,\\n    batch_size=batch_size,\\n    epochs=epochs,\\n    verbose=1,\\n    validation_data=(x_cv, y_cv),\\n)\\nscore = cnn_with_3_5.evaluate(x_cv, y_cv, verbose=0)\\nprint(\\\"Test loss:\\\", score[0])\\nprint(\\\"Test accuracy:\\\", score[1])\";\n",
       "            var nbb_cells = Jupyter.notebook.get_cells();\n",
       "            for (var i = 0; i < nbb_cells.length; ++i) {\n",
       "                if (nbb_cells[i].input_prompt_number == nbb_cell_id) {\n",
       "                    nbb_cells[i].set_text(nbb_formatted_code);\n",
       "                    break;\n",
       "                }\n",
       "            }\n",
       "        }, 500);\n",
       "        "
      ],
      "text/plain": [
       "<IPython.core.display.Javascript object>"
      ]
     },
     "metadata": {
      "tags": []
     },
     "output_type": "display_data"
    }
   ],
   "source": [
    "cnn_with_3_5 = Sequential()\n",
    "cnn_with_3_5.add(Conv2D(350, kernel_size=(5, 5),\n",
    "                 activation='relu',\n",
    "                 input_shape=input_shape))\n",
    "cnn_with_3_5.add(Conv2D(225, (5, 5), activation='relu'))\n",
    "cnn_with_3_5.add(MaxPooling2D(pool_size=(2, 2)))\n",
    "cnn_with_3_5.add(Dropout(0.5))\n",
    "cnn_with_3_5.add(Conv2D(150, (5, 5), activation='relu'))\n",
    "cnn_with_3_5.add(Dropout(0.5))\n",
    "cnn_with_3_5.add(Flatten())\n",
    "cnn_with_3_5.add(Dense(128, activation='relu'))\n",
    "cnn_with_3_5.add(Dense(num_classes, activation='softmax'))\n",
    "\n",
    "cnn_with_3_5.compile(loss=keras.losses.categorical_crossentropy,\n",
    "              optimizer=keras.optimizers.Adadelta(),\n",
    "              metrics=['accuracy'])\n",
    "\n",
    "history35=cnn_with_3_5.fit(x_train, y_train,\n",
    "          batch_size=batch_size,\n",
    "          epochs=epochs,\n",
    "          verbose=1,\n",
    "          validation_data=(x_cv, y_cv))\n",
    "score = cnn_with_3_5.evaluate(x_cv, y_cv, verbose=0)\n",
    "print('Test loss:', score[0])\n",
    "print('Test accuracy:', score[1])"
   ]
  },
  {
   "cell_type": "code",
   "execution_count": 99,
   "metadata": {
    "colab": {
     "base_uri": "https://localhost:8080/",
     "height": 319
    },
    "colab_type": "code",
    "id": "RUnTHddkW_8i",
    "outputId": "85921353-ee48-4659-ec2d-f28aa0417e42"
   },
   "outputs": [
    {
     "name": "stdout",
     "output_type": "stream",
     "text": [
      "Test score: 0.035284401402347954\n",
      "Test accuracy: 0.9916161616161616\n"
     ]
    },
    {
     "data": {
      "image/png": "[encoded data removed]",
      "text/plain": [
       "<Figure size 432x288 with 1 Axes>"
      ]
     },
     "metadata": {
      "tags": []
     },
     "output_type": "display_data"
    },
    {
     "data": {
      "application/javascript": [
       "\n",
       "        setTimeout(function() {\n",
       "            var nbb_cell_id = 99;\n",
       "            var nbb_formatted_code = \"score35 = cnn_with_3_5.evaluate(x_test, y_test, verbose=0)\\nprint(\\\"Test score:\\\", score[0])\\nprint(\\\"Test accuracy:\\\", score[1])\\n\\nfig, ax = plt.subplots(1, 1)\\nax.set_xlabel(\\\"epoch\\\")\\nax.set_ylabel(\\\"Categorical Crossentropy Loss\\\")\\n\\n# list of epoch numbers\\nl = list(range(1, epochs + 1))\\n\\nx.add_row(\\n    [\\n        \\\"350-225-150(kernel(5,5))\\\",\\n        \\\"With_dropout(0.5)\\\",\\n        history35.history[\\\"acc\\\"][11],\\n        history35.history[\\\"val_acc\\\"][11],\\n        score35[1],\\n        history35.history[\\\"loss\\\"][11],\\n        history35.history[\\\"val_loss\\\"][11],\\n        score35[0],\\n    ]\\n)\\n\\n\\nvy = history35.history[\\\"val_loss\\\"]\\nty = history35.history[\\\"loss\\\"]\\nplt_dynamic(l, vy, ty, ax)\";\n",
       "            var nbb_cells = Jupyter.notebook.get_cells();\n",
       "            for (var i = 0; i < nbb_cells.length; ++i) {\n",
       "                if (nbb_cells[i].input_prompt_number == nbb_cell_id) {\n",
       "                    nbb_cells[i].set_text(nbb_formatted_code);\n",
       "                    break;\n",
       "                }\n",
       "            }\n",
       "        }, 500);\n",
       "        "
      ],
      "text/plain": [
       "<IPython.core.display.Javascript object>"
      ]
     },
     "metadata": {
      "tags": []
     },
     "output_type": "display_data"
    }
   ],
   "source": [
    "score35 = cnn_with_3_5.evaluate(x_test, y_test, verbose=0) \n",
    "print('Test score:', score35[0]) \n",
    "print('Test accuracy:', score35[1])\n",
    "\n",
    "fig,ax = plt.subplots(1,1)\n",
    "ax.set_xlabel('epoch') ; ax.set_ylabel('Categorical Crossentropy Loss')\n",
    "\n",
    "# list of epoch numbers\n",
    "l = list(range(1,epochs+1))\n",
    "\n",
    "x.add_row([\"350-225-150(kernel(5,5))\",\"With_dropout(0.5)\" ,history35.history['acc'][11],history35.history['val_acc'][11],score35[1],history35.history['loss'][11],history35.history['val_loss'][11],score35[0]])\n",
    "\n",
    "\n",
    "vy = history35.history['val_loss']\n",
    "ty = history35.history['loss']\n",
    "plt_dynamic(l, vy, ty, ax)"
   ]
  },
  {
   "cell_type": "markdown",
   "metadata": {
    "colab_type": "text",
    "id": "IogZ_tBGc0cC"
   },
   "source": [
    "with batch normalization and dropout(0.5)\n",
    "\n"
   ]
  },
  {
   "cell_type": "code",
   "execution_count": 100,
   "metadata": {
    "colab": {
     "base_uri": "https://localhost:8080/",
     "height": 508
    },
    "colab_type": "code",
    "id": "skrY1FujeP-V",
    "outputId": "817f6124-72c4-4131-d49c-6f6578950754"
   },
   "outputs": [
    {
     "name": "stdout",
     "output_type": "stream",
     "text": [
      "Train on 40200 samples, validate on 19800 samples\n",
      "Epoch 1/12\n",
      "40200/40200 [==============================] - 33s 830us/step - loss: 0.1718 - acc: 0.9454 - val_loss: 0.5447 - val_acc: 0.8983\n",
      "Epoch 2/12\n",
      "40200/40200 [==============================] - 26s 649us/step - loss: 0.0625 - acc: 0.9814 - val_loss: 0.0613 - val_acc: 0.9854\n",
      "Epoch 3/12\n",
      "40200/40200 [==============================] - 26s 637us/step - loss: 0.0429 - acc: 0.9870 - val_loss: 0.0537 - val_acc: 0.9842\n",
      "Epoch 4/12\n",
      "40200/40200 [==============================] - 25s 627us/step - loss: 0.0324 - acc: 0.9901 - val_loss: 0.0484 - val_acc: 0.9858\n",
      "Epoch 5/12\n",
      "40200/40200 [==============================] - 25s 631us/step - loss: 0.0269 - acc: 0.9922 - val_loss: 0.0798 - val_acc: 0.9818\n",
      "Epoch 6/12\n",
      "40200/40200 [==============================] - 26s 634us/step - loss: 0.0230 - acc: 0.9927 - val_loss: 0.0427 - val_acc: 0.9892\n",
      "Epoch 7/12\n",
      "40200/40200 [==============================] - 25s 633us/step - loss: 0.0173 - acc: 0.9944 - val_loss: 0.0400 - val_acc: 0.9903\n",
      "Epoch 8/12\n",
      "40200/40200 [==============================] - 25s 631us/step - loss: 0.0178 - acc: 0.9946 - val_loss: 0.0660 - val_acc: 0.9855\n",
      "Epoch 9/12\n",
      "40200/40200 [==============================] - 25s 632us/step - loss: 0.0151 - acc: 0.9952 - val_loss: 0.0397 - val_acc: 0.9909\n",
      "Epoch 10/12\n",
      "40200/40200 [==============================] - 25s 631us/step - loss: 0.0133 - acc: 0.9956 - val_loss: 0.0424 - val_acc: 0.9892\n",
      "Epoch 11/12\n",
      "40200/40200 [==============================] - 25s 631us/step - loss: 0.0106 - acc: 0.9969 - val_loss: 0.0335 - val_acc: 0.9923\n",
      "Epoch 12/12\n",
      "40200/40200 [==============================] - 25s 630us/step - loss: 0.0097 - acc: 0.9967 - val_loss: 0.0277 - val_acc: 0.9930\n",
      "Test loss: 0.027656820802906375\n",
      "Test accuracy: 0.993030303030303\n"
     ]
    },
    {
     "data": {
      "application/javascript": [
       "\n",
       "        setTimeout(function() {\n",
       "            var nbb_cell_id = 100;\n",
       "            var nbb_formatted_code = \"cnn_with_3_6 = Sequential()\\ncnn_with_3_6.add(\\n    Conv2D(350, kernel_size=(5, 5), activation=\\\"relu\\\", input_shape=input_shape)\\n)\\ncnn_with_3_6.add(Conv2D(225, (5, 5), activation=\\\"relu\\\"))\\ncnn_with_3_6.add(MaxPooling2D(pool_size=(2, 2)))\\ncnn_with_3_6.add(Dropout(0.5))\\ncnn_with_3_6.add(BatchNormalization())\\ncnn_with_3_6.add(Conv2D(150, (5, 5), activation=\\\"relu\\\"))\\ncnn_with_3_6.add(Dropout(0.5))\\ncnn_with_3_6.add(BatchNormalization())\\ncnn_with_3_6.add(Flatten())\\ncnn_with_3_6.add(Dense(128, activation=\\\"relu\\\"))\\ncnn_with_3_6.add(Dense(num_classes, activation=\\\"softmax\\\"))\\n\\ncnn_with_3_6.compile(\\n    loss=keras.losses.categorical_crossentropy,\\n    optimizer=keras.optimizers.Adadelta(),\\n    metrics=[\\\"accuracy\\\"],\\n)\\n\\nhistory36 = cnn_with_3_6.fit(\\n    x_train,\\n    y_train,\\n    batch_size=batch_size,\\n    epochs=epochs,\\n    verbose=1,\\n    validation_data=(x_cv, y_cv),\\n)\\nscore = cnn_with_3_6.evaluate(x_cv, y_cv, verbose=0)\\nprint(\\\"Test loss:\\\", score[0])\\nprint(\\\"Test accuracy:\\\", score[1])\";\n",
       "            var nbb_cells = Jupyter.notebook.get_cells();\n",
       "            for (var i = 0; i < nbb_cells.length; ++i) {\n",
       "                if (nbb_cells[i].input_prompt_number == nbb_cell_id) {\n",
       "                    nbb_cells[i].set_text(nbb_formatted_code);\n",
       "                    break;\n",
       "                }\n",
       "            }\n",
       "        }, 500);\n",
       "        "
      ],
      "text/plain": [
       "<IPython.core.display.Javascript object>"
      ]
     },
     "metadata": {
      "tags": []
     },
     "output_type": "display_data"
    }
   ],
   "source": [
    "cnn_with_3_6 = Sequential()\n",
    "cnn_with_3_6.add(Conv2D(350, kernel_size=(5, 5),\n",
    "                 activation='relu',\n",
    "                 input_shape=input_shape))\n",
    "cnn_with_3_6.add(Conv2D(225, (5, 5), activation='relu'))\n",
    "cnn_with_3_6.add(MaxPooling2D(pool_size=(2, 2)))\n",
    "cnn_with_3_6.add(Dropout(0.5))\n",
    "cnn_with_3_6.add(BatchNormalization())\n",
    "cnn_with_3_6.add(Conv2D(150, (5, 5), activation='relu'))\n",
    "cnn_with_3_6.add(Dropout(0.5))\n",
    "cnn_with_3_6.add(BatchNormalization())\n",
    "cnn_with_3_6.add(Flatten())\n",
    "cnn_with_3_6.add(Dense(128, activation='relu'))\n",
    "cnn_with_3_6.add(Dense(num_classes, activation='softmax'))\n",
    "\n",
    "cnn_with_3_6.compile(loss=keras.losses.categorical_crossentropy,\n",
    "              optimizer=keras.optimizers.Adadelta(),\n",
    "              metrics=['accuracy'])\n",
    "\n",
    "history36=cnn_with_3_6.fit(x_train, y_train,\n",
    "          batch_size=batch_size,\n",
    "          epochs=epochs,\n",
    "          verbose=1,\n",
    "          validation_data=(x_cv, y_cv))\n",
    "score = cnn_with_3_6.evaluate(x_cv, y_cv, verbose=0)\n",
    "print('Test loss:', score[0])\n",
    "print('Test accuracy:', score[1])"
   ]
  },
  {
   "cell_type": "code",
   "execution_count": 101,
   "metadata": {
    "colab": {
     "base_uri": "https://localhost:8080/",
     "height": 319
    },
    "colab_type": "code",
    "id": "JbMqEZjueP--",
    "outputId": "c0d3f823-9aff-4420-a299-6ff491689ed7"
   },
   "outputs": [
    {
     "name": "stdout",
     "output_type": "stream",
     "text": [
      "Test score: 0.027656820802906375\n",
      "Test accuracy: 0.993030303030303\n"
     ]
    },
    {
     "data": {
      "image/png": "[encoded data removed]",
      "text/plain": [
       "<Figure size 432x288 with 1 Axes>"
      ]
     },
     "metadata": {
      "tags": []
     },
     "output_type": "display_data"
    },
    {
     "data": {
      "application/javascript": [
       "\n",
       "        setTimeout(function() {\n",
       "            var nbb_cell_id = 101;\n",
       "            var nbb_formatted_code = \"score36 = cnn_with_3_6.evaluate(x_test, y_test, verbose=0)\\nprint(\\\"Test score:\\\", score[0])\\nprint(\\\"Test accuracy:\\\", score[1])\\n\\nfig, ax = plt.subplots(1, 1)\\nax.set_xlabel(\\\"epoch\\\")\\nax.set_ylabel(\\\"Categorical Crossentropy Loss\\\")\\n\\n# list of epoch numbers\\nl = list(range(1, epochs + 1))\\n\\nx.add_row(\\n    [\\n        \\\"350-225-150(kernel(5,5))\\\",\\n        \\\"With_bn_dropout(0.5)\\\",\\n        history36.history[\\\"acc\\\"][11],\\n        history36.history[\\\"val_acc\\\"][11],\\n        score36[1],\\n        history36.history[\\\"loss\\\"][11],\\n        history36.history[\\\"val_loss\\\"][11],\\n        score36[0],\\n    ]\\n)\\n\\n\\nvy = history36.history[\\\"val_loss\\\"]\\nty = history36.history[\\\"loss\\\"]\\nplt_dynamic(l, vy, ty, ax)\";\n",
       "            var nbb_cells = Jupyter.notebook.get_cells();\n",
       "            for (var i = 0; i < nbb_cells.length; ++i) {\n",
       "                if (nbb_cells[i].input_prompt_number == nbb_cell_id) {\n",
       "                    nbb_cells[i].set_text(nbb_formatted_code);\n",
       "                    break;\n",
       "                }\n",
       "            }\n",
       "        }, 500);\n",
       "        "
      ],
      "text/plain": [
       "<IPython.core.display.Javascript object>"
      ]
     },
     "metadata": {
      "tags": []
     },
     "output_type": "display_data"
    }
   ],
   "source": [
    "score36 = cnn_with_3_6.evaluate(x_test, y_test, verbose=0) \n",
    "print('Test score:', score36[0]) \n",
    "print('Test accuracy:', score36[1])\n",
    "\n",
    "fig,ax = plt.subplots(1,1)\n",
    "ax.set_xlabel('epoch') ; ax.set_ylabel('Categorical Crossentropy Loss')\n",
    "\n",
    "# list of epoch numbers\n",
    "l = list(range(1,epochs+1))\n",
    "\n",
    "x.add_row([\"350-225-150(kernel(5,5))\",\"With_bn_dropout(0.5)\" ,history36.history['acc'][11],history36.history['val_acc'][11],score36[1],history36.history['loss'][11],history36.history['val_loss'][11],score36[0]])\n",
    "\n",
    "\n",
    "vy = history36.history['val_loss']\n",
    "ty = history36.history['loss']\n",
    "plt_dynamic(l, vy, ty, ax)"
   ]
  },
  {
   "cell_type": "code",
   "execution_count": 106,
   "metadata": {
    "colab": {
     "base_uri": "https://localhost:8080/",
     "height": 219
    },
    "colab_type": "code",
    "id": "iE8o_riXifYK",
    "outputId": "b2be13bf-f853-4a1e-b999-cfcfa712742d"
   },
   "outputs": [
    {
     "name": "stdout",
     "output_type": "stream",
     "text": [
      "+--------------------------+----------------------+--------------------+---------------------+---------------+-----------------------+---------------------+----------------------+\n",
      "|           CNN            |         Type         |   Train_accuracy   | validation_accuracy | Test_accuracy |       Train_loss      |   validation_loss   |      Test_loss       |\n",
      "+--------------------------+----------------------+--------------------+---------------------+---------------+-----------------------+---------------------+----------------------+\n",
      "| 350-225-150(kernel(3,3)) |  Without_bn_dropout  | 0.9999004975124378 |  0.9911111112074419 |     0.992     | 0.0010099540169612375 | 0.04811473159608666 | 0.037850331771943004 |\n",
      "| 350-225-150(kernel(5,5)) |  Without_bn_dropout  | 0.9996517412935323 |  0.9901010099805967 |     0.9922    | 0.0013699551390893268 | 0.05361888648375323 | 0.03878844279597288  |\n",
      "| 350-225-150(kernel(5,5)) |  With_dropout(0,3)   | 0.9981094527363185 |  0.9921717170513038 |     0.9933    | 0.0061518592389493915 | 0.03640687848343702 | 0.029596212988999924 |\n",
      "| 350-225-150(kernel(5,5)) |  With_dropout(0,4)   | 0.9970149253731343 |  0.9922727273208927 |     0.9931    |  0.009353482883313124 | 0.03183888533272583 | 0.023023658099928252 |\n",
      "| 350-225-150(kernel(5,5)) |  With_dropout(0.5)   | 0.9961194029850746 |  0.9916161616161616 |     0.9944    |  0.012309926396045563 | 0.03528440177713455 | 0.02005857926331146  |\n",
      "| 350-225-150(kernel(5,5)) | With_bn_dropout(0.5) | 0.9967164179104477 |  0.9930303031266338 |     0.9933    |  0.009727142214073118 | 0.02765679065533208 | 0.022946155533678937 |\n",
      "+--------------------------+----------------------+--------------------+---------------------+---------------+-----------------------+---------------------+----------------------+\n"
     ]
    },
    {
     "data": {
      "application/javascript": [
       "\n",
       "        setTimeout(function() {\n",
       "            var nbb_cell_id = 106;\n",
       "            var nbb_formatted_code = \"print(x)\";\n",
       "            var nbb_cells = Jupyter.notebook.get_cells();\n",
       "            for (var i = 0; i < nbb_cells.length; ++i) {\n",
       "                if (nbb_cells[i].input_prompt_number == nbb_cell_id) {\n",
       "                    nbb_cells[i].set_text(nbb_formatted_code);\n",
       "                    break;\n",
       "                }\n",
       "            }\n",
       "        }, 500);\n",
       "        "
      ],
      "text/plain": [
       "<IPython.core.display.Javascript object>"
      ]
     },
     "metadata": {
      "tags": []
     },
     "output_type": "display_data"
    }
   ],
   "source": [
    "print(x)"
   ]
  },
  {
   "cell_type": "markdown",
   "metadata": {
    "colab_type": "text",
    "id": "5oJiEMHOg6e3"
   },
   "source": [
    "CNN WITH FIVE CONV LAYERS(500-400-300-200-100)"
   ]
  },
  {
   "cell_type": "markdown",
   "metadata": {
    "colab_type": "text",
    "id": "OslV94Y2g6fS"
   },
   "source": [
    "Without dropout and BatchNormalization kernel size (3,3)"
   ]
  },
  {
   "cell_type": "code",
   "execution_count": 19,
   "metadata": {
    "colab": {
     "base_uri": "https://localhost:8080/",
     "height": 508
    },
    "colab_type": "code",
    "id": "jMS8UDSPg6fl",
    "outputId": "b1451401-e0b5-43c4-a721-517af63277de"
   },
   "outputs": [
    {
     "name": "stdout",
     "output_type": "stream",
     "text": [
      "Train on 40200 samples, validate on 19800 samples\n",
      "Epoch 1/12\n",
      "40200/40200 [==============================] - 43s 1ms/step - loss: 0.3669 - acc: 0.8844 - val_loss: 0.0683 - val_acc: 0.9802\n",
      "Epoch 2/12\n",
      "40200/40200 [==============================] - 39s 980us/step - loss: 0.0577 - acc: 0.9820 - val_loss: 0.0478 - val_acc: 0.9853\n",
      "Epoch 3/12\n",
      "40200/40200 [==============================] - 40s 993us/step - loss: 0.0362 - acc: 0.9888 - val_loss: 0.0478 - val_acc: 0.9862\n",
      "Epoch 4/12\n",
      "40200/40200 [==============================] - 40s 1ms/step - loss: 0.0256 - acc: 0.9918 - val_loss: 0.0375 - val_acc: 0.9888\n",
      "Epoch 5/12\n",
      "40200/40200 [==============================] - 41s 1ms/step - loss: 0.0181 - acc: 0.9947 - val_loss: 0.0415 - val_acc: 0.9892\n",
      "Epoch 6/12\n",
      "40200/40200 [==============================] - 41s 1ms/step - loss: 0.0123 - acc: 0.9962 - val_loss: 0.0419 - val_acc: 0.9885\n",
      "Epoch 7/12\n",
      "40200/40200 [==============================] - 41s 1ms/step - loss: 0.0089 - acc: 0.9974 - val_loss: 0.0398 - val_acc: 0.9911\n",
      "Epoch 8/12\n",
      "40200/40200 [==============================] - 40s 1ms/step - loss: 0.0069 - acc: 0.9980 - val_loss: 0.0459 - val_acc: 0.9907\n",
      "Epoch 9/12\n",
      "40200/40200 [==============================] - 41s 1ms/step - loss: 0.0050 - acc: 0.9986 - val_loss: 0.0427 - val_acc: 0.9899\n",
      "Epoch 10/12\n",
      "40200/40200 [==============================] - 41s 1ms/step - loss: 0.0045 - acc: 0.9987 - val_loss: 0.0385 - val_acc: 0.9913\n",
      "Epoch 11/12\n",
      "40200/40200 [==============================] - 40s 1ms/step - loss: 0.0019 - acc: 0.9994 - val_loss: 0.0468 - val_acc: 0.9910\n",
      "Epoch 12/12\n",
      "40200/40200 [==============================] - 40s 1ms/step - loss: 0.0020 - acc: 0.9995 - val_loss: 0.0455 - val_acc: 0.9914\n",
      "Test loss: 0.031705036375731604\n",
      "Test accuracy: 0.9933\n"
     ]
    }
   ],
   "source": [
    "cnn_with_5_1 = Sequential()\n",
    "cnn_with_5_1.add(Conv2D(500, kernel_size=(3, 3),\n",
    "                 activation='relu',\n",
    "                 input_shape=input_shape))\n",
    "cnn_with_5_1.add(Conv2D(400, (3, 3), activation='relu'))\n",
    "cnn_with_5_1.add(MaxPooling2D(pool_size=(2, 2)))\n",
    "cnn_with_5_1.add(Conv2D(300, (3, 3), activation='relu'))\n",
    "cnn_with_5_1.add(Conv2D(200, (3, 3), activation='relu'))\n",
    "cnn_with_5_1.add(MaxPooling2D(pool_size=(2, 2)))\n",
    "cnn_with_5_1.add(Conv2D(100, (3, 3), activation='relu'))\n",
    "cnn_with_5_1.add(Flatten())\n",
    "cnn_with_5_1.add(Dense(128, activation='relu'))\n",
    "cnn_with_5_1.add(Dense(num_classes, activation='softmax'))\n",
    "\n",
    "cnn_with_5_1.compile(loss=keras.losses.categorical_crossentropy,\n",
    "              optimizer=keras.optimizers.Adadelta(),\n",
    "              metrics=['accuracy'])\n",
    "\n",
    "history51=cnn_with_5_1.fit(x_train, y_train,\n",
    "          batch_size=batch_size,\n",
    "          epochs=epochs,\n",
    "          verbose=1,\n",
    "          validation_data=(x_cv, y_cv))\n",
    "score = cnn_with_5_1.evaluate(x_test, y_test, verbose=0)\n",
    "print('Test loss:', score[0])\n",
    "print('Test accuracy:', score[1])"
   ]
  },
  {
   "cell_type": "code",
   "execution_count": 20,
   "metadata": {
    "colab": {
     "base_uri": "https://localhost:8080/",
     "height": 319
    },
    "colab_type": "code",
    "id": "ic7pd9N_g6gW",
    "outputId": "5c6dc67e-a5d5-4420-fe82-d387d144fd4d"
   },
   "outputs": [
    {
     "name": "stdout",
     "output_type": "stream",
     "text": [
      "Test score: 0.031705036375731604\n",
      "Test accuracy: 0.9933\n"
     ]
    },
    {
     "data": {
      "image/png": "[encoded data removed]",
      "text/plain": [
       "<Figure size 432x288 with 1 Axes>"
      ]
     },
     "metadata": {
      "tags": []
     },
     "output_type": "display_data"
    }
   ],
   "source": [
    "score51 = cnn_with_5_1.evaluate(x_test, y_test, verbose=0) \n",
    "print('Test score:', score51[0]) \n",
    "print('Test accuracy:', score51[1])\n",
    "\n",
    "fig,ax = plt.subplots(1,1)\n",
    "ax.set_xlabel('epoch') ; ax.set_ylabel('Categorical Crossentropy Loss')\n",
    "\n",
    "# list of epoch numbers\n",
    "l = list(range(1,epochs+1))\n",
    "\n",
    "\n",
    "vy = history51.history['val_loss']\n",
    "ty = history51.history['loss']\n",
    "\n",
    "y = PrettyTable()\n",
    "\n",
    "y.field_names = [\"CNN\",\"Type\", \"Train_accuracy\",\"validation_accuracy\",\"Test_accuracy\",\"Train_loss\",\"validation_loss\" ,\"Test_loss\"]\n",
    "\n",
    "y.add_row([\"500-400-300-200-100(kernel(3,3))\",\"Without_bn_dropout\" ,round(history51.history['acc'][11],4),np.round(history51.history['val_acc'][11],4),np.round(score51[1],4),np.round(history51.history['loss'][11],4),np.round(history51.history['val_loss'][11],4),np.round(score51[0],4)])\n",
    "\n",
    "\n",
    "plt_dynamic(l, vy, ty, ax)"
   ]
  },
  {
   "cell_type": "markdown",
   "metadata": {
    "colab_type": "text",
    "id": "NiYyTeKQg6gn"
   },
   "source": [
    "without dropout  and BatchNormalization,kernelsize(5,5)"
   ]
  },
  {
   "cell_type": "code",
   "execution_count": 126,
   "metadata": {
    "colab": {
     "base_uri": "https://localhost:8080/",
     "height": 508
    },
    "colab_type": "code",
    "id": "osmpR-_Pg6gp",
    "outputId": "1e71ee69-3eb6-4474-94c0-3167af708a8c"
   },
   "outputs": [
    {
     "name": "stdout",
     "output_type": "stream",
     "text": [
      "Train on 40200 samples, validate on 19800 samples\n",
      "Epoch 1/12\n",
      "40200/40200 [==============================] - 99s 2ms/step - loss: 0.4218 - acc: 0.8648 - val_loss: 3.1480 - val_acc: 0.6367\n",
      "Epoch 2/12\n",
      "40200/40200 [==============================] - 90s 2ms/step - loss: 0.0757 - acc: 0.9793 - val_loss: 0.6044 - val_acc: 0.8300\n",
      "Epoch 3/12\n",
      "40200/40200 [==============================] - 90s 2ms/step - loss: 0.0412 - acc: 0.9874 - val_loss: 0.0517 - val_acc: 0.9846\n",
      "Epoch 4/12\n",
      "40200/40200 [==============================] - 90s 2ms/step - loss: 0.0248 - acc: 0.9923 - val_loss: 0.0409 - val_acc: 0.9872\n",
      "Epoch 5/12\n",
      "40200/40200 [==============================] - 89s 2ms/step - loss: 0.0177 - acc: 0.9945 - val_loss: 0.0339 - val_acc: 0.9904\n",
      "Epoch 6/12\n",
      "40200/40200 [==============================] - 88s 2ms/step - loss: 0.0113 - acc: 0.9962 - val_loss: 0.0609 - val_acc: 0.9848\n",
      "Epoch 7/12\n",
      "40200/40200 [==============================] - 88s 2ms/step - loss: 0.0088 - acc: 0.9974 - val_loss: 0.0342 - val_acc: 0.9921\n",
      "Epoch 8/12\n",
      "40200/40200 [==============================] - 87s 2ms/step - loss: 0.0079 - acc: 0.9975 - val_loss: 0.9846 - val_acc: 0.8738\n",
      "Epoch 9/12\n",
      "40200/40200 [==============================] - 86s 2ms/step - loss: 0.0093 - acc: 0.9977 - val_loss: 0.0395 - val_acc: 0.9912\n",
      "Epoch 10/12\n",
      "40200/40200 [==============================] - 85s 2ms/step - loss: 0.0043 - acc: 0.9989 - val_loss: 0.0346 - val_acc: 0.9924\n",
      "Epoch 11/12\n",
      "40200/40200 [==============================] - 85s 2ms/step - loss: 0.0028 - acc: 0.9992 - val_loss: 0.0433 - val_acc: 0.9923\n",
      "Epoch 12/12\n",
      "40200/40200 [==============================] - 84s 2ms/step - loss: 0.0030 - acc: 0.9992 - val_loss: 0.0475 - val_acc: 0.9921\n",
      "Test loss: 0.04133084204604907\n",
      "Test accuracy: 0.9928\n"
     ]
    },
    {
     "data": {
      "application/javascript": [
       "\n",
       "        setTimeout(function() {\n",
       "            var nbb_cell_id = 126;\n",
       "            var nbb_formatted_code = \"cnn_with_5_2 = Sequential()\\ncnn_with_5_2.add(\\n    Conv2D(\\n        500,\\n        kernel_size=(5, 5),\\n        activation=\\\"relu\\\",\\n        input_shape=input_shape,\\n        padding=\\\"same\\\",\\n    )\\n)\\ncnn_with_5_2.add(Conv2D(400, (5, 5), activation=\\\"relu\\\", padding=\\\"same\\\"))\\ncnn_with_5_2.add(MaxPooling2D(pool_size=(2, 2), padding=\\\"same\\\"))\\ncnn_with_5_2.add(Conv2D(300, (5, 5), activation=\\\"relu\\\", padding=\\\"same\\\"))\\ncnn_with_5_2.add(Conv2D(200, (5, 5), activation=\\\"relu\\\", padding=\\\"same\\\"))\\ncnn_with_5_2.add(MaxPooling2D(pool_size=(2, 2), padding=\\\"same\\\"))\\ncnn_with_5_2.add(Conv2D(100, (5, 5), activation=\\\"relu\\\", padding=\\\"same\\\"))\\ncnn_with_5_2.add(Flatten())\\ncnn_with_5_2.add(Dense(128, activation=\\\"relu\\\"))\\ncnn_with_5_2.add(Dense(num_classes, activation=\\\"softmax\\\"))\\n\\ncnn_with_5_2.compile(\\n    loss=keras.losses.categorical_crossentropy,\\n    optimizer=keras.optimizers.Adadelta(),\\n    metrics=[\\\"accuracy\\\"],\\n)\\n\\nhistory52 = cnn_with_5_2.fit(\\n    x_train,\\n    y_train,\\n    batch_size=batch_size,\\n    epochs=epochs,\\n    verbose=1,\\n    validation_data=(x_cv, y_cv),\\n)\\nscore = cnn_with_5_2.evaluate(x_test, y_test, verbose=0)\\nprint(\\\"Test loss:\\\", score[0])\\nprint(\\\"Test accuracy:\\\", score[1])\";\n",
       "            var nbb_cells = Jupyter.notebook.get_cells();\n",
       "            for (var i = 0; i < nbb_cells.length; ++i) {\n",
       "                if (nbb_cells[i].input_prompt_number == nbb_cell_id) {\n",
       "                    nbb_cells[i].set_text(nbb_formatted_code);\n",
       "                    break;\n",
       "                }\n",
       "            }\n",
       "        }, 500);\n",
       "        "
      ],
      "text/plain": [
       "<IPython.core.display.Javascript object>"
      ]
     },
     "metadata": {
      "tags": []
     },
     "output_type": "display_data"
    }
   ],
   "source": [
    "cnn_with_5_2 = Sequential()\n",
    "cnn_with_5_2.add(Conv2D(500, kernel_size=(5, 5),\n",
    "                 activation='relu',\n",
    "                 input_shape=input_shape,padding='same'))\n",
    "cnn_with_5_2.add(Conv2D(400, (5, 5), activation='relu',padding='same'))\n",
    "cnn_with_5_2.add(MaxPooling2D(pool_size=(2, 2),padding='same'))\n",
    "cnn_with_5_2.add(Conv2D(300, (5, 5), activation='relu',padding='same'))\n",
    "cnn_with_5_2.add(Conv2D(200, (5, 5), activation='relu',padding='same'))\n",
    "cnn_with_5_2.add(MaxPooling2D(pool_size=(2, 2),padding='same'))\n",
    "cnn_with_5_2.add(Conv2D(100, (5, 5), activation='relu',padding='same'))\n",
    "cnn_with_5_2.add(Flatten())\n",
    "cnn_with_5_2.add(Dense(128, activation='relu'))\n",
    "cnn_with_5_2.add(Dense(num_classes, activation='softmax'))\n",
    "\n",
    "cnn_with_5_2.compile(loss=keras.losses.categorical_crossentropy,\n",
    "              optimizer=keras.optimizers.Adadelta(),\n",
    "              metrics=['accuracy'])\n",
    "\n",
    "history52=cnn_with_5_2.fit(x_train, y_train,\n",
    "          batch_size=batch_size,\n",
    "          epochs=epochs,\n",
    "          verbose=1,\n",
    "          validation_data=(x_cv, y_cv))\n",
    "score = cnn_with_5_2.evaluate(x_test, y_test, verbose=0)\n",
    "print('Test loss:', score[0])\n",
    "print('Test accuracy:', score[1])"
   ]
  },
  {
   "cell_type": "code",
   "execution_count": 127,
   "metadata": {
    "colab": {
     "base_uri": "https://localhost:8080/",
     "height": 319
    },
    "colab_type": "code",
    "id": "RsSwbUdrg6gy",
    "outputId": "ab77d6e7-5426-47b1-a594-81027bcb2ce9"
   },
   "outputs": [
    {
     "name": "stdout",
     "output_type": "stream",
     "text": [
      "Test score: 0.04133084204604907\n",
      "Test accuracy: 0.9928\n"
     ]
    },
    {
     "data": {
      "image/png": "[encoded data removed]",
      "text/plain": [
       "<Figure size 432x288 with 1 Axes>"
      ]
     },
     "metadata": {
      "tags": []
     },
     "output_type": "display_data"
    },
    {
     "data": {
      "application/javascript": [
       "\n",
       "        setTimeout(function() {\n",
       "            var nbb_cell_id = 127;\n",
       "            var nbb_formatted_code = \"score52 = cnn_with_5_2.evaluate(x_test, y_test, verbose=0)\\nprint(\\\"Test score:\\\", score[0])\\nprint(\\\"Test accuracy:\\\", score[1])\\n\\nfig, ax = plt.subplots(1, 1)\\nax.set_xlabel(\\\"epoch\\\")\\nax.set_ylabel(\\\"Categorical Crossentropy Loss\\\")\\n\\n# list of epoch numbers\\nl = list(range(1, epochs + 1))\\n\\ny.add_row(\\n    [\\n        \\\"500-400-300-200-100(kernel(5,5))\\\",\\n        \\\"Without_bn_dropout\\\",\\n        round(history52.history[\\\"acc\\\"][11], 4),\\n        np.round(history52.history[\\\"val_acc\\\"][11], 4),\\n        np.round(score52[1], 4),\\n        np.round(history52.history[\\\"loss\\\"][11], 4),\\n        np.round(history52.history[\\\"val_loss\\\"][11], 4),\\n        np.round(score52[0], 4),\\n    ]\\n)\\n\\nvy = history52.history[\\\"val_loss\\\"]\\nty = history52.history[\\\"loss\\\"]\\nplt_dynamic(l, vy, ty, ax)\";\n",
       "            var nbb_cells = Jupyter.notebook.get_cells();\n",
       "            for (var i = 0; i < nbb_cells.length; ++i) {\n",
       "                if (nbb_cells[i].input_prompt_number == nbb_cell_id) {\n",
       "                    nbb_cells[i].set_text(nbb_formatted_code);\n",
       "                    break;\n",
       "                }\n",
       "            }\n",
       "        }, 500);\n",
       "        "
      ],
      "text/plain": [
       "<IPython.core.display.Javascript object>"
      ]
     },
     "metadata": {
      "tags": []
     },
     "output_type": "display_data"
    }
   ],
   "source": [
    "score52 = cnn_with_5_2.evaluate(x_test, y_test, verbose=0) \n",
    "print('Test score:', score52[0]) \n",
    "print('Test accuracy:', score52[1])\n",
    "\n",
    "fig,ax = plt.subplots(1,1)\n",
    "ax.set_xlabel('epoch') ; ax.set_ylabel('Categorical Crossentropy Loss')\n",
    "\n",
    "# list of epoch numbers\n",
    "l = list(range(1,epochs+1))\n",
    "\n",
    "y.add_row([\"500-400-300-200-100(kernel(5,5))\",\"Without_bn_dropout\" ,round(history52.history['acc'][11],4),np.round(history52.history['val_acc'][11],4),np.round(score52[1],4),np.round(history52.history['loss'][11],4),np.round(history52.history['val_loss'][11],4),np.round(score52[0],4)])\n",
    "\n",
    "vy = history52.history['val_loss']\n",
    "ty = history52.history['loss']\n",
    "plt_dynamic(l, vy, ty, ax)"
   ]
  },
  {
   "cell_type": "markdown",
   "metadata": {
    "colab_type": "text",
    "id": "fNsdnpxbg6g7"
   },
   "source": [
    "with dropout rate(0.3)"
   ]
  },
  {
   "cell_type": "code",
   "execution_count": 130,
   "metadata": {
    "colab": {
     "base_uri": "https://localhost:8080/",
     "height": 508
    },
    "colab_type": "code",
    "id": "uZloZBNqg6g9",
    "outputId": "d4ac0255-e09f-4ba6-8e0c-a803b20f7eb9"
   },
   "outputs": [
    {
     "name": "stdout",
     "output_type": "stream",
     "text": [
      "Train on 40200 samples, validate on 19800 samples\n",
      "Epoch 1/12\n",
      "40200/40200 [==============================] - 100s 2ms/step - loss: 0.4307 - acc: 0.8562 - val_loss: 0.0981 - val_acc: 0.9702\n",
      "Epoch 2/12\n",
      "40200/40200 [==============================] - 92s 2ms/step - loss: 0.0594 - acc: 0.9815 - val_loss: 0.0478 - val_acc: 0.9868\n",
      "Epoch 3/12\n",
      "40200/40200 [==============================] - 91s 2ms/step - loss: 0.0399 - acc: 0.9882 - val_loss: 0.0346 - val_acc: 0.9899\n",
      "Epoch 4/12\n",
      "40200/40200 [==============================] - 91s 2ms/step - loss: 0.0264 - acc: 0.9918 - val_loss: 0.0329 - val_acc: 0.9904\n",
      "Epoch 5/12\n",
      "40200/40200 [==============================] - 91s 2ms/step - loss: 0.0204 - acc: 0.9940 - val_loss: 0.0313 - val_acc: 0.9905\n",
      "Epoch 6/12\n",
      "40200/40200 [==============================] - 90s 2ms/step - loss: 0.0164 - acc: 0.9949 - val_loss: 0.0388 - val_acc: 0.9910\n",
      "Epoch 7/12\n",
      "40200/40200 [==============================] - 89s 2ms/step - loss: 0.0140 - acc: 0.9956 - val_loss: 0.0379 - val_acc: 0.9891\n",
      "Epoch 8/12\n",
      "40200/40200 [==============================] - 89s 2ms/step - loss: 0.0120 - acc: 0.9963 - val_loss: 0.0289 - val_acc: 0.9931\n",
      "Epoch 9/12\n",
      "40200/40200 [==============================] - 88s 2ms/step - loss: 0.0082 - acc: 0.9978 - val_loss: 0.0291 - val_acc: 0.9918\n",
      "Epoch 10/12\n",
      "40200/40200 [==============================] - 88s 2ms/step - loss: 0.0062 - acc: 0.9981 - val_loss: 0.0441 - val_acc: 0.9919\n",
      "Epoch 11/12\n",
      "40200/40200 [==============================] - 88s 2ms/step - loss: 0.0077 - acc: 0.9976 - val_loss: 0.0300 - val_acc: 0.9925\n",
      "Epoch 12/12\n",
      "40200/40200 [==============================] - 87s 2ms/step - loss: 0.0053 - acc: 0.9986 - val_loss: 0.0391 - val_acc: 0.9915\n",
      "Test loss: 0.026857005058267852\n",
      "Test accuracy: 0.9927\n"
     ]
    },
    {
     "data": {
      "application/javascript": [
       "\n",
       "        setTimeout(function() {\n",
       "            var nbb_cell_id = 130;\n",
       "            var nbb_formatted_code = \"cnn_with_5_3 = Sequential()\\ncnn_with_5_3.add(\\n    Conv2D(\\n        500,\\n        kernel_size=(5, 5),\\n        activation=\\\"relu\\\",\\n        input_shape=input_shape,\\n        padding=\\\"same\\\",\\n    )\\n)\\ncnn_with_5_3.add(Conv2D(400, (5, 5), activation=\\\"relu\\\", padding=\\\"same\\\"))\\ncnn_with_5_3.add(MaxPooling2D(pool_size=(2, 2), padding=\\\"same\\\"))\\ncnn_with_5_3.add(Dropout(0.3))\\ncnn_with_5_3.add(Conv2D(300, (5, 5), activation=\\\"relu\\\", padding=\\\"same\\\"))\\ncnn_with_5_3.add(Conv2D(200, (5, 5), activation=\\\"relu\\\", padding=\\\"same\\\"))\\ncnn_with_5_3.add(MaxPooling2D(pool_size=(2, 2), padding=\\\"same\\\"))\\ncnn_with_5_3.add(Dropout(0.3))\\ncnn_with_5_3.add(Conv2D(100, (5, 5), activation=\\\"relu\\\", padding=\\\"same\\\"))\\ncnn_with_5_3.add(Flatten())\\ncnn_with_5_3.add(Dense(128, activation=\\\"relu\\\"))\\ncnn_with_5_3.add(Dense(num_classes, activation=\\\"softmax\\\"))\\n\\ncnn_with_5_3.compile(\\n    loss=keras.losses.categorical_crossentropy,\\n    optimizer=keras.optimizers.Adadelta(),\\n    metrics=[\\\"accuracy\\\"],\\n)\\n\\nhistory53 = cnn_with_5_3.fit(\\n    x_train,\\n    y_train,\\n    batch_size=batch_size,\\n    epochs=epochs,\\n    verbose=1,\\n    validation_data=(x_cv, y_cv),\\n)\\nscore = cnn_with_5_3.evaluate(x_test, y_test, verbose=0)\\nprint(\\\"Test loss:\\\", score[0])\\nprint(\\\"Test accuracy:\\\", score[1])\";\n",
       "            var nbb_cells = Jupyter.notebook.get_cells();\n",
       "            for (var i = 0; i < nbb_cells.length; ++i) {\n",
       "                if (nbb_cells[i].input_prompt_number == nbb_cell_id) {\n",
       "                    nbb_cells[i].set_text(nbb_formatted_code);\n",
       "                    break;\n",
       "                }\n",
       "            }\n",
       "        }, 500);\n",
       "        "
      ],
      "text/plain": [
       "<IPython.core.display.Javascript object>"
      ]
     },
     "metadata": {
      "tags": []
     },
     "output_type": "display_data"
    }
   ],
   "source": [
    "cnn_with_5_3 = Sequential()\n",
    "cnn_with_5_3.add(Conv2D(500, kernel_size=(5, 5),\n",
    "                 activation='relu',\n",
    "                 input_shape=input_shape,padding='same'))\n",
    "cnn_with_5_3.add(Conv2D(400, (5, 5), activation='relu',padding='same'))\n",
    "cnn_with_5_3.add(MaxPooling2D(pool_size=(2, 2),padding='same'))\n",
    "cnn_with_5_3.add(Dropout(0.3))\n",
    "cnn_with_5_3.add(Conv2D(300, (5, 5), activation='relu',padding='same'))\n",
    "cnn_with_5_3.add(Conv2D(200, (5, 5), activation='relu',padding='same'))\n",
    "cnn_with_5_3.add(MaxPooling2D(pool_size=(2, 2),padding='same'))\n",
    "cnn_with_5_3.add(Dropout(0.3))\n",
    "cnn_with_5_3.add(Conv2D(100, (5, 5), activation='relu',padding='same'))\n",
    "cnn_with_5_3.add(Flatten())\n",
    "cnn_with_5_3.add(Dense(128, activation='relu'))\n",
    "cnn_with_5_3.add(Dense(num_classes, activation='softmax'))\n",
    "\n",
    "cnn_with_5_3.compile(loss=keras.losses.categorical_crossentropy,\n",
    "              optimizer=keras.optimizers.Adadelta(),\n",
    "              metrics=['accuracy'])\n",
    "\n",
    "history53=cnn_with_5_3.fit(x_train, y_train,\n",
    "          batch_size=batch_size,\n",
    "          epochs=epochs,\n",
    "          verbose=1,\n",
    "          validation_data=(x_cv, y_cv))\n",
    "score = cnn_with_5_3.evaluate(x_test, y_test, verbose=0)\n",
    "print('Test loss:', score[0])\n",
    "print('Test accuracy:', score[1])\n"
   ]
  },
  {
   "cell_type": "code",
   "execution_count": 131,
   "metadata": {
    "colab": {
     "base_uri": "https://localhost:8080/",
     "height": 319
    },
    "colab_type": "code",
    "id": "kRPn_9QYg6hF",
    "outputId": "20671880-b34c-4209-884b-cd742149dd4d"
   },
   "outputs": [
    {
     "name": "stdout",
     "output_type": "stream",
     "text": [
      "Test score: 0.026857005058267852\n",
      "Test accuracy: 0.9927\n"
     ]
    },
    {
     "data": {
      "image/png": "[encoded data removed]",
      "text/plain": [
       "<Figure size 432x288 with 1 Axes>"
      ]
     },
     "metadata": {
      "tags": []
     },
     "output_type": "display_data"
    },
    {
     "data": {
      "application/javascript": [
       "\n",
       "        setTimeout(function() {\n",
       "            var nbb_cell_id = 131;\n",
       "            var nbb_formatted_code = \"score53 = cnn_with_5_3.evaluate(x_test, y_test, verbose=0)\\nprint(\\\"Test score:\\\", score[0])\\nprint(\\\"Test accuracy:\\\", score[1])\\n\\nfig, ax = plt.subplots(1, 1)\\nax.set_xlabel(\\\"epoch\\\")\\nax.set_ylabel(\\\"Categorical Crossentropy Loss\\\")\\n\\n# list of epoch numbers\\nl = list(range(1, epochs + 1))\\n\\ny.add_row(\\n    [\\n        \\\"500-400-300-200-100(kernel(5,5))\\\",\\n        \\\"With_dropout(0.3)\\\",\\n        round(history53.history[\\\"acc\\\"][11], 4),\\n        np.round(history53.history[\\\"val_acc\\\"][11], 4),\\n        np.round(score53[1], 4),\\n        np.round(history53.history[\\\"loss\\\"][11], 4),\\n        np.round(history53.history[\\\"val_loss\\\"][11], 4),\\n        np.round(score53[0], 4),\\n    ]\\n)\\n\\n\\nvy = history53.history[\\\"val_loss\\\"]\\nty = history53.history[\\\"loss\\\"]\\nplt_dynamic(l, vy, ty, ax)\";\n",
       "            var nbb_cells = Jupyter.notebook.get_cells();\n",
       "            for (var i = 0; i < nbb_cells.length; ++i) {\n",
       "                if (nbb_cells[i].input_prompt_number == nbb_cell_id) {\n",
       "                    nbb_cells[i].set_text(nbb_formatted_code);\n",
       "                    break;\n",
       "                }\n",
       "            }\n",
       "        }, 500);\n",
       "        "
      ],
      "text/plain": [
       "<IPython.core.display.Javascript object>"
      ]
     },
     "metadata": {
      "tags": []
     },
     "output_type": "display_data"
    }
   ],
   "source": [
    "score53 = cnn_with_5_3.evaluate(x_test, y_test, verbose=0) \n",
    "print('Test score:', score53[0]) \n",
    "print('Test accuracy:', score53[1])\n",
    "\n",
    "fig,ax = plt.subplots(1,1)\n",
    "ax.set_xlabel('epoch') ; ax.set_ylabel('Categorical Crossentropy Loss')\n",
    "\n",
    "# list of epoch numbers\n",
    "l = list(range(1,epochs+1))\n",
    "\n",
    "y.add_row([\"500-400-300-200-100(kernel(5,5))\",\"With_dropout(0.3)\" ,\n",
    "           round(history53.history['acc'][11],4),np.round(history53.history['val_acc'][11],4),\n",
    "           np.round(score53[1],4),np.round(history53.history['loss'][11],4),\n",
    "           np.round(history53.history['val_loss'][11],4),np.round(score53[0],4)])\n",
    "\n",
    "\n",
    "vy = history53.history['val_loss']\n",
    "ty = history53.history['loss']\n",
    "plt_dynamic(l, vy, ty, ax)"
   ]
  },
  {
   "cell_type": "markdown",
   "metadata": {
    "colab_type": "text",
    "id": "-ioU7Vz9g6hQ"
   },
   "source": [
    "with dropout(0.4)"
   ]
  },
  {
   "cell_type": "code",
   "execution_count": 132,
   "metadata": {
    "colab": {
     "base_uri": "https://localhost:8080/",
     "height": 508
    },
    "colab_type": "code",
    "id": "KQdt3qkIg6hU",
    "outputId": "73374614-9b01-4564-fe00-3666afbafc9d"
   },
   "outputs": [
    {
     "name": "stdout",
     "output_type": "stream",
     "text": [
      "Train on 40200 samples, validate on 19800 samples\n",
      "Epoch 1/12\n",
      "40200/40200 [==============================] - 101s 3ms/step - loss: 0.4145 - acc: 0.8645 - val_loss: 0.0636 - val_acc: 0.9808\n",
      "Epoch 2/12\n",
      "40200/40200 [==============================] - 92s 2ms/step - loss: 0.0642 - acc: 0.9804 - val_loss: 0.1146 - val_acc: 0.9687\n",
      "Epoch 3/12\n",
      "40200/40200 [==============================] - 91s 2ms/step - loss: 0.0424 - acc: 0.9867 - val_loss: 0.0435 - val_acc: 0.9881\n",
      "Epoch 4/12\n",
      "40200/40200 [==============================] - 91s 2ms/step - loss: 0.0313 - acc: 0.9902 - val_loss: 0.1274 - val_acc: 0.9716\n",
      "Epoch 5/12\n",
      "40200/40200 [==============================] - 91s 2ms/step - loss: 0.0228 - acc: 0.9932 - val_loss: 0.0439 - val_acc: 0.9889\n",
      "Epoch 6/12\n",
      "40200/40200 [==============================] - 90s 2ms/step - loss: 0.0185 - acc: 0.9942 - val_loss: 0.0330 - val_acc: 0.9905\n",
      "Epoch 7/12\n",
      "40200/40200 [==============================] - 90s 2ms/step - loss: 0.0145 - acc: 0.9955 - val_loss: 0.0289 - val_acc: 0.9922\n",
      "Epoch 8/12\n",
      "40200/40200 [==============================] - 89s 2ms/step - loss: 0.0133 - acc: 0.9957 - val_loss: 0.0311 - val_acc: 0.9915\n",
      "Epoch 9/12\n",
      "40200/40200 [==============================] - 89s 2ms/step - loss: 0.0103 - acc: 0.9969 - val_loss: 0.0267 - val_acc: 0.9927\n",
      "Epoch 10/12\n",
      "40200/40200 [==============================] - 88s 2ms/step - loss: 0.0092 - acc: 0.9973 - val_loss: 0.0335 - val_acc: 0.9917\n",
      "Epoch 11/12\n",
      "40200/40200 [==============================] - 88s 2ms/step - loss: 0.0093 - acc: 0.9968 - val_loss: 0.0339 - val_acc: 0.9922\n",
      "Epoch 12/12\n",
      "40200/40200 [==============================] - 88s 2ms/step - loss: 0.0080 - acc: 0.9974 - val_loss: 0.0862 - val_acc: 0.9838\n",
      "Test loss: 0.050769331258057764\n",
      "Test accuracy: 0.9886\n"
     ]
    },
    {
     "data": {
      "application/javascript": [
       "\n",
       "        setTimeout(function() {\n",
       "            var nbb_cell_id = 132;\n",
       "            var nbb_formatted_code = \"cnn_with_5_4 = Sequential()\\ncnn_with_5_4.add(\\n    Conv2D(\\n        500,\\n        kernel_size=(5, 5),\\n        activation=\\\"relu\\\",\\n        input_shape=input_shape,\\n        padding=\\\"same\\\",\\n    )\\n)\\ncnn_with_5_4.add(Conv2D(400, (5, 5), activation=\\\"relu\\\", padding=\\\"same\\\"))\\ncnn_with_5_4.add(MaxPooling2D(pool_size=(2, 2), padding=\\\"same\\\"))\\ncnn_with_5_4.add(Dropout(0.4))\\ncnn_with_5_4.add(Conv2D(300, (5, 5), activation=\\\"relu\\\", padding=\\\"same\\\"))\\ncnn_with_5_4.add(Conv2D(200, (5, 5), activation=\\\"relu\\\", padding=\\\"same\\\"))\\ncnn_with_5_4.add(MaxPooling2D(pool_size=(2, 2), padding=\\\"same\\\"))\\ncnn_with_5_4.add(Dropout(0.4))\\ncnn_with_5_4.add(Conv2D(100, (5, 5), activation=\\\"relu\\\", padding=\\\"same\\\"))\\ncnn_with_5_4.add(Flatten())\\ncnn_with_5_4.add(Dense(128, activation=\\\"relu\\\"))\\ncnn_with_5_4.add(Dense(num_classes, activation=\\\"softmax\\\"))\\n\\ncnn_with_5_4.compile(\\n    loss=keras.losses.categorical_crossentropy,\\n    optimizer=keras.optimizers.Adadelta(),\\n    metrics=[\\\"accuracy\\\"],\\n)\\n\\nhistory54 = cnn_with_5_4.fit(\\n    x_train,\\n    y_train,\\n    batch_size=batch_size,\\n    epochs=epochs,\\n    verbose=1,\\n    validation_data=(x_cv, y_cv),\\n)\\nscore = cnn_with_5_4.evaluate(x_test, y_test, verbose=0)\\nprint(\\\"Test loss:\\\", score[0])\\nprint(\\\"Test accuracy:\\\", score[1])\";\n",
       "            var nbb_cells = Jupyter.notebook.get_cells();\n",
       "            for (var i = 0; i < nbb_cells.length; ++i) {\n",
       "                if (nbb_cells[i].input_prompt_number == nbb_cell_id) {\n",
       "                    nbb_cells[i].set_text(nbb_formatted_code);\n",
       "                    break;\n",
       "                }\n",
       "            }\n",
       "        }, 500);\n",
       "        "
      ],
      "text/plain": [
       "<IPython.core.display.Javascript object>"
      ]
     },
     "metadata": {
      "tags": []
     },
     "output_type": "display_data"
    }
   ],
   "source": [
    "cnn_with_5_4 = Sequential()\n",
    "cnn_with_5_4.add(Conv2D(500, kernel_size=(5, 5),\n",
    "                 activation='relu',\n",
    "                 input_shape=input_shape,padding='same'))\n",
    "cnn_with_5_4.add(Conv2D(400, (5, 5), activation='relu',padding='same'))\n",
    "cnn_with_5_4.add(MaxPooling2D(pool_size=(2, 2),padding='same'))\n",
    "cnn_with_5_4.add(Dropout(0.4))\n",
    "cnn_with_5_4.add(Conv2D(300, (5, 5), activation='relu',padding='same'))\n",
    "cnn_with_5_4.add(Conv2D(200, (5, 5), activation='relu',padding='same'))\n",
    "cnn_with_5_4.add(MaxPooling2D(pool_size=(2, 2),padding='same'))\n",
    "cnn_with_5_4.add(Dropout(0.4))\n",
    "cnn_with_5_4.add(Conv2D(100, (5, 5), activation='relu',padding='same'))\n",
    "cnn_with_5_4.add(Flatten())\n",
    "cnn_with_5_4.add(Dense(128, activation='relu'))\n",
    "cnn_with_5_4.add(Dense(num_classes, activation='softmax'))\n",
    "\n",
    "cnn_with_5_4.compile(loss=keras.losses.categorical_crossentropy,\n",
    "              optimizer=keras.optimizers.Adadelta(),\n",
    "              metrics=['accuracy'])\n",
    "\n",
    "history54=cnn_with_5_4.fit(x_train, y_train,\n",
    "          batch_size=batch_size,\n",
    "          epochs=epochs,\n",
    "          verbose=1,\n",
    "          validation_data=(x_cv, y_cv))\n",
    "score = cnn_with_5_4.evaluate(x_test, y_test, verbose=0)\n",
    "print('Test loss:', score[0])\n",
    "print('Test accuracy:', score[1])\n"
   ]
  },
  {
   "cell_type": "code",
   "execution_count": 133,
   "metadata": {
    "colab": {
     "base_uri": "https://localhost:8080/",
     "height": 319
    },
    "colab_type": "code",
    "id": "cHE_Adivg6he",
    "outputId": "b1ebeb70-8593-4820-9634-c16ddbeda130"
   },
   "outputs": [
    {
     "name": "stdout",
     "output_type": "stream",
     "text": [
      "Test score: 0.050769331258057764\n",
      "Test accuracy: 0.9886\n"
     ]
    },
    {
     "data": {
      "image/png": "[encoded data removed]",
      "text/plain": [
       "<Figure size 432x288 with 1 Axes>"
      ]
     },
     "metadata": {
      "tags": []
     },
     "output_type": "display_data"
    },
    {
     "data": {
      "application/javascript": [
       "\n",
       "        setTimeout(function() {\n",
       "            var nbb_cell_id = 133;\n",
       "            var nbb_formatted_code = \"score54 = cnn_with_5_4.evaluate(x_test, y_test, verbose=0)\\nprint(\\\"Test score:\\\", score54[0])\\nprint(\\\"Test accuracy:\\\", score54[1])\\n\\nfig, ax = plt.subplots(1, 1)\\nax.set_xlabel(\\\"epoch\\\")\\nax.set_ylabel(\\\"Categorical Crossentropy Loss\\\")\\n\\n# list of epoch numbers\\nl = list(range(1, epochs + 1))\\n\\ny.add_row(\\n    [\\n        \\\"500-400-300-200-100(kernel(5,5))\\\",\\n        \\\"With_dropout(0.4)\\\",\\n        round(history54.history[\\\"acc\\\"][11], 4),\\n        np.round(history54.history[\\\"val_acc\\\"][11], 4),\\n        np.round(score54[1], 4),\\n        np.round(history54.history[\\\"loss\\\"][11], 4),\\n        np.round(history54.history[\\\"val_loss\\\"][11], 4),\\n        np.round(score54[0], 4),\\n    ]\\n)\\n\\n\\nvy = history54.history[\\\"val_loss\\\"]\\nty = history54.history[\\\"loss\\\"]\\nplt_dynamic(l, vy, ty, ax)\";\n",
       "            var nbb_cells = Jupyter.notebook.get_cells();\n",
       "            for (var i = 0; i < nbb_cells.length; ++i) {\n",
       "                if (nbb_cells[i].input_prompt_number == nbb_cell_id) {\n",
       "                    nbb_cells[i].set_text(nbb_formatted_code);\n",
       "                    break;\n",
       "                }\n",
       "            }\n",
       "        }, 500);\n",
       "        "
      ],
      "text/plain": [
       "<IPython.core.display.Javascript object>"
      ]
     },
     "metadata": {
      "tags": []
     },
     "output_type": "display_data"
    }
   ],
   "source": [
    "score54 = cnn_with_5_4.evaluate(x_test, y_test, verbose=0) \n",
    "print('Test score:', score54[0]) \n",
    "print('Test accuracy:', score54[1])\n",
    "\n",
    "fig,ax = plt.subplots(1,1)\n",
    "ax.set_xlabel('epoch') ; ax.set_ylabel('Categorical Crossentropy Loss')\n",
    "\n",
    "# list of epoch numbers\n",
    "l = list(range(1,epochs+1))\n",
    "\n",
    "y.add_row([\"500-400-300-200-100(kernel(5,5))\",\"With_dropout(0.4)\" ,\n",
    "           round(history54.history['acc'][11],4),np.round(history54.history['val_acc'][11],4),\n",
    "           np.round(score54[1],4),np.round(history54.history['loss'][11],4),\n",
    "           np.round(history54.history['val_loss'][11],4),np.round(score54[0],4)])\n",
    "\n",
    "\n",
    "vy = history54.history['val_loss']\n",
    "ty = history54.history['loss']\n",
    "plt_dynamic(l, vy, ty, ax)"
   ]
  },
  {
   "cell_type": "markdown",
   "metadata": {
    "colab_type": "text",
    "id": "EKb3e03dg6hq"
   },
   "source": [
    "with dropout rate(0.5)"
   ]
  },
  {
   "cell_type": "code",
   "execution_count": 134,
   "metadata": {
    "colab": {
     "base_uri": "https://localhost:8080/",
     "height": 508
    },
    "colab_type": "code",
    "id": "Qj1_gN32g6hr",
    "outputId": "d8e7eecd-724b-4a03-aa91-c0dff47145af"
   },
   "outputs": [
    {
     "name": "stdout",
     "output_type": "stream",
     "text": [
      "Train on 40200 samples, validate on 19800 samples\n",
      "Epoch 1/12\n",
      "40200/40200 [==============================] - 100s 2ms/step - loss: 0.4522 - acc: 0.8490 - val_loss: 0.0932 - val_acc: 0.9718\n",
      "Epoch 2/12\n",
      "40200/40200 [==============================] - 92s 2ms/step - loss: 0.0691 - acc: 0.9798 - val_loss: 0.0394 - val_acc: 0.9871\n",
      "Epoch 3/12\n",
      "40200/40200 [==============================] - 91s 2ms/step - loss: 0.0434 - acc: 0.9862 - val_loss: 0.0351 - val_acc: 0.9892\n",
      "Epoch 4/12\n",
      "40200/40200 [==============================] - 91s 2ms/step - loss: 0.0335 - acc: 0.9897 - val_loss: 0.0303 - val_acc: 0.9920\n",
      "Epoch 5/12\n",
      "40200/40200 [==============================] - 91s 2ms/step - loss: 0.0260 - acc: 0.9923 - val_loss: 0.0380 - val_acc: 0.9883\n",
      "Epoch 6/12\n",
      "40200/40200 [==============================] - 90s 2ms/step - loss: 0.0208 - acc: 0.9932 - val_loss: 0.0325 - val_acc: 0.9918\n",
      "Epoch 7/12\n",
      "40200/40200 [==============================] - 90s 2ms/step - loss: 0.0170 - acc: 0.9944 - val_loss: 0.0284 - val_acc: 0.9914\n",
      "Epoch 8/12\n",
      "40200/40200 [==============================] - 89s 2ms/step - loss: 0.0144 - acc: 0.9956 - val_loss: 0.0410 - val_acc: 0.9883\n",
      "Epoch 9/12\n",
      "40200/40200 [==============================] - 89s 2ms/step - loss: 0.0124 - acc: 0.9961 - val_loss: 0.0249 - val_acc: 0.9932\n",
      "Epoch 10/12\n",
      "40200/40200 [==============================] - 89s 2ms/step - loss: 0.0099 - acc: 0.9970 - val_loss: 0.0266 - val_acc: 0.9935\n",
      "Epoch 11/12\n",
      "40200/40200 [==============================] - 88s 2ms/step - loss: 0.0095 - acc: 0.9969 - val_loss: 0.0247 - val_acc: 0.9928\n",
      "Epoch 12/12\n",
      "40200/40200 [==============================] - 89s 2ms/step - loss: 0.0098 - acc: 0.9968 - val_loss: 0.0259 - val_acc: 0.9932\n",
      "Test loss: 0.02101917966146916\n",
      "Test accuracy: 0.9936\n"
     ]
    },
    {
     "data": {
      "application/javascript": [
       "\n",
       "        setTimeout(function() {\n",
       "            var nbb_cell_id = 134;\n",
       "            var nbb_formatted_code = \"cnn_with_5_5 = Sequential()\\ncnn_with_5_5.add(\\n    Conv2D(\\n        500,\\n        kernel_size=(5, 5),\\n        activation=\\\"relu\\\",\\n        input_shape=input_shape,\\n        padding=\\\"same\\\",\\n    )\\n)\\ncnn_with_5_5.add(Conv2D(400, (5, 5), activation=\\\"relu\\\", padding=\\\"same\\\"))\\ncnn_with_5_5.add(MaxPooling2D(pool_size=(2, 2), padding=\\\"same\\\"))\\ncnn_with_5_5.add(Dropout(0.5))\\ncnn_with_5_5.add(Conv2D(300, (5, 5), activation=\\\"relu\\\", padding=\\\"same\\\"))\\ncnn_with_5_5.add(Conv2D(200, (5, 5), activation=\\\"relu\\\", padding=\\\"same\\\"))\\ncnn_with_5_5.add(MaxPooling2D(pool_size=(2, 2), padding=\\\"same\\\"))\\ncnn_with_5_5.add(Dropout(0.5))\\ncnn_with_5_5.add(Conv2D(100, (5, 5), activation=\\\"relu\\\", padding=\\\"same\\\"))\\ncnn_with_5_5.add(Flatten())\\ncnn_with_5_5.add(Dense(128, activation=\\\"relu\\\"))\\ncnn_with_5_5.add(Dense(num_classes, activation=\\\"softmax\\\"))\\n\\ncnn_with_5_5.compile(\\n    loss=keras.losses.categorical_crossentropy,\\n    optimizer=keras.optimizers.Adadelta(),\\n    metrics=[\\\"accuracy\\\"],\\n)\\n\\nhistory55 = cnn_with_5_5.fit(\\n    x_train,\\n    y_train,\\n    batch_size=batch_size,\\n    epochs=epochs,\\n    verbose=1,\\n    validation_data=(x_cv, y_cv),\\n)\\nscore = cnn_with_5_5.evaluate(x_test, y_test, verbose=0)\\nprint(\\\"Test loss:\\\", score[0])\\nprint(\\\"Test accuracy:\\\", score[1])\";\n",
       "            var nbb_cells = Jupyter.notebook.get_cells();\n",
       "            for (var i = 0; i < nbb_cells.length; ++i) {\n",
       "                if (nbb_cells[i].input_prompt_number == nbb_cell_id) {\n",
       "                    nbb_cells[i].set_text(nbb_formatted_code);\n",
       "                    break;\n",
       "                }\n",
       "            }\n",
       "        }, 500);\n",
       "        "
      ],
      "text/plain": [
       "<IPython.core.display.Javascript object>"
      ]
     },
     "metadata": {
      "tags": []
     },
     "output_type": "display_data"
    }
   ],
   "source": [
    "cnn_with_5_5 = Sequential()\n",
    "cnn_with_5_5.add(Conv2D(500, kernel_size=(5, 5),\n",
    "                 activation='relu',\n",
    "                 input_shape=input_shape,padding='same'))\n",
    "cnn_with_5_5.add(Conv2D(400, (5, 5), activation='relu',padding='same'))\n",
    "cnn_with_5_5.add(MaxPooling2D(pool_size=(2, 2),padding='same'))\n",
    "cnn_with_5_5.add(Dropout(0.5))\n",
    "cnn_with_5_5.add(Conv2D(300, (5, 5), activation='relu',padding='same'))\n",
    "cnn_with_5_5.add(Conv2D(200, (5, 5), activation='relu',padding='same'))\n",
    "cnn_with_5_5.add(MaxPooling2D(pool_size=(2, 2),padding='same'))\n",
    "cnn_with_5_5.add(Dropout(0.5))\n",
    "cnn_with_5_5.add(Conv2D(100, (5, 5), activation='relu',padding='same'))\n",
    "cnn_with_5_5.add(Flatten())\n",
    "cnn_with_5_5.add(Dense(128, activation='relu'))\n",
    "cnn_with_5_5.add(Dense(num_classes, activation='softmax'))\n",
    "\n",
    "cnn_with_5_5.compile(loss=keras.losses.categorical_crossentropy,\n",
    "              optimizer=keras.optimizers.Adadelta(),\n",
    "              metrics=['accuracy'])\n",
    "\n",
    "history55=cnn_with_5_5.fit(x_train, y_train,\n",
    "          batch_size=batch_size,\n",
    "          epochs=epochs,\n",
    "          verbose=1,\n",
    "          validation_data=(x_cv, y_cv))\n",
    "score = cnn_with_5_5.evaluate(x_test, y_test, verbose=0)\n",
    "print('Test loss:', score[0])\n",
    "print('Test accuracy:', score[1])\n"
   ]
  },
  {
   "cell_type": "code",
   "execution_count": 135,
   "metadata": {
    "colab": {
     "base_uri": "https://localhost:8080/",
     "height": 319
    },
    "colab_type": "code",
    "id": "Zawqdj6Kg6h0",
    "outputId": "9ed6c7cb-8fd6-4d19-ef55-b2acdf76e2c4"
   },
   "outputs": [
    {
     "name": "stdout",
     "output_type": "stream",
     "text": [
      "Test score: 0.02101917966146916\n",
      "Test accuracy: 0.9936\n"
     ]
    },
    {
     "data": {
      "image/png": "[encoded data removed]",
      "text/plain": [
       "<Figure size 432x288 with 1 Axes>"
      ]
     },
     "metadata": {
      "tags": []
     },
     "output_type": "display_data"
    },
    {
     "data": {
      "application/javascript": [
       "\n",
       "        setTimeout(function() {\n",
       "            var nbb_cell_id = 135;\n",
       "            var nbb_formatted_code = \"score55 = cnn_with_5_5.evaluate(x_test, y_test, verbose=0)\\nprint(\\\"Test score:\\\", score55[0])\\nprint(\\\"Test accuracy:\\\", score55[1])\\n\\nfig, ax = plt.subplots(1, 1)\\nax.set_xlabel(\\\"epoch\\\")\\nax.set_ylabel(\\\"Categorical Crossentropy Loss\\\")\\n\\n# list of epoch numbers\\nl = list(range(1, epochs + 1))\\n\\ny.add_row(\\n    [\\n        \\\"500-400-300-200-100(kernel(5,5))\\\",\\n        \\\"Withdropout\\\",\\n        round(history55.history[\\\"acc\\\"][11], 4),\\n        np.round(history55.history[\\\"val_acc\\\"][11], 4),\\n        np.round(score55[1], 4),\\n        np.round(history55.history[\\\"loss\\\"][11], 4),\\n        np.round(history55.history[\\\"val_loss\\\"][11], 4),\\n        np.round(score55[0], 4),\\n    ]\\n)\\n\\n\\nvy = history55.history[\\\"val_loss\\\"]\\nty = history55.history[\\\"loss\\\"]\\nplt_dynamic(l, vy, ty, ax)\";\n",
       "            var nbb_cells = Jupyter.notebook.get_cells();\n",
       "            for (var i = 0; i < nbb_cells.length; ++i) {\n",
       "                if (nbb_cells[i].input_prompt_number == nbb_cell_id) {\n",
       "                    nbb_cells[i].set_text(nbb_formatted_code);\n",
       "                    break;\n",
       "                }\n",
       "            }\n",
       "        }, 500);\n",
       "        "
      ],
      "text/plain": [
       "<IPython.core.display.Javascript object>"
      ]
     },
     "metadata": {
      "tags": []
     },
     "output_type": "display_data"
    }
   ],
   "source": [
    "score55 = cnn_with_5_5.evaluate(x_test, y_test, verbose=0) \n",
    "print('Test score:', score55[0]) \n",
    "print('Test accuracy:', score55[1])\n",
    "\n",
    "fig,ax = plt.subplots(1,1)\n",
    "ax.set_xlabel('epoch') ; ax.set_ylabel('Categorical Crossentropy Loss')\n",
    "\n",
    "# list of epoch numbers\n",
    "l = list(range(1,epochs+1))\n",
    "\n",
    "y.add_row([\"500-400-300-200-100(kernel(5,5))\",\"Withdropout\" ,round(history55.history['acc'][11],4),\n",
    "           np.round(history55.history['val_acc'][11],4),np.round(score55[1],4),\n",
    "           np.round(history55.history['loss'][11],4),\n",
    "           np.round(history55.history['val_loss'][11],4),np.round(score55[0],4)])\n",
    "\n",
    "\n",
    "vy = history55.history['val_loss']\n",
    "ty = history55.history['loss']\n",
    "plt_dynamic(l, vy, ty, ax)"
   ]
  },
  {
   "cell_type": "markdown",
   "metadata": {
    "colab_type": "text",
    "id": "qvpkU0ihg6h6"
   },
   "source": [
    "with batch normalization and dropout(0.5)\n",
    "\n"
   ]
  },
  {
   "cell_type": "code",
   "execution_count": 136,
   "metadata": {
    "colab": {
     "base_uri": "https://localhost:8080/",
     "height": 508
    },
    "colab_type": "code",
    "id": "oZq5dFywg6h7",
    "outputId": "c04d637c-0975-458c-cbf2-e0eed3be7029"
   },
   "outputs": [
    {
     "name": "stdout",
     "output_type": "stream",
     "text": [
      "Train on 40200 samples, validate on 19800 samples\n",
      "Epoch 1/12\n",
      "40200/40200 [==============================] - 107s 3ms/step - loss: 0.2931 - acc: 0.9107 - val_loss: 0.3359 - val_acc: 0.9190\n",
      "Epoch 2/12\n",
      "40200/40200 [==============================] - 94s 2ms/step - loss: 0.0608 - acc: 0.9820 - val_loss: 0.0549 - val_acc: 0.9824\n",
      "Epoch 3/12\n",
      "40200/40200 [==============================] - 95s 2ms/step - loss: 0.0417 - acc: 0.9876 - val_loss: 0.0395 - val_acc: 0.9875\n",
      "Epoch 4/12\n",
      "40200/40200 [==============================] - 95s 2ms/step - loss: 0.0300 - acc: 0.9908 - val_loss: 0.2667 - val_acc: 0.9409\n",
      "Epoch 5/12\n",
      "40200/40200 [==============================] - 95s 2ms/step - loss: 0.0250 - acc: 0.9926 - val_loss: 0.0368 - val_acc: 0.9892\n",
      "Epoch 6/12\n",
      "40200/40200 [==============================] - 95s 2ms/step - loss: 0.0199 - acc: 0.9937 - val_loss: 0.0350 - val_acc: 0.9904\n",
      "Epoch 7/12\n",
      "40200/40200 [==============================] - 95s 2ms/step - loss: 0.0175 - acc: 0.9944 - val_loss: 0.0288 - val_acc: 0.9923\n",
      "Epoch 8/12\n",
      "40200/40200 [==============================] - 95s 2ms/step - loss: 0.0160 - acc: 0.9948 - val_loss: 0.0330 - val_acc: 0.9925\n",
      "Epoch 9/12\n",
      "40200/40200 [==============================] - 94s 2ms/step - loss: 0.0121 - acc: 0.9968 - val_loss: 0.0297 - val_acc: 0.9922\n",
      "Epoch 10/12\n",
      "40200/40200 [==============================] - 94s 2ms/step - loss: 0.0116 - acc: 0.9966 - val_loss: 0.0312 - val_acc: 0.9920\n",
      "Epoch 11/12\n",
      "40200/40200 [==============================] - 94s 2ms/step - loss: 0.0098 - acc: 0.9968 - val_loss: 0.0284 - val_acc: 0.9935\n",
      "Epoch 12/12\n",
      "40200/40200 [==============================] - 94s 2ms/step - loss: 0.0091 - acc: 0.9971 - val_loss: 0.0318 - val_acc: 0.9930\n",
      "Test loss: 0.022050600106079583\n",
      "Test accuracy: 0.9942\n"
     ]
    },
    {
     "data": {
      "application/javascript": [
       "\n",
       "        setTimeout(function() {\n",
       "            var nbb_cell_id = 136;\n",
       "            var nbb_formatted_code = \"cnn_with_5_6 = Sequential()\\ncnn_with_5_6.add(\\n    Conv2D(\\n        500,\\n        kernel_size=(5, 5),\\n        activation=\\\"relu\\\",\\n        input_shape=input_shape,\\n        padding=\\\"same\\\",\\n    )\\n)\\ncnn_with_5_6.add(Conv2D(400, (5, 5), activation=\\\"relu\\\", padding=\\\"same\\\"))\\ncnn_with_5_6.add(MaxPooling2D(pool_size=(2, 2), padding=\\\"same\\\"))\\ncnn_with_5_6.add(Dropout(0.5))\\ncnn_with_5_6.add(BatchNormalization())\\ncnn_with_5_6.add(Conv2D(300, (5, 5), activation=\\\"relu\\\", padding=\\\"same\\\"))\\ncnn_with_5_6.add(Conv2D(200, (5, 5), activation=\\\"relu\\\", padding=\\\"same\\\"))\\ncnn_with_5_6.add(MaxPooling2D(pool_size=(2, 2), padding=\\\"same\\\"))\\ncnn_with_5_6.add(Dropout(0.5))\\ncnn_with_5_6.add(BatchNormalization())\\ncnn_with_5_6.add(Conv2D(100, (5, 5), activation=\\\"relu\\\", padding=\\\"same\\\"))\\ncnn_with_5_6.add(Flatten())\\ncnn_with_5_6.add(Dense(128, activation=\\\"relu\\\"))\\ncnn_with_5_6.add(Dense(num_classes, activation=\\\"softmax\\\"))\\n\\ncnn_with_5_6.compile(\\n    loss=keras.losses.categorical_crossentropy,\\n    optimizer=keras.optimizers.Adadelta(),\\n    metrics=[\\\"accuracy\\\"],\\n)\\n\\nhistory56 = cnn_with_5_6.fit(\\n    x_train,\\n    y_train,\\n    batch_size=batch_size,\\n    epochs=epochs,\\n    verbose=1,\\n    validation_data=(x_cv, y_cv),\\n)\\nscore = cnn_with_5_6.evaluate(x_test, y_test, verbose=0)\\nprint(\\\"Test loss:\\\", score[0])\\nprint(\\\"Test accuracy:\\\", score[1])\";\n",
       "            var nbb_cells = Jupyter.notebook.get_cells();\n",
       "            for (var i = 0; i < nbb_cells.length; ++i) {\n",
       "                if (nbb_cells[i].input_prompt_number == nbb_cell_id) {\n",
       "                    nbb_cells[i].set_text(nbb_formatted_code);\n",
       "                    break;\n",
       "                }\n",
       "            }\n",
       "        }, 500);\n",
       "        "
      ],
      "text/plain": [
       "<IPython.core.display.Javascript object>"
      ]
     },
     "metadata": {
      "tags": []
     },
     "output_type": "display_data"
    }
   ],
   "source": [
    "cnn_with_5_6 = Sequential()\n",
    "cnn_with_5_6.add(Conv2D(500, kernel_size=(5, 5),\n",
    "                activation='relu',\n",
    "                 input_shape=input_shape,padding='same'))\n",
    "cnn_with_5_6.add(Conv2D(400, (5, 5), activation='relu',padding='same'))\n",
    "cnn_with_5_6.add(MaxPooling2D(pool_size=(2, 2),padding='same'))\n",
    "cnn_with_5_6.add(Dropout(0.5))\n",
    "cnn_with_5_6.add(BatchNormalization())\n",
    "cnn_with_5_6.add(Conv2D(300, (5, 5), activation='relu',padding='same'))\n",
    "cnn_with_5_6.add(Conv2D(200, (5, 5), activation='relu',padding='same'))\n",
    "cnn_with_5_6.add(MaxPooling2D(pool_size=(2, 2),padding='same'))\n",
    "cnn_with_5_6.add(Dropout(0.5))\n",
    "cnn_with_5_6.add(BatchNormalization())\n",
    "cnn_with_5_6.add(Conv2D(100, (5, 5), activation='relu',padding='same'))\n",
    "cnn_with_5_6.add(Flatten())\n",
    "cnn_with_5_6.add(Dense(128, activation='relu'))\n",
    "cnn_with_5_6.add(Dense(num_classes, activation='softmax'))\n",
    "\n",
    "cnn_with_5_6.compile(loss=keras.losses.categorical_crossentropy,\n",
    "              optimizer=keras.optimizers.Adadelta(),\n",
    "              metrics=['accuracy'])\n",
    "\n",
    "history56=cnn_with_5_6.fit(x_train, y_train,\n",
    "          batch_size=batch_size,\n",
    "          epochs=epochs,\n",
    "          verbose=1,\n",
    "          validation_data=(x_cv, y_cv))\n",
    "score = cnn_with_5_6.evaluate(x_test, y_test, verbose=0)\n",
    "print('Test loss:', score[0])\n",
    "print('Test accuracy:', score[1])\n"
   ]
  },
  {
   "cell_type": "code",
   "execution_count": 137,
   "metadata": {
    "colab": {
     "base_uri": "https://localhost:8080/",
     "height": 319
    },
    "colab_type": "code",
    "id": "gZqWQnHag6iG",
    "outputId": "9b8f278a-a2ab-4fda-b673-9a34566ea878"
   },
   "outputs": [
    {
     "name": "stdout",
     "output_type": "stream",
     "text": [
      "Test score: 0.022050600106079583\n",
      "Test accuracy: 0.9942\n"
     ]
    },
    {
     "data": {
      "image/png": "[encoded data removed]",
      "text/plain": [
       "<Figure size 432x288 with 1 Axes>"
      ]
     },
     "metadata": {
      "tags": []
     },
     "output_type": "display_data"
    },
    {
     "data": {
      "application/javascript": [
       "\n",
       "        setTimeout(function() {\n",
       "            var nbb_cell_id = 137;\n",
       "            var nbb_formatted_code = \"score56 = cnn_with_5_6.evaluate(x_test, y_test, verbose=0)\\nprint(\\\"Test score:\\\", score56[0])\\nprint(\\\"Test accuracy:\\\", score56[1])\\n\\nfig, ax = plt.subplots(1, 1)\\nax.set_xlabel(\\\"epoch\\\")\\nax.set_ylabel(\\\"Categorical Crossentropy Loss\\\")\\n\\n# list of epoch numbers\\nl = list(range(1, epochs + 1))\\n\\ny.add_row(\\n    [\\n        \\\"500-400-300-200-100(kernel(5,5))\\\",\\n        \\\"With_bn_dropout\\\",\\n        round(history56.history[\\\"acc\\\"][11], 4),\\n        np.round(history56.history[\\\"val_acc\\\"][11], 4),\\n        np.round(score56[1], 4),\\n        np.round(history56.history[\\\"loss\\\"][11], 4),\\n        np.round(history56.history[\\\"val_loss\\\"][11], 4),\\n        np.round(score56[0], 4),\\n    ]\\n)\\n\\n\\nvy = history56.history[\\\"val_loss\\\"]\\nty = history56.history[\\\"loss\\\"]\\nplt_dynamic(l, vy, ty, ax)\";\n",
       "            var nbb_cells = Jupyter.notebook.get_cells();\n",
       "            for (var i = 0; i < nbb_cells.length; ++i) {\n",
       "                if (nbb_cells[i].input_prompt_number == nbb_cell_id) {\n",
       "                    nbb_cells[i].set_text(nbb_formatted_code);\n",
       "                    break;\n",
       "                }\n",
       "            }\n",
       "        }, 500);\n",
       "        "
      ],
      "text/plain": [
       "<IPython.core.display.Javascript object>"
      ]
     },
     "metadata": {
      "tags": []
     },
     "output_type": "display_data"
    }
   ],
   "source": [
    "score56 = cnn_with_5_6.evaluate(x_test, y_test, verbose=0) \n",
    "print('Test score:', score56[0]) \n",
    "print('Test accuracy:', score56[1])\n",
    "\n",
    "fig,ax = plt.subplots(1,1)\n",
    "ax.set_xlabel('epoch') ; ax.set_ylabel('Categorical Crossentropy Loss')\n",
    "\n",
    "# list of epoch numbers\n",
    "l = list(range(1,epochs+1))\n",
    "\n",
    "y.add_row([\"500-400-300-200-100(kernel(5,5))\",\"With_bn_dropout\" ,\n",
    "           round(history56.history['acc'][11],4),np.round(history56.history['val_acc'][11],4),\n",
    "           np.round(score56[1],4),np.round(history56.history['loss'][11],4),\n",
    "           np.round(history56.history['val_loss'][11],4),np.round(score56[0],4)])\n",
    "\n",
    "\n",
    "vy = history56.history['val_loss']\n",
    "ty = history56.history['loss']\n",
    "plt_dynamic(l, vy, ty, ax)"
   ]
  },
  {
   "cell_type": "code",
   "execution_count": 0,
   "metadata": {
    "colab": {},
    "colab_type": "code",
    "id": "w6XHfjmQV9ey"
   },
   "outputs": [],
   "source": [
    "y.add_row([\"500-400-300-200-100(kernel(5,5))\",\"Without_bn_dropout\",0.992,0.9921,0.9928,0.0030,0.0475,0.0413])\n",
    "y.add_row([\"500-400-300-200-100(kernel(5,5))\",\"With_dropout(0.3)\" ,0.9986,0.9915,0.9927,0.0053,0.0391,0.0268])\n",
    "y.add_row([\"500-400-300-200-100(kernel(5,5))\",\"With_dropout(0.4)\" ,0.9974,0.9838,0.9886,0.0080,0.0862,0.0507])\n",
    "y.add_row([\"500-400-300-200-100(kernel(5,5))\",\"With_dropout(0.5)\" ,0.9968,0.9932,0.9936,0.0098,0.0259,0.0210])\n",
    "y.add_row([\"500-400-300-200-100(kernel(5,5))\",\"With_bn_dropout(0.5)\" ,0.9971,0.9930,0.9942,0.0091,0.0318,0.022])\n"
   ]
  },
  {
   "cell_type": "code",
   "execution_count": 24,
   "metadata": {
    "colab": {
     "base_uri": "https://localhost:8080/",
     "height": 217
    },
    "colab_type": "code",
    "id": "E-C-z2jeesa3",
    "outputId": "590a7b43-df04-4ef6-9011-3f36a7327d0a"
   },
   "outputs": [
    {
     "name": "stdout",
     "output_type": "stream",
     "text": [
      "+----------------------------------+----------------------+----------------+---------------------+---------------+------------+-----------------+-----------+\n",
      "|               CNN                |         Type         | Train_accuracy | validation_accuracy | Test_accuracy | Train_loss | validation_loss | Test_loss |\n",
      "+----------------------------------+----------------------+----------------+---------------------+---------------+------------+-----------------+-----------+\n",
      "| 500-400-300-200-100(kernel(3,3)) |  Without_bn_dropout  |     0.9995     |        0.9914       |     0.9933    |   0.002    |      0.0455     |   0.0317  |\n",
      "| 500-400-300-200-100(kernel(5,5)) |  Without_bn_dropout  |     0.992      |        0.9921       |     0.9928    |   0.003    |      0.0475     |   0.0413  |\n",
      "| 500-400-300-200-100(kernel(5,5)) |  Without_bn_dropout  |     0.992      |        0.9921       |     0.9928    |   0.003    |      0.0475     |   0.0413  |\n",
      "| 500-400-300-200-100(kernel(5,5)) |  With_dropout(0.3)   |     0.9986     |        0.9915       |     0.9927    |   0.0053   |      0.0391     |   0.0268  |\n",
      "| 500-400-300-200-100(kernel(5,5)) |  With_dropout(0.4)   |     0.9974     |        0.9838       |     0.9886    |   0.008    |      0.0862     |   0.0507  |\n",
      "| 500-400-300-200-100(kernel(5,5)) |  With_dropout(0.5)   |     0.9968     |        0.9932       |     0.9936    |   0.0098   |      0.0259     |   0.021   |\n",
      "| 500-400-300-200-100(kernel(5,5)) | With_bn_dropout(0.5) |     0.9971     |        0.993        |     0.9942    |   0.0091   |      0.0318     |   0.022   |\n",
      "+----------------------------------+----------------------+----------------+---------------------+---------------+------------+-----------------+-----------+\n"
     ]
    }
   ],
   "source": [
    "print(y)"
   ]
  },
  {
   "cell_type": "markdown",
   "metadata": {
    "colab_type": "text",
    "id": "KUtXwEG6g9lS"
   },
   "source": [
    "CNN WITH SEVEN CONV LAYERS(256-206-156-106-84-42-24)"
   ]
  },
  {
   "cell_type": "markdown",
   "metadata": {
    "colab_type": "text",
    "id": "_erTMymZg9lz"
   },
   "source": [
    "Without dropout and BatchNormalization kernel size (7,7)"
   ]
  },
  {
   "cell_type": "code",
   "execution_count": 25,
   "metadata": {
    "colab": {
     "base_uri": "https://localhost:8080/",
     "height": 508
    },
    "colab_type": "code",
    "id": "GnUjQWkg7-ne",
    "outputId": "ef5bfaed-4579-40e7-de25-a01a52d3af18"
   },
   "outputs": [
    {
     "name": "stdout",
     "output_type": "stream",
     "text": [
      "Train on 40200 samples, validate on 19800 samples\n",
      "Epoch 1/12\n",
      "40200/40200 [==============================] - 24s 601us/step - loss: 2.1015 - acc: 0.2055 - val_loss: 0.9967 - val_acc: 0.6651\n",
      "Epoch 2/12\n",
      "40200/40200 [==============================] - 23s 579us/step - loss: 0.2019 - acc: 0.9377 - val_loss: 0.0712 - val_acc: 0.9787\n",
      "Epoch 3/12\n",
      "40200/40200 [==============================] - 24s 590us/step - loss: 0.0682 - acc: 0.9809 - val_loss: 0.0472 - val_acc: 0.9867\n",
      "Epoch 4/12\n",
      "40200/40200 [==============================] - 24s 595us/step - loss: 0.0408 - acc: 0.9887 - val_loss: 0.0511 - val_acc: 0.9865\n",
      "Epoch 5/12\n",
      "40200/40200 [==============================] - 24s 600us/step - loss: 0.0268 - acc: 0.9922 - val_loss: 0.0400 - val_acc: 0.9896\n",
      "Epoch 6/12\n",
      "40200/40200 [==============================] - 24s 604us/step - loss: 0.0208 - acc: 0.9943 - val_loss: 0.0479 - val_acc: 0.9873\n",
      "Epoch 7/12\n",
      "40200/40200 [==============================] - 24s 606us/step - loss: 0.0179 - acc: 0.9947 - val_loss: 0.0373 - val_acc: 0.9907\n",
      "Epoch 8/12\n",
      "40200/40200 [==============================] - 24s 605us/step - loss: 0.0100 - acc: 0.9972 - val_loss: 0.0499 - val_acc: 0.9900\n",
      "Epoch 9/12\n",
      "40200/40200 [==============================] - 24s 606us/step - loss: 0.0111 - acc: 0.9968 - val_loss: 0.0374 - val_acc: 0.9908\n",
      "Epoch 10/12\n",
      "40200/40200 [==============================] - 24s 606us/step - loss: 0.0068 - acc: 0.9981 - val_loss: 0.0443 - val_acc: 0.9898\n",
      "Epoch 11/12\n",
      "40200/40200 [==============================] - 24s 607us/step - loss: 0.0066 - acc: 0.9983 - val_loss: 0.0565 - val_acc: 0.9892\n",
      "Epoch 12/12\n",
      "40200/40200 [==============================] - 25s 612us/step - loss: 0.0076 - acc: 0.9981 - val_loss: 0.0405 - val_acc: 0.9914\n",
      "Test loss: 0.029885150297771633\n",
      "Test accuracy: 0.9933\n"
     ]
    }
   ],
   "source": [
    "cnn_with_7_1 = Sequential()\n",
    "cnn_with_7_1.add(Conv2D(256, kernel_size=(7, 7),\n",
    "                 activation='relu',\n",
    "                 input_shape=input_shape))\n",
    "cnn_with_7_1.add(Conv2D(206, (7, 7), activation='relu',padding='same'))\n",
    "cnn_with_7_1.add(MaxPooling2D(pool_size=(4, 4),padding='same'))\n",
    "cnn_with_7_1.add(Conv2D(156, (7, 7), activation='relu',padding='same'))\n",
    "cnn_with_7_1.add(Conv2D(106, (7, 7), activation='relu',padding='same'))\n",
    "cnn_with_7_1.add(MaxPooling2D(pool_size=(4, 4),padding='same'))\n",
    "cnn_with_7_1.add(Conv2D(84, (7, 7), activation='relu',padding='same'))\n",
    "cnn_with_7_1.add(Conv2D(42, (7, 7), activation='relu',padding='same'))\n",
    "cnn_with_7_1.add(Conv2D(24, (7, 7), activation='relu',padding='same'))\n",
    "cnn_with_7_1.add(Flatten())\n",
    "cnn_with_7_1.add(Dense(128, activation='relu'))\n",
    "cnn_with_7_1.add(Dense(num_classes, activation='softmax'))\n",
    "\n",
    "cnn_with_7_1.compile(loss=keras.losses.categorical_crossentropy,\n",
    "              optimizer=keras.optimizers.Adadelta(),\n",
    "              metrics=['accuracy'])\n",
    "\n",
    "history71=cnn_with_7_1.fit(x_train, y_train,\n",
    "          batch_size=batch_size,\n",
    "          epochs=epochs,\n",
    "          verbose=1,\n",
    "          validation_data=(x_cv, y_cv))\n",
    "score = cnn_with_7_1.evaluate(x_test, y_test, verbose=0)\n",
    "print('Test loss:', score[0])\n",
    "print('Test accuracy:', score[1])"
   ]
  },
  {
   "cell_type": "code",
   "execution_count": 26,
   "metadata": {
    "colab": {
     "base_uri": "https://localhost:8080/",
     "height": 319
    },
    "colab_type": "code",
    "id": "25bdBJ3F7-oU",
    "outputId": "03fb65f0-135b-415f-f12c-3e1effdc3040"
   },
   "outputs": [
    {
     "name": "stdout",
     "output_type": "stream",
     "text": [
      "Test score: 0.029885150297771633\n",
      "Test accuracy: 0.9933\n"
     ]
    },
    {
     "data": {
      "image/png": "[encoded data removed]",
      "text/plain": [
       "<Figure size 432x288 with 1 Axes>"
      ]
     },
     "metadata": {
      "tags": []
     },
     "output_type": "display_data"
    }
   ],
   "source": [
    "score71 = cnn_with_7_1.evaluate(x_test, y_test, verbose=0) \n",
    "print('Test score:', score71[0]) \n",
    "print('Test accuracy:', score71[1])\n",
    "\n",
    "fig,ax = plt.subplots(1,1)\n",
    "ax.set_xlabel('epoch') ; ax.set_ylabel('Categorical Crossentropy Loss')\n",
    "\n",
    "# list of epoch numbers\n",
    "l = list(range(1,epochs+1))\n",
    "\n",
    "\n",
    "vy = history71.history['val_loss']\n",
    "ty = history71.history['loss']\n",
    "\n",
    "z = PrettyTable()\n",
    "\n",
    "z.field_names = [\"CNN\",\"Type\", \"Train_accuracy\",\"validation_accuracy\",\"Test_accuracy\",\"Train_loss\",\"validation_loss\" ,\"Test_loss\"]\n",
    "\n",
    "z.add_row([\"256-206-156-106-84-42-24(kernel(7,7))\",\"Without_bn_dropout\" ,\n",
    "           round(history71.history['acc'][11],4),np.round(history71.history['val_acc'][11],4),\n",
    "           np.round(score71[1],4),np.round(history71.history['loss'][11],4),\n",
    "           np.round(history71.history['val_loss'][11],4),np.round(score71[0],4)])\n",
    "\n",
    "\n",
    "plt_dynamic(l, vy, ty, ax)"
   ]
  },
  {
   "cell_type": "code",
   "execution_count": 27,
   "metadata": {
    "colab": {
     "base_uri": "https://localhost:8080/",
     "height": 108
    },
    "colab_type": "code",
    "id": "h-IBAzxHk_vE",
    "outputId": "cd58a878-17d9-4fb2-dd63-b1f4b18764cf"
   },
   "outputs": [
    {
     "name": "stdout",
     "output_type": "stream",
     "text": [
      "+---------------------------------------+--------------------+----------------+---------------------+---------------+------------+-----------------+-----------+\n",
      "|                  CNN                  |        Type        | Train_accuracy | validation_accuracy | Test_accuracy | Train_loss | validation_loss | Test_loss |\n",
      "+---------------------------------------+--------------------+----------------+---------------------+---------------+------------+-----------------+-----------+\n",
      "| 256-206-156-106-84-42-24(kernel(7,7)) | Without_bn_dropout |     0.9981     |        0.9914       |     0.9933    |   0.0076   |      0.0405     |   0.0299  |\n",
      "+---------------------------------------+--------------------+----------------+---------------------+---------------+------------+-----------------+-----------+\n"
     ]
    }
   ],
   "source": [
    "print(z)"
   ]
  },
  {
   "cell_type": "markdown",
   "metadata": {
    "colab_type": "text",
    "id": "sTqbSIf17-o1"
   },
   "source": [
    "without dropout  and BatchNormalization,kernelsize(5,5)"
   ]
  },
  {
   "cell_type": "code",
   "execution_count": 28,
   "metadata": {
    "colab": {
     "base_uri": "https://localhost:8080/",
     "height": 508
    },
    "colab_type": "code",
    "id": "1sVm5Brq7-pi",
    "outputId": "e4196bb2-c9b9-41e6-d40c-03a6f1fcbc34"
   },
   "outputs": [
    {
     "name": "stdout",
     "output_type": "stream",
     "text": [
      "Train on 40200 samples, validate on 19800 samples\n",
      "Epoch 1/12\n",
      "40200/40200 [==============================] - 30s 741us/step - loss: 0.5274 - acc: 0.8299 - val_loss: 0.0747 - val_acc: 0.9773\n",
      "Epoch 2/12\n",
      "40200/40200 [==============================] - 29s 712us/step - loss: 0.0678 - acc: 0.9797 - val_loss: 0.0490 - val_acc: 0.9853\n",
      "Epoch 3/12\n",
      "40200/40200 [==============================] - 29s 716us/step - loss: 0.0426 - acc: 0.9872 - val_loss: 0.0760 - val_acc: 0.9813\n",
      "Epoch 4/12\n",
      "40200/40200 [==============================] - 29s 720us/step - loss: 0.0308 - acc: 0.9910 - val_loss: 0.0394 - val_acc: 0.9883\n",
      "Epoch 5/12\n",
      "40200/40200 [==============================] - 29s 721us/step - loss: 0.0211 - acc: 0.9935 - val_loss: 0.0363 - val_acc: 0.9889\n",
      "Epoch 6/12\n",
      "40200/40200 [==============================] - 29s 724us/step - loss: 0.0159 - acc: 0.9953 - val_loss: 0.0377 - val_acc: 0.9900\n",
      "Epoch 7/12\n",
      "40200/40200 [==============================] - 29s 719us/step - loss: 0.0114 - acc: 0.9965 - val_loss: 0.0397 - val_acc: 0.9903\n",
      "Epoch 8/12\n",
      "40200/40200 [==============================] - 29s 723us/step - loss: 0.0099 - acc: 0.9971 - val_loss: 0.0471 - val_acc: 0.9901\n",
      "Epoch 9/12\n",
      "40200/40200 [==============================] - 29s 719us/step - loss: 0.0083 - acc: 0.9976 - val_loss: 0.0387 - val_acc: 0.9909\n",
      "Epoch 10/12\n",
      "40200/40200 [==============================] - 29s 722us/step - loss: 0.0069 - acc: 0.9979 - val_loss: 0.0342 - val_acc: 0.9926\n",
      "Epoch 11/12\n",
      "40200/40200 [==============================] - 29s 715us/step - loss: 0.0040 - acc: 0.9989 - val_loss: 0.0503 - val_acc: 0.9890\n",
      "Epoch 12/12\n",
      "40200/40200 [==============================] - 29s 715us/step - loss: 0.0053 - acc: 0.9984 - val_loss: 0.0425 - val_acc: 0.9920\n",
      "Test loss: 0.033921464016994016\n",
      "Test accuracy: 0.9919\n"
     ]
    }
   ],
   "source": [
    "cnn_with_7_2 = Sequential()\n",
    "cnn_with_7_2.add(Conv2D(256, kernel_size=(5, 5),\n",
    "                 activation='relu',\n",
    "                 input_shape=input_shape,padding='same'))\n",
    "cnn_with_7_2.add(Conv2D(206, (5, 5), activation='relu',padding='same'))\n",
    "cnn_with_7_2.add(MaxPooling2D(pool_size=(2, 2),padding='same'))\n",
    "cnn_with_7_2.add(Conv2D(156, (5, 5), activation='relu',padding='same'))\n",
    "cnn_with_7_2.add(Conv2D(106, (5, 5), activation='relu',padding='same'))\n",
    "cnn_with_7_2.add(MaxPooling2D(pool_size=(2, 2),padding='same'))\n",
    "cnn_with_7_2.add(Conv2D(84, (5, 5), activation='relu',padding='same'))\n",
    "cnn_with_7_2.add(Conv2D(42, (5, 5), activation='relu',padding='same'))\n",
    "cnn_with_7_2.add(Conv2D(24, (5, 5), activation='relu',padding='same'))\n",
    "cnn_with_7_2.add(Flatten())\n",
    "cnn_with_7_2.add(Dense(128, activation='relu'))\n",
    "cnn_with_7_2.add(Dense(num_classes, activation='softmax'))\n",
    "\n",
    "cnn_with_7_2.compile(loss=keras.losses.categorical_crossentropy,\n",
    "              optimizer=keras.optimizers.Adadelta(),\n",
    "              metrics=['accuracy'])\n",
    "\n",
    "history72=cnn_with_7_2.fit(x_train, y_train,\n",
    "          batch_size=batch_size,\n",
    "          epochs=epochs,\n",
    "          verbose=1,\n",
    "          validation_data=(x_cv, y_cv))\n",
    "score = cnn_with_7_2.evaluate(x_test, y_test, verbose=0)\n",
    "print('Test loss:', score[0])\n",
    "print('Test accuracy:', score[1])"
   ]
  },
  {
   "cell_type": "code",
   "execution_count": 29,
   "metadata": {
    "colab": {
     "base_uri": "https://localhost:8080/",
     "height": 319
    },
    "colab_type": "code",
    "id": "IT8KA1Qe7-qC",
    "outputId": "1a1be636-44de-4df1-bc98-aa1e90946456"
   },
   "outputs": [
    {
     "name": "stdout",
     "output_type": "stream",
     "text": [
      "Test score: 0.033921464016994016\n",
      "Test accuracy: 0.9919\n"
     ]
    },
    {
     "data": {
      "image/png": "[encoded data removed]",
      "text/plain": [
       "<Figure size 432x288 with 1 Axes>"
      ]
     },
     "metadata": {
      "tags": []
     },
     "output_type": "display_data"
    }
   ],
   "source": [
    "score72 = cnn_with_7_2.evaluate(x_test, y_test, verbose=0) \n",
    "print('Test score:', score72[0]) \n",
    "print('Test accuracy:', score72[1])\n",
    "\n",
    "fig,ax = plt.subplots(1,1)\n",
    "ax.set_xlabel('epoch') ; ax.set_ylabel('Categorical Crossentropy Loss')\n",
    "\n",
    "# list of epoch numbers\n",
    "l = list(range(1,epochs+1))\n",
    "\n",
    "z.add_row([\"256-206-156-106-84-42-24(kernel(5,5))\",\"Without_bn_dropout\" ,\n",
    "           round(history72.history['acc'][11],4),np.round(history72.history['val_acc'][11],4),\n",
    "           np.round(score72[1],4),np.round(history72.history['loss'][11],4),\n",
    "           np.round(history72.history['val_loss'][11],4),np.round(score72[0],4)])\n",
    "\n",
    "vy = history72.history['val_loss']\n",
    "ty = history72.history['loss']\n",
    "plt_dynamic(l, vy, ty, ax)"
   ]
  },
  {
   "cell_type": "markdown",
   "metadata": {
    "colab_type": "text",
    "id": "rNY0dJue7-qh"
   },
   "source": [
    "with dropout rate(0.3)"
   ]
  },
  {
   "cell_type": "code",
   "execution_count": 30,
   "metadata": {
    "colab": {
     "base_uri": "https://localhost:8080/",
     "height": 508
    },
    "colab_type": "code",
    "id": "2kbE1FTQ7-qn",
    "outputId": "3e1857b1-0f18-44f8-8c30-d3d150159d00"
   },
   "outputs": [
    {
     "name": "stdout",
     "output_type": "stream",
     "text": [
      "Train on 40200 samples, validate on 19800 samples\n",
      "Epoch 1/12\n",
      "40200/40200 [==============================] - 66s 2ms/step - loss: 2.3017 - acc: 0.1104 - val_loss: 2.3012 - val_acc: 0.1120\n",
      "Epoch 2/12\n",
      "40200/40200 [==============================] - 66s 2ms/step - loss: 2.2996 - acc: 0.1163 - val_loss: 2.3005 - val_acc: 0.1120\n",
      "Epoch 3/12\n",
      "40200/40200 [==============================] - 67s 2ms/step - loss: 1.5833 - acc: 0.4072 - val_loss: 0.7954 - val_acc: 0.7829\n",
      "Epoch 4/12\n",
      "40200/40200 [==============================] - 68s 2ms/step - loss: 0.1789 - acc: 0.9500 - val_loss: 0.1359 - val_acc: 0.9662\n",
      "Epoch 5/12\n",
      "40200/40200 [==============================] - 69s 2ms/step - loss: 0.0759 - acc: 0.9780 - val_loss: 0.2702 - val_acc: 0.9213\n",
      "Epoch 6/12\n",
      "40200/40200 [==============================] - 69s 2ms/step - loss: 0.0517 - acc: 0.9856 - val_loss: 0.0417 - val_acc: 0.9887\n",
      "Epoch 7/12\n",
      "40200/40200 [==============================] - 69s 2ms/step - loss: 0.0398 - acc: 0.9888 - val_loss: 0.0422 - val_acc: 0.9885\n",
      "Epoch 8/12\n",
      "40200/40200 [==============================] - 69s 2ms/step - loss: 0.0319 - acc: 0.9912 - val_loss: 0.0402 - val_acc: 0.9896\n",
      "Epoch 9/12\n",
      "40200/40200 [==============================] - 69s 2ms/step - loss: 0.0278 - acc: 0.9927 - val_loss: 0.0333 - val_acc: 0.9921\n",
      "Epoch 10/12\n",
      "40200/40200 [==============================] - 69s 2ms/step - loss: 0.0231 - acc: 0.9936 - val_loss: 0.0346 - val_acc: 0.9911\n",
      "Epoch 11/12\n",
      "40200/40200 [==============================] - 69s 2ms/step - loss: 0.0189 - acc: 0.9945 - val_loss: 0.0377 - val_acc: 0.9906\n",
      "Epoch 12/12\n",
      "40200/40200 [==============================] - 69s 2ms/step - loss: 0.0166 - acc: 0.9956 - val_loss: 0.0458 - val_acc: 0.9900\n",
      "Test loss: 0.0291771018157091\n",
      "Test accuracy: 0.9931\n"
     ]
    }
   ],
   "source": [
    "cnn_with_7_3 = Sequential()\n",
    "cnn_with_7_3.add(Conv2D(256, kernel_size=(7, 7),\n",
    "                 activation='relu',\n",
    "                 input_shape=input_shape,padding='same'))\n",
    "cnn_with_7_3.add(Conv2D(206, (7, 7), activation='relu',padding='same'))\n",
    "cnn_with_7_3.add(MaxPooling2D(pool_size=(4, 4),padding='same'))\n",
    "cnn_with_7_3.add(Dropout(0.3))\n",
    "cnn_with_7_3.add(Conv2D(156, (7, 7), activation='relu',padding='same'))\n",
    "cnn_with_7_3.add(Conv2D(106, (7, 7), activation='relu',padding='same'))\n",
    "cnn_with_7_3.add(MaxPooling2D(pool_size=(4, 4),padding='same'))\n",
    "cnn_with_7_3.add(Dropout(0.3))\n",
    "cnn_with_7_3.add(Conv2D(84, (7, 7), activation='relu',padding='same'))\n",
    "cnn_with_7_3.add(Conv2D(42, (7, 7), activation='relu',padding='same'))\n",
    "cnn_with_7_3.add(MaxPooling2D(pool_size=(4, 4),padding='same'))\n",
    "cnn_with_7_3.add(Conv2D(24, (7, 7), activation='relu',padding='same'))\n",
    "cnn_with_7_3.add(Flatten())\n",
    "cnn_with_7_3.add(Dense(128, activation='relu'))\n",
    "cnn_with_7_3.add(Dense(num_classes, activation='softmax'))\n",
    "\n",
    "cnn_with_7_3.compile(loss=keras.losses.categorical_crossentropy,\n",
    "              optimizer=keras.optimizers.Adadelta(),\n",
    "              metrics=['accuracy'])\n",
    "\n",
    "history53=cnn_with_7_3.fit(x_train, y_train,\n",
    "          batch_size=batch_size,\n",
    "          epochs=epochs,\n",
    "          verbose=1,\n",
    "          validation_data=(x_cv, y_cv))\n",
    "score = cnn_with_7_3.evaluate(x_test, y_test, verbose=0)\n",
    "print('Test loss:', score[0])\n",
    "print('Test accuracy:', score[1])\n"
   ]
  },
  {
   "cell_type": "code",
   "execution_count": 33,
   "metadata": {
    "colab": {
     "base_uri": "https://localhost:8080/",
     "height": 319
    },
    "colab_type": "code",
    "id": "idQi9sVs7-rC",
    "outputId": "18f5555b-ced3-4165-8d3a-34aad190e53b"
   },
   "outputs": [
    {
     "name": "stdout",
     "output_type": "stream",
     "text": [
      "Test score: 0.0291771018157091\n",
      "Test accuracy: 0.9931\n"
     ]
    },
    {
     "data": {
      "image/png": "[encoded data removed]",
      "text/plain": [
       "<Figure size 432x288 with 1 Axes>"
      ]
     },
     "metadata": {
      "tags": []
     },
     "output_type": "display_data"
    }
   ],
   "source": [
    "history73=history53\n",
    "score73 = cnn_with_7_3.evaluate(x_test, y_test, verbose=0) \n",
    "print('Test score:', score73[0]) \n",
    "print('Test accuracy:', score73[1])\n",
    "\n",
    "fig,ax = plt.subplots(1,1)\n",
    "ax.set_xlabel('epoch') ; ax.set_ylabel('Categorical Crossentropy Loss')\n",
    "\n",
    "# list of epoch numbers\n",
    "l = list(range(1,epochs+1))\n",
    "\n",
    "z.add_row([\"256-206-156-106-84-42-24(kernel(7,7))\",\"With_dropout(0.3)\" ,\n",
    "           round(history73.history['acc'][11],4),np.round(history73.history['val_acc'][11],4),\n",
    "           np.round(score73[1],4),np.round(history73.history['loss'][11],4),\n",
    "           np.round(history73.history['val_loss'][11],4),np.round(score73[0],4)])\n",
    "\n",
    "\n",
    "vy = history73.history['val_loss']\n",
    "ty = history73.history['loss']\n",
    "plt_dynamic(l, vy, ty, ax)"
   ]
  },
  {
   "cell_type": "markdown",
   "metadata": {
    "colab_type": "text",
    "id": "-gMNZ4eF7-rZ"
   },
   "source": [
    "with dropout(0.4)"
   ]
  },
  {
   "cell_type": "code",
   "execution_count": 34,
   "metadata": {
    "colab": {
     "base_uri": "https://localhost:8080/",
     "height": 508
    },
    "colab_type": "code",
    "id": "_TXnJC9w7-re",
    "outputId": "7984b2a3-fabe-4a3a-a71b-0dea570a7968"
   },
   "outputs": [
    {
     "name": "stdout",
     "output_type": "stream",
     "text": [
      "Train on 40200 samples, validate on 19800 samples\n",
      "Epoch 1/12\n",
      "40200/40200 [==============================] - 68s 2ms/step - loss: 2.3017 - acc: 0.1110 - val_loss: 2.3014 - val_acc: 0.1120\n",
      "Epoch 2/12\n",
      "40200/40200 [==============================] - 67s 2ms/step - loss: 2.3004 - acc: 0.1157 - val_loss: 2.3014 - val_acc: 0.1120\n",
      "Epoch 3/12\n",
      "40200/40200 [==============================] - 69s 2ms/step - loss: 2.3014 - acc: 0.1125 - val_loss: 2.3012 - val_acc: 0.1120\n",
      "Epoch 4/12\n",
      "40200/40200 [==============================] - 70s 2ms/step - loss: 2.3013 - acc: 0.1125 - val_loss: 2.3012 - val_acc: 0.1120\n",
      "Epoch 5/12\n",
      "40200/40200 [==============================] - 69s 2ms/step - loss: 2.3005 - acc: 0.1140 - val_loss: 2.3011 - val_acc: 0.1120\n",
      "Epoch 6/12\n",
      "40200/40200 [==============================] - 70s 2ms/step - loss: 2.2985 - acc: 0.1168 - val_loss: 2.3017 - val_acc: 0.1120\n",
      "Epoch 7/12\n",
      "40200/40200 [==============================] - 69s 2ms/step - loss: 2.2907 - acc: 0.1211 - val_loss: 2.0744 - val_acc: 0.2282\n",
      "Epoch 8/12\n",
      "40200/40200 [==============================] - 70s 2ms/step - loss: 1.0756 - acc: 0.5991 - val_loss: 0.1749 - val_acc: 0.9589\n",
      "Epoch 9/12\n",
      "40200/40200 [==============================] - 70s 2ms/step - loss: 0.1813 - acc: 0.9551 - val_loss: 0.2933 - val_acc: 0.9105\n",
      "Epoch 10/12\n",
      "40200/40200 [==============================] - 70s 2ms/step - loss: 0.1035 - acc: 0.9753 - val_loss: 0.0579 - val_acc: 0.9861\n",
      "Epoch 11/12\n",
      "40200/40200 [==============================] - 69s 2ms/step - loss: 0.0731 - acc: 0.9830 - val_loss: 0.0546 - val_acc: 0.9886\n",
      "Epoch 12/12\n",
      "40200/40200 [==============================] - 69s 2ms/step - loss: 0.0582 - acc: 0.9858 - val_loss: 0.0824 - val_acc: 0.9832\n",
      "Test loss: 0.06778733874528443\n",
      "Test accuracy: 0.9849\n"
     ]
    }
   ],
   "source": [
    "cnn_with_7_4 = Sequential()\n",
    "cnn_with_7_4.add(Conv2D(256, kernel_size=(7, 7),\n",
    "                 activation='relu',\n",
    "                 input_shape=input_shape,padding='same'))\n",
    "cnn_with_7_4.add(Conv2D(206, (7, 7), activation='relu',padding='same'))\n",
    "cnn_with_7_4.add(MaxPooling2D(pool_size=(4, 4),padding='same'))\n",
    "cnn_with_7_4.add(Dropout(0.4))\n",
    "cnn_with_7_4.add(Conv2D(156, (7, 7), activation='relu',padding='same'))\n",
    "cnn_with_7_4.add(Conv2D(106, (7, 7), activation='relu',padding='same'))\n",
    "cnn_with_7_4.add(MaxPooling2D(pool_size=(4, 4),padding='same'))\n",
    "cnn_with_7_4.add(Dropout(0.4))\n",
    "cnn_with_7_4.add(Conv2D(84, (7, 7), activation='relu',padding='same'))\n",
    "cnn_with_7_4.add(Conv2D(42, (7, 7), activation='relu',padding='same'))\n",
    "cnn_with_7_4.add(MaxPooling2D(pool_size=(4, 4),padding='same'))\n",
    "cnn_with_7_4.add(Dropout(0.4))\n",
    "cnn_with_7_4.add(Conv2D(24, (7, 7), activation='relu',padding='same'))\n",
    "cnn_with_7_4.add(Flatten())\n",
    "cnn_with_7_4.add(Dense(128, activation='relu'))\n",
    "cnn_with_7_4.add(Dense(num_classes, activation='softmax'))\n",
    "\n",
    "cnn_with_7_4.compile(loss=keras.losses.categorical_crossentropy,\n",
    "              optimizer=keras.optimizers.Adadelta(),\n",
    "              metrics=['accuracy'])\n",
    "\n",
    "history74=cnn_with_7_4.fit(x_train, y_train,\n",
    "          batch_size=batch_size,\n",
    "          epochs=epochs,\n",
    "          verbose=1,\n",
    "          validation_data=(x_cv, y_cv))\n",
    "score = cnn_with_7_4.evaluate(x_test, y_test, verbose=0)\n",
    "print('Test loss:', score[0])\n",
    "print('Test accuracy:', score[1])\n"
   ]
  },
  {
   "cell_type": "code",
   "execution_count": 35,
   "metadata": {
    "colab": {
     "base_uri": "https://localhost:8080/",
     "height": 319
    },
    "colab_type": "code",
    "id": "SK0zTkq37-r3",
    "outputId": "935c0d60-8640-4141-a61a-843401e9639e"
   },
   "outputs": [
    {
     "name": "stdout",
     "output_type": "stream",
     "text": [
      "Test score: 0.06778733874528443\n",
      "Test accuracy: 0.9849\n"
     ]
    },
    {
     "data": {
      "image/png": "[encoded data removed]",
      "text/plain": [
       "<Figure size 432x288 with 1 Axes>"
      ]
     },
     "metadata": {
      "tags": []
     },
     "output_type": "display_data"
    }
   ],
   "source": [
    "score74 = cnn_with_7_4.evaluate(x_test, y_test, verbose=0) \n",
    "print('Test score:', score74[0]) \n",
    "print('Test accuracy:', score74[1])\n",
    "\n",
    "fig,ax = plt.subplots(1,1)\n",
    "ax.set_xlabel('epoch') ; ax.set_ylabel('Categorical Crossentropy Loss')\n",
    "\n",
    "# list of epoch numbers\n",
    "l = list(range(1,epochs+1))\n",
    "\n",
    "z.add_row([\"256-206-156-106-84-42-24(kernel(5,5))\",\"With_dropout(0.4)\" ,\n",
    "           round(history74.history['acc'][11],4),np.round(history74.history['val_acc'][11],4),\n",
    "           np.round(score74[1],4),np.round(history74.history['loss'][11],4),\n",
    "           np.round(history74.history['val_loss'][11],4),np.round(score74[0],4)])\n",
    "\n",
    "\n",
    "vy = history74.history['val_loss']\n",
    "ty = history74.history['loss']\n",
    "plt_dynamic(l, vy, ty, ax)"
   ]
  },
  {
   "cell_type": "markdown",
   "metadata": {
    "colab_type": "text",
    "id": "v_JZXf147-sQ"
   },
   "source": [
    "with dropout rate(0.5)"
   ]
  },
  {
   "cell_type": "code",
   "execution_count": 36,
   "metadata": {
    "colab": {
     "base_uri": "https://localhost:8080/",
     "height": 508
    },
    "colab_type": "code",
    "id": "Ad0kuvuC7-sT",
    "outputId": "2b8267eb-9cef-46c1-b947-3fe5ff75addd"
   },
   "outputs": [
    {
     "name": "stdout",
     "output_type": "stream",
     "text": [
      "Train on 40200 samples, validate on 19800 samples\n",
      "Epoch 1/12\n",
      "40200/40200 [==============================] - 67s 2ms/step - loss: 2.3016 - acc: 0.1117 - val_loss: 2.3013 - val_acc: 0.1120\n",
      "Epoch 2/12\n",
      "40200/40200 [==============================] - 65s 2ms/step - loss: 2.3006 - acc: 0.1162 - val_loss: 2.3012 - val_acc: 0.1120\n",
      "Epoch 3/12\n",
      "40200/40200 [==============================] - 66s 2ms/step - loss: 2.3014 - acc: 0.1125 - val_loss: 2.3012 - val_acc: 0.1120\n",
      "Epoch 4/12\n",
      "40200/40200 [==============================] - 67s 2ms/step - loss: 2.3014 - acc: 0.1125 - val_loss: 2.3013 - val_acc: 0.1120\n",
      "Epoch 5/12\n",
      "40200/40200 [==============================] - 67s 2ms/step - loss: 2.3014 - acc: 0.1125 - val_loss: 2.3012 - val_acc: 0.1120\n",
      "Epoch 6/12\n",
      "40200/40200 [==============================] - 67s 2ms/step - loss: 2.3014 - acc: 0.1125 - val_loss: 2.3012 - val_acc: 0.1120\n",
      "Epoch 7/12\n",
      "40200/40200 [==============================] - 68s 2ms/step - loss: 2.3013 - acc: 0.1125 - val_loss: 2.3013 - val_acc: 0.1120\n",
      "Epoch 8/12\n",
      "40200/40200 [==============================] - 68s 2ms/step - loss: 2.3014 - acc: 0.1125 - val_loss: 2.3013 - val_acc: 0.1120\n",
      "Epoch 9/12\n",
      "40200/40200 [==============================] - 68s 2ms/step - loss: 2.3014 - acc: 0.1125 - val_loss: 2.3012 - val_acc: 0.1120\n",
      "Epoch 10/12\n",
      "40200/40200 [==============================] - 68s 2ms/step - loss: 2.3014 - acc: 0.1125 - val_loss: 2.3012 - val_acc: 0.1120\n",
      "Epoch 11/12\n",
      "40200/40200 [==============================] - 68s 2ms/step - loss: 2.3014 - acc: 0.1125 - val_loss: 2.3012 - val_acc: 0.1120\n",
      "Epoch 12/12\n",
      "40200/40200 [==============================] - 68s 2ms/step - loss: 2.3014 - acc: 0.1125 - val_loss: 2.3012 - val_acc: 0.1120\n",
      "Test loss: 2.3010415908813475\n",
      "Test accuracy: 0.1135\n"
     ]
    }
   ],
   "source": [
    "cnn_with_7_5 = Sequential()\n",
    "cnn_with_7_5.add(Conv2D(256, kernel_size=(7, 7),\n",
    "                 activation='relu',\n",
    "                 input_shape=input_shape,padding='same'))\n",
    "cnn_with_7_5.add(Conv2D(206, (7, 7), activation='relu',padding='same'))\n",
    "cnn_with_7_5.add(MaxPooling2D(pool_size=(4, 4),padding='same'))\n",
    "cnn_with_7_5.add(Dropout(0.5))\n",
    "cnn_with_7_5.add(Conv2D(156, (7, 7), activation='relu',padding='same'))\n",
    "cnn_with_7_5.add(Conv2D(106, (7, 7), activation='relu',padding='same'))\n",
    "cnn_with_7_5.add(MaxPooling2D(pool_size=(4, 4),padding='same'))\n",
    "cnn_with_7_5.add(Dropout(0.5))\n",
    "cnn_with_7_5.add(Conv2D(84, (7, 7), activation='relu',padding='same'))\n",
    "cnn_with_7_5.add(Conv2D(42, (7, 7), activation='relu',padding='same'))\n",
    "cnn_with_7_5.add(MaxPooling2D(pool_size=(4, 4),padding='same'))\n",
    "cnn_with_7_5.add(Dropout(0.5))\n",
    "cnn_with_7_5.add(Conv2D(24, (7, 7), activation='relu',padding='same'))\n",
    "cnn_with_7_5.add(Flatten())\n",
    "cnn_with_7_5.add(Dense(128, activation='relu'))\n",
    "cnn_with_7_5.add(Dense(num_classes, activation='softmax'))\n",
    "\n",
    "cnn_with_7_5.compile(loss=keras.losses.categorical_crossentropy,\n",
    "              optimizer=keras.optimizers.Adadelta(),\n",
    "              metrics=['accuracy'])\n",
    "\n",
    "history55=cnn_with_7_5.fit(x_train, y_train,\n",
    "          batch_size=batch_size,\n",
    "          epochs=epochs,\n",
    "          verbose=1,\n",
    "          validation_data=(x_cv, y_cv))\n",
    "score = cnn_with_5_5.evaluate(x_test, y_test, verbose=0)\n",
    "print('Test loss:', score[0])\n",
    "print('Test accuracy:', score[1])\n"
   ]
  },
  {
   "cell_type": "code",
   "execution_count": 39,
   "metadata": {
    "colab": {
     "base_uri": "https://localhost:8080/",
     "height": 319
    },
    "colab_type": "code",
    "id": "DSmn4eRK7-st",
    "outputId": "e9506ba0-c007-4037-f530-5a7bc52dd528"
   },
   "outputs": [
    {
     "name": "stdout",
     "output_type": "stream",
     "text": [
      "Test score: 2.3010415908813475\n",
      "Test accuracy: 0.1135\n"
     ]
    },
    {
     "data": {
      "image/png": "[encoded data removed]",
      "text/plain": [
       "<Figure size 432x288 with 1 Axes>"
      ]
     },
     "metadata": {
      "tags": []
     },
     "output_type": "display_data"
    }
   ],
   "source": [
    "score55 = cnn_with_5_5.evaluate(x_test, y_test, verbose=0) \n",
    "print('Test score:', score75[0]) \n",
    "print('Test accuracy:', score75[1])\n",
    "\n",
    "fig,ax = plt.subplots(1,1)\n",
    "ax.set_xlabel('epoch') ; ax.set_ylabel('Categorical Crossentropy Loss')\n",
    "\n",
    "# list of epoch numbers\n",
    "l = list(range(1,epochs+1))\n",
    "\n",
    "z.add_row([\"500-400-300-200-100(kernel(5,5))\",\"Withdropout\" ,round(history55.history['acc'][11],4),\n",
    "           np.round(history55.history['val_acc'][11],4),np.round(score55[1],4),\n",
    "           np.round(history55.history['loss'][11],4),\n",
    "           np.round(history55.history['val_loss'][11],4),np.round(score55[0],4)])\n",
    "\n",
    "\n",
    "vy = history55.history['val_loss']\n",
    "ty = history55.history['loss']\n",
    "plt_dynamic(l, vy, ty, ax)"
   ]
  },
  {
   "cell_type": "markdown",
   "metadata": {
    "colab_type": "text",
    "id": "mvytP1sL7-tL"
   },
   "source": [
    "with batch normalization and dropout(0.3)\n",
    "\n"
   ]
  },
  {
   "cell_type": "code",
   "execution_count": 45,
   "metadata": {
    "colab": {
     "base_uri": "https://localhost:8080/",
     "height": 508
    },
    "colab_type": "code",
    "id": "sOYLyYCD7-tP",
    "outputId": "60932350-6e97-4264-e7e9-dcaae2f21e5b"
   },
   "outputs": [
    {
     "name": "stdout",
     "output_type": "stream",
     "text": [
      "Train on 40200 samples, validate on 19800 samples\n",
      "Epoch 1/12\n",
      "40200/40200 [==============================] - 34s 834us/step - loss: 0.2387 - acc: 0.9225 - val_loss: 0.1545 - val_acc: 0.9658\n",
      "Epoch 2/12\n",
      "40200/40200 [==============================] - 31s 764us/step - loss: 0.0612 - acc: 0.9814 - val_loss: 0.0406 - val_acc: 0.9885\n",
      "Epoch 3/12\n",
      "40200/40200 [==============================] - 31s 772us/step - loss: 0.0408 - acc: 0.9878 - val_loss: 0.3597 - val_acc: 0.9286\n",
      "Epoch 4/12\n",
      "40200/40200 [==============================] - 31s 782us/step - loss: 0.0319 - acc: 0.9908 - val_loss: 0.0917 - val_acc: 0.9751\n",
      "Epoch 5/12\n",
      "40200/40200 [==============================] - 32s 788us/step - loss: 0.0245 - acc: 0.9921 - val_loss: 0.0642 - val_acc: 0.9854\n",
      "Epoch 6/12\n",
      "40200/40200 [==============================] - 32s 792us/step - loss: 0.0202 - acc: 0.9940 - val_loss: 0.0319 - val_acc: 0.9925\n",
      "Epoch 7/12\n",
      "40200/40200 [==============================] - 32s 797us/step - loss: 0.0170 - acc: 0.9946 - val_loss: 0.0298 - val_acc: 0.9922\n",
      "Epoch 8/12\n",
      "40200/40200 [==============================] - 32s 802us/step - loss: 0.0178 - acc: 0.9947 - val_loss: 0.0387 - val_acc: 0.9891\n",
      "Epoch 9/12\n",
      "40200/40200 [==============================] - 32s 805us/step - loss: 0.0142 - acc: 0.9957 - val_loss: 0.0420 - val_acc: 0.9898\n",
      "Epoch 10/12\n",
      "40200/40200 [==============================] - 32s 807us/step - loss: 0.0117 - acc: 0.9964 - val_loss: 0.0277 - val_acc: 0.9938\n",
      "Epoch 11/12\n",
      "40200/40200 [==============================] - 32s 805us/step - loss: 0.0114 - acc: 0.9962 - val_loss: 0.0275 - val_acc: 0.9930\n",
      "Epoch 12/12\n",
      "40200/40200 [==============================] - 33s 809us/step - loss: 0.0086 - acc: 0.9974 - val_loss: 0.0574 - val_acc: 0.9889\n",
      "Test loss: 0.03858854297724493\n",
      "Test accuracy: 0.9917\n"
     ]
    }
   ],
   "source": [
    "from keras.layers.normalization import BatchNormalization\n",
    "cnn_with_7_6 = Sequential()\n",
    "cnn_with_7_6.add(Conv2D(256, kernel_size=(5, 5),\n",
    "                activation='relu',\n",
    "                 input_shape=input_shape,padding='same'))\n",
    "cnn_with_7_6.add(Conv2D(206, (5, 5), activation='relu',padding='same'))\n",
    "cnn_with_7_6.add(MaxPooling2D(pool_size=(2, 2),padding='same'))\n",
    "cnn_with_7_6.add(Dropout(0.3))\n",
    "cnn_with_7_6.add(BatchNormalization())\n",
    "cnn_with_7_6.add(Conv2D(156, (5, 5), activation='relu',padding='same'))\n",
    "cnn_with_7_6.add(Conv2D(106, (5, 5), activation='relu',padding='same'))\n",
    "cnn_with_7_6.add(MaxPooling2D(pool_size=(2, 2),padding='same'))\n",
    "cnn_with_7_6.add(Dropout(0.3))\n",
    "cnn_with_7_6.add(BatchNormalization())\n",
    "cnn_with_7_6.add(Conv2D(84, (7, 7), activation='relu',padding='same'))\n",
    "cnn_with_7_6.add(Conv2D(48, (7, 7), activation='relu',padding='same'))\n",
    "cnn_with_7_6.add(Dropout(0.3))\n",
    "cnn_with_7_6.add(BatchNormalization())\n",
    "cnn_with_7_6.add(Conv2D(24, (7, 7), activation='relu',padding='same'))\n",
    "cnn_with_7_6.add(Flatten())\n",
    "cnn_with_7_6.add(Dense(128, activation='relu'))\n",
    "cnn_with_7_6.add(Dense(num_classes, activation='softmax'))\n",
    "\n",
    "cnn_with_7_6.compile(loss=keras.losses.categorical_crossentropy,\n",
    "              optimizer=keras.optimizers.Adadelta(),\n",
    "              metrics=['accuracy'])\n",
    "\n",
    "history76=cnn_with_7_6.fit(x_train, y_train,\n",
    "          batch_size=batch_size,\n",
    "          epochs=epochs,\n",
    "          verbose=1,\n",
    "          validation_data=(x_cv, y_cv))\n",
    "score = cnn_with_7_6.evaluate(x_test, y_test, verbose=0)\n",
    "print('Test loss:', score[0])\n",
    "print('Test accuracy:', score[1])\n"
   ]
  },
  {
   "cell_type": "code",
   "execution_count": 46,
   "metadata": {
    "colab": {
     "base_uri": "https://localhost:8080/",
     "height": 319
    },
    "colab_type": "code",
    "id": "j46dOi2O7-tn",
    "outputId": "1e09e92b-53b7-4ebf-91f7-59bda5043576"
   },
   "outputs": [
    {
     "name": "stdout",
     "output_type": "stream",
     "text": [
      "Test score: 0.03858854297724493\n",
      "Test accuracy: 0.9917\n"
     ]
    },
    {
     "data": {
      "image/png": "[encoded data removed]",
      "text/plain": [
       "<Figure size 432x288 with 1 Axes>"
      ]
     },
     "metadata": {
      "tags": []
     },
     "output_type": "display_data"
    }
   ],
   "source": [
    "score76 = cnn_with_7_6.evaluate(x_test, y_test, verbose=0) \n",
    "print('Test score:', score[0]) \n",
    "print('Test accuracy:', score[1])\n",
    "\n",
    "fig,ax = plt.subplots(1,1)\n",
    "ax.set_xlabel('epoch') ; ax.set_ylabel('Categorical Crossentropy Loss')\n",
    "\n",
    "# list of epoch numbers\n",
    "l = list(range(1,epochs+1))\n",
    "\n",
    "z.add_row([\"500-400-300-200-100(kernel(7,7))\",\"With_bn_dropout(0.3)\" ,\n",
    "           round(history76.history['acc'][11],4),np.round(history76.history['val_acc'][11],4),\n",
    "           np.round(score76[1],4),np.round(history76.history['loss'][11],4),\n",
    "           np.round(history76.history['val_loss'][11],4),np.round(score76[0],4)])\n",
    "\n",
    "\n",
    "vy = history56.history['val_loss']\n",
    "ty = history56.history['loss']\n",
    "plt_dynamic(l, vy, ty, ax)"
   ]
  },
  {
   "cell_type": "code",
   "execution_count": 47,
   "metadata": {
    "colab": {
     "base_uri": "https://localhost:8080/",
     "height": 199
    },
    "colab_type": "code",
    "id": "f3TAqKG03H45",
    "outputId": "524df301-5390-47ed-c065-7cb4cb6c615c"
   },
   "outputs": [
    {
     "name": "stdout",
     "output_type": "stream",
     "text": [
      "+---------------------------------------+----------------------+----------------+---------------------+---------------+------------+-----------------+-----------+\n",
      "|                  CNN                  |         Type         | Train_accuracy | validation_accuracy | Test_accuracy | Train_loss | validation_loss | Test_loss |\n",
      "+---------------------------------------+----------------------+----------------+---------------------+---------------+------------+-----------------+-----------+\n",
      "| 256-206-156-106-84-42-24(kernel(7,7)) |  Without_bn_dropout  |     0.9981     |        0.9914       |     0.9933    |   0.0076   |      0.0405     |   0.0299  |\n",
      "| 256-206-156-106-84-42-24(kernel(5,5)) |  Without_bn_dropout  |     0.9984     |        0.992        |     0.9919    |   0.0053   |      0.0425     |   0.0339  |\n",
      "| 256-206-156-106-84-42-24(kernel(7,7)) |  With_dropout(0.3)   |     0.9956     |         0.99        |     0.9931    |   0.0166   |      0.0458     |   0.0292  |\n",
      "| 256-206-156-106-84-42-24(kernel(5,5)) |  With_dropout(0.4)   |     0.9858     |        0.9832       |     0.9849    |   0.0582   |      0.0824     |   0.0678  |\n",
      "|    500-400-300-200-100(kernel(5,5))   |     Withdropout      |     0.1125     |        0.112        |     0.1135    |   2.3014   |      2.3012     |   2.301   |\n",
      "|    500-400-300-200-100(kernel(7,7))   | With_bn_dropout(0.3) |     0.9974     |        0.9889       |     0.9917    |   0.0086   |      0.0574     |   0.0386  |\n",
      "+---------------------------------------+----------------------+----------------+---------------------+---------------+------------+-----------------+-----------+\n"
     ]
    }
   ],
   "source": [
    "print(z)"
   ]
  },
  {
   "cell_type": "markdown",
   "metadata": {
    "colab_type": "text",
    "id": "Mt32POvG3Nq_"
   },
   "source": [
    "# **Conclusions**"
   ]
  },
  {
   "cell_type": "markdown",
   "metadata": {
    "colab_type": "text",
    "id": "Yc1tNBwQ3a2l"
   },
   "source": [
    " Tried 3 different MLP arcitures on MNIST dataset\n",
    "\n",
    "  1. All models are giving best results except the models without dropouts are slightly overfit to the traindata.\n",
    "\n",
    "  2. Models with Dropout are giving good performance.\n",
    "  \n",
    "  3.I tried different dropout rates with each architecture,for 3 layered and 5 layered dropout rate 0.5 is giving \n",
    "  best   results.for 7 layered architecture dropout rate 0.3 is giving best performance.model with 7 layers with 0.5\n",
    "  dropout is giving very bad results.hence we neglect that model.\n",
    "\n",
    "  4. As hidden layers are increasing even with the dropouts also the performance of the model is decreasing.\n",
    "\n",
    "  5.  Represented the  all three architectures results using prettytable library."
   ]
  }
 ],
 "metadata": {
  "accelerator": "GPU",
  "colab": {
   "collapsed_sections": [],
   "name": "KERAS_CNN_MNIST.ipynb",
   "provenance": [],
   "version": "0.3.2"
  },
  "kernelspec": {
   "display_name": "Python 3",
   "language": "python",
   "name": "python3"
  },
  "language_info": {
   "codemirror_mode": {
    "name": "ipython",
    "version": 3
   },
   "file_extension": ".py",
   "mimetype": "text/x-python",
   "name": "python",
   "nbconvert_exporter": "python",
   "pygments_lexer": "ipython3",
   "version": "3.6.5"
  }
 },
 "nbformat": 4,
 "nbformat_minor": 1
}
