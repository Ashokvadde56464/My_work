{
 "cells": [
  {
   "cell_type": "markdown",
   "metadata": {
    "colab_type": "text",
    "id": "UIn1GsFNJkjH"
   },
   "source": [
    "# Amazon Fine Food Reviews Analysis\n",
    "\n",
    "\n",
    "Data Source: https://www.kaggle.com/snap/amazon-fine-food-reviews <br>\n",
    "\n",
    "EDA: https://nycdatascience.com/blog/student-works/amazon-fine-foods-visualization/\n",
    "\n",
    "\n",
    "The Amazon Fine Food Reviews dataset consists of reviews of fine foods from Amazon.<br>\n",
    "\n",
    "Number of reviews: 568,454<br>\n",
    "Number of users: 256,059<br>\n",
    "Number of products: 74,258<br>\n",
    "Timespan: Oct 1999 - Oct 2012<br>\n",
    "Number of Attributes/Columns in data: 10 \n",
    "\n",
    "Attribute Information:\n",
    "\n",
    "1. Id\n",
    "2. ProductId - unique identifier for the product\n",
    "3. UserId - unqiue identifier for the user\n",
    "4. ProfileName\n",
    "5. HelpfulnessNumerator - number of users who found the review helpful\n",
    "6. HelpfulnessDenominator - number of users who indicated whether they found the review helpful or not\n",
    "7. Score - rating between 1 and 5\n",
    "8. Time - timestamp for the review\n",
    "9. Summary - brief summary of the review\n",
    "10. Text - text of the review\n",
    "\n",
    "\n",
    "#### Objective:\n",
    "Given a review, determine whether the review is positive (rating of 4 or 5) or negative (rating of 1 or 2).\n",
    "\n",
    "<br>\n",
    "[Q] How to determine if a review is positive or negative?<br>\n",
    "<br> \n",
    "[Ans] We could use Score/Rating. A rating of 4 or 5 can be cosnidered as a positive review. A rating of 1 or 2 can be considered as negative one. A review of rating 3 is considered nuetral and such reviews are ignored from our analysis. This is an approximate and proxy way of determining the polarity (positivity/negativity) of a review.\n",
    "\n",
    "\n"
   ]
  },
  {
   "cell_type": "markdown",
   "metadata": {
    "colab_type": "text",
    "id": "5Uf26aoLJkjJ"
   },
   "source": [
    "# [1]. Reading Data"
   ]
  },
  {
   "cell_type": "markdown",
   "metadata": {
    "colab_type": "text",
    "id": "yo-LaJg3JkjK"
   },
   "source": [
    "## [1.1] Loading the data\n",
    "\n",
    "The dataset is available in two forms\n",
    "1. .csv file\n",
    "2. SQLite Database\n",
    "\n",
    "In order to load the data, We have used the SQLITE dataset as it is easier to query the data and visualise the data efficiently.\n",
    "<br> \n",
    "\n",
    "Here as we only want to get the global sentiment of the recommendations (positive or negative), we will purposefully ignore all Scores equal to 3. If the score is above 3, then the recommendation wil be set to \"positive\". Otherwise, it will be set to \"negative\"."
   ]
  },
  {
   "cell_type": "code",
   "execution_count": 1,
   "metadata": {
    "colab": {
     "base_uri": "https://localhost:8080/",
     "height": 56
    },
    "colab_type": "code",
    "executionInfo": {
     "elapsed": 3075,
     "status": "ok",
     "timestamp": 1552487005571,
     "user": {
      "displayName": "saikiran yernena",
      "photoUrl": "",
      "userId": "15171324143564695981"
     },
     "user_tz": -330
    },
    "id": "dLYq3BkfJkjL",
    "outputId": "2e32e8a7-996e-42b3-bb37-06d00aee2a4e"
   },
   "outputs": [
    {
     "name": "stdout",
     "output_type": "stream",
     "text": [
      "Drive already mounted at /content/drive; to attempt to forcibly remount, call drive.mount(\"/content/drive\", force_remount=True).\n"
     ]
    }
   ],
   "source": [
    "from google.colab import drive\n",
    "drive.mount('/content/drive')\n",
    "%matplotlib inline\n",
    "import warnings\n",
    "warnings.filterwarnings(\"ignore\")\n",
    "\n",
    "\n",
    "import sqlite3\n",
    "import pandas as pd\n",
    "import numpy as np\n",
    "import nltk\n",
    "import string\n",
    "import matplotlib.pyplot as plt\n",
    "import seaborn as sns\n",
    "from sklearn.feature_extraction.text import TfidfTransformer\n",
    "from sklearn.feature_extraction.text import TfidfVectorizer\n",
    "\n",
    "from sklearn.feature_extraction.text import CountVectorizer\n",
    "from sklearn.metrics import confusion_matrix\n",
    "from sklearn import metrics\n",
    "from sklearn.metrics import roc_curve, auc\n",
    "from nltk.stem.porter import PorterStemmer\n",
    "\n",
    "import re\n",
    "# Tutorial about Python regular expressions: https://pymotw.com/2/re/\n",
    "import string\n",
    "from nltk.corpus import stopwords\n",
    "from nltk.stem import PorterStemmer\n",
    "from nltk.stem.wordnet import WordNetLemmatizer\n",
    "\n",
    "from gensim.models import Word2Vec\n",
    "from gensim.models import KeyedVectors\n",
    "import pickle\n",
    "\n",
    "from tqdm import tqdm\n",
    "import os"
   ]
  },
  {
   "cell_type": "code",
   "execution_count": 2,
   "metadata": {
    "colab": {
     "base_uri": "https://localhost:8080/",
     "height": 460
    },
    "colab_type": "code",
    "executionInfo": {
     "elapsed": 4644,
     "status": "ok",
     "timestamp": 1552487013549,
     "user": {
      "displayName": "saikiran yernena",
      "photoUrl": "",
      "userId": "15171324143564695981"
     },
     "user_tz": -330
    },
    "id": "rXVxnx_NJkjO",
    "outputId": "06949a02-1896-469f-df24-d0d4c07c95e1"
   },
   "outputs": [
    {
     "name": "stdout",
     "output_type": "stream",
     "text": [
      "Number of data points in our data (100000, 10)\n"
     ]
    },
    {
     "data": {
      "text/html": [
       "<div>\n",
       "<style scoped>\n",
       "    .dataframe tbody tr th:only-of-type {\n",
       "        vertical-align: middle;\n",
       "    }\n",
       "\n",
       "    .dataframe tbody tr th {\n",
       "        vertical-align: top;\n",
       "    }\n",
       "\n",
       "    .dataframe thead th {\n",
       "        text-align: right;\n",
       "    }\n",
       "</style>\n",
       "<table border=\"1\" class=\"dataframe\">\n",
       "  <thead>\n",
       "    <tr style=\"text-align: right;\">\n",
       "      <th></th>\n",
       "      <th>Id</th>\n",
       "      <th>ProductId</th>\n",
       "      <th>UserId</th>\n",
       "      <th>ProfileName</th>\n",
       "      <th>HelpfulnessNumerator</th>\n",
       "      <th>HelpfulnessDenominator</th>\n",
       "      <th>Score</th>\n",
       "      <th>Time</th>\n",
       "      <th>Summary</th>\n",
       "      <th>Text</th>\n",
       "    </tr>\n",
       "  </thead>\n",
       "  <tbody>\n",
       "    <tr>\n",
       "      <th>0</th>\n",
       "      <td>1</td>\n",
       "      <td>B001E4KFG0</td>\n",
       "      <td>A3SGXH7AUHU8GW</td>\n",
       "      <td>delmartian</td>\n",
       "      <td>1</td>\n",
       "      <td>1</td>\n",
       "      <td>1</td>\n",
       "      <td>1303862400</td>\n",
       "      <td>Good Quality Dog Food</td>\n",
       "      <td>I have bought several of the Vitality canned d...</td>\n",
       "    </tr>\n",
       "    <tr>\n",
       "      <th>1</th>\n",
       "      <td>2</td>\n",
       "      <td>B00813GRG4</td>\n",
       "      <td>A1D87F6ZCVE5NK</td>\n",
       "      <td>dll pa</td>\n",
       "      <td>0</td>\n",
       "      <td>0</td>\n",
       "      <td>0</td>\n",
       "      <td>1346976000</td>\n",
       "      <td>Not as Advertised</td>\n",
       "      <td>Product arrived labeled as Jumbo Salted Peanut...</td>\n",
       "    </tr>\n",
       "    <tr>\n",
       "      <th>2</th>\n",
       "      <td>3</td>\n",
       "      <td>B000LQOCH0</td>\n",
       "      <td>ABXLMWJIXXAIN</td>\n",
       "      <td>Natalia Corres \"Natalia Corres\"</td>\n",
       "      <td>1</td>\n",
       "      <td>1</td>\n",
       "      <td>1</td>\n",
       "      <td>1219017600</td>\n",
       "      <td>\"Delight\" says it all</td>\n",
       "      <td>This is a confection that has been around a fe...</td>\n",
       "    </tr>\n",
       "  </tbody>\n",
       "</table>\n",
       "</div>"
      ],
      "text/plain": [
       "   Id   ProductId          UserId                      ProfileName  \\\n",
       "0   1  B001E4KFG0  A3SGXH7AUHU8GW                       delmartian   \n",
       "1   2  B00813GRG4  A1D87F6ZCVE5NK                           dll pa   \n",
       "2   3  B000LQOCH0   ABXLMWJIXXAIN  Natalia Corres \"Natalia Corres\"   \n",
       "\n",
       "   HelpfulnessNumerator  HelpfulnessDenominator  Score        Time  \\\n",
       "0                     1                       1      1  1303862400   \n",
       "1                     0                       0      0  1346976000   \n",
       "2                     1                       1      1  1219017600   \n",
       "\n",
       "                 Summary                                               Text  \n",
       "0  Good Quality Dog Food  I have bought several of the Vitality canned d...  \n",
       "1      Not as Advertised  Product arrived labeled as Jumbo Salted Peanut...  \n",
       "2  \"Delight\" says it all  This is a confection that has been around a fe...  "
      ]
     },
     "execution_count": 2,
     "metadata": {
      "tags": []
     },
     "output_type": "execute_result"
    }
   ],
   "source": [
    "# using SQLite Table to read data.\n",
    "con = sqlite3.connect('/content/drive/My Drive/Colab Notebooks/database.sqlite') \n",
    "\n",
    "# filtering only positive and negative reviews i.e. \n",
    "# not taking into consideration those reviews with Score=3\n",
    "# SELECT * FROM Reviews WHERE Score != 3 LIMIT 500000, will give top 500000 data points\n",
    "# you can change the number to any other number based on your computing power\n",
    "\n",
    "# filtered_data = pd.read_sql_query(\"\"\" SELECT * FROM Reviews WHERE Score != 3 LIMIT 500000\"\"\", con) \n",
    "# for tsne assignment you can take 5k data points\n",
    "\n",
    "filtered_data = pd.read_sql_query(\"\"\" SELECT * FROM Reviews WHERE Score != 3 LIMIT 100000\"\"\", con) \n",
    "\n",
    "# Give reviews with Score>3 a positive rating(1), and reviews with a score<3 a negative rating(0).\n",
    "def partition(x):\n",
    "    if x < 3:\n",
    "        return 0\n",
    "    return 1\n",
    "\n",
    "#changing reviews with score less than 3 to be positive and vice-versa\n",
    "actualScore = filtered_data['Score']\n",
    "positiveNegative = actualScore.map(partition) \n",
    "filtered_data['Score'] = positiveNegative\n",
    "print(\"Number of data points in our data\", filtered_data.shape)\n",
    "filtered_data.head(3)"
   ]
  },
  {
   "cell_type": "code",
   "execution_count": 0,
   "metadata": {
    "colab": {},
    "colab_type": "code",
    "id": "ZLasp3QxJkjS"
   },
   "outputs": [],
   "source": [
    "display = pd.read_sql_query(\"\"\"\n",
    "SELECT UserId, ProductId, ProfileName, Time, Score, Text, COUNT(*)\n",
    "FROM Reviews\n",
    "GROUP BY UserId\n",
    "HAVING COUNT(*)>1\n",
    "\"\"\", con)"
   ]
  },
  {
   "cell_type": "code",
   "execution_count": 4,
   "metadata": {
    "colab": {
     "base_uri": "https://localhost:8080/",
     "height": 259
    },
    "colab_type": "code",
    "executionInfo": {
     "elapsed": 1531,
     "status": "ok",
     "timestamp": 1552487038732,
     "user": {
      "displayName": "saikiran yernena",
      "photoUrl": "",
      "userId": "15171324143564695981"
     },
     "user_tz": -330
    },
    "id": "pHzk_lUkJkjW",
    "outputId": "8399c5c8-fff0-460d-edcd-c4ed65909103",
    "scrolled": true
   },
   "outputs": [
    {
     "name": "stdout",
     "output_type": "stream",
     "text": [
      "(80668, 7)\n"
     ]
    },
    {
     "data": {
      "text/html": [
       "<div>\n",
       "<style scoped>\n",
       "    .dataframe tbody tr th:only-of-type {\n",
       "        vertical-align: middle;\n",
       "    }\n",
       "\n",
       "    .dataframe tbody tr th {\n",
       "        vertical-align: top;\n",
       "    }\n",
       "\n",
       "    .dataframe thead th {\n",
       "        text-align: right;\n",
       "    }\n",
       "</style>\n",
       "<table border=\"1\" class=\"dataframe\">\n",
       "  <thead>\n",
       "    <tr style=\"text-align: right;\">\n",
       "      <th></th>\n",
       "      <th>UserId</th>\n",
       "      <th>ProductId</th>\n",
       "      <th>ProfileName</th>\n",
       "      <th>Time</th>\n",
       "      <th>Score</th>\n",
       "      <th>Text</th>\n",
       "      <th>COUNT(*)</th>\n",
       "    </tr>\n",
       "  </thead>\n",
       "  <tbody>\n",
       "    <tr>\n",
       "      <th>0</th>\n",
       "      <td>#oc-R115TNMSPFT9I7</td>\n",
       "      <td>B007Y59HVM</td>\n",
       "      <td>Breyton</td>\n",
       "      <td>1331510400</td>\n",
       "      <td>2</td>\n",
       "      <td>Overall its just OK when considering the price...</td>\n",
       "      <td>2</td>\n",
       "    </tr>\n",
       "    <tr>\n",
       "      <th>1</th>\n",
       "      <td>#oc-R11D9D7SHXIJB9</td>\n",
       "      <td>B005HG9ET0</td>\n",
       "      <td>Louis E. Emory \"hoppy\"</td>\n",
       "      <td>1342396800</td>\n",
       "      <td>5</td>\n",
       "      <td>My wife has recurring extreme muscle spasms, u...</td>\n",
       "      <td>3</td>\n",
       "    </tr>\n",
       "    <tr>\n",
       "      <th>2</th>\n",
       "      <td>#oc-R11DNU2NBKQ23Z</td>\n",
       "      <td>B007Y59HVM</td>\n",
       "      <td>Kim Cieszykowski</td>\n",
       "      <td>1348531200</td>\n",
       "      <td>1</td>\n",
       "      <td>This coffee is horrible and unfortunately not ...</td>\n",
       "      <td>2</td>\n",
       "    </tr>\n",
       "    <tr>\n",
       "      <th>3</th>\n",
       "      <td>#oc-R11O5J5ZVQE25C</td>\n",
       "      <td>B005HG9ET0</td>\n",
       "      <td>Penguin Chick</td>\n",
       "      <td>1346889600</td>\n",
       "      <td>5</td>\n",
       "      <td>This will be the bottle that you grab from the...</td>\n",
       "      <td>3</td>\n",
       "    </tr>\n",
       "    <tr>\n",
       "      <th>4</th>\n",
       "      <td>#oc-R12KPBODL2B5ZD</td>\n",
       "      <td>B007OSBE1U</td>\n",
       "      <td>Christopher P. Presta</td>\n",
       "      <td>1348617600</td>\n",
       "      <td>1</td>\n",
       "      <td>I didnt like this coffee. Instead of telling y...</td>\n",
       "      <td>2</td>\n",
       "    </tr>\n",
       "  </tbody>\n",
       "</table>\n",
       "</div>"
      ],
      "text/plain": [
       "               UserId   ProductId             ProfileName        Time  Score  \\\n",
       "0  #oc-R115TNMSPFT9I7  B007Y59HVM                 Breyton  1331510400      2   \n",
       "1  #oc-R11D9D7SHXIJB9  B005HG9ET0  Louis E. Emory \"hoppy\"  1342396800      5   \n",
       "2  #oc-R11DNU2NBKQ23Z  B007Y59HVM        Kim Cieszykowski  1348531200      1   \n",
       "3  #oc-R11O5J5ZVQE25C  B005HG9ET0           Penguin Chick  1346889600      5   \n",
       "4  #oc-R12KPBODL2B5ZD  B007OSBE1U   Christopher P. Presta  1348617600      1   \n",
       "\n",
       "                                                Text  COUNT(*)  \n",
       "0  Overall its just OK when considering the price...         2  \n",
       "1  My wife has recurring extreme muscle spasms, u...         3  \n",
       "2  This coffee is horrible and unfortunately not ...         2  \n",
       "3  This will be the bottle that you grab from the...         3  \n",
       "4  I didnt like this coffee. Instead of telling y...         2  "
      ]
     },
     "execution_count": 4,
     "metadata": {
      "tags": []
     },
     "output_type": "execute_result"
    }
   ],
   "source": [
    "print(display.shape)\n",
    "display.head()"
   ]
  },
  {
   "cell_type": "code",
   "execution_count": 5,
   "metadata": {
    "colab": {
     "base_uri": "https://localhost:8080/",
     "height": 98
    },
    "colab_type": "code",
    "executionInfo": {
     "elapsed": 2448,
     "status": "ok",
     "timestamp": 1552487044621,
     "user": {
      "displayName": "saikiran yernena",
      "photoUrl": "",
      "userId": "15171324143564695981"
     },
     "user_tz": -330
    },
    "id": "HUsn2lg8Jkjb",
    "outputId": "e6863f21-98ac-46ce-a5e3-949a7565b198"
   },
   "outputs": [
    {
     "data": {
      "text/html": [
       "<div>\n",
       "<style scoped>\n",
       "    .dataframe tbody tr th:only-of-type {\n",
       "        vertical-align: middle;\n",
       "    }\n",
       "\n",
       "    .dataframe tbody tr th {\n",
       "        vertical-align: top;\n",
       "    }\n",
       "\n",
       "    .dataframe thead th {\n",
       "        text-align: right;\n",
       "    }\n",
       "</style>\n",
       "<table border=\"1\" class=\"dataframe\">\n",
       "  <thead>\n",
       "    <tr style=\"text-align: right;\">\n",
       "      <th></th>\n",
       "      <th>UserId</th>\n",
       "      <th>ProductId</th>\n",
       "      <th>ProfileName</th>\n",
       "      <th>Time</th>\n",
       "      <th>Score</th>\n",
       "      <th>Text</th>\n",
       "      <th>COUNT(*)</th>\n",
       "    </tr>\n",
       "  </thead>\n",
       "  <tbody>\n",
       "    <tr>\n",
       "      <th>80638</th>\n",
       "      <td>AZY10LLTJ71NX</td>\n",
       "      <td>B006P7E5ZI</td>\n",
       "      <td>undertheshrine \"undertheshrine\"</td>\n",
       "      <td>1334707200</td>\n",
       "      <td>5</td>\n",
       "      <td>I was recommended to try green tea extract to ...</td>\n",
       "      <td>5</td>\n",
       "    </tr>\n",
       "  </tbody>\n",
       "</table>\n",
       "</div>"
      ],
      "text/plain": [
       "              UserId   ProductId                      ProfileName        Time  \\\n",
       "80638  AZY10LLTJ71NX  B006P7E5ZI  undertheshrine \"undertheshrine\"  1334707200   \n",
       "\n",
       "       Score                                               Text  COUNT(*)  \n",
       "80638      5  I was recommended to try green tea extract to ...         5  "
      ]
     },
     "execution_count": 5,
     "metadata": {
      "tags": []
     },
     "output_type": "execute_result"
    }
   ],
   "source": [
    "display[display['UserId']=='AZY10LLTJ71NX']"
   ]
  },
  {
   "cell_type": "code",
   "execution_count": 6,
   "metadata": {
    "colab": {
     "base_uri": "https://localhost:8080/",
     "height": 36
    },
    "colab_type": "code",
    "executionInfo": {
     "elapsed": 1538,
     "status": "ok",
     "timestamp": 1552487048620,
     "user": {
      "displayName": "saikiran yernena",
      "photoUrl": "",
      "userId": "15171324143564695981"
     },
     "user_tz": -330
    },
    "id": "CyPhzHZKJkjf",
    "outputId": "38d8594d-ee8f-4282-e25f-63e050acb3f7"
   },
   "outputs": [
    {
     "data": {
      "text/plain": [
       "393063"
      ]
     },
     "execution_count": 6,
     "metadata": {
      "tags": []
     },
     "output_type": "execute_result"
    }
   ],
   "source": [
    "display['COUNT(*)'].sum()"
   ]
  },
  {
   "cell_type": "markdown",
   "metadata": {
    "colab_type": "text",
    "id": "y22fy_WtJkji"
   },
   "source": [
    "#  [2] Exploratory Data Analysis"
   ]
  },
  {
   "cell_type": "markdown",
   "metadata": {
    "colab_type": "text",
    "id": "ZqpW3tWPJkjl"
   },
   "source": [
    "## [2.1] Data Cleaning: Deduplication\n",
    "\n",
    "It is observed (as shown in the table below) that the reviews data had many duplicate entries. Hence it was necessary to remove duplicates in order to get unbiased results for the analysis of the data.  Following is an example:"
   ]
  },
  {
   "cell_type": "code",
   "execution_count": 7,
   "metadata": {
    "colab": {
     "base_uri": "https://localhost:8080/",
     "height": 573
    },
    "colab_type": "code",
    "executionInfo": {
     "elapsed": 1527,
     "status": "ok",
     "timestamp": 1552487052567,
     "user": {
      "displayName": "saikiran yernena",
      "photoUrl": "",
      "userId": "15171324143564695981"
     },
     "user_tz": -330
    },
    "id": "fmlu_oooJkjl",
    "outputId": "9c21c7ee-5c9e-4df0-8086-3fcaf546decd",
    "scrolled": false
   },
   "outputs": [
    {
     "data": {
      "text/html": [
       "<div>\n",
       "<style scoped>\n",
       "    .dataframe tbody tr th:only-of-type {\n",
       "        vertical-align: middle;\n",
       "    }\n",
       "\n",
       "    .dataframe tbody tr th {\n",
       "        vertical-align: top;\n",
       "    }\n",
       "\n",
       "    .dataframe thead th {\n",
       "        text-align: right;\n",
       "    }\n",
       "</style>\n",
       "<table border=\"1\" class=\"dataframe\">\n",
       "  <thead>\n",
       "    <tr style=\"text-align: right;\">\n",
       "      <th></th>\n",
       "      <th>Id</th>\n",
       "      <th>ProductId</th>\n",
       "      <th>UserId</th>\n",
       "      <th>ProfileName</th>\n",
       "      <th>HelpfulnessNumerator</th>\n",
       "      <th>HelpfulnessDenominator</th>\n",
       "      <th>Score</th>\n",
       "      <th>Time</th>\n",
       "      <th>Summary</th>\n",
       "      <th>Text</th>\n",
       "    </tr>\n",
       "  </thead>\n",
       "  <tbody>\n",
       "    <tr>\n",
       "      <th>0</th>\n",
       "      <td>78445</td>\n",
       "      <td>B000HDL1RQ</td>\n",
       "      <td>AR5J8UI46CURR</td>\n",
       "      <td>Geetha Krishnan</td>\n",
       "      <td>2</td>\n",
       "      <td>2</td>\n",
       "      <td>5</td>\n",
       "      <td>1199577600</td>\n",
       "      <td>LOACKER QUADRATINI VANILLA WAFERS</td>\n",
       "      <td>DELICIOUS WAFERS. I FIND THAT EUROPEAN WAFERS ...</td>\n",
       "    </tr>\n",
       "    <tr>\n",
       "      <th>1</th>\n",
       "      <td>138317</td>\n",
       "      <td>B000HDOPYC</td>\n",
       "      <td>AR5J8UI46CURR</td>\n",
       "      <td>Geetha Krishnan</td>\n",
       "      <td>2</td>\n",
       "      <td>2</td>\n",
       "      <td>5</td>\n",
       "      <td>1199577600</td>\n",
       "      <td>LOACKER QUADRATINI VANILLA WAFERS</td>\n",
       "      <td>DELICIOUS WAFERS. I FIND THAT EUROPEAN WAFERS ...</td>\n",
       "    </tr>\n",
       "    <tr>\n",
       "      <th>2</th>\n",
       "      <td>138277</td>\n",
       "      <td>B000HDOPYM</td>\n",
       "      <td>AR5J8UI46CURR</td>\n",
       "      <td>Geetha Krishnan</td>\n",
       "      <td>2</td>\n",
       "      <td>2</td>\n",
       "      <td>5</td>\n",
       "      <td>1199577600</td>\n",
       "      <td>LOACKER QUADRATINI VANILLA WAFERS</td>\n",
       "      <td>DELICIOUS WAFERS. I FIND THAT EUROPEAN WAFERS ...</td>\n",
       "    </tr>\n",
       "    <tr>\n",
       "      <th>3</th>\n",
       "      <td>73791</td>\n",
       "      <td>B000HDOPZG</td>\n",
       "      <td>AR5J8UI46CURR</td>\n",
       "      <td>Geetha Krishnan</td>\n",
       "      <td>2</td>\n",
       "      <td>2</td>\n",
       "      <td>5</td>\n",
       "      <td>1199577600</td>\n",
       "      <td>LOACKER QUADRATINI VANILLA WAFERS</td>\n",
       "      <td>DELICIOUS WAFERS. I FIND THAT EUROPEAN WAFERS ...</td>\n",
       "    </tr>\n",
       "    <tr>\n",
       "      <th>4</th>\n",
       "      <td>155049</td>\n",
       "      <td>B000PAQ75C</td>\n",
       "      <td>AR5J8UI46CURR</td>\n",
       "      <td>Geetha Krishnan</td>\n",
       "      <td>2</td>\n",
       "      <td>2</td>\n",
       "      <td>5</td>\n",
       "      <td>1199577600</td>\n",
       "      <td>LOACKER QUADRATINI VANILLA WAFERS</td>\n",
       "      <td>DELICIOUS WAFERS. I FIND THAT EUROPEAN WAFERS ...</td>\n",
       "    </tr>\n",
       "  </tbody>\n",
       "</table>\n",
       "</div>"
      ],
      "text/plain": [
       "       Id   ProductId         UserId      ProfileName  HelpfulnessNumerator  \\\n",
       "0   78445  B000HDL1RQ  AR5J8UI46CURR  Geetha Krishnan                     2   \n",
       "1  138317  B000HDOPYC  AR5J8UI46CURR  Geetha Krishnan                     2   \n",
       "2  138277  B000HDOPYM  AR5J8UI46CURR  Geetha Krishnan                     2   \n",
       "3   73791  B000HDOPZG  AR5J8UI46CURR  Geetha Krishnan                     2   \n",
       "4  155049  B000PAQ75C  AR5J8UI46CURR  Geetha Krishnan                     2   \n",
       "\n",
       "   HelpfulnessDenominator  Score        Time  \\\n",
       "0                       2      5  1199577600   \n",
       "1                       2      5  1199577600   \n",
       "2                       2      5  1199577600   \n",
       "3                       2      5  1199577600   \n",
       "4                       2      5  1199577600   \n",
       "\n",
       "                             Summary  \\\n",
       "0  LOACKER QUADRATINI VANILLA WAFERS   \n",
       "1  LOACKER QUADRATINI VANILLA WAFERS   \n",
       "2  LOACKER QUADRATINI VANILLA WAFERS   \n",
       "3  LOACKER QUADRATINI VANILLA WAFERS   \n",
       "4  LOACKER QUADRATINI VANILLA WAFERS   \n",
       "\n",
       "                                                Text  \n",
       "0  DELICIOUS WAFERS. I FIND THAT EUROPEAN WAFERS ...  \n",
       "1  DELICIOUS WAFERS. I FIND THAT EUROPEAN WAFERS ...  \n",
       "2  DELICIOUS WAFERS. I FIND THAT EUROPEAN WAFERS ...  \n",
       "3  DELICIOUS WAFERS. I FIND THAT EUROPEAN WAFERS ...  \n",
       "4  DELICIOUS WAFERS. I FIND THAT EUROPEAN WAFERS ...  "
      ]
     },
     "execution_count": 7,
     "metadata": {
      "tags": []
     },
     "output_type": "execute_result"
    }
   ],
   "source": [
    "display= pd.read_sql_query(\"\"\"\n",
    "SELECT *\n",
    "FROM Reviews\n",
    "WHERE Score != 3 AND UserId=\"AR5J8UI46CURR\"\n",
    "ORDER BY ProductID\n",
    "\"\"\", con)\n",
    "display.head()"
   ]
  },
  {
   "cell_type": "markdown",
   "metadata": {
    "colab_type": "text",
    "id": "pvogJHEyJkjq"
   },
   "source": [
    "As it can be seen above that same user has multiple reviews with same values for HelpfulnessNumerator, HelpfulnessDenominator, Score, Time, Summary and Text and on doing analysis it was found that <br>\n",
    "<br> \n",
    "ProductId=B000HDOPZG was Loacker Quadratini Vanilla Wafer Cookies, 8.82-Ounce Packages (Pack of 8)<br>\n",
    "<br> \n",
    "ProductId=B000HDL1RQ was Loacker Quadratini Lemon Wafer Cookies, 8.82-Ounce Packages (Pack of 8) and so on<br>\n",
    "\n",
    "It was inferred after analysis that reviews with same parameters other than ProductId belonged to the same product just having different flavour or quantity. Hence in order to reduce redundancy it was decided to eliminate the rows having same parameters.<br>\n",
    "\n",
    "The method used for the same was that we first sort the data according to ProductId and then just keep the first similar product review and delelte the others. for eg. in the above just the review for ProductId=B000HDL1RQ remains. This method ensures that there is only one representative for each product and deduplication without sorting would lead to possibility of different representatives still existing for the same product."
   ]
  },
  {
   "cell_type": "code",
   "execution_count": 0,
   "metadata": {
    "colab": {},
    "colab_type": "code",
    "id": "LAWOrfBaJkjr"
   },
   "outputs": [],
   "source": [
    "#Sorting data according to ProductId in ascending order\n",
    "sorted_data=filtered_data.sort_values('ProductId', axis=0, ascending=True, inplace=False, kind='quicksort', na_position='last')"
   ]
  },
  {
   "cell_type": "code",
   "execution_count": 9,
   "metadata": {
    "colab": {
     "base_uri": "https://localhost:8080/",
     "height": 36
    },
    "colab_type": "code",
    "executionInfo": {
     "elapsed": 1506,
     "status": "ok",
     "timestamp": 1552487062121,
     "user": {
      "displayName": "saikiran yernena",
      "photoUrl": "",
      "userId": "15171324143564695981"
     },
     "user_tz": -330
    },
    "id": "dfaQob28Jkju",
    "outputId": "820b1577-82d9-41b6-bcb3-a7744c8965b0"
   },
   "outputs": [
    {
     "data": {
      "text/plain": [
       "(87775, 10)"
      ]
     },
     "execution_count": 9,
     "metadata": {
      "tags": []
     },
     "output_type": "execute_result"
    }
   ],
   "source": [
    "#Deduplication of entries\n",
    "final=sorted_data.drop_duplicates(subset={\"UserId\",\"ProfileName\",\"Time\",\"Text\"}, keep='first', inplace=False)\n",
    "final.shape"
   ]
  },
  {
   "cell_type": "code",
   "execution_count": 10,
   "metadata": {
    "colab": {
     "base_uri": "https://localhost:8080/",
     "height": 36
    },
    "colab_type": "code",
    "executionInfo": {
     "elapsed": 1592,
     "status": "ok",
     "timestamp": 1552487065128,
     "user": {
      "displayName": "saikiran yernena",
      "photoUrl": "",
      "userId": "15171324143564695981"
     },
     "user_tz": -330
    },
    "id": "9QVxT6oxJkjx",
    "outputId": "f48117df-b9b8-405d-b0eb-e8c60dfb1686"
   },
   "outputs": [
    {
     "data": {
      "text/plain": [
       "87.775"
      ]
     },
     "execution_count": 10,
     "metadata": {
      "tags": []
     },
     "output_type": "execute_result"
    }
   ],
   "source": [
    "#Checking to see how much % of data still remains\n",
    "(final['Id'].size*1.0)/(filtered_data['Id'].size*1.0)*100"
   ]
  },
  {
   "cell_type": "markdown",
   "metadata": {
    "colab_type": "text",
    "id": "qVaxONHLJkj1"
   },
   "source": [
    "<b>Observation:-</b> It was also seen that in two rows given below the value of HelpfulnessNumerator is greater than HelpfulnessDenominator which is not practically possible hence these two rows too are removed from calcualtions"
   ]
  },
  {
   "cell_type": "code",
   "execution_count": 11,
   "metadata": {
    "colab": {
     "base_uri": "https://localhost:8080/",
     "height": 340
    },
    "colab_type": "code",
    "executionInfo": {
     "elapsed": 1708,
     "status": "ok",
     "timestamp": 1552487068196,
     "user": {
      "displayName": "saikiran yernena",
      "photoUrl": "",
      "userId": "15171324143564695981"
     },
     "user_tz": -330
    },
    "id": "vLoqfOjcJkj1",
    "outputId": "a1be5487-71a3-4ca8-cb29-d9e619229d4e"
   },
   "outputs": [
    {
     "data": {
      "text/html": [
       "<div>\n",
       "<style scoped>\n",
       "    .dataframe tbody tr th:only-of-type {\n",
       "        vertical-align: middle;\n",
       "    }\n",
       "\n",
       "    .dataframe tbody tr th {\n",
       "        vertical-align: top;\n",
       "    }\n",
       "\n",
       "    .dataframe thead th {\n",
       "        text-align: right;\n",
       "    }\n",
       "</style>\n",
       "<table border=\"1\" class=\"dataframe\">\n",
       "  <thead>\n",
       "    <tr style=\"text-align: right;\">\n",
       "      <th></th>\n",
       "      <th>Id</th>\n",
       "      <th>ProductId</th>\n",
       "      <th>UserId</th>\n",
       "      <th>ProfileName</th>\n",
       "      <th>HelpfulnessNumerator</th>\n",
       "      <th>HelpfulnessDenominator</th>\n",
       "      <th>Score</th>\n",
       "      <th>Time</th>\n",
       "      <th>Summary</th>\n",
       "      <th>Text</th>\n",
       "    </tr>\n",
       "  </thead>\n",
       "  <tbody>\n",
       "    <tr>\n",
       "      <th>0</th>\n",
       "      <td>64422</td>\n",
       "      <td>B000MIDROQ</td>\n",
       "      <td>A161DK06JJMCYF</td>\n",
       "      <td>J. E. Stephens \"Jeanne\"</td>\n",
       "      <td>3</td>\n",
       "      <td>1</td>\n",
       "      <td>5</td>\n",
       "      <td>1224892800</td>\n",
       "      <td>Bought This for My Son at College</td>\n",
       "      <td>My son loves spaghetti so I didn't hesitate or...</td>\n",
       "    </tr>\n",
       "    <tr>\n",
       "      <th>1</th>\n",
       "      <td>44737</td>\n",
       "      <td>B001EQ55RW</td>\n",
       "      <td>A2V0I904FH7ABY</td>\n",
       "      <td>Ram</td>\n",
       "      <td>3</td>\n",
       "      <td>2</td>\n",
       "      <td>4</td>\n",
       "      <td>1212883200</td>\n",
       "      <td>Pure cocoa taste with crunchy almonds inside</td>\n",
       "      <td>It was almost a 'love at first bite' - the per...</td>\n",
       "    </tr>\n",
       "  </tbody>\n",
       "</table>\n",
       "</div>"
      ],
      "text/plain": [
       "      Id   ProductId          UserId              ProfileName  \\\n",
       "0  64422  B000MIDROQ  A161DK06JJMCYF  J. E. Stephens \"Jeanne\"   \n",
       "1  44737  B001EQ55RW  A2V0I904FH7ABY                      Ram   \n",
       "\n",
       "   HelpfulnessNumerator  HelpfulnessDenominator  Score        Time  \\\n",
       "0                     3                       1      5  1224892800   \n",
       "1                     3                       2      4  1212883200   \n",
       "\n",
       "                                        Summary  \\\n",
       "0             Bought This for My Son at College   \n",
       "1  Pure cocoa taste with crunchy almonds inside   \n",
       "\n",
       "                                                Text  \n",
       "0  My son loves spaghetti so I didn't hesitate or...  \n",
       "1  It was almost a 'love at first bite' - the per...  "
      ]
     },
     "execution_count": 11,
     "metadata": {
      "tags": []
     },
     "output_type": "execute_result"
    }
   ],
   "source": [
    "display= pd.read_sql_query(\"\"\"\n",
    "SELECT *\n",
    "FROM Reviews\n",
    "WHERE Score != 3 AND Id=44737 OR Id=64422\n",
    "ORDER BY ProductID\n",
    "\"\"\", con)\n",
    "\n",
    "display.head()"
   ]
  },
  {
   "cell_type": "code",
   "execution_count": 0,
   "metadata": {
    "colab": {},
    "colab_type": "code",
    "id": "f_185ozFJkj9"
   },
   "outputs": [],
   "source": [
    "final=final[final.HelpfulnessNumerator<=final.HelpfulnessDenominator]"
   ]
  },
  {
   "cell_type": "code",
   "execution_count": 13,
   "metadata": {
    "colab": {
     "base_uri": "https://localhost:8080/",
     "height": 91
    },
    "colab_type": "code",
    "executionInfo": {
     "elapsed": 779,
     "status": "ok",
     "timestamp": 1552487077565,
     "user": {
      "displayName": "saikiran yernena",
      "photoUrl": "",
      "userId": "15171324143564695981"
     },
     "user_tz": -330
    },
    "id": "CofRySJyJkkC",
    "outputId": "3d530af1-1f1c-4087-a160-89f27980a842"
   },
   "outputs": [
    {
     "name": "stdout",
     "output_type": "stream",
     "text": [
      "(87773, 10)\n"
     ]
    },
    {
     "data": {
      "text/plain": [
       "1    73592\n",
       "0    14181\n",
       "Name: Score, dtype: int64"
      ]
     },
     "execution_count": 13,
     "metadata": {
      "tags": []
     },
     "output_type": "execute_result"
    }
   ],
   "source": [
    "#Before starting the next phase of preprocessing lets see the number of entries left\n",
    "print(final.shape)\n",
    "\n",
    "#How many positive and negative reviews are present in our dataset?\n",
    "final['Score'].value_counts()"
   ]
  },
  {
   "cell_type": "markdown",
   "metadata": {
    "colab_type": "text",
    "id": "-fEWeywxJkkI"
   },
   "source": [
    "#  [3] Preprocessing"
   ]
  },
  {
   "cell_type": "markdown",
   "metadata": {
    "colab_type": "text",
    "id": "tzpbt9aOJkkJ"
   },
   "source": [
    "## [3.1].  Preprocessing Review Text\n",
    "\n",
    "Now that we have finished deduplication our data requires some preprocessing before we go on further with analysis and making the prediction model.\n",
    "\n",
    "Hence in the Preprocessing phase we do the following in the order below:-\n",
    "\n",
    "1. Begin by removing the html tags\n",
    "2. Remove any punctuations or limited set of special characters like , or . or # etc.\n",
    "3. Check if the word is made up of english letters and is not alpha-numeric\n",
    "4. Check to see if the length of the word is greater than 2 (as it was researched that there is no adjective in 2-letters)\n",
    "5. Convert the word to lowercase\n",
    "6. Remove Stopwords\n",
    "7. Finally Snowball Stemming the word (it was obsereved to be better than Porter Stemming)<br>\n",
    "\n",
    "After which we collect the words used to describe positive and negative reviews"
   ]
  },
  {
   "cell_type": "code",
   "execution_count": 14,
   "metadata": {
    "colab": {
     "base_uri": "https://localhost:8080/",
     "height": 186
    },
    "colab_type": "code",
    "executionInfo": {
     "elapsed": 1404,
     "status": "ok",
     "timestamp": 1552487084840,
     "user": {
      "displayName": "saikiran yernena",
      "photoUrl": "",
      "userId": "15171324143564695981"
     },
     "user_tz": -330
    },
    "id": "YqxBeLk8JkkL",
    "outputId": "0571d016-573f-4715-8833-0500e77a7eb0"
   },
   "outputs": [
    {
     "name": "stdout",
     "output_type": "stream",
     "text": [
      "My dogs loves this chicken but its a product from China, so we wont be buying it anymore.  Its very hard to find any chicken products made in the USA but they are out there, but this one isnt.  Its too bad too because its a good product but I wont take any chances till they know what is going on with the china imports.\n",
      "==================================================\n",
      "The Candy Blocks were a nice visual for the Lego Birthday party but the candy has little taste to it.  Very little of the 2 lbs that I bought were eaten and I threw the rest away.  I would not buy the candy again.\n",
      "==================================================\n",
      "was way to hot for my blood, took a bite and did a jig  lol\n",
      "==================================================\n",
      "My dog LOVES these treats. They tend to have a very strong fish oil smell. So if you are afraid of the fishy smell, don't get it. But I think my dog likes it because of the smell. These treats are really small in size. They are great for training. You can give your dog several of these without worrying about him over eating. Amazon's price was much more reasonable than any other retailer. You can buy a 1 pound bag on Amazon for almost the same price as a 6 ounce bag at other retailers. It's definitely worth it to buy a big bag if your dog eats them a lot.\n",
      "==================================================\n"
     ]
    }
   ],
   "source": [
    "# printing some random reviews\n",
    "sent_0 = final['Text'].values[0]\n",
    "print(sent_0)\n",
    "print(\"=\"*50)\n",
    "\n",
    "sent_1000 = final['Text'].values[1000]\n",
    "print(sent_1000)\n",
    "print(\"=\"*50)\n",
    "\n",
    "sent_1500 = final['Text'].values[1500]\n",
    "print(sent_1500)\n",
    "print(\"=\"*50)\n",
    "\n",
    "sent_4900 = final['Text'].values[4900]\n",
    "print(sent_4900)\n",
    "print(\"=\"*50)"
   ]
  },
  {
   "cell_type": "code",
   "execution_count": 15,
   "metadata": {
    "colab": {
     "base_uri": "https://localhost:8080/",
     "height": 56
    },
    "colab_type": "code",
    "executionInfo": {
     "elapsed": 1351,
     "status": "ok",
     "timestamp": 1552487089600,
     "user": {
      "displayName": "saikiran yernena",
      "photoUrl": "",
      "userId": "15171324143564695981"
     },
     "user_tz": -330
    },
    "id": "lWiJ2_9gJkkP",
    "outputId": "e1e106e8-cd32-4f0d-c7fc-e20cf556edc8"
   },
   "outputs": [
    {
     "name": "stdout",
     "output_type": "stream",
     "text": [
      "My dogs loves this chicken but its a product from China, so we wont be buying it anymore.  Its very hard to find any chicken products made in the USA but they are out there, but this one isnt.  Its too bad too because its a good product but I wont take any chances till they know what is going on with the china imports.\n"
     ]
    }
   ],
   "source": [
    "# remove urls from text python: https://stackoverflow.com/a/40823105/4084039\n",
    "sent_0 = re.sub(r\"http\\S+\", \"\", sent_0)\n",
    "sent_1000 = re.sub(r\"http\\S+\", \"\", sent_1000)\n",
    "sent_150 = re.sub(r\"http\\S+\", \"\", sent_1500)\n",
    "sent_4900 = re.sub(r\"http\\S+\", \"\", sent_4900)\n",
    "\n",
    "print(sent_0)"
   ]
  },
  {
   "cell_type": "code",
   "execution_count": 16,
   "metadata": {
    "colab": {
     "base_uri": "https://localhost:8080/",
     "height": 167
    },
    "colab_type": "code",
    "executionInfo": {
     "elapsed": 1551,
     "status": "ok",
     "timestamp": 1552487093295,
     "user": {
      "displayName": "saikiran yernena",
      "photoUrl": "",
      "userId": "15171324143564695981"
     },
     "user_tz": -330
    },
    "id": "cpLtZ-lAJkkR",
    "outputId": "1cf51e9c-ae80-4bdc-bdae-55c7df572706"
   },
   "outputs": [
    {
     "name": "stdout",
     "output_type": "stream",
     "text": [
      "My dogs loves this chicken but its a product from China, so we wont be buying it anymore.  Its very hard to find any chicken products made in the USA but they are out there, but this one isnt.  Its too bad too because its a good product but I wont take any chances till they know what is going on with the china imports.\n",
      "==================================================\n",
      "The Candy Blocks were a nice visual for the Lego Birthday party but the candy has little taste to it.  Very little of the 2 lbs that I bought were eaten and I threw the rest away.  I would not buy the candy again.\n",
      "==================================================\n",
      "was way to hot for my blood, took a bite and did a jig  lol\n",
      "==================================================\n",
      "My dog LOVES these treats. They tend to have a very strong fish oil smell. So if you are afraid of the fishy smell, don't get it. But I think my dog likes it because of the smell. These treats are really small in size. They are great for training. You can give your dog several of these without worrying about him over eating. Amazon's price was much more reasonable than any other retailer. You can buy a 1 pound bag on Amazon for almost the same price as a 6 ounce bag at other retailers. It's definitely worth it to buy a big bag if your dog eats them a lot.\n"
     ]
    }
   ],
   "source": [
    "# https://stackoverflow.com/questions/16206380/python-beautifulsoup-how-to-remove-all-tags-from-an-element\n",
    "from bs4 import BeautifulSoup\n",
    "\n",
    "soup = BeautifulSoup(sent_0, 'lxml')\n",
    "text = soup.get_text()\n",
    "print(text)\n",
    "print(\"=\"*50)\n",
    "\n",
    "soup = BeautifulSoup(sent_1000, 'lxml')\n",
    "text = soup.get_text()\n",
    "print(text)\n",
    "print(\"=\"*50)\n",
    "\n",
    "soup = BeautifulSoup(sent_1500, 'lxml')\n",
    "text = soup.get_text()\n",
    "print(text)\n",
    "print(\"=\"*50)\n",
    "\n",
    "soup = BeautifulSoup(sent_4900, 'lxml')\n",
    "text = soup.get_text()\n",
    "print(text)"
   ]
  },
  {
   "cell_type": "code",
   "execution_count": 0,
   "metadata": {
    "colab": {},
    "colab_type": "code",
    "id": "HYBbtiCMJkkW"
   },
   "outputs": [],
   "source": [
    "# https://stackoverflow.com/a/47091490/4084039\n",
    "import re\n",
    "\n",
    "def decontracted(phrase):\n",
    "    # specific\n",
    "    phrase = re.sub(r\"won't\", \"will not\", phrase)\n",
    "    phrase = re.sub(r\"can\\'t\", \"can not\", phrase)\n",
    "\n",
    "    # general\n",
    "    phrase = re.sub(r\"n\\'t\", \" not\", phrase)\n",
    "    phrase = re.sub(r\"\\'re\", \" are\", phrase)\n",
    "    phrase = re.sub(r\"\\'s\", \" is\", phrase)\n",
    "    phrase = re.sub(r\"\\'d\", \" would\", phrase)\n",
    "    phrase = re.sub(r\"\\'ll\", \" will\", phrase)\n",
    "    phrase = re.sub(r\"\\'t\", \" not\", phrase)\n",
    "    phrase = re.sub(r\"\\'ve\", \" have\", phrase)\n",
    "    phrase = re.sub(r\"\\'m\", \" am\", phrase)\n",
    "    return phrase"
   ]
  },
  {
   "cell_type": "code",
   "execution_count": 18,
   "metadata": {
    "colab": {
     "base_uri": "https://localhost:8080/",
     "height": 54
    },
    "colab_type": "code",
    "executionInfo": {
     "elapsed": 1941,
     "status": "ok",
     "timestamp": 1552487102969,
     "user": {
      "displayName": "saikiran yernena",
      "photoUrl": "",
      "userId": "15171324143564695981"
     },
     "user_tz": -330
    },
    "id": "WPQSZurTJkkY",
    "outputId": "be98e751-37b7-4bc0-da4d-0c0b8754282c"
   },
   "outputs": [
    {
     "name": "stdout",
     "output_type": "stream",
     "text": [
      "was way to hot for my blood, took a bite and did a jig  lol\n",
      "==================================================\n"
     ]
    }
   ],
   "source": [
    "sent_1500 = decontracted(sent_1500)\n",
    "print(sent_1500)\n",
    "print(\"=\"*50)"
   ]
  },
  {
   "cell_type": "code",
   "execution_count": 19,
   "metadata": {
    "colab": {
     "base_uri": "https://localhost:8080/",
     "height": 56
    },
    "colab_type": "code",
    "executionInfo": {
     "elapsed": 1420,
     "status": "ok",
     "timestamp": 1552487106913,
     "user": {
      "displayName": "saikiran yernena",
      "photoUrl": "",
      "userId": "15171324143564695981"
     },
     "user_tz": -330
    },
    "id": "6bakeyaQJkkb",
    "outputId": "9a1fa55f-14a6-4b16-9118-79342f9eb3be"
   },
   "outputs": [
    {
     "name": "stdout",
     "output_type": "stream",
     "text": [
      "My dogs loves this chicken but its a product from China, so we wont be buying it anymore.  Its very hard to find any chicken products made in the USA but they are out there, but this one isnt.  Its too bad too because its a good product but I wont take any chances till they know what is going on with the china imports.\n"
     ]
    }
   ],
   "source": [
    "#remove words with numbers python: https://stackoverflow.com/a/18082370/4084039\n",
    "sent_0 = re.sub(\"\\S*\\d\\S*\", \"\", sent_0).strip()\n",
    "print(sent_0)"
   ]
  },
  {
   "cell_type": "code",
   "execution_count": 20,
   "metadata": {
    "colab": {
     "base_uri": "https://localhost:8080/",
     "height": 36
    },
    "colab_type": "code",
    "executionInfo": {
     "elapsed": 1831,
     "status": "ok",
     "timestamp": 1552487111141,
     "user": {
      "displayName": "saikiran yernena",
      "photoUrl": "",
      "userId": "15171324143564695981"
     },
     "user_tz": -330
    },
    "id": "dMqqVqadJkkg",
    "outputId": "3c28c553-aa32-4dfe-c10a-d963c811aa58"
   },
   "outputs": [
    {
     "name": "stdout",
     "output_type": "stream",
     "text": [
      "was way to hot for my blood took a bite and did a jig lol\n"
     ]
    }
   ],
   "source": [
    "#remove spacial character: https://stackoverflow.com/a/5843547/4084039\n",
    "sent_1500 = re.sub('[^A-Za-z0-9]+', ' ', sent_1500)\n",
    "print(sent_1500)"
   ]
  },
  {
   "cell_type": "code",
   "execution_count": 0,
   "metadata": {
    "colab": {},
    "colab_type": "code",
    "id": "bvEoXB5NJkkk"
   },
   "outputs": [],
   "source": [
    "# https://gist.github.com/sebleier/554280\n",
    "# we are removing the words from the stop words list: 'no', 'nor', 'not'\n",
    "# <br /><br /> ==> after the above steps, we are getting \"br br\"\n",
    "# we are including them into stop words list\n",
    "# instead of <br /> if we have <br/> these tags would have revmoved in the 1st step\n",
    "\n",
    "stopwords= set(['br', 'the', 'i', 'me', 'my', 'myself', 'we', 'our', 'ours', 'ourselves', 'you', \"you're\", \"you've\",\\\n",
    "            \"you'll\", \"you'd\", 'your', 'yours', 'yourself', 'yourselves', 'he', 'him', 'his', 'himself', \\\n",
    "            'she', \"she's\", 'her', 'hers', 'herself', 'it', \"it's\", 'its', 'itself', 'they', 'them', 'their',\\\n",
    "            'theirs', 'themselves', 'what', 'which', 'who', 'whom', 'this', 'that', \"that'll\", 'these', 'those', \\\n",
    "            'am', 'is', 'are', 'was', 'were', 'be', 'been', 'being', 'have', 'has', 'had', 'having', 'do', 'does', \\\n",
    "            'did', 'doing', 'a', 'an', 'the', 'and', 'but', 'if', 'or', 'because', 'as', 'until', 'while', 'of', \\\n",
    "            'at', 'by', 'for', 'with', 'about', 'against', 'between', 'into', 'through', 'during', 'before', 'after',\\\n",
    "            'above', 'below', 'to', 'from', 'up', 'down', 'in', 'out', 'on', 'off', 'over', 'under', 'again', 'further',\\\n",
    "            'then', 'once', 'here', 'there', 'when', 'where', 'why', 'how', 'all', 'any', 'both', 'each', 'few', 'more',\\\n",
    "            'most', 'other', 'some', 'such', 'only', 'own', 'same', 'so', 'than', 'too', 'very', \\\n",
    "            's', 't', 'can', 'will', 'just', 'don', \"don't\", 'should', \"should've\", 'now', 'd', 'll', 'm', 'o', 're', \\\n",
    "            've', 'y', 'ain', 'aren', \"aren't\", 'couldn', \"couldn't\", 'didn', \"didn't\", 'doesn', \"doesn't\", 'hadn',\\\n",
    "            \"hadn't\", 'hasn', \"hasn't\", 'haven', \"haven't\", 'isn', \"isn't\", 'ma', 'mightn', \"mightn't\", 'mustn',\\\n",
    "            \"mustn't\", 'needn', \"needn't\", 'shan', \"shan't\", 'shouldn', \"shouldn't\", 'wasn', \"wasn't\", 'weren', \"weren't\", \\\n",
    "            'won', \"won't\", 'wouldn', \"wouldn't\"])"
   ]
  },
  {
   "cell_type": "code",
   "execution_count": 22,
   "metadata": {
    "colab": {
     "base_uri": "https://localhost:8080/",
     "height": 36
    },
    "colab_type": "code",
    "executionInfo": {
     "elapsed": 36820,
     "status": "ok",
     "timestamp": 1552487196779,
     "user": {
      "displayName": "saikiran yernena",
      "photoUrl": "",
      "userId": "15171324143564695981"
     },
     "user_tz": -330
    },
    "id": "0j3jfqWCJkko",
    "outputId": "eb2dd5f7-f600-4db5-c89e-7fecdaa4bbff"
   },
   "outputs": [
    {
     "name": "stderr",
     "output_type": "stream",
     "text": [
      "100%|██████████| 87773/87773 [00:35<00:00, 2459.60it/s]\n"
     ]
    }
   ],
   "source": [
    "# Combining all the above stundents \n",
    "from tqdm import tqdm\n",
    "preprocessed_reviews = []\n",
    "# tqdm is for printing the status bar\n",
    "for sentance in tqdm(final['Text'].values):\n",
    "    sentance = re.sub(r\"http\\S+\", \"\", sentance)\n",
    "    sentance = BeautifulSoup(sentance, 'lxml').get_text()\n",
    "    sentance = decontracted(sentance)\n",
    "    sentance = re.sub(\"\\S*\\d\\S*\", \"\", sentance).strip()\n",
    "    sentance = re.sub('[^A-Za-z]+', ' ', sentance)\n",
    "    # https://gist.github.com/sebleier/554280\n",
    "    sentance = ' '.join(e.lower() for e in sentance.split() if e.lower() not in stopwords)\n",
    "    preprocessed_reviews.append(sentance.strip())"
   ]
  },
  {
   "cell_type": "code",
   "execution_count": 23,
   "metadata": {
    "colab": {
     "base_uri": "https://localhost:8080/",
     "height": 36
    },
    "colab_type": "code",
    "executionInfo": {
     "elapsed": 1464,
     "status": "ok",
     "timestamp": 1552487207086,
     "user": {
      "displayName": "saikiran yernena",
      "photoUrl": "",
      "userId": "15171324143564695981"
     },
     "user_tz": -330
    },
    "id": "nS_7EeV7Jkkr",
    "outputId": "49193d62-6d2e-43ae-b13d-740c58aea01e"
   },
   "outputs": [
    {
     "data": {
      "text/plain": [
       "'way hot blood took bite jig lol'"
      ]
     },
     "execution_count": 23,
     "metadata": {
      "tags": []
     },
     "output_type": "execute_result"
    }
   ],
   "source": [
    "preprocessed_reviews[1500]"
   ]
  },
  {
   "cell_type": "markdown",
   "metadata": {
    "colab_type": "text",
    "id": "zak5yP5zJkkt"
   },
   "source": [
    "<h2><font color='red'>[3.2] Preprocessing Review Summary</font></h2>"
   ]
  },
  {
   "cell_type": "code",
   "execution_count": 24,
   "metadata": {
    "colab": {
     "base_uri": "https://localhost:8080/",
     "height": 36
    },
    "colab_type": "code",
    "executionInfo": {
     "elapsed": 25306,
     "status": "ok",
     "timestamp": 1552487238332,
     "user": {
      "displayName": "saikiran yernena",
      "photoUrl": "",
      "userId": "15171324143564695981"
     },
     "user_tz": -330
    },
    "id": "wZ3Epk1wJkku",
    "outputId": "5d3db36b-e367-43d4-ca7d-7a7ac3190faa"
   },
   "outputs": [
    {
     "name": "stderr",
     "output_type": "stream",
     "text": [
      "100%|██████████| 87773/87773 [00:24<00:00, 3657.02it/s]\n"
     ]
    }
   ],
   "source": [
    "## Similartly you can do preprocessing for review summary also.\n",
    "from tqdm import tqdm\n",
    "preprocessed_review_summary = []\n",
    "# tqdm is for printing the status bar\n",
    "for sentance in tqdm(final['Summary'].values):\n",
    "    sentance = re.sub(r\"http\\S+\", \"\", sentance)\n",
    "    sentance = BeautifulSoup(sentance, 'lxml').get_text()\n",
    "    sentance = decontracted(sentance)\n",
    "    sentance = re.sub(\"\\S*\\d\\S*\", \"\", sentance).strip()\n",
    "    sentance = re.sub('[^A-Za-z]+', ' ', sentance)\n",
    "    # https://gist.github.com/sebleier/554280\n",
    "    sentance = ' '.join(e.lower() for e in sentance.split() if e.lower() not in stopwords)\n",
    "    preprocessed_review_summary.append(sentance.strip())"
   ]
  },
  {
   "cell_type": "markdown",
   "metadata": {
    "colab_type": "text",
    "id": "ZFN0k_hEJklb"
   },
   "source": [
    "# [5] Assignment 4: Apply Naive Bayes"
   ]
  },
  {
   "cell_type": "markdown",
   "metadata": {
    "colab_type": "text",
    "id": "O1ABSoejJklc"
   },
   "source": [
    "<ol>\n",
    "    <li><strong>Apply Multinomial NaiveBayes on these feature sets</strong>\n",
    "        <ul>\n",
    "            <li><font color='red'>SET 1:</font>Review text, preprocessed one converted into vectors using (BOW)</li>\n",
    "            <li><font color='red'>SET 2:</font>Review text, preprocessed one converted into vectors using (TFIDF)</li>\n",
    "        </ul>\n",
    "    </li>\n",
    "    <br>\n",
    "    <li><strong>The hyper paramter tuning(find best Alpha)</strong>\n",
    "        <ul>\n",
    "    <li>Find the best hyper parameter which will give the maximum <a href='https://www.appliedaicourse.com/course/applied-ai-course-online/lessons/receiver-operating-characteristic-curve-roc-curve-and-auc-1/'>AUC</a> value</li>\n",
    "    <li>Consider a wide range of alpha values for hyperparameter tuning, start as low as 0.00001</li>\n",
    "    <li>Find the best hyper paramter using k-fold cross validation or simple cross validation data</li>\n",
    "    <li>Use gridsearch cv or randomsearch cv or you can also write your own for loops to do this task of hyperparameter tuning</li>\n",
    "        </ul>\n",
    "    </li>\n",
    "    <br>\n",
    "    <li><strong>Feature importance</strong>\n",
    "        <ul>\n",
    "    <li>Find the top 10 features of positive class and top 10 features of negative class for both feature sets <font color='red'>Set 1</font> and <font color='red'>Set 2</font> using values of `feature_log_prob_` parameter of  <a href='https://scikit-learn.org/stable/modules/generated/sklearn.naive_bayes.MultinomialNB.html'>MultinomialNB</a> and print their corresponding feature names</li>\n",
    "        </ul>\n",
    "    </li>\n",
    "    <br>\n",
    "    <li><strong>Feature engineering</strong>\n",
    "        <ul>\n",
    "    <li>To increase the performance of your model, you can also experiment with with feature engineering like :</li>\n",
    "            <ul>\n",
    "            <li>Taking length of reviews as another feature.</li>\n",
    "            <li>Considering some features from review summary as well.</li>\n",
    "        </ul>\n",
    "        </ul>\n",
    "    </li>\n",
    "    <br>\n",
    "    <li><strong>Representation of results</strong>\n",
    "        <ul>\n",
    "    <li>You need to plot the performance of model both on train data and cross validation data for each hyper parameter, like shown in the figure. Here on X-axis you will have alpha values, since they have a wide range, just to represent those alpha values on the graph, apply log function on those alpha values.\n",
    "    <img src='train_cv_auc.JPG' width=300px></li>\n",
    "    <li>Once after you found the best hyper parameter, you need to train your model with it, and find the AUC on test data and plot the ROC curve on both train and test.\n",
    "    <img src='train_test_auc.JPG' width=300px></li>\n",
    "    <li>Along with plotting ROC curve, you need to print the <a href='https://www.appliedaicourse.com/course/applied-ai-course-online/lessons/confusion-matrix-tpr-fpr-fnr-tnr-1/'>confusion matrix</a> with predicted and original labels of test data points. Please visualize your confusion matrices using <a href='https://seaborn.pydata.org/generated/seaborn.heatmap.html'>seaborn heatmaps.\n",
    "    <img src='confusion_matrix.png' width=300px></li>\n",
    "        </ul>\n",
    "    </li>\n",
    "    <br>\n",
    "    <li><strong>Conclusion</strong>\n",
    "        <ul>\n",
    "    <li>You need to summarize the results at the end of the notebook, summarize it in the table format. To print out a table please refer to this prettytable library<a href='http://zetcode.com/python/prettytable/'>  link</a> \n",
    "        <img src='summary.JPG' width=400px>\n",
    "    </li>\n",
    "        </ul>\n",
    "</ol>"
   ]
  },
  {
   "cell_type": "markdown",
   "metadata": {
    "colab_type": "text",
    "id": "YawkDx8TJklc"
   },
   "source": [
    "<h4><font color='red'>Note: Data Leakage</font></h4>\n",
    "\n",
    "1. There will be an issue of data-leakage if you vectorize the entire data and then split it into train/cv/test.\n",
    "2. To avoid the issue of data-leakag, make sure to split your data first and then vectorize it. \n",
    "3. While vectorizing your data, apply the method fit_transform() on you train data, and apply the method transform() on cv/test data.\n",
    "4. For more details please go through this <a href='https://soundcloud.com/applied-ai-course/leakage-bow-and-tfidf'>link.</a>"
   ]
  },
  {
   "cell_type": "markdown",
   "metadata": {
    "colab_type": "text",
    "id": "RGRFxjhgJklc"
   },
   "source": [
    "# Applying Multinomial Naive Bayes"
   ]
  },
  {
   "cell_type": "markdown",
   "metadata": {
    "colab_type": "text",
    "id": "FxGKHpZlJkle"
   },
   "source": [
    "## [5.1] Applying Naive Bayes on BOW,<font color='red'> SET 1</font>"
   ]
  },
  {
   "cell_type": "code",
   "execution_count": 26,
   "metadata": {
    "colab": {
     "base_uri": "https://localhost:8080/",
     "height": 554
    },
    "colab_type": "code",
    "executionInfo": {
     "elapsed": 20321,
     "status": "ok",
     "timestamp": 1552486275475,
     "user": {
      "displayName": "saikiran yernena",
      "photoUrl": "",
      "userId": "15171324143564695981"
     },
     "user_tz": -330
    },
    "id": "UR0f8SfZJkle",
    "outputId": "9f93e79a-7e11-40df-af89-a0f833ce8700"
   },
   "outputs": [
    {
     "name": "stdout",
     "output_type": "stream",
     "text": [
      "(87773,)\n",
      "(87773,)\n",
      "(39400,) (39400,)\n",
      "(19407,) (19407,)\n",
      "(28966,) (28966,)\n",
      "====================================================================================================\n",
      "[0 1] [ 6233 33167]\n",
      "[0 1] [ 4710 24256]\n",
      "[0 1] [ 3238 16169]\n",
      "(39400, 37385) (39400,)\n",
      "(19407, 37385) (19407,)\n",
      "(28966, 37385) (28966,)\n",
      "====================================================================================================\n",
      "optimal alpha 1 corresponding auc is 0.9084998722763509\n"
     ]
    },
    {
     "data": {
      "image/png": "[encoded data removed]",
      "text/plain": [
       "<Figure size 432x288 with 1 Axes>"
      ]
     },
     "metadata": {
      "tags": []
     },
     "output_type": "display_data"
    }
   ],
   "source": [
    "#Please write all the code with proper documentation\n",
    "X=np.asarray(preprocessed_reviews)\n",
    "Y=np.asarray(final['Score'])\n",
    "print(X.shape)\n",
    "print(Y.shape)\n",
    "\n",
    "\n",
    "\n",
    "from sklearn.model_selection import train_test_split\n",
    "X_train,X_test,Y_train,Y_test = train_test_split(X,Y,test_size=0.33)\n",
    "X_train,X_cv,Y_train,Y_cv = train_test_split(X_train,Y_train,test_size=0.33)\n",
    "\n",
    "\n",
    "print(X_train.shape,Y_train.shape)\n",
    "print(X_cv.shape,Y_cv.shape)\n",
    "print(X_test.shape,Y_test.shape)\n",
    "print(\"=\"*100)\n",
    "unique1, counts1 = np.unique(Y_train, return_counts=True)\n",
    "print(unique1,counts1)\n",
    "unique2, counts2 = np.unique(Y_test, return_counts=True)\n",
    "print(unique2,counts2)\n",
    "unique3, counts3 = np.unique(Y_cv, return_counts=True)\n",
    "print(unique3,counts3)\n",
    "from sklearn.feature_extraction.text import CountVectorizer\n",
    "vectorizer = CountVectorizer()\n",
    "vectorizer.fit(X_train)\n",
    "\n",
    "\n",
    "\n",
    "\n",
    "X_train_bow=vectorizer.transform(X_train)\n",
    "X_cv_bow=vectorizer.transform(X_cv)\n",
    "X_test_bow=vectorizer.transform(X_test)\n",
    "\n",
    "print(X_train_bow.shape, Y_train.shape)\n",
    "print(X_cv_bow.shape, Y_cv.shape)\n",
    "print(X_test_bow.shape, Y_test.shape)\n",
    "print(\"=\"*100)\n",
    "\n",
    "\n",
    "\n",
    "from sklearn.naive_bayes import MultinomialNB\n",
    "from sklearn.metrics import roc_auc_score\n",
    "import matplotlib.pyplot as plt\n",
    "\n",
    "\n",
    "\n",
    "train_auc = []\n",
    "cv_auc  = []\n",
    "alpha=[0.0001,0.001,0.01,0.1,1,10,100,1000]\n",
    "for i in alpha:\n",
    "    clf=MultinomialNB(alpha=i)\n",
    "    clf.fit(X_train_bow,Y_train)\n",
    "    Y_train_predict=clf.predict_log_proba(X_train_bow)[:,1]\n",
    "    Y_cv_predict=clf.predict_log_proba(X_cv_bow)[:,1]\n",
    "    train_auc.append(roc_auc_score(Y_train,Y_train_predict))\n",
    "    cv_auc.append(roc_auc_score(Y_cv,Y_cv_predict))\n",
    "optimal_alpha = alpha[cv_auc.index(max(cv_auc))]\n",
    "print(\"optimal alpha\",optimal_alpha,\"corresponding auc is\",max(cv_auc))\n",
    "plt.plot(np.log(alpha),train_auc,label=\"TRAIN AUC\")\n",
    "plt.plot(np.log(alpha),cv_auc,label=\"CV AUC\")\n",
    "plt.legend()\n",
    "plt.xlabel(\"log of alpha\")\n",
    "plt.ylabel(\"AUC\")\n",
    "plt.title(\"Bag of words-Multinomial Naive bayes\")\n",
    "plt.show()\n",
    "\n"
   ]
  },
  {
   "cell_type": "code",
   "execution_count": 27,
   "metadata": {
    "colab": {
     "base_uri": "https://localhost:8080/",
     "height": 294
    },
    "colab_type": "code",
    "executionInfo": {
     "elapsed": 1581,
     "status": "ok",
     "timestamp": 1552486294874,
     "user": {
      "displayName": "saikiran yernena",
      "photoUrl": "",
      "userId": "15171324143564695981"
     },
     "user_tz": -330
    },
    "id": "sbv9II6_QzgT",
    "outputId": "90bb1399-9918-4da5-e2b7-b1ff3434ee58"
   },
   "outputs": [
    {
     "data": {
      "image/png": "[encoded data removed]",
      "text/plain": [
       "<Figure size 432x288 with 1 Axes>"
      ]
     },
     "metadata": {
      "tags": []
     },
     "output_type": "display_data"
    }
   ],
   "source": [
    "optimalNB=MultinomialNB(alpha=optimal_alpha)\n",
    "optimalNB.fit(X_train_bow,Y_train)\n",
    "Y_test_predict=optimalNB.predict_log_proba(X_test_bow)[:,1]\n",
    "fpr_test,tpr_test,thresholds=metrics.roc_curve(Y_test,Y_test_predict)\n",
    "test_auc=metrics.auc(fpr_test,tpr_test)\n",
    "Y_train_predict=optimalNB.predict_log_proba(X_train_bow)[:,1]\n",
    "fpr_train,tpr_train,thresholds=metrics.roc_curve(Y_train,Y_train_predict)\n",
    "train_auc=metrics.auc(fpr_train,tpr_train)\n",
    "plt.plot(fpr_test,tpr_test,label=\"Test auc is %0.2f\"%(test_auc))\n",
    "plt.plot(fpr_train,tpr_train,label=\"Train auc is %0.2f\"%(train_auc))\n",
    "plt.xlabel('true positive rate')\n",
    "plt.ylabel('false positive rate')\n",
    "plt.title('BOW with optimal alpha = %f' %optimal_alpha)\n",
    "plt.legend()\n",
    "plt.show()"
   ]
  },
  {
   "cell_type": "code",
   "execution_count": 28,
   "metadata": {
    "colab": {
     "base_uri": "https://localhost:8080/",
     "height": 299
    },
    "colab_type": "code",
    "executionInfo": {
     "elapsed": 1336,
     "status": "ok",
     "timestamp": 1552486409635,
     "user": {
      "displayName": "saikiran yernena",
      "photoUrl": "",
      "userId": "15171324143564695981"
     },
     "user_tz": -330
    },
    "id": "gesMqOprZUlh",
    "outputId": "a56649fd-bdf7-4e26-d611-b69a3513db94"
   },
   "outputs": [
    {
     "data": {
      "text/plain": [
       "Text(0.5, 1.0, 'Confusion marix for train_data BOW for optimal alpha = 1.000000')"
      ]
     },
     "execution_count": 28,
     "metadata": {
      "tags": []
     },
     "output_type": "execute_result"
    },
    {
     "data": {
      "image/png": "[encoded data removed]",
      "text/plain": [
       "<Figure size 432x288 with 2 Axes>"
      ]
     },
     "metadata": {
      "tags": []
     },
     "output_type": "display_data"
    }
   ],
   "source": [
    "import seaborn as sns\n",
    "from sklearn.metrics import confusion_matrix\n",
    "\n",
    "ax = sns.heatmap(confusion_matrix(Y_train,optimalNB.predict(X_train_bow)).T,yticklabels=[\"Predicted 0\",\"Predicted 1\"],\\\n",
    "                 xticklabels=[\"Actual 0\",\"Actual 1\"],annot = True,fmt='d')\n",
    "ax.set_title('Confusion marix for train_data BOW for optimal alpha = %f' %optimal_alpha)"
   ]
  },
  {
   "cell_type": "code",
   "execution_count": 29,
   "metadata": {
    "colab": {
     "base_uri": "https://localhost:8080/",
     "height": 299
    },
    "colab_type": "code",
    "executionInfo": {
     "elapsed": 1360,
     "status": "ok",
     "timestamp": 1552486462322,
     "user": {
      "displayName": "saikiran yernena",
      "photoUrl": "",
      "userId": "15171324143564695981"
     },
     "user_tz": -330
    },
    "id": "UYUkOTV-WzmC",
    "outputId": "98e4edec-cb3c-4067-9e4b-fecbbd14fbbd"
   },
   "outputs": [
    {
     "data": {
      "text/plain": [
       "Text(0.5, 1.0, 'confusion matrix for test_data BOW for optimal alpha = 1.000000')"
      ]
     },
     "execution_count": 29,
     "metadata": {
      "tags": []
     },
     "output_type": "execute_result"
    },
    {
     "data": {
      "image/png": "[encoded data removed]",
      "text/plain": [
       "<Figure size 432x288 with 2 Axes>"
      ]
     },
     "metadata": {
      "tags": []
     },
     "output_type": "display_data"
    }
   ],
   "source": [
    "ax = sns.heatmap(confusion_matrix(Y_test,optimalNB.predict(X_test_bow)).T,yticklabels=[\"Predicted 0\",\"Predicted 1\"],\\\n",
    "                 xticklabels=[\"Actual 0\",\"Actual 1\"],annot = True,fmt='d')\n",
    "ax.set_title('confusion matrix for test_data BOW for optimal alpha = %f' %optimal_alpha)"
   ]
  },
  {
   "cell_type": "markdown",
   "metadata": {
    "colab_type": "text",
    "id": "u-ZSD3tlJklg"
   },
   "source": [
    "### [5.1.1] Top 20 important features of positive class from<font color='red'> SET 1</font>"
   ]
  },
  {
   "cell_type": "code",
   "execution_count": 30,
   "metadata": {
    "colab": {
     "base_uri": "https://localhost:8080/",
     "height": 54
    },
    "colab_type": "code",
    "executionInfo": {
     "elapsed": 1655,
     "status": "ok",
     "timestamp": 1552486477397,
     "user": {
      "displayName": "saikiran yernena",
      "photoUrl": "",
      "userId": "15171324143564695981"
     },
     "user_tz": -330
    },
    "id": "86fu_aO8Jklg",
    "outputId": "c9bb3116-2222-467b-f6f5-271134379e9a"
   },
   "outputs": [
    {
     "name": "stdout",
     "output_type": "stream",
     "text": [
      "['not' 'like' 'good' 'great' 'one' 'taste' 'coffee' 'would' 'flavor'\n",
      " 'love' 'product' 'tea' 'food' 'get' 'no' 'really' 'amazon' 'much' 'use']\n"
     ]
    }
   ],
   "source": [
    "# Please write all the code with proper documentation\n",
    "#reference:https://stackoverflow.com/questions/50526898/how-to-get-feature-importance-in-naive-bayes\n",
    "feature_names=vectorizer.get_feature_names()\n",
    "top_pos=optimalNB.feature_log_prob_[1,:].argsort()\n",
    "\n",
    "print(np.take(feature_names,top_pos[:-20:-1]))"
   ]
  },
  {
   "cell_type": "markdown",
   "metadata": {
    "colab_type": "text",
    "id": "mquFtwF5Jklj"
   },
   "source": [
    "### [5.1.2] Top 20 important features of negative class from<font color='red'> SET 1</font>"
   ]
  },
  {
   "cell_type": "code",
   "execution_count": 31,
   "metadata": {
    "colab": {
     "base_uri": "https://localhost:8080/",
     "height": 54
    },
    "colab_type": "code",
    "executionInfo": {
     "elapsed": 1428,
     "status": "ok",
     "timestamp": 1552486482864,
     "user": {
      "displayName": "saikiran yernena",
      "photoUrl": "",
      "userId": "15171324143564695981"
     },
     "user_tz": -330
    },
    "id": "_RacUnTrJklj",
    "outputId": "49725772-b6d0-4fe5-b966-4390c0aae356"
   },
   "outputs": [
    {
     "name": "stdout",
     "output_type": "stream",
     "text": [
      "['not' 'like' 'would' 'taste' 'product' 'one' 'good' 'coffee' 'no'\n",
      " 'flavor' 'food' 'get' 'even' 'buy' 'amazon' 'much' 'tea' 'really' 'could']\n"
     ]
    }
   ],
   "source": [
    "# Please write all the code with proper documentation\n",
    "#reference:https://stackoverflow.com/questions/50526898/how-to-get-feature-importance-in-naive-bayes\n",
    "feature_names=vectorizer.get_feature_names()\n",
    "top_neg=optimalNB.feature_log_prob_[0,:].argsort()\n",
    "\n",
    "print(np.take(feature_names,top_neg[:-20:-1]))"
   ]
  },
  {
   "cell_type": "markdown",
   "metadata": {
    "colab_type": "text",
    "id": "6bp7BbwCJkll"
   },
   "source": [
    "## [5.2] Applying Naive Bayes on TFIDF,<font color='red'> SET 2</font>"
   ]
  },
  {
   "cell_type": "code",
   "execution_count": 32,
   "metadata": {
    "colab": {
     "base_uri": "https://localhost:8080/",
     "height": 387
    },
    "colab_type": "code",
    "executionInfo": {
     "elapsed": 26630,
     "status": "ok",
     "timestamp": 1552486535019,
     "user": {
      "displayName": "saikiran yernena",
      "photoUrl": "",
      "userId": "15171324143564695981"
     },
     "user_tz": -330
    },
    "id": "oL29fzPFJkll",
    "outputId": "f39c18d1-5364-42e4-c6d3-0d820d3f0bf4"
   },
   "outputs": [
    {
     "name": "stdout",
     "output_type": "stream",
     "text": [
      "(39400, 772830) (39400,)\n",
      "(19407, 772830) (19407,)\n",
      "(28966, 772830) (28966,)\n",
      "====================================================================================================\n",
      "optimal alpha 0.01 corresponding auc is 0.9262620450735555\n"
     ]
    },
    {
     "data": {
      "image/png": "[encoded data removed]",
      "text/plain": [
       "<Figure size 432x288 with 1 Axes>"
      ]
     },
     "metadata": {
      "tags": []
     },
     "output_type": "display_data"
    }
   ],
   "source": [
    "# Please write all the code with proper documentation\n",
    "from sklearn.feature_extraction.text import TfidfVectorizer\n",
    "tfidf_vect = TfidfVectorizer(ngram_range=(1,2))\n",
    "tfidf_vect.fit(X_train)\n",
    "\n",
    "\n",
    "\n",
    "\n",
    "X_train_tfidf=tfidf_vect.transform(X_train)\n",
    "X_cv_tfidf=tfidf_vect.transform(X_cv)\n",
    "X_test_tfidf=tfidf_vect.transform(X_test)\n",
    "\n",
    "print(X_train_tfidf.shape, Y_train.shape)\n",
    "print(X_cv_tfidf.shape, Y_cv.shape)\n",
    "print(X_test_tfidf.shape, Y_test.shape)\n",
    "print(\"=\"*100)\n",
    "\n",
    "\n",
    "\n",
    "from sklearn.naive_bayes import MultinomialNB\n",
    "from sklearn.metrics import roc_auc_score\n",
    "import matplotlib.pyplot as plt\n",
    "\n",
    "\n",
    "\n",
    "train_auc = []\n",
    "cv_auc  = []\n",
    "alpha=[0.0001,0.001,0.01,0.1,1,10,100,1000]\n",
    "for i in alpha:\n",
    "    clf=MultinomialNB(alpha=i)\n",
    "    clf.fit(X_train_tfidf,Y_train)\n",
    "    Y_train_predict=clf.predict_log_proba(X_train_tfidf)[:,1]\n",
    "    Y_cv_predict=clf.predict_log_proba(X_cv_tfidf)[:,1]\n",
    "    train_auc.append(roc_auc_score(Y_train,Y_train_predict))\n",
    "    cv_auc.append(roc_auc_score(Y_cv,Y_cv_predict))\n",
    "optimal_alpha = alpha[cv_auc.index(max(cv_auc))]\n",
    "print(\"optimal alpha\",optimal_alpha,\"corresponding auc is\",max(cv_auc))\n",
    "plt.plot(np.log(alpha),train_auc,label=\"TRAIN AUC\")\n",
    "plt.plot(np.log(alpha),cv_auc,label=\"CV AUC\")\n",
    "plt.legend()\n",
    "plt.xlabel(\"log of alpha\")\n",
    "plt.ylabel(\"AUC\")\n",
    "plt.title(\"Tfidf-Multinomial Naive bayes\")\n",
    "plt.show()\n",
    "\n"
   ]
  },
  {
   "cell_type": "code",
   "execution_count": 33,
   "metadata": {
    "colab": {
     "base_uri": "https://localhost:8080/",
     "height": 294
    },
    "colab_type": "code",
    "executionInfo": {
     "elapsed": 1718,
     "status": "ok",
     "timestamp": 1552486599125,
     "user": {
      "displayName": "saikiran yernena",
      "photoUrl": "",
      "userId": "15171324143564695981"
     },
     "user_tz": -330
    },
    "id": "ke9LTPkby0S6",
    "outputId": "bf499421-5d30-48a6-ed35-768d5b58fc98"
   },
   "outputs": [
    {
     "data": {
      "image/png": "[encoded data removed]",
      "text/plain": [
       "<Figure size 432x288 with 1 Axes>"
      ]
     },
     "metadata": {
      "tags": []
     },
     "output_type": "display_data"
    }
   ],
   "source": [
    "optimalNB=MultinomialNB(alpha=optimal_alpha)\n",
    "optimalNB.fit(X_train_tfidf,Y_train)\n",
    "Y_test_predict=optimalNB.predict_log_proba(X_test_tfidf)[:,1]\n",
    "fpr_test,tpr_test,thresholds=metrics.roc_curve(Y_test,Y_test_predict)\n",
    "test_auc=metrics.auc(fpr_test,tpr_test)\n",
    "Y_train_predict=optimalNB.predict_log_proba(X_train_tfidf)[:,1]\n",
    "fpr_train,tpr_train,thresholds=metrics.roc_curve(Y_train,Y_train_predict)\n",
    "train_auc=metrics.auc(fpr_train,tpr_train)\n",
    "plt.plot(fpr_test,tpr_test,label=\"Test auc is %0.2f\"%(test_auc))\n",
    "plt.plot(fpr_train,tpr_train,label=\"Train auc is %0.2f\"%(train_auc))\n",
    "plt.xlabel('true positive rate')\n",
    "plt.ylabel('false positive rate')\n",
    "plt.title('Tfidf with optimal alpha = %f' %optimal_alpha)\n",
    "plt.legend()\n",
    "plt.show()"
   ]
  },
  {
   "cell_type": "code",
   "execution_count": 35,
   "metadata": {
    "colab": {
     "base_uri": "https://localhost:8080/",
     "height": 299
    },
    "colab_type": "code",
    "executionInfo": {
     "elapsed": 1641,
     "status": "ok",
     "timestamp": 1552486698162,
     "user": {
      "displayName": "saikiran yernena",
      "photoUrl": "",
      "userId": "15171324143564695981"
     },
     "user_tz": -330
    },
    "id": "xJvPL3WZab3_",
    "outputId": "e72e6375-13b6-46cc-d671-706f035ede15"
   },
   "outputs": [
    {
     "data": {
      "text/plain": [
       "Text(0.5, 1.0, 'confusion matrix for train_data TFIDF for optimal alpha = 0.010000')"
      ]
     },
     "execution_count": 35,
     "metadata": {
      "tags": []
     },
     "output_type": "execute_result"
    },
    {
     "data": {
      "image/png": "[encoded data removed]",
      "text/plain": [
       "<Figure size 432x288 with 2 Axes>"
      ]
     },
     "metadata": {
      "tags": []
     },
     "output_type": "display_data"
    }
   ],
   "source": [
    "ax = sns.heatmap(confusion_matrix(Y_train,optimalNB.predict(X_train_tfidf)).T,yticklabels=[\"Predicted 0\",\"Predicted 1\"],\\\n",
    "                 xticklabels=[\"Actual 0\",\"Actual 1\"],annot = True,fmt='d')\n",
    "ax.set_title('confusion matrix for train_data TFIDF for optimal alpha = %f' %optimal_alpha)"
   ]
  },
  {
   "cell_type": "code",
   "execution_count": 36,
   "metadata": {
    "colab": {
     "base_uri": "https://localhost:8080/",
     "height": 299
    },
    "colab_type": "code",
    "executionInfo": {
     "elapsed": 1500,
     "status": "ok",
     "timestamp": 1552486755709,
     "user": {
      "displayName": "saikiran yernena",
      "photoUrl": "",
      "userId": "15171324143564695981"
     },
     "user_tz": -330
    },
    "id": "K6OrZqLiz2nZ",
    "outputId": "db11b30d-3687-4e7a-a625-6e413975565d"
   },
   "outputs": [
    {
     "data": {
      "text/plain": [
       "Text(0.5, 1.0, 'confusion matrix for test_data TFIDF for optimal alpha = 0.010000')"
      ]
     },
     "execution_count": 36,
     "metadata": {
      "tags": []
     },
     "output_type": "execute_result"
    },
    {
     "data": {
      "image/png": "[encoded data removed]",
      "text/plain": [
       "<Figure size 432x288 with 2 Axes>"
      ]
     },
     "metadata": {
      "tags": []
     },
     "output_type": "display_data"
    }
   ],
   "source": [
    "ax = sns.heatmap(confusion_matrix(Y_test,optimalNB.predict(X_test_tfidf)).T,yticklabels=[\"Predicted 0\",\"Predicted 1\"],\\\n",
    "                 xticklabels=[\"Actual 0\",\"Actual 1\"],annot = True,fmt='d')\n",
    "ax.set_title('confusion matrix for test_data TFIDF for optimal alpha = %f' %optimal_alpha)"
   ]
  },
  {
   "cell_type": "markdown",
   "metadata": {
    "colab_type": "text",
    "id": "Dtpj7iMSJkln"
   },
   "source": [
    "### [5.2.1] Top 20 important features of positive class from<font color='red'> SET 2</font>"
   ]
  },
  {
   "cell_type": "code",
   "execution_count": 37,
   "metadata": {
    "colab": {
     "base_uri": "https://localhost:8080/",
     "height": 54
    },
    "colab_type": "code",
    "executionInfo": {
     "elapsed": 2957,
     "status": "ok",
     "timestamp": 1552486907196,
     "user": {
      "displayName": "saikiran yernena",
      "photoUrl": "",
      "userId": "15171324143564695981"
     },
     "user_tz": -330
    },
    "id": "g3flcTmmJklo",
    "outputId": "9f712826-c50b-44df-86bc-90326fd4368e"
   },
   "outputs": [
    {
     "name": "stdout",
     "output_type": "stream",
     "text": [
      "['not' 'great' 'good' 'like' 'coffee' 'tea' 'love' 'taste' 'one' 'flavor'\n",
      " 'product' 'would' 'best' 'food' 'price' 'really' 'get' 'amazon' 'no']\n"
     ]
    }
   ],
   "source": [
    "# Please write all the code with proper documentation\n",
    "#reference:https://stackoverflow.com/questions/50526898/how-to-get-feature-importance-in-naive-bayes\n",
    "feature_names=tfidf_vect.get_feature_names()\n",
    "top_pos=optimalNB.feature_log_prob_[1,:].argsort()\n",
    "\n",
    "print(np.take(feature_names,top_pos[:-20:-1]))"
   ]
  },
  {
   "cell_type": "markdown",
   "metadata": {
    "colab_type": "text",
    "id": "UovIVRyEJklq"
   },
   "source": [
    "### [5.2.2] Top 20 important features of negative class from<font color='red'> SET 2</font>"
   ]
  },
  {
   "cell_type": "code",
   "execution_count": 38,
   "metadata": {
    "colab": {
     "base_uri": "https://localhost:8080/",
     "height": 54
    },
    "colab_type": "code",
    "executionInfo": {
     "elapsed": 3334,
     "status": "ok",
     "timestamp": 1552486913636,
     "user": {
      "displayName": "saikiran yernena",
      "photoUrl": "",
      "userId": "15171324143564695981"
     },
     "user_tz": -330
    },
    "id": "i3i3cShuJklr",
    "outputId": "7ee621ef-b72e-4077-867e-9d3a7d9caec0"
   },
   "outputs": [
    {
     "name": "stdout",
     "output_type": "stream",
     "text": [
      "['not' 'like' 'taste' 'product' 'would' 'coffee' 'one' 'no' 'flavor'\n",
      " 'good' 'buy' 'food' 'even' 'tea' 'bad' 'get' 'much' 'amazon' 'could']\n"
     ]
    }
   ],
   "source": [
    "# Please write all the code with proper documentation\n",
    "#reference:https://stackoverflow.com/questions/50526898/how-to-get-feature-importance-in-naive-bayes\n",
    "feature_names=tfidf_vect.get_feature_names()\n",
    "top_neg=optimalNB.feature_log_prob_[0,:].argsort()\n",
    "\n",
    "print(np.take(feature_names,top_neg[:-20:-1]))"
   ]
  },
  {
   "cell_type": "markdown",
   "metadata": {
    "colab_type": "text",
    "id": "S2VCZJap3ma2"
   },
   "source": [
    "**Feature Enggineering**"
   ]
  },
  {
   "cell_type": "code",
   "execution_count": 25,
   "metadata": {
    "colab": {
     "base_uri": "https://localhost:8080/",
     "height": 54
    },
    "colab_type": "code",
    "executionInfo": {
     "elapsed": 1485,
     "status": "ok",
     "timestamp": 1552487318082,
     "user": {
      "displayName": "saikiran yernena",
      "photoUrl": "",
      "userId": "15171324143564695981"
     },
     "user_tz": -330
    },
    "id": "a99qFq0j7m80",
    "outputId": "540526c8-9e15-4198-efed-4d3b19ed4125"
   },
   "outputs": [
    {
     "name": "stdout",
     "output_type": "stream",
     "text": [
      "let put way flies stay traps left looks like safe island flies read reviews ordered\n",
      "read reviews ordered\n"
     ]
    }
   ],
   "source": [
    "#adding reviews summary as a feature \n",
    "type(preprocessed_reviews)\n",
    "#this adds review summary to the already preprocessed review text\n",
    "for i in range(len(preprocessed_reviews)):\n",
    "  preprocessed_reviews[i]=preprocessed_reviews[i]+\" \"+preprocessed_review_summary[i]\n",
    "\n",
    "print(preprocessed_reviews[10])\n",
    "print(preprocessed_review_summary[10])"
   ]
  },
  {
   "cell_type": "code",
   "execution_count": 26,
   "metadata": {
    "colab": {
     "base_uri": "https://localhost:8080/",
     "height": 554
    },
    "colab_type": "code",
    "executionInfo": {
     "elapsed": 21256,
     "status": "ok",
     "timestamp": 1552487354089,
     "user": {
      "displayName": "saikiran yernena",
      "photoUrl": "",
      "userId": "15171324143564695981"
     },
     "user_tz": -330
    },
    "id": "u073_mlO5OxM",
    "outputId": "56e54a95-27fe-4885-d24f-15e7c42e1a5b"
   },
   "outputs": [
    {
     "name": "stdout",
     "output_type": "stream",
     "text": [
      "(87773,)\n",
      "(87773,)\n",
      "(39400,) (39400,)\n",
      "(19407,) (19407,)\n",
      "(28966,) (28966,)\n",
      "====================================================================================================\n",
      "[0 1] [ 6396 33004]\n",
      "[0 1] [ 4586 24380]\n",
      "[0 1] [ 3199 16208]\n",
      "(39400, 38631) (39400,)\n",
      "(19407, 38631) (19407,)\n",
      "(28966, 38631) (28966,)\n",
      "====================================================================================================\n",
      "optimal alpha 1 corresponding auc is 0.9375392772204542\n"
     ]
    },
    {
     "data": {
      "image/png": "[encoded data removed]",
      "text/plain": [
       "<Figure size 432x288 with 1 Axes>"
      ]
     },
     "metadata": {
      "tags": []
     },
     "output_type": "display_data"
    }
   ],
   "source": [
    "X=np.asarray(preprocessed_reviews)\n",
    "Y=np.asarray(final['Score'])\n",
    "print(X.shape)\n",
    "print(Y.shape)\n",
    "\n",
    "\n",
    "\n",
    "from sklearn.model_selection import train_test_split\n",
    "X_train,X_test,Y_train,Y_test = train_test_split(X,Y,test_size=0.33)\n",
    "X_train,X_cv,Y_train,Y_cv = train_test_split(X_train,Y_train,test_size=0.33)\n",
    "\n",
    "\n",
    "print(X_train.shape,Y_train.shape)\n",
    "print(X_cv.shape,Y_cv.shape)\n",
    "print(X_test.shape,Y_test.shape)\n",
    "print(\"=\"*100)\n",
    "unique1, counts1 = np.unique(Y_train, return_counts=True)\n",
    "print(unique1,counts1)\n",
    "unique2, counts2 = np.unique(Y_test, return_counts=True)\n",
    "print(unique2,counts2)\n",
    "unique3, counts3 = np.unique(Y_cv, return_counts=True)\n",
    "print(unique3,counts3)\n",
    "from sklearn.feature_extraction.text import CountVectorizer\n",
    "vectorizer = CountVectorizer()\n",
    "vectorizer.fit(X_train)\n",
    "\n",
    "\n",
    "\n",
    "\n",
    "X_train_bow=vectorizer.transform(X_train)\n",
    "X_cv_bow=vectorizer.transform(X_cv)\n",
    "X_test_bow=vectorizer.transform(X_test)\n",
    "\n",
    "print(X_train_bow.shape, Y_train.shape)\n",
    "print(X_cv_bow.shape, Y_cv.shape)\n",
    "print(X_test_bow.shape, Y_test.shape)\n",
    "print(\"=\"*100)\n",
    "\n",
    "\n",
    "\n",
    "from sklearn.naive_bayes import MultinomialNB\n",
    "from sklearn.metrics import roc_auc_score\n",
    "import matplotlib.pyplot as plt\n",
    "\n",
    "\n",
    "\n",
    "train_auc = []\n",
    "cv_auc  = []\n",
    "alpha=[0.0001,0.001,0.01,0.1,1,10,100,1000]\n",
    "for i in alpha:\n",
    "    clf=MultinomialNB(alpha=i)\n",
    "    clf.fit(X_train_bow,Y_train)\n",
    "    Y_train_predict=clf.predict_log_proba(X_train_bow)[:,1]\n",
    "    Y_cv_predict=clf.predict_log_proba(X_cv_bow)[:,1]\n",
    "    train_auc.append(roc_auc_score(Y_train,Y_train_predict))\n",
    "    cv_auc.append(roc_auc_score(Y_cv,Y_cv_predict))\n",
    "optimal_alpha = alpha[cv_auc.index(max(cv_auc))]\n",
    "print(\"optimal alpha\",optimal_alpha,\"corresponding auc is\",max(cv_auc))\n",
    "plt.plot(np.log(alpha),train_auc,label=\"TRAIN AUC\")\n",
    "plt.plot(np.log(alpha),cv_auc,label=\"CV AUC\")\n",
    "plt.legend()\n",
    "plt.xlabel(\"log of alpha\")\n",
    "plt.ylabel(\"AUC\")\n",
    "plt.title(\"Bag of words-Multinomial Naive bayes\")\n",
    "plt.show()\n",
    "\n"
   ]
  },
  {
   "cell_type": "code",
   "execution_count": 27,
   "metadata": {
    "colab": {
     "base_uri": "https://localhost:8080/",
     "height": 294
    },
    "colab_type": "code",
    "executionInfo": {
     "elapsed": 2076,
     "status": "ok",
     "timestamp": 1552487411381,
     "user": {
      "displayName": "saikiran yernena",
      "photoUrl": "",
      "userId": "15171324143564695981"
     },
     "user_tz": -330
    },
    "id": "4lGcc2xtEbtY",
    "outputId": "d071b8fd-570c-4326-a96f-d2fae3c966d9"
   },
   "outputs": [
    {
     "data": {
      "image/png": "[encoded data removed]",
      "text/plain": [
       "<Figure size 432x288 with 1 Axes>"
      ]
     },
     "metadata": {
      "tags": []
     },
     "output_type": "display_data"
    }
   ],
   "source": [
    "optimalNB=MultinomialNB(alpha=optimal_alpha)\n",
    "optimalNB.fit(X_train_bow,Y_train)\n",
    "Y_test_predict=optimalNB.predict_log_proba(X_test_bow)[:,1]\n",
    "fpr_test,tpr_test,thresholds=metrics.roc_curve(Y_test,Y_test_predict)\n",
    "test_auc=metrics.auc(fpr_test,tpr_test)\n",
    "Y_train_predict=optimalNB.predict_log_proba(X_train_bow)[:,1]\n",
    "fpr_train,tpr_train,thresholds=metrics.roc_curve(Y_train,Y_train_predict)\n",
    "train_auc=metrics.auc(fpr_train,tpr_train)\n",
    "plt.plot(fpr_test,tpr_test,label=\"Test auc is %0.2f\"%(test_auc))\n",
    "plt.plot(fpr_train,tpr_train,label=\"Train auc is %0.2f\"%(train_auc))\n",
    "plt.xlabel('true positive rate')\n",
    "plt.ylabel('false positive rate')\n",
    "plt.title('BOW with optimal alpha = %f' %optimal_alpha)\n",
    "plt.legend()\n",
    "plt.show()"
   ]
  },
  {
   "cell_type": "code",
   "execution_count": 28,
   "metadata": {
    "colab": {
     "base_uri": "https://localhost:8080/",
     "height": 299
    },
    "colab_type": "code",
    "executionInfo": {
     "elapsed": 1964,
     "status": "ok",
     "timestamp": 1552487450533,
     "user": {
      "displayName": "saikiran yernena",
      "photoUrl": "",
      "userId": "15171324143564695981"
     },
     "user_tz": -330
    },
    "id": "p2G99RE-dhH9",
    "outputId": "0d26e320-3228-46f2-db26-e103ecdb809c"
   },
   "outputs": [
    {
     "data": {
      "text/plain": [
       "Text(0.5, 1.0, 'BOW for optimal alpha = 1.000000')"
      ]
     },
     "execution_count": 28,
     "metadata": {
      "tags": []
     },
     "output_type": "execute_result"
    },
    {
     "data": {
      "image/png": "[encoded data removed]",
      "text/plain": [
       "<Figure size 432x288 with 2 Axes>"
      ]
     },
     "metadata": {
      "tags": []
     },
     "output_type": "display_data"
    }
   ],
   "source": [
    "ax = sns.heatmap(confusion_matrix(Y_train,optimalNB.predict(X_train_bow)).T,yticklabels=[\"Predicted 0\",\"Predicted 1\"],\\\n",
    "                 xticklabels=[\"Actual 0\",\"Actual 1\"],annot = True,fmt='d')\n",
    "ax.set_title('confusion matrix fro train_data BOW for optimal alpha = %f' %optimal_alpha)"
   ]
  },
  {
   "cell_type": "code",
   "execution_count": 29,
   "metadata": {
    "colab": {
     "base_uri": "https://localhost:8080/",
     "height": 299
    },
    "colab_type": "code",
    "executionInfo": {
     "elapsed": 1819,
     "status": "ok",
     "timestamp": 1552487485309,
     "user": {
      "displayName": "saikiran yernena",
      "photoUrl": "",
      "userId": "15171324143564695981"
     },
     "user_tz": -330
    },
    "id": "YY9BOLWeE17R",
    "outputId": "cad09593-5a81-4216-c858-f8d33fdb709b"
   },
   "outputs": [
    {
     "data": {
      "text/plain": [
       "Text(0.5, 1.0, 'confusion matrix for test_data BOW for optimal alpha = 1.000000')"
      ]
     },
     "execution_count": 29,
     "metadata": {
      "tags": []
     },
     "output_type": "execute_result"
    },
    {
     "data": {
      "image/png": "[encoded data removed]",
      "text/plain": [
       "<Figure size 432x288 with 2 Axes>"
      ]
     },
     "metadata": {
      "tags": []
     },
     "output_type": "display_data"
    }
   ],
   "source": [
    "ax = sns.heatmap(confusion_matrix(Y_test,optimalNB.predict(X_test_bow)).T,yticklabels=[\"Predicted 0\",\"Predicted 1\"],\\\n",
    "                 xticklabels=[\"Actual 0\",\"Actual 1\"],annot = True,fmt='d')\n",
    "ax.set_title('confusion matrix for test_data BOW for optimal alpha = %f' %optimal_alpha)"
   ]
  },
  {
   "cell_type": "code",
   "execution_count": 30,
   "metadata": {
    "colab": {
     "base_uri": "https://localhost:8080/",
     "height": 54
    },
    "colab_type": "code",
    "executionInfo": {
     "elapsed": 1378,
     "status": "ok",
     "timestamp": 1552487494377,
     "user": {
      "displayName": "saikiran yernena",
      "photoUrl": "",
      "userId": "15171324143564695981"
     },
     "user_tz": -330
    },
    "id": "OOjl_3ISFNJq",
    "outputId": "380dbbe7-1f96-41f9-f033-61dca3d811b7"
   },
   "outputs": [
    {
     "name": "stdout",
     "output_type": "stream",
     "text": [
      "['not' 'great' 'good' 'like' 'one' 'coffee' 'love' 'taste' 'product' 'tea'\n",
      " 'flavor' 'would' 'best' 'food' 'no' 'get' 'really' 'price' 'amazon']\n"
     ]
    }
   ],
   "source": [
    "# Please write all the code with proper documentation\n",
    "#reference:https://stackoverflow.com/questions/50526898/how-to-get-feature-importance-in-naive-bayes\n",
    "feature_names=vectorizer.get_feature_names()\n",
    "top_pos=optimalNB.feature_log_prob_[1,:].argsort()\n",
    "\n",
    "print(np.take(feature_names,top_pos[:-20:-1]))"
   ]
  },
  {
   "cell_type": "code",
   "execution_count": 31,
   "metadata": {
    "colab": {
     "base_uri": "https://localhost:8080/",
     "height": 54
    },
    "colab_type": "code",
    "executionInfo": {
     "elapsed": 1543,
     "status": "ok",
     "timestamp": 1552487498250,
     "user": {
      "displayName": "saikiran yernena",
      "photoUrl": "",
      "userId": "15171324143564695981"
     },
     "user_tz": -330
    },
    "id": "y5LFL9K8FQfe",
    "outputId": "3dea31de-2adb-4056-a395-3823d0e6efc3"
   },
   "outputs": [
    {
     "name": "stdout",
     "output_type": "stream",
     "text": [
      "['not' 'like' 'taste' 'product' 'would' 'one' 'good' 'coffee' 'flavor'\n",
      " 'no' 'food' 'tea' 'even' 'get' 'amazon' 'buy' 'much' 'dog' 'really']\n"
     ]
    }
   ],
   "source": [
    "# Please write all the code with proper documentation\n",
    "#reference:https://stackoverflow.com/questions/50526898/how-to-get-feature-importance-in-naive-bayes\n",
    "feature_names=vectorizer.get_feature_names()\n",
    "top_neg=optimalNB.feature_log_prob_[0,:].argsort()\n",
    "\n",
    "print(np.take(feature_names,top_neg[:-20:-1]))"
   ]
  },
  {
   "cell_type": "markdown",
   "metadata": {
    "colab_type": "text",
    "id": "zY8jChkhFeP5"
   },
   "source": [
    "**Applying naive bayes with tfidf and review summary also as a feature**"
   ]
  },
  {
   "cell_type": "code",
   "execution_count": 32,
   "metadata": {
    "colab": {
     "base_uri": "https://localhost:8080/",
     "height": 387
    },
    "colab_type": "code",
    "executionInfo": {
     "elapsed": 26844,
     "status": "ok",
     "timestamp": 1552487534385,
     "user": {
      "displayName": "saikiran yernena",
      "photoUrl": "",
      "userId": "15171324143564695981"
     },
     "user_tz": -330
    },
    "id": "6IyzncnXFvxB",
    "outputId": "5690977a-9e86-4c15-93a7-65f2911531a8"
   },
   "outputs": [
    {
     "name": "stdout",
     "output_type": "stream",
     "text": [
      "(39400, 810931) (39400,)\n",
      "(19407, 810931) (19407,)\n",
      "(28966, 810931) (28966,)\n",
      "====================================================================================================\n",
      "optimal alpha 0.01 corresponding auc is 0.952004258796323\n"
     ]
    },
    {
     "data": {
      "image/png": "[encoded data removed]",
      "text/plain": [
       "<Figure size 432x288 with 1 Axes>"
      ]
     },
     "metadata": {
      "tags": []
     },
     "output_type": "display_data"
    }
   ],
   "source": [
    "# Please write all the code with proper documentation\n",
    "from sklearn.feature_extraction.text import TfidfVectorizer\n",
    "tfidf_vect = TfidfVectorizer(ngram_range=(1,2))\n",
    "tfidf_vect.fit(X_train)\n",
    "\n",
    "\n",
    "\n",
    "\n",
    "X_train_tfidf=tfidf_vect.transform(X_train)\n",
    "X_cv_tfidf=tfidf_vect.transform(X_cv)\n",
    "X_test_tfidf=tfidf_vect.transform(X_test)\n",
    "\n",
    "print(X_train_tfidf.shape, Y_train.shape)\n",
    "print(X_cv_tfidf.shape, Y_cv.shape)\n",
    "print(X_test_tfidf.shape, Y_test.shape)\n",
    "print(\"=\"*100)\n",
    "\n",
    "\n",
    "\n",
    "from sklearn.naive_bayes import MultinomialNB\n",
    "from sklearn.metrics import roc_auc_score\n",
    "import matplotlib.pyplot as plt\n",
    "\n",
    "\n",
    "\n",
    "train_auc = []\n",
    "cv_auc  = []\n",
    "alpha=[0.0001,0.001,0.01,0.1,1,10,100,1000]\n",
    "for i in alpha:\n",
    "    clf=MultinomialNB(alpha=i)\n",
    "    clf.fit(X_train_tfidf,Y_train)\n",
    "    Y_train_predict=clf.predict_log_proba(X_train_tfidf)[:,1]\n",
    "    Y_cv_predict=clf.predict_log_proba(X_cv_tfidf)[:,1]\n",
    "    train_auc.append(roc_auc_score(Y_train,Y_train_predict))\n",
    "    cv_auc.append(roc_auc_score(Y_cv,Y_cv_predict))\n",
    "optimal_alpha = alpha[cv_auc.index(max(cv_auc))]\n",
    "print(\"optimal alpha\",optimal_alpha,\"corresponding auc is\",max(cv_auc))\n",
    "plt.plot(np.log(alpha),train_auc,label=\"TRAIN AUC\")\n",
    "plt.plot(np.log(alpha),cv_auc,label=\"CV AUC\")\n",
    "plt.legend()\n",
    "plt.xlabel(\"log of alpha\")\n",
    "plt.ylabel(\"AUC\")\n",
    "plt.title(\"Tfidf-Multinomial Naive bayes\")\n",
    "plt.show()\n",
    "\n"
   ]
  },
  {
   "cell_type": "code",
   "execution_count": 33,
   "metadata": {
    "colab": {
     "base_uri": "https://localhost:8080/",
     "height": 294
    },
    "colab_type": "code",
    "executionInfo": {
     "elapsed": 1930,
     "status": "ok",
     "timestamp": 1552487550398,
     "user": {
      "displayName": "saikiran yernena",
      "photoUrl": "",
      "userId": "15171324143564695981"
     },
     "user_tz": -330
    },
    "id": "yAC7E0DvGKLl",
    "outputId": "c06b0c1f-80b2-42d9-c60f-823af7c8c2af"
   },
   "outputs": [
    {
     "data": {
      "image/png": "[encoded data removed]",
      "text/plain": [
       "<Figure size 432x288 with 1 Axes>"
      ]
     },
     "metadata": {
      "tags": []
     },
     "output_type": "display_data"
    }
   ],
   "source": [
    "optimalNB=MultinomialNB(alpha=optimal_alpha)\n",
    "optimalNB.fit(X_train_tfidf,Y_train)\n",
    "Y_test_predict=optimalNB.predict_log_proba(X_test_tfidf)[:,1]\n",
    "fpr_test,tpr_test,thresholds=metrics.roc_curve(Y_test,Y_test_predict)\n",
    "test_auc=metrics.auc(fpr_test,tpr_test)\n",
    "Y_train_predict=optimalNB.predict_log_proba(X_train_tfidf)[:,1]\n",
    "fpr_train,tpr_train,thresholds=metrics.roc_curve(Y_train,Y_train_predict)\n",
    "train_auc=metrics.auc(fpr_train,tpr_train)\n",
    "plt.plot(fpr_test,tpr_test,label=\"Test auc is %0.2f\"%(test_auc))\n",
    "plt.plot(fpr_train,tpr_train,label=\"Train auc is %0.2f\"%(train_auc))\n",
    "plt.xlabel('true positive rate')\n",
    "plt.ylabel('false positive rate')\n",
    "plt.title('Tfidf with optimal alpha = %f' %optimal_alpha)\n",
    "plt.legend()\n",
    "plt.show()"
   ]
  },
  {
   "cell_type": "code",
   "execution_count": 35,
   "metadata": {
    "colab": {
     "base_uri": "https://localhost:8080/",
     "height": 299
    },
    "colab_type": "code",
    "executionInfo": {
     "elapsed": 1665,
     "status": "ok",
     "timestamp": 1552487645711,
     "user": {
      "displayName": "saikiran yernena",
      "photoUrl": "",
      "userId": "15171324143564695981"
     },
     "user_tz": -330
    },
    "id": "xZVFEj-leDL1",
    "outputId": "d65c744c-b284-4029-d4da-2f0294a5c57e"
   },
   "outputs": [
    {
     "data": {
      "text/plain": [
       "Text(0.5, 1.0, 'confusion matrix for train_data TFIDF for optimal alpha = 0.010000')"
      ]
     },
     "execution_count": 35,
     "metadata": {
      "tags": []
     },
     "output_type": "execute_result"
    },
    {
     "data": {
      "image/png": "[encoded data removed]",
      "text/plain": [
       "<Figure size 432x288 with 2 Axes>"
      ]
     },
     "metadata": {
      "tags": []
     },
     "output_type": "display_data"
    }
   ],
   "source": [
    "ax = sns.heatmap(confusion_matrix(Y_train,optimalNB.predict(X_train_tfidf)).T,yticklabels=[\"Predicted 0\",\"Predicted 1\"],\\\n",
    "                 xticklabels=[\"Actual 0\",\"Actual 1\"],annot = True,fmt='d')\n",
    "ax.set_title('confusion matrix for train_data TFIDF for optimal alpha = %f' %optimal_alpha)"
   ]
  },
  {
   "cell_type": "code",
   "execution_count": 36,
   "metadata": {
    "colab": {
     "base_uri": "https://localhost:8080/",
     "height": 299
    },
    "colab_type": "code",
    "executionInfo": {
     "elapsed": 2053,
     "status": "ok",
     "timestamp": 1552487653493,
     "user": {
      "displayName": "saikiran yernena",
      "photoUrl": "",
      "userId": "15171324143564695981"
     },
     "user_tz": -330
    },
    "id": "N99dLMRmGKdU",
    "outputId": "c3585ce7-ceb8-4139-bcfb-2cd8e0006020"
   },
   "outputs": [
    {
     "data": {
      "text/plain": [
       "Text(0.5, 1.0, 'confusion matrix for test_data TFIDF for optimal alpha = 0.010000')"
      ]
     },
     "execution_count": 36,
     "metadata": {
      "tags": []
     },
     "output_type": "execute_result"
    },
    {
     "data": {
      "image/png": "[encoded data removed]",
      "text/plain": [
       "<Figure size 432x288 with 2 Axes>"
      ]
     },
     "metadata": {
      "tags": []
     },
     "output_type": "display_data"
    }
   ],
   "source": [
    "ax = sns.heatmap(confusion_matrix(Y_test,optimalNB.predict(X_test_tfidf)).T,yticklabels=[\"Predicted 0\",\"Predicted 1\"],\\\n",
    "                 xticklabels=[\"Actual 0\",\"Actual 1\"],annot = True,fmt='d')\n",
    "ax.set_title('confusion matrix for test_data TFIDF for optimal alpha = %f' %optimal_alpha)"
   ]
  },
  {
   "cell_type": "code",
   "execution_count": 37,
   "metadata": {
    "colab": {
     "base_uri": "https://localhost:8080/",
     "height": 73
    },
    "colab_type": "code",
    "executionInfo": {
     "elapsed": 2800,
     "status": "ok",
     "timestamp": 1552487681916,
     "user": {
      "displayName": "saikiran yernena",
      "photoUrl": "",
      "userId": "15171324143564695981"
     },
     "user_tz": -330
    },
    "id": "WMrueoQ3GKpz",
    "outputId": "d9511e79-6f65-4ac9-c1ef-c842fff7f3cb"
   },
   "outputs": [
    {
     "name": "stdout",
     "output_type": "stream",
     "text": [
      "['not' 'great' 'good' 'coffee' 'tea' 'love' 'like' 'product' 'taste'\n",
      " 'best' 'flavor' 'one' 'food' 'price' 'would' 'really' 'dog' 'get'\n",
      " 'delicious']\n"
     ]
    }
   ],
   "source": [
    "# Please write all the code with proper documentation\n",
    "#reference:https://stackoverflow.com/questions/50526898/how-to-get-feature-importance-in-naive-bayes\n",
    "feature_names=tfidf_vect.get_feature_names()\n",
    "top_pos=optimalNB.feature_log_prob_[1,:].argsort()\n",
    "\n",
    "print(np.take(feature_names,top_pos[:-20:-1]))"
   ]
  },
  {
   "cell_type": "code",
   "execution_count": 38,
   "metadata": {
    "colab": {
     "base_uri": "https://localhost:8080/",
     "height": 54
    },
    "colab_type": "code",
    "executionInfo": {
     "elapsed": 4177,
     "status": "ok",
     "timestamp": 1552487688900,
     "user": {
      "displayName": "saikiran yernena",
      "photoUrl": "",
      "userId": "15171324143564695981"
     },
     "user_tz": -330
    },
    "id": "99rwSu2gGK5p",
    "outputId": "69479669-13f3-4e46-870c-7689d016c22c"
   },
   "outputs": [
    {
     "name": "stdout",
     "output_type": "stream",
     "text": [
      "['not' 'like' 'taste' 'product' 'would' 'coffee' 'one' 'flavor' 'no'\n",
      " 'good' 'tea' 'buy' 'bad' 'food' 'even' 'dog' 'much' 'amazon' 'box']\n"
     ]
    }
   ],
   "source": [
    "# Please write all the code with proper documentation\n",
    "#reference:https://stackoverflow.com/questions/50526898/how-to-get-feature-importance-in-naive-bayes\n",
    "feature_names=tfidf_vect.get_feature_names()\n",
    "top_neg=optimalNB.feature_log_prob_[0,:].argsort()\n",
    "\n",
    "print(np.take(feature_names,top_neg[:-20:-1]))"
   ]
  },
  {
   "cell_type": "markdown",
   "metadata": {
    "colab_type": "text",
    "id": "vst5Y7mmJklu"
   },
   "source": [
    "# [6] Conclusions"
   ]
  },
  {
   "cell_type": "markdown",
   "metadata": {
    "colab_type": "text",
    "id": "sjBiKrWMlc21"
   },
   "source": [
    "Multinomial naviebayes is working very well on amazon fine food reviews data set.it is giving auc score is greater than 0.9 for every vectorizer.\n",
    "\n",
    "If we use review_summary also as feature model is working more accurately.auc score is also increasing if we use review_summary with review_text\n",
    "\n",
    "The optimal_alpha for BOW vectorizer is 1 and optimal_alpha for TFIDF vectorizer is 0.01\n",
    "\n",
    "1.First i split the Dataset into train,test,cv\n",
    "\n",
    "2.After that i calculate BOW/TFIDF using countvectorizer/tfidfvectorizers.\n",
    "\n",
    "3.After that i found optimal_alpha using cross validation which is giving maximum cross validation auc score.\n",
    "\n",
    "4.I trained multinomial naive bayes with obtained alpha.\n",
    "\n",
    "5.After that test the model's performance using test_data and calculate auc_score for train and test dataset.\n",
    "\n",
    "6.plot the confusion matrix for both train data and test data\n",
    "\n",
    "7.At last i print top features for both positive and negative classes using feature_log_proba\n",
    "\n",
    "      \n"
   ]
  },
  {
   "cell_type": "code",
   "execution_count": 39,
   "metadata": {
    "colab": {
     "base_uri": "https://localhost:8080/",
     "height": 166
    },
    "colab_type": "code",
    "executionInfo": {
     "elapsed": 1527,
     "status": "ok",
     "timestamp": 1552487732749,
     "user": {
      "displayName": "saikiran yernena",
      "photoUrl": "",
      "userId": "15171324143564695981"
     },
     "user_tz": -330
    },
    "id": "l2_2s4ZKE0Ap",
    "outputId": "35949992-1e81-49b5-f289-45e98e43516a"
   },
   "outputs": [
    {
     "name": "stdout",
     "output_type": "stream",
     "text": [
      "+------------+---------------+----------------------------+-----------+\n",
      "| Vectorizer | Optimal_alpha |          feature           | AUC score |\n",
      "+------------+---------------+----------------------------+-----------+\n",
      "|    BOW     |       1       |        review_text         |    0.92   |\n",
      "|   TFIDF    |      0.01     |        review_text         |    0.93   |\n",
      "|    BOW     |       1       | review_text+review_summary |    0.93   |\n",
      "|   TFIDF    |      0.01     | review_text+review_summary |    0.95   |\n",
      "+------------+---------------+----------------------------+-----------+\n"
     ]
    }
   ],
   "source": [
    "from prettytable import PrettyTable\n",
    "X=PrettyTable()\n",
    "X.field_names = [\"Vectorizer\",\"Optimal_alpha\",\"feature\",\"AUC score\"]\n",
    "X.add_row([\"BOW\",\"1\",\"review_text\",\"0.92\"])\n",
    "X.add_row([\"TFIDF\",\"0.01\",\"review_text\",\"0.93\"])\n",
    "X.add_row([\"BOW\",\"1\",\"review_text+review_summary\",\"0.93\"])\n",
    "X.add_row([\"TFIDF\",\"0.01\",\"review_text+review_summary\",\"0.95\"])\n",
    "print(X)\n"
   ]
  }
 ],
 "metadata": {
  "colab": {
   "collapsed_sections": [],
   "name": "04 Amazon Fine Food Reviews Analysis_NaiveBayes.ipynb",
   "provenance": [],
   "version": "0.3.2"
  },
  "kernelspec": {
   "display_name": "Python 3",
   "language": "python",
   "name": "python3"
  },
  "language_info": {
   "codemirror_mode": {
    "name": "ipython",
    "version": 3
   },
   "file_extension": ".py",
   "mimetype": "text/x-python",
   "name": "python",
   "nbconvert_exporter": "python",
   "pygments_lexer": "ipython3",
   "version": "3.6.3rc1"
  }
 },
 "nbformat": 4,
 "nbformat_minor": 1
}
