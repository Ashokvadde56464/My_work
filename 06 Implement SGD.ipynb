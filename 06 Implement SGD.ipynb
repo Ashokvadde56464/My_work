{
 "cells": [
  {
   "cell_type": "code",
   "execution_count": 1,
   "metadata": {
    "colab": {},
    "colab_type": "code",
    "id": "REYPoTJ1Af7u"
   },
   "outputs": [],
   "source": [
    "import warnings\n",
    "warnings.filterwarnings(\"ignore\")\n",
    "from sklearn.datasets import load_boston\n",
    "from random import seed\n",
    "from random import randrange\n",
    "from csv import reader\n",
    "from math import sqrt\n",
    "from sklearn import preprocessing\n",
    "import pandas as pd\n",
    "import numpy as np\n",
    "import matplotlib.pyplot as plt\n",
    "from prettytable import PrettyTable\n",
    "from sklearn.linear_model import SGDRegressor\n",
    "from sklearn import preprocessing\n",
    "from sklearn.metrics import mean_squared_error\n",
    "from sklearn.model_selection import train_test_split\n"
   ]
  },
  {
   "cell_type": "code",
   "execution_count": 3,
   "metadata": {
    "colab": {},
    "colab_type": "code",
    "id": "NTQ2iH-kAwbo"
   },
   "outputs": [
    {
     "name": "stdout",
     "output_type": "stream",
     "text": [
      "(506, 13)\n",
      "(506,)\n"
     ]
    }
   ],
   "source": [
    "X = load_boston().data\n",
    "Y = load_boston().target\n",
    "print(X.shape)\n",
    "print(Y.shape)"
   ]
  },
  {
   "cell_type": "code",
   "execution_count": 117,
   "metadata": {
    "colab": {},
    "colab_type": "code",
    "id": "FgUW39s6Be0U"
   },
   "outputs": [],
   "source": [
    "x_train, x_test, y_train, y_test = train_test_split(X, Y, test_size = 0.3, random_state = 42)\n",
    "scaler = preprocessing.StandardScaler()\n",
    " \n",
    "x_train=scaler.fit_transform(x_train)\n",
    "x_test=scaler.fit_transform(x_test)"
   ]
  },
  {
   "cell_type": "markdown",
   "metadata": {},
   "source": [
    "# SKLEARN LINEAR REGRESSION "
   ]
  },
  {
   "cell_type": "code",
   "execution_count": 185,
   "metadata": {},
   "outputs": [
    {
     "name": "stdout",
     "output_type": "stream",
     "text": [
      "(506, 13)\n",
      "(506,)\n",
      "(152,)\n",
      "MSE for train data 23.62597635901995\n",
      "MSE for test data 24.42596960340608\n"
     ]
    }
   ],
   "source": [
    "print(X.shape)\n",
    "print(Y.shape)\n",
    "clf = SGDRegressor()\n",
    "clf.fit(x_train,y_train)\n",
    "\n",
    "print(clf.predict(x_test).shape)\n",
    "#mse for train data\n",
    "print(\"MSE for train data\",mean_squared_error(y_train, clf.predict(x_train)))\n",
    "#mse for test data\n",
    "print(\"MSE for test data\",mean_squared_error(y_test, clf.predict(x_test)))"
   ]
  },
  {
   "cell_type": "markdown",
   "metadata": {},
   "source": [
    "# Custom Implementation"
   ]
  },
  {
   "cell_type": "code",
   "execution_count": 220,
   "metadata": {},
   "outputs": [
    {
     "name": "stdout",
     "output_type": "stream",
     "text": [
      "354\n",
      "optimal w and b found after 53 iterations\n"
     ]
    }
   ],
   "source": [
    "x_train = np.asmatrix(x_train)\n",
    "learnrate=0.01#learningrate or stepsize,it will decrease with each iteration\n",
    "max_iterations=1000\n",
    "current_w=np.random.normal(size=[13,1])#initializing weights\n",
    "current_w=current_w.T\n",
    "current_b=np.random.normal()#initializing b\n",
    "optimal_w=[]\n",
    "optimal_b=[]\n",
    "N=len(x_train)\n",
    "print(N)\n",
    "for i in range(1,max_iterations+1): \n",
    "    id=np.random.choice(len(x_train),1,replace=False)#k value is 1\n",
    "    dl_dw = ((-2*(x_train[id])*((y_train[id])-(np.dot(current_w.T,x_train[id])-current_b))))\n",
    "    dl_db = ((-2)*((((y_train[id])-(np.dot(current_w.T,x_train[id])-current_b)))))\n",
    "    next_w = current_w - (learnrate*dl_dw)#updating the weight\n",
    "    next_b = current_b - (learnrate*dl_db)#updating the b\n",
    "    learnrate/=2#decreasing the learnrate for better convergence\n",
    "    if (current_w-next_w).all()<0.0001:#checking wj and wj-1 are almost equal or not\n",
    "        if (current_b-next_b).all()<0.0001:\n",
    "                optimal_w = next_w\n",
    "                optimal_b = next_b\n",
    "                print('optimal w and b found after {} iterations'.format(i))\n",
    "                break\n",
    "        else:\n",
    "                current_w = next_w\n",
    "                current_b = next_b\n"
   ]
  },
  {
   "cell_type": "code",
   "execution_count": 221,
   "metadata": {},
   "outputs": [
    {
     "name": "stdout",
     "output_type": "stream",
     "text": [
      "<class 'numpy.matrix'>\n",
      "[[-0.075553    0.89432893 -0.23258404 -1.86079366  0.38897965  2.38752629\n",
      "  -0.31822508  0.57381281 -0.8568589  -2.19819273  0.41979013 -0.0640618\n",
      "  -0.34915259]]\n"
     ]
    }
   ],
   "source": [
    "print(type(optimal_w))\n",
    "print(optimal_w)#optimal_w obtained "
   ]
  },
  {
   "cell_type": "markdown",
   "metadata": {},
   "source": [
    "MSE calucalation for both test and train data"
   ]
  },
  {
   "cell_type": "code",
   "execution_count": 222,
   "metadata": {
    "colab": {
     "base_uri": "https://localhost:8080/",
     "height": 34
    },
    "colab_type": "code",
    "executionInfo": {
     "elapsed": 879,
     "status": "ok",
     "timestamp": 1545718892607,
     "user": {
      "displayName": "Applied AI Course",
      "photoUrl": "https://lh5.googleusercontent.com/-9_3A9F-kDXs/AAAAAAAAAAI/AAAAAAAAACw/IprjYvUuoXQ/s64/photo.jpg",
      "userId": "00484516897554883881"
     },
     "user_tz": -330
    },
    "id": "HNu1sXtEBBS2",
    "outputId": "a0c5d3d0-345c-4a34-8ccf-0d9f3d7d23fd"
   },
   "outputs": [
    {
     "name": "stdout",
     "output_type": "stream",
     "text": [
      "The MSE of custom implementation for train data [[24.27557522]]\n"
     ]
    }
   ],
   "source": [
    "#mean squared error calculation train data\n",
    "totalerror=0\n",
    "for i in range(0, len(x_train)):\n",
    "    error = (y_train[i] - ((x_train[i])*(optimal_w.T)))**2\n",
    "    totalerror += error\n",
    "print('The MSE of custom implementation for train data',np.sqrt(totalerror/len(x_train)))"
   ]
  },
  {
   "cell_type": "code",
   "execution_count": 223,
   "metadata": {},
   "outputs": [
    {
     "name": "stdout",
     "output_type": "stream",
     "text": [
      "The MSE of custom implementation for test data [[22.36145662]]\n"
     ]
    }
   ],
   "source": [
    "#mean squared error calculation test data\n",
    "totalerror=0\n",
    "for i in range(0, len(x_test)):\n",
    "    error = (y_test[i] - ((x_test[i])*(optimal_w.T)))**2\n",
    "    totalerror += error\n",
    "print('The MSE of custom implementation for test data',np.sqrt(totalerror/len(x_test)))"
   ]
  },
  {
   "cell_type": "markdown",
   "metadata": {},
   "source": [
    "# comparision between actual and predicted values between both models"
   ]
  },
  {
   "cell_type": "code",
   "execution_count": 224,
   "metadata": {},
   "outputs": [],
   "source": [
    "x_test=np.asarray(x_test)"
   ]
  },
  {
   "cell_type": "code",
   "execution_count": 225,
   "metadata": {},
   "outputs": [
    {
     "data": {
      "text/plain": [
       "array([[-0.41814319],\n",
       "       [-0.45257245],\n",
       "       [-1.06299571],\n",
       "       ...,\n",
       "       [ 0.71147097],\n",
       "       [ 0.38757414],\n",
       "       [ 0.45231146]])"
      ]
     },
     "execution_count": 225,
     "metadata": {},
     "output_type": "execute_result"
    }
   ],
   "source": [
    "x_test.reshape(-1,1)"
   ]
  },
  {
   "cell_type": "code",
   "execution_count": 226,
   "metadata": {},
   "outputs": [
    {
     "data": {
      "text/plain": [
       "(152, 13)"
      ]
     },
     "execution_count": 226,
     "metadata": {},
     "output_type": "execute_result"
    }
   ],
   "source": [
    "x_test.shape"
   ]
  },
  {
   "cell_type": "code",
   "execution_count": 227,
   "metadata": {},
   "outputs": [],
   "source": [
    "y_pred = []\n",
    "for i in x_test:\n",
    "        y_pred.append(np.dot(optimal_w, i))\n",
    "y_pred=np.asarray(y_pred)"
   ]
  },
  {
   "cell_type": "code",
   "execution_count": 228,
   "metadata": {},
   "outputs": [
    {
     "name": "stdout",
     "output_type": "stream",
     "text": [
      "[[-1.3018453]]\n",
      "(152,)\n"
     ]
    }
   ],
   "source": [
    "print(y_pred[1])\n",
    "y_pred=np.squeeze(y_pred)\n",
    "print(y_pred.shape)"
   ]
  },
  {
   "cell_type": "code",
   "execution_count": 229,
   "metadata": {},
   "outputs": [
    {
     "data": {
      "image/png": "[encoded data removed]",
      "text/plain": [
       "<Figure size 432x288 with 1 Axes>"
      ]
     },
     "metadata": {
      "needs_background": "light"
     },
     "output_type": "display_data"
    }
   ],
   "source": [
    "plt.plot(y_test,label=\"Actual Y\")\n",
    "plt.plot(y_pred,label=\"predicted Y\")\n",
    "plt.xlabel('y_test')\n",
    "plt.ylabel('y_pred')\n",
    "plt.title('comparision between actual and predicted values for custom implementation')\n",
    "plt.legend()\n",
    "plt.show()"
   ]
  },
  {
   "cell_type": "code",
   "execution_count": 230,
   "metadata": {},
   "outputs": [
    {
     "data": {
      "image/png": "[encoded data removed]",
      "text/plain": [
       "<Figure size 432x288 with 1 Axes>"
      ]
     },
     "metadata": {
      "needs_background": "light"
     },
     "output_type": "display_data"
    }
   ],
   "source": [
    "y_predsklearn=clf.predict(x_test)\n",
    "plt.plot(y_test,label=\"Actual Y\")\n",
    "plt.plot(y_predsklearn,label=\"predicted Y\")\n",
    "plt.xlabel('y_test')\n",
    "plt.ylabel('y_pred')\n",
    "plt.title('comparision between actual and predicted values for sklearn regression')\n",
    "plt.legend()\n",
    "plt.show()"
   ]
  },
  {
   "cell_type": "markdown",
   "metadata": {},
   "source": [
    "# Weights comparison between both models"
   ]
  },
  {
   "cell_type": "code",
   "execution_count": 231,
   "metadata": {},
   "outputs": [
    {
     "name": "stdout",
     "output_type": "stream",
     "text": [
      "<class 'numpy.ndarray'>\n",
      "<class 'numpy.ndarray'>\n"
     ]
    }
   ],
   "source": [
    " sklearn_weights=clf.coef_\n",
    "a=sklearn_weights\n",
    "b=optimal_w\n",
    "b=np.squeeze(np.asarray(b))\n",
    "print(type(a))\n",
    "print(type(b))"
   ]
  },
  {
   "cell_type": "code",
   "execution_count": 232,
   "metadata": {},
   "outputs": [],
   "source": [
    "df = pd.DataFrame({'sklearnweights':a, 'implementationweights':b})"
   ]
  },
  {
   "cell_type": "code",
   "execution_count": 233,
   "metadata": {},
   "outputs": [
    {
     "data": {
      "text/html": [
       "<div>\n",
       "<style scoped>\n",
       "    .dataframe tbody tr th:only-of-type {\n",
       "        vertical-align: middle;\n",
       "    }\n",
       "\n",
       "    .dataframe tbody tr th {\n",
       "        vertical-align: top;\n",
       "    }\n",
       "\n",
       "    .dataframe thead th {\n",
       "        text-align: right;\n",
       "    }\n",
       "</style>\n",
       "<table border=\"1\" class=\"dataframe\">\n",
       "  <thead>\n",
       "    <tr style=\"text-align: right;\">\n",
       "      <th></th>\n",
       "      <th>sklearnweights</th>\n",
       "      <th>implementationweights</th>\n",
       "    </tr>\n",
       "  </thead>\n",
       "  <tbody>\n",
       "    <tr>\n",
       "      <th>0</th>\n",
       "      <td>-0.801420</td>\n",
       "      <td>-0.075553</td>\n",
       "    </tr>\n",
       "    <tr>\n",
       "      <th>1</th>\n",
       "      <td>0.417249</td>\n",
       "      <td>0.894329</td>\n",
       "    </tr>\n",
       "    <tr>\n",
       "      <th>2</th>\n",
       "      <td>-0.259428</td>\n",
       "      <td>-0.232584</td>\n",
       "    </tr>\n",
       "    <tr>\n",
       "      <th>3</th>\n",
       "      <td>1.026540</td>\n",
       "      <td>-1.860794</td>\n",
       "    </tr>\n",
       "    <tr>\n",
       "      <th>4</th>\n",
       "      <td>-0.766631</td>\n",
       "      <td>0.388980</td>\n",
       "    </tr>\n",
       "    <tr>\n",
       "      <th>5</th>\n",
       "      <td>3.377660</td>\n",
       "      <td>2.387526</td>\n",
       "    </tr>\n",
       "    <tr>\n",
       "      <th>6</th>\n",
       "      <td>-0.314433</td>\n",
       "      <td>-0.318225</td>\n",
       "    </tr>\n",
       "    <tr>\n",
       "      <th>7</th>\n",
       "      <td>-1.937793</td>\n",
       "      <td>0.573813</td>\n",
       "    </tr>\n",
       "    <tr>\n",
       "      <th>8</th>\n",
       "      <td>0.489396</td>\n",
       "      <td>-0.856859</td>\n",
       "    </tr>\n",
       "    <tr>\n",
       "      <th>9</th>\n",
       "      <td>-0.285753</td>\n",
       "      <td>-2.198193</td>\n",
       "    </tr>\n",
       "    <tr>\n",
       "      <th>10</th>\n",
       "      <td>-1.711329</td>\n",
       "      <td>0.419790</td>\n",
       "    </tr>\n",
       "    <tr>\n",
       "      <th>11</th>\n",
       "      <td>0.982862</td>\n",
       "      <td>-0.064062</td>\n",
       "    </tr>\n",
       "    <tr>\n",
       "      <th>12</th>\n",
       "      <td>-3.538649</td>\n",
       "      <td>-0.349153</td>\n",
       "    </tr>\n",
       "  </tbody>\n",
       "</table>\n",
       "</div>"
      ],
      "text/plain": [
       "    sklearnweights  implementationweights\n",
       "0        -0.801420              -0.075553\n",
       "1         0.417249               0.894329\n",
       "2        -0.259428              -0.232584\n",
       "3         1.026540              -1.860794\n",
       "4        -0.766631               0.388980\n",
       "5         3.377660               2.387526\n",
       "6        -0.314433              -0.318225\n",
       "7        -1.937793               0.573813\n",
       "8         0.489396              -0.856859\n",
       "9        -0.285753              -2.198193\n",
       "10       -1.711329               0.419790\n",
       "11        0.982862              -0.064062\n",
       "12       -3.538649              -0.349153"
      ]
     },
     "execution_count": 233,
     "metadata": {},
     "output_type": "execute_result"
    }
   ],
   "source": [
    "df"
   ]
  },
  {
   "cell_type": "markdown",
   "metadata": {},
   "source": [
    "# MSE comparision between both models"
   ]
  },
  {
   "cell_type": "code",
   "execution_count": 234,
   "metadata": {},
   "outputs": [
    {
     "name": "stdout",
     "output_type": "stream",
     "text": [
      "+---------+---------+---------+\n",
      "|  Model  |  TRAIN  |   TEST  |\n",
      "+---------+---------+---------+\n",
      "| SKLEARN | 23.6259 | 24.4259 |\n",
      "|  CUSTOM | 24.2755 | 22.3614 |\n",
      "+---------+---------+---------+\n"
     ]
    }
   ],
   "source": [
    "from prettytable import PrettyTable\n",
    "X=PrettyTable()\n",
    "X.field_names=[\"Model\",\"TRAIN\",\"TEST\"]\n",
    "X.add_row([\"SKLEARN\",\"23.6259\",\"24.4259\"])\n",
    "X.add_row([\"CUSTOM\",\"24.2755\",\"22.3614\"])\n",
    "print(X)"
   ]
  },
  {
   "cell_type": "markdown",
   "metadata": {},
   "source": [
    "# Conclusion"
   ]
  },
  {
   "cell_type": "markdown",
   "metadata": {},
   "source": [
    "1.First I split the dataset into train,test\n",
    "\n",
    "\n",
    "2.After spliting the data i trained the sklearn's sgdregressor model with train data.\n",
    "\n",
    "\n",
    "3.And I calculated weights using this model and MSE for both train and test data.\n",
    "\n",
    "\n",
    "4.Next I implemented the SGD implementation for linear regression with k value(sample size) equal to 1.\n",
    "\n",
    "5.Tested the implementation with test data and calculated the MSE.\n",
    "\n",
    "6.Compared the both models using actual_values and predicted_values.\n",
    "\n",
    "7.compared the both model's MSE"
   ]
  },
  {
   "cell_type": "code",
   "execution_count": null,
   "metadata": {},
   "outputs": [],
   "source": []
  }
 ],
 "metadata": {
  "colab": {
   "name": "Untitled3.ipynb",
   "provenance": [],
   "version": "0.3.2"
  },
  "kernelspec": {
   "display_name": "Python 3",
   "language": "python",
   "name": "python3"
  },
  "language_info": {
   "codemirror_mode": {
    "name": "ipython",
    "version": 3
   },
   "file_extension": ".py",
   "mimetype": "text/x-python",
   "name": "python",
   "nbconvert_exporter": "python",
   "pygments_lexer": "ipython3",
   "version": "3.6.3rc1"
  }
 },
 "nbformat": 4,
 "nbformat_minor": 1
}
